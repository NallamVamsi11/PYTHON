{
 "cells": [
  {
   "cell_type": "code",
   "execution_count": 3,
   "id": "a444f23f",
   "metadata": {},
   "outputs": [],
   "source": [
    "t=(\"vamsi\",)"
   ]
  },
  {
   "cell_type": "code",
   "execution_count": 4,
   "id": "74c6d7c3",
   "metadata": {},
   "outputs": [
    {
     "data": {
      "text/plain": [
       "tuple"
      ]
     },
     "execution_count": 4,
     "metadata": {},
     "output_type": "execute_result"
    }
   ],
   "source": [
    "type(t)"
   ]
  },
  {
   "cell_type": "code",
   "execution_count": 5,
   "id": "4f3bb7b2",
   "metadata": {},
   "outputs": [],
   "source": [
    "t=(\"vamsi\",123,1.23,True)"
   ]
  },
  {
   "cell_type": "code",
   "execution_count": 6,
   "id": "97c64f8c",
   "metadata": {},
   "outputs": [],
   "source": [
    "a='vamsi'"
   ]
  },
  {
   "cell_type": "code",
   "execution_count": 7,
   "id": "b31a8b92",
   "metadata": {},
   "outputs": [
    {
     "data": {
      "text/plain": [
       "True"
      ]
     },
     "execution_count": 7,
     "metadata": {},
     "output_type": "execute_result"
    }
   ],
   "source": [
    "a in t"
   ]
  },
  {
   "cell_type": "code",
   "execution_count": 8,
   "id": "90ba344f",
   "metadata": {},
   "outputs": [],
   "source": [
    "l=list(t)"
   ]
  },
  {
   "cell_type": "code",
   "execution_count": 9,
   "id": "5134ceb9",
   "metadata": {},
   "outputs": [
    {
     "data": {
      "text/plain": [
       "['vamsi', 123, 1.23, True]"
      ]
     },
     "execution_count": 9,
     "metadata": {},
     "output_type": "execute_result"
    }
   ],
   "source": [
    "l"
   ]
  },
  {
   "cell_type": "code",
   "execution_count": 10,
   "id": "22ef922c",
   "metadata": {},
   "outputs": [
    {
     "data": {
      "text/plain": [
       "list"
      ]
     },
     "execution_count": 10,
     "metadata": {},
     "output_type": "execute_result"
    }
   ],
   "source": [
    "type(l)"
   ]
  },
  {
   "cell_type": "code",
   "execution_count": 11,
   "id": "d271da92",
   "metadata": {},
   "outputs": [],
   "source": [
    "l[1]=456"
   ]
  },
  {
   "cell_type": "code",
   "execution_count": 12,
   "id": "a7644686",
   "metadata": {},
   "outputs": [],
   "source": [
    "t=tuple(l)"
   ]
  },
  {
   "cell_type": "code",
   "execution_count": 13,
   "id": "2a86e988",
   "metadata": {},
   "outputs": [
    {
     "data": {
      "text/plain": [
       "('vamsi', 456, 1.23, True)"
      ]
     },
     "execution_count": 13,
     "metadata": {},
     "output_type": "execute_result"
    }
   ],
   "source": [
    "t"
   ]
  },
  {
   "cell_type": "code",
   "execution_count": 14,
   "id": "5330bd5b",
   "metadata": {},
   "outputs": [],
   "source": [
    "t1=(\"vamsi\",True,1.23,1233333)"
   ]
  },
  {
   "cell_type": "code",
   "execution_count": 15,
   "id": "184004a1",
   "metadata": {},
   "outputs": [
    {
     "data": {
      "text/plain": [
       "2189510062784"
      ]
     },
     "execution_count": 15,
     "metadata": {},
     "output_type": "execute_result"
    }
   ],
   "source": [
    "id(t1)"
   ]
  },
  {
   "cell_type": "code",
   "execution_count": 16,
   "id": "b9f33304",
   "metadata": {},
   "outputs": [],
   "source": [
    "l1=list(t1)"
   ]
  },
  {
   "cell_type": "code",
   "execution_count": 17,
   "id": "4ce41292",
   "metadata": {},
   "outputs": [
    {
     "data": {
      "text/plain": [
       "['vamsi', True, 1.23, 1233333]"
      ]
     },
     "execution_count": 17,
     "metadata": {},
     "output_type": "execute_result"
    }
   ],
   "source": [
    "l1"
   ]
  },
  {
   "cell_type": "code",
   "execution_count": 18,
   "id": "41b68074",
   "metadata": {},
   "outputs": [
    {
     "data": {
      "text/plain": [
       "2189510252672"
      ]
     },
     "execution_count": 18,
     "metadata": {},
     "output_type": "execute_result"
    }
   ],
   "source": [
    "id(l1)"
   ]
  },
  {
   "cell_type": "code",
   "execution_count": 19,
   "id": "a8d05ac1",
   "metadata": {},
   "outputs": [],
   "source": [
    "l1[1]=False"
   ]
  },
  {
   "cell_type": "code",
   "execution_count": 20,
   "id": "3da04363",
   "metadata": {},
   "outputs": [
    {
     "data": {
      "text/plain": [
       "2189510252672"
      ]
     },
     "execution_count": 20,
     "metadata": {},
     "output_type": "execute_result"
    }
   ],
   "source": [
    "id(l1)"
   ]
  },
  {
   "cell_type": "code",
   "execution_count": 21,
   "id": "aab42313",
   "metadata": {},
   "outputs": [
    {
     "data": {
      "text/plain": [
       "['vamsi', False, 1.23, 1233333]"
      ]
     },
     "execution_count": 21,
     "metadata": {},
     "output_type": "execute_result"
    }
   ],
   "source": [
    "l1"
   ]
  },
  {
   "cell_type": "code",
   "execution_count": 22,
   "id": "c28830fa",
   "metadata": {},
   "outputs": [],
   "source": [
    "t1=tuple(l1)"
   ]
  },
  {
   "cell_type": "code",
   "execution_count": 23,
   "id": "fcd4767f",
   "metadata": {},
   "outputs": [
    {
     "data": {
      "text/plain": [
       "('vamsi', False, 1.23, 1233333)"
      ]
     },
     "execution_count": 23,
     "metadata": {},
     "output_type": "execute_result"
    }
   ],
   "source": [
    "t1"
   ]
  },
  {
   "cell_type": "code",
   "execution_count": 24,
   "id": "99711bb9",
   "metadata": {},
   "outputs": [
    {
     "data": {
      "text/plain": [
       "2189510243968"
      ]
     },
     "execution_count": 24,
     "metadata": {},
     "output_type": "execute_result"
    }
   ],
   "source": [
    "id(t1)"
   ]
  },
  {
   "cell_type": "code",
   "execution_count": 25,
   "id": "cc04afe1",
   "metadata": {},
   "outputs": [],
   "source": [
    "#2189510062784"
   ]
  },
  {
   "cell_type": "code",
   "execution_count": 4,
   "id": "c9f0e907",
   "metadata": {},
   "outputs": [
    {
     "name": "stdout",
     "output_type": "stream",
     "text": [
      "how many values u will enter: 5\n",
      "enter vale no.1 10\n",
      "enter vale no.2 20\n",
      "enter vale no.3 30\n",
      "enter vale no.4 40\n",
      "enter vale no.5 50\n",
      "(10, 20, 30, 40, 50)\n"
     ]
    }
   ],
   "source": [
    "n=int(input(\"how many values u will enter: \"))\n",
    "t=()\n",
    "for i in range(n):\n",
    "    inp=int(input(\"enter vale no.{} \".format(i+1)))\n",
    "    t=t+(inp,)\n",
    "print(t)   "
   ]
  },
  {
   "cell_type": "code",
   "execution_count": 5,
   "id": "96e9867c",
   "metadata": {},
   "outputs": [
    {
     "data": {
      "text/plain": [
       "(10, 20, 30, 40, 50)"
      ]
     },
     "execution_count": 5,
     "metadata": {},
     "output_type": "execute_result"
    }
   ],
   "source": [
    "t"
   ]
  },
  {
   "cell_type": "code",
   "execution_count": 6,
   "id": "3c7e86b9",
   "metadata": {},
   "outputs": [
    {
     "data": {
      "text/plain": [
       "2"
      ]
     },
     "execution_count": 6,
     "metadata": {},
     "output_type": "execute_result"
    }
   ],
   "source": [
    "t.index(30)"
   ]
  },
  {
   "cell_type": "code",
   "execution_count": 7,
   "id": "711fe268",
   "metadata": {},
   "outputs": [],
   "source": [
    "t=(10,20,10,30,40)"
   ]
  },
  {
   "cell_type": "code",
   "execution_count": 8,
   "id": "1810c06d",
   "metadata": {},
   "outputs": [
    {
     "data": {
      "text/plain": [
       "0"
      ]
     },
     "execution_count": 8,
     "metadata": {},
     "output_type": "execute_result"
    }
   ],
   "source": [
    "t.index(10)"
   ]
  },
  {
   "cell_type": "code",
   "execution_count": 9,
   "id": "2e56f98c",
   "metadata": {},
   "outputs": [
    {
     "data": {
      "text/plain": [
       "2"
      ]
     },
     "execution_count": 9,
     "metadata": {},
     "output_type": "execute_result"
    }
   ],
   "source": [
    "t.count(10)"
   ]
  },
  {
   "cell_type": "code",
   "execution_count": 10,
   "id": "73299a04",
   "metadata": {},
   "outputs": [
    {
     "data": {
      "text/plain": [
       "(10, 20, 10, 30, 40)"
      ]
     },
     "execution_count": 10,
     "metadata": {},
     "output_type": "execute_result"
    }
   ],
   "source": [
    "t"
   ]
  },
  {
   "cell_type": "code",
   "execution_count": 11,
   "id": "cb9bd6e4",
   "metadata": {},
   "outputs": [
    {
     "ename": "TypeError",
     "evalue": "'tuple' object doesn't support item deletion",
     "output_type": "error",
     "traceback": [
      "\u001b[1;31m---------------------------------------------------------------------------\u001b[0m",
      "\u001b[1;31mTypeError\u001b[0m                                 Traceback (most recent call last)",
      "\u001b[1;32m<ipython-input-11-c907bb4729fb>\u001b[0m in \u001b[0;36m<module>\u001b[1;34m\u001b[0m\n\u001b[1;32m----> 1\u001b[1;33m \u001b[1;32mdel\u001b[0m\u001b[1;33m(\u001b[0m\u001b[0mt\u001b[0m\u001b[1;33m[\u001b[0m\u001b[1;36m3\u001b[0m\u001b[1;33m]\u001b[0m\u001b[1;33m)\u001b[0m\u001b[1;33m\u001b[0m\u001b[1;33m\u001b[0m\u001b[0m\n\u001b[0m",
      "\u001b[1;31mTypeError\u001b[0m: 'tuple' object doesn't support item deletion"
     ]
    }
   ],
   "source": [
    "del(t[3])"
   ]
  },
  {
   "cell_type": "code",
   "execution_count": 12,
   "id": "2dc20a03",
   "metadata": {},
   "outputs": [],
   "source": [
    "l=[1,2,3,4,5]"
   ]
  },
  {
   "cell_type": "code",
   "execution_count": 13,
   "id": "42d46023",
   "metadata": {},
   "outputs": [],
   "source": [
    "del(l[3])"
   ]
  },
  {
   "cell_type": "code",
   "execution_count": 14,
   "id": "29f767ef",
   "metadata": {},
   "outputs": [
    {
     "data": {
      "text/plain": [
       "[1, 2, 3, 5]"
      ]
     },
     "execution_count": 14,
     "metadata": {},
     "output_type": "execute_result"
    }
   ],
   "source": [
    "l"
   ]
  },
  {
   "cell_type": "code",
   "execution_count": 15,
   "id": "e8505c7a",
   "metadata": {},
   "outputs": [],
   "source": [
    "del(t)"
   ]
  },
  {
   "cell_type": "code",
   "execution_count": 16,
   "id": "57479a8f",
   "metadata": {},
   "outputs": [
    {
     "ename": "NameError",
     "evalue": "name 't' is not defined",
     "output_type": "error",
     "traceback": [
      "\u001b[1;31m---------------------------------------------------------------------------\u001b[0m",
      "\u001b[1;31mNameError\u001b[0m                                 Traceback (most recent call last)",
      "\u001b[1;32m<ipython-input-16-34fc7a11cb38>\u001b[0m in \u001b[0;36m<module>\u001b[1;34m\u001b[0m\n\u001b[1;32m----> 1\u001b[1;33m \u001b[0mt\u001b[0m\u001b[1;33m\u001b[0m\u001b[1;33m\u001b[0m\u001b[0m\n\u001b[0m",
      "\u001b[1;31mNameError\u001b[0m: name 't' is not defined"
     ]
    }
   ],
   "source": [
    "t"
   ]
  },
  {
   "cell_type": "code",
   "execution_count": 17,
   "id": "90e7f5c0",
   "metadata": {},
   "outputs": [],
   "source": [
    "se=set()"
   ]
  },
  {
   "cell_type": "code",
   "execution_count": 18,
   "id": "de6229d5",
   "metadata": {},
   "outputs": [
    {
     "data": {
      "text/plain": [
       "set"
      ]
     },
     "execution_count": 18,
     "metadata": {},
     "output_type": "execute_result"
    }
   ],
   "source": [
    "type(se)"
   ]
  },
  {
   "cell_type": "code",
   "execution_count": 19,
   "id": "c5e6fd3e",
   "metadata": {},
   "outputs": [],
   "source": [
    "s=set(\"vamsi\")"
   ]
  },
  {
   "cell_type": "code",
   "execution_count": 20,
   "id": "fa8f724f",
   "metadata": {},
   "outputs": [
    {
     "data": {
      "text/plain": [
       "{'a', 'i', 'm', 's', 'v'}"
      ]
     },
     "execution_count": 20,
     "metadata": {},
     "output_type": "execute_result"
    }
   ],
   "source": [
    "s"
   ]
  },
  {
   "cell_type": "code",
   "execution_count": 28,
   "id": "7910ee0a",
   "metadata": {},
   "outputs": [],
   "source": [
    "l=[1,2,2,3,4,7,5,6,5,5,\"vamsi\",\"vamsi\",'nallam',\"Vamsi\"]"
   ]
  },
  {
   "cell_type": "code",
   "execution_count": 29,
   "id": "9783c3ba",
   "metadata": {},
   "outputs": [
    {
     "data": {
      "text/plain": [
       "[1, 2, 2, 3, 4, 7, 5, 6, 5, 5, 'vamsi', 'vamsi', 'nallam', 'Vamsi']"
      ]
     },
     "execution_count": 29,
     "metadata": {},
     "output_type": "execute_result"
    }
   ],
   "source": [
    "l"
   ]
  },
  {
   "cell_type": "code",
   "execution_count": 30,
   "id": "78196966",
   "metadata": {},
   "outputs": [],
   "source": [
    "s=set(l)"
   ]
  },
  {
   "cell_type": "code",
   "execution_count": 31,
   "id": "fa7234d3",
   "metadata": {},
   "outputs": [
    {
     "data": {
      "text/plain": [
       "{1, 2, 3, 4, 5, 6, 7, 'Vamsi', 'nallam', 'vamsi'}"
      ]
     },
     "execution_count": 31,
     "metadata": {},
     "output_type": "execute_result"
    }
   ],
   "source": [
    "s"
   ]
  },
  {
   "cell_type": "code",
   "execution_count": 32,
   "id": "4a781299",
   "metadata": {},
   "outputs": [],
   "source": [
    "s.clear()"
   ]
  },
  {
   "cell_type": "code",
   "execution_count": 33,
   "id": "f99125f8",
   "metadata": {},
   "outputs": [
    {
     "data": {
      "text/plain": [
       "set()"
      ]
     },
     "execution_count": 33,
     "metadata": {},
     "output_type": "execute_result"
    }
   ],
   "source": [
    "s"
   ]
  },
  {
   "cell_type": "code",
   "execution_count": 34,
   "id": "eb2b29ae",
   "metadata": {},
   "outputs": [],
   "source": [
    "s=set(l)"
   ]
  },
  {
   "cell_type": "code",
   "execution_count": 35,
   "id": "ebcca24c",
   "metadata": {},
   "outputs": [
    {
     "data": {
      "text/plain": [
       "{1, 2, 3, 4, 5, 6, 7, 'Vamsi', 'nallam', 'vamsi'}"
      ]
     },
     "execution_count": 35,
     "metadata": {},
     "output_type": "execute_result"
    }
   ],
   "source": [
    "s"
   ]
  },
  {
   "cell_type": "code",
   "execution_count": 37,
   "id": "b02fc583",
   "metadata": {},
   "outputs": [
    {
     "ename": "TypeError",
     "evalue": "'set' object is not subscriptable",
     "output_type": "error",
     "traceback": [
      "\u001b[1;31m---------------------------------------------------------------------------\u001b[0m",
      "\u001b[1;31mTypeError\u001b[0m                                 Traceback (most recent call last)",
      "\u001b[1;32m<ipython-input-37-f8bb2b116405>\u001b[0m in \u001b[0;36m<module>\u001b[1;34m\u001b[0m\n\u001b[1;32m----> 1\u001b[1;33m \u001b[0ms\u001b[0m\u001b[1;33m[\u001b[0m\u001b[1;36m1\u001b[0m\u001b[1;33m]\u001b[0m\u001b[1;33m\u001b[0m\u001b[1;33m\u001b[0m\u001b[0m\n\u001b[0m",
      "\u001b[1;31mTypeError\u001b[0m: 'set' object is not subscriptable"
     ]
    }
   ],
   "source": [
    "s[1]"
   ]
  },
  {
   "cell_type": "code",
   "execution_count": 38,
   "id": "2533e855",
   "metadata": {},
   "outputs": [],
   "source": [
    "l1=list(s)"
   ]
  },
  {
   "cell_type": "code",
   "execution_count": 39,
   "id": "596c5fd9",
   "metadata": {},
   "outputs": [
    {
     "data": {
      "text/plain": [
       "['Vamsi', 1, 2, 3, 4, 5, 6, 7, 'nallam', 'vamsi']"
      ]
     },
     "execution_count": 39,
     "metadata": {},
     "output_type": "execute_result"
    }
   ],
   "source": [
    "l1"
   ]
  },
  {
   "cell_type": "code",
   "execution_count": 40,
   "id": "d646182e",
   "metadata": {},
   "outputs": [],
   "source": [
    "t=(\"vamsi\",True,123,3+4j)"
   ]
  },
  {
   "cell_type": "code",
   "execution_count": 41,
   "id": "17cffabf",
   "metadata": {},
   "outputs": [],
   "source": [
    "s1=set(t)"
   ]
  },
  {
   "cell_type": "code",
   "execution_count": 42,
   "id": "6ee9f047",
   "metadata": {},
   "outputs": [
    {
     "data": {
      "text/plain": [
       "{(3+4j), 123, True, 'vamsi'}"
      ]
     },
     "execution_count": 42,
     "metadata": {},
     "output_type": "execute_result"
    }
   ],
   "source": [
    "s1"
   ]
  },
  {
   "cell_type": "code",
   "execution_count": 43,
   "id": "0ef8a858",
   "metadata": {},
   "outputs": [],
   "source": [
    "t2=tuple(s1)"
   ]
  },
  {
   "cell_type": "code",
   "execution_count": 44,
   "id": "ef10d393",
   "metadata": {},
   "outputs": [
    {
     "data": {
      "text/plain": [
       "(123, True, 'vamsi', (3+4j))"
      ]
     },
     "execution_count": 44,
     "metadata": {},
     "output_type": "execute_result"
    }
   ],
   "source": [
    "t2"
   ]
  },
  {
   "cell_type": "code",
   "execution_count": 45,
   "id": "9f071c54",
   "metadata": {},
   "outputs": [
    {
     "data": {
      "text/plain": [
       "{(3+4j), 123, True, 'vamsi'}"
      ]
     },
     "execution_count": 45,
     "metadata": {},
     "output_type": "execute_result"
    }
   ],
   "source": [
    "s1"
   ]
  },
  {
   "cell_type": "code",
   "execution_count": 47,
   "id": "7cd8cb29",
   "metadata": {},
   "outputs": [
    {
     "data": {
      "text/plain": [
       "1"
      ]
     },
     "execution_count": 47,
     "metadata": {},
     "output_type": "execute_result"
    }
   ],
   "source": [
    "list(s1).count(123)"
   ]
  },
  {
   "cell_type": "code",
   "execution_count": 48,
   "id": "f146b164",
   "metadata": {},
   "outputs": [
    {
     "data": {
      "text/plain": [
       "[123, True, 'vamsi', (3+4j)]"
      ]
     },
     "execution_count": 48,
     "metadata": {},
     "output_type": "execute_result"
    }
   ],
   "source": [
    "list(s1)"
   ]
  },
  {
   "cell_type": "code",
   "execution_count": 49,
   "id": "e42d25b3",
   "metadata": {},
   "outputs": [
    {
     "data": {
      "text/plain": [
       "2879443917120"
      ]
     },
     "execution_count": 49,
     "metadata": {},
     "output_type": "execute_result"
    }
   ],
   "source": [
    "id(list(s1))"
   ]
  },
  {
   "cell_type": "code",
   "execution_count": 50,
   "id": "eba9f565",
   "metadata": {},
   "outputs": [
    {
     "data": {
      "text/plain": [
       "2879444299104"
      ]
     },
     "execution_count": 50,
     "metadata": {},
     "output_type": "execute_result"
    }
   ],
   "source": [
    "id(s1)"
   ]
  },
  {
   "cell_type": "code",
   "execution_count": 51,
   "id": "b023ac8e",
   "metadata": {},
   "outputs": [
    {
     "data": {
      "text/plain": [
       "[123, True, 'vamsi', (3+4j)]"
      ]
     },
     "execution_count": 51,
     "metadata": {},
     "output_type": "execute_result"
    }
   ],
   "source": [
    "list(s1)"
   ]
  },
  {
   "cell_type": "code",
   "execution_count": 52,
   "id": "48641ebf",
   "metadata": {},
   "outputs": [
    {
     "data": {
      "text/plain": [
       "2879443922112"
      ]
     },
     "execution_count": 52,
     "metadata": {},
     "output_type": "execute_result"
    }
   ],
   "source": [
    "id(list(s1))"
   ]
  },
  {
   "cell_type": "code",
   "execution_count": 53,
   "id": "f401822e",
   "metadata": {},
   "outputs": [],
   "source": [
    "l=[1,2,2,3,4,7,5,6,5,5,\"vamsi\",\"vamsi\",'nallam',\"Vamsi\"]"
   ]
  },
  {
   "cell_type": "code",
   "execution_count": 61,
   "id": "7c64ff49",
   "metadata": {},
   "outputs": [
    {
     "name": "stdout",
     "output_type": "stream",
     "text": [
      "[1, 2, 3, 4, 7, 5, 6, 'vamsi', 'nallam', 'Vamsi']\n",
      "[1, 2, 3, 4, 7, 5, 6] ['vamsi', 'nallam', 'Vamsi']\n",
      "[1, 2, 3, 4, 5, 6, 7] ['Vamsi', 'nallam', 'vamsi']\n",
      "[1, 2, 3, 4, 5, 6, 7, 'Vamsi', 'nallam', 'vamsi']\n"
     ]
    }
   ],
   "source": [
    "X=[]\n",
    "Xi,Xs=[],[]\n",
    "for i in l:\n",
    "    if i in X:\n",
    "        continue\n",
    "    else:\n",
    "        X=X+[i]\n",
    "print(X)\n",
    "for i in X:\n",
    "    if type(i)==int:\n",
    "        Xi=Xi+[i]\n",
    "    elif type(i)==str:\n",
    "        Xs=Xs+[i]\n",
    "print(Xi,Xs)\n",
    "Xi.sort()\n",
    "Xs.sort()\n",
    "print(Xi,Xs)\n",
    "Xn=Xi+Xs\n",
    "print(Xn)"
   ]
  },
  {
   "cell_type": "code",
   "execution_count": 62,
   "id": "81ff2d9d",
   "metadata": {},
   "outputs": [
    {
     "data": {
      "text/plain": [
       "[1, 2, 3, 4, 5, 6, 7]"
      ]
     },
     "execution_count": 62,
     "metadata": {},
     "output_type": "execute_result"
    }
   ],
   "source": [
    "Xi"
   ]
  },
  {
   "cell_type": "code",
   "execution_count": 63,
   "id": "7107f7ef",
   "metadata": {},
   "outputs": [
    {
     "data": {
      "text/plain": [
       "['Vamsi', 'nallam', 'vamsi']"
      ]
     },
     "execution_count": 63,
     "metadata": {},
     "output_type": "execute_result"
    }
   ],
   "source": [
    "Xs"
   ]
  },
  {
   "cell_type": "code",
   "execution_count": 64,
   "id": "55eaa8dc",
   "metadata": {},
   "outputs": [
    {
     "data": {
      "text/plain": [
       "[1, 2, 3, 4, 5, 6, 7, 'Vamsi', 'nallam', 'vamsi']"
      ]
     },
     "execution_count": 64,
     "metadata": {},
     "output_type": "execute_result"
    }
   ],
   "source": [
    "Xn"
   ]
  },
  {
   "cell_type": "code",
   "execution_count": 68,
   "id": "b5a10dec",
   "metadata": {},
   "outputs": [
    {
     "data": {
      "text/plain": [
       "{1, 2, 3, 4, 5, 6, 7, 'Vamsi', 'nallam', 'vamsi'}"
      ]
     },
     "execution_count": 68,
     "metadata": {},
     "output_type": "execute_result"
    }
   ],
   "source": [
    "s"
   ]
  },
  {
   "cell_type": "code",
   "execution_count": 69,
   "id": "ed409482",
   "metadata": {},
   "outputs": [],
   "source": [
    "s.add(\"nallam\")"
   ]
  },
  {
   "cell_type": "code",
   "execution_count": 70,
   "id": "bd5b705c",
   "metadata": {},
   "outputs": [
    {
     "data": {
      "text/plain": [
       "{1, 2, 3, 4, 5, 6, 7, 'Vamsi', 'nallam', 'vamsi'}"
      ]
     },
     "execution_count": 70,
     "metadata": {},
     "output_type": "execute_result"
    }
   ],
   "source": [
    "s"
   ]
  },
  {
   "cell_type": "code",
   "execution_count": 71,
   "id": "490c59a9",
   "metadata": {},
   "outputs": [],
   "source": [
    "s1={1,2,1.2,True,\"nallam\",\"vamsi\",\"nallam\"}"
   ]
  },
  {
   "cell_type": "code",
   "execution_count": 72,
   "id": "f3a16b9c",
   "metadata": {},
   "outputs": [
    {
     "data": {
      "text/plain": [
       "{1, 1.2, 2, 'nallam', 'vamsi'}"
      ]
     },
     "execution_count": 72,
     "metadata": {},
     "output_type": "execute_result"
    }
   ],
   "source": [
    "s1"
   ]
  },
  {
   "cell_type": "code",
   "execution_count": 73,
   "id": "8023cbee",
   "metadata": {},
   "outputs": [
    {
     "data": {
      "text/plain": [
       "2879451505152"
      ]
     },
     "execution_count": 73,
     "metadata": {},
     "output_type": "execute_result"
    }
   ],
   "source": [
    "id(s1)"
   ]
  },
  {
   "cell_type": "code",
   "execution_count": 74,
   "id": "8a503649",
   "metadata": {},
   "outputs": [],
   "source": [
    "s1.add(\"lucifer\")"
   ]
  },
  {
   "cell_type": "code",
   "execution_count": 75,
   "id": "c76c5b87",
   "metadata": {},
   "outputs": [
    {
     "data": {
      "text/plain": [
       "{1, 1.2, 2, 'lucifer', 'nallam', 'vamsi'}"
      ]
     },
     "execution_count": 75,
     "metadata": {},
     "output_type": "execute_result"
    }
   ],
   "source": [
    "s1"
   ]
  },
  {
   "cell_type": "code",
   "execution_count": 76,
   "id": "8e5f606d",
   "metadata": {},
   "outputs": [
    {
     "data": {
      "text/plain": [
       "2879451505152"
      ]
     },
     "execution_count": 76,
     "metadata": {},
     "output_type": "execute_result"
    }
   ],
   "source": [
    "id(s1)"
   ]
  },
  {
   "cell_type": "code",
   "execution_count": 77,
   "id": "d12ed869",
   "metadata": {},
   "outputs": [
    {
     "ename": "TypeError",
     "evalue": "'set' object is not subscriptable",
     "output_type": "error",
     "traceback": [
      "\u001b[1;31m---------------------------------------------------------------------------\u001b[0m",
      "\u001b[1;31mTypeError\u001b[0m                                 Traceback (most recent call last)",
      "\u001b[1;32m<ipython-input-77-da05ae654f28>\u001b[0m in \u001b[0;36m<module>\u001b[1;34m\u001b[0m\n\u001b[1;32m----> 1\u001b[1;33m \u001b[0ms1\u001b[0m\u001b[1;33m[\u001b[0m\u001b[1;36m1\u001b[0m\u001b[1;33m]\u001b[0m\u001b[1;33m\u001b[0m\u001b[1;33m\u001b[0m\u001b[0m\n\u001b[0m",
      "\u001b[1;31mTypeError\u001b[0m: 'set' object is not subscriptable"
     ]
    }
   ],
   "source": [
    "s1[1]"
   ]
  },
  {
   "cell_type": "code",
   "execution_count": 78,
   "id": "7dfc9caa",
   "metadata": {},
   "outputs": [],
   "source": [
    "s={1,2,3}"
   ]
  },
  {
   "cell_type": "code",
   "execution_count": 79,
   "id": "d44bb49f",
   "metadata": {},
   "outputs": [
    {
     "data": {
      "text/plain": [
       "set"
      ]
     },
     "execution_count": 79,
     "metadata": {},
     "output_type": "execute_result"
    }
   ],
   "source": [
    "type(s)"
   ]
  },
  {
   "cell_type": "code",
   "execution_count": 80,
   "id": "a013e02b",
   "metadata": {},
   "outputs": [
    {
     "ename": "TypeError",
     "evalue": "unhashable type: 'list'",
     "output_type": "error",
     "traceback": [
      "\u001b[1;31m---------------------------------------------------------------------------\u001b[0m",
      "\u001b[1;31mTypeError\u001b[0m                                 Traceback (most recent call last)",
      "\u001b[1;32m<ipython-input-80-2841355fab2a>\u001b[0m in \u001b[0;36m<module>\u001b[1;34m\u001b[0m\n\u001b[1;32m----> 1\u001b[1;33m \u001b[0ms\u001b[0m\u001b[1;33m=\u001b[0m\u001b[1;33m{\u001b[0m\u001b[1;36m1\u001b[0m\u001b[1;33m,\u001b[0m\u001b[1;36m2\u001b[0m\u001b[1;33m,\u001b[0m\u001b[1;36m3\u001b[0m\u001b[1;33m,\u001b[0m\u001b[1;33m[\u001b[0m\u001b[1;36m4\u001b[0m\u001b[1;33m,\u001b[0m\u001b[1;36m5\u001b[0m\u001b[1;33m]\u001b[0m\u001b[1;33m}\u001b[0m\u001b[1;33m\u001b[0m\u001b[1;33m\u001b[0m\u001b[0m\n\u001b[0m",
      "\u001b[1;31mTypeError\u001b[0m: unhashable type: 'list'"
     ]
    }
   ],
   "source": [
    "s={1,2,3,[4,5]}"
   ]
  },
  {
   "cell_type": "code",
   "execution_count": 81,
   "id": "39e0572f",
   "metadata": {},
   "outputs": [],
   "source": [
    "s={2,3.3,4}"
   ]
  },
  {
   "cell_type": "code",
   "execution_count": 82,
   "id": "902581e3",
   "metadata": {},
   "outputs": [
    {
     "data": {
      "text/plain": [
       "{2, 3.3, 4}"
      ]
     },
     "execution_count": 82,
     "metadata": {},
     "output_type": "execute_result"
    }
   ],
   "source": [
    "s"
   ]
  },
  {
   "cell_type": "code",
   "execution_count": 84,
   "id": "c8952a7d",
   "metadata": {},
   "outputs": [
    {
     "ename": "TypeError",
     "evalue": "unhashable type: 'set'",
     "output_type": "error",
     "traceback": [
      "\u001b[1;31m---------------------------------------------------------------------------\u001b[0m",
      "\u001b[1;31mTypeError\u001b[0m                                 Traceback (most recent call last)",
      "\u001b[1;32m<ipython-input-84-3a24238166ef>\u001b[0m in \u001b[0;36m<module>\u001b[1;34m\u001b[0m\n\u001b[1;32m----> 1\u001b[1;33m \u001b[0ms1\u001b[0m\u001b[1;33m=\u001b[0m\u001b[1;33m{\u001b[0m\u001b[1;36m1\u001b[0m\u001b[1;33m,\u001b[0m\u001b[1;36m2\u001b[0m\u001b[1;33m,\u001b[0m\u001b[1;33m{\u001b[0m\u001b[1;36m2\u001b[0m\u001b[1;33m,\u001b[0m\u001b[1;36m3\u001b[0m\u001b[1;33m}\u001b[0m\u001b[1;33m}\u001b[0m\u001b[1;33m\u001b[0m\u001b[1;33m\u001b[0m\u001b[0m\n\u001b[0m",
      "\u001b[1;31mTypeError\u001b[0m: unhashable type: 'set'"
     ]
    }
   ],
   "source": [
    "s1={1,2,{2,3}}"
   ]
  },
  {
   "cell_type": "code",
   "execution_count": 87,
   "id": "8f9d1b6c",
   "metadata": {},
   "outputs": [],
   "source": [
    "s={10}"
   ]
  },
  {
   "cell_type": "code",
   "execution_count": 88,
   "id": "7ef2f848",
   "metadata": {},
   "outputs": [
    {
     "data": {
      "text/plain": [
       "set"
      ]
     },
     "execution_count": 88,
     "metadata": {},
     "output_type": "execute_result"
    }
   ],
   "source": [
    "type(s)"
   ]
  },
  {
   "cell_type": "code",
   "execution_count": 89,
   "id": "4cf39e72",
   "metadata": {},
   "outputs": [],
   "source": [
    "l=[(1,2,\"vamsi\"),{3,4,\"nallam\"},[1,3]]"
   ]
  },
  {
   "cell_type": "code",
   "execution_count": 90,
   "id": "9160a498",
   "metadata": {},
   "outputs": [
    {
     "name": "stdout",
     "output_type": "stream",
     "text": [
      "<class 'tuple'>\n",
      "<class 'set'>\n",
      "<class 'list'>\n"
     ]
    }
   ],
   "source": [
    "for i in l:\n",
    "    print(type(i))"
   ]
  },
  {
   "cell_type": "code",
   "execution_count": 91,
   "id": "8ba9db37",
   "metadata": {},
   "outputs": [],
   "source": [
    "t=((1,2,\"vamsi\"),{3,4,\"nallam\"},[1,3])"
   ]
  },
  {
   "cell_type": "code",
   "execution_count": 92,
   "id": "009c14ad",
   "metadata": {},
   "outputs": [
    {
     "name": "stdout",
     "output_type": "stream",
     "text": [
      "<class 'tuple'>\n",
      "<class 'set'>\n",
      "<class 'list'>\n"
     ]
    }
   ],
   "source": [
    "for i in t:\n",
    "    print(type(i))"
   ]
  },
  {
   "cell_type": "code",
   "execution_count": 93,
   "id": "e4e22021",
   "metadata": {},
   "outputs": [
    {
     "ename": "TypeError",
     "evalue": "unhashable type: 'set'",
     "output_type": "error",
     "traceback": [
      "\u001b[1;31m---------------------------------------------------------------------------\u001b[0m",
      "\u001b[1;31mTypeError\u001b[0m                                 Traceback (most recent call last)",
      "\u001b[1;32m<ipython-input-93-a6bf38396a26>\u001b[0m in \u001b[0;36m<module>\u001b[1;34m\u001b[0m\n\u001b[1;32m----> 1\u001b[1;33m \u001b[0ms\u001b[0m\u001b[1;33m=\u001b[0m\u001b[1;33m{\u001b[0m\u001b[1;33m(\u001b[0m\u001b[1;36m1\u001b[0m\u001b[1;33m,\u001b[0m\u001b[1;36m2\u001b[0m\u001b[1;33m,\u001b[0m\u001b[1;34m\"vamsi\"\u001b[0m\u001b[1;33m)\u001b[0m\u001b[1;33m,\u001b[0m\u001b[1;33m{\u001b[0m\u001b[1;36m3\u001b[0m\u001b[1;33m,\u001b[0m\u001b[1;36m4\u001b[0m\u001b[1;33m,\u001b[0m\u001b[1;34m\"nallam\"\u001b[0m\u001b[1;33m}\u001b[0m\u001b[1;33m,\u001b[0m\u001b[1;33m[\u001b[0m\u001b[1;36m1\u001b[0m\u001b[1;33m,\u001b[0m\u001b[1;36m3\u001b[0m\u001b[1;33m]\u001b[0m\u001b[1;33m}\u001b[0m\u001b[1;33m\u001b[0m\u001b[1;33m\u001b[0m\u001b[0m\n\u001b[0m",
      "\u001b[1;31mTypeError\u001b[0m: unhashable type: 'set'"
     ]
    }
   ],
   "source": [
    "s={(1,2,\"vamsi\"),{3,4,\"nallam\"},[1,3]}"
   ]
  },
  {
   "cell_type": "code",
   "execution_count": 94,
   "id": "d0786008",
   "metadata": {},
   "outputs": [
    {
     "ename": "TypeError",
     "evalue": "unhashable type: 'list'",
     "output_type": "error",
     "traceback": [
      "\u001b[1;31m---------------------------------------------------------------------------\u001b[0m",
      "\u001b[1;31mTypeError\u001b[0m                                 Traceback (most recent call last)",
      "\u001b[1;32m<ipython-input-94-9eb2ae95944e>\u001b[0m in \u001b[0;36m<module>\u001b[1;34m\u001b[0m\n\u001b[1;32m----> 1\u001b[1;33m \u001b[0ms\u001b[0m\u001b[1;33m=\u001b[0m\u001b[1;33m{\u001b[0m\u001b[1;33m(\u001b[0m\u001b[1;36m1\u001b[0m\u001b[1;33m,\u001b[0m\u001b[1;36m2\u001b[0m\u001b[1;33m,\u001b[0m\u001b[1;34m\"vamsi\"\u001b[0m\u001b[1;33m)\u001b[0m\u001b[1;33m,\u001b[0m\u001b[1;33m[\u001b[0m\u001b[1;36m1\u001b[0m\u001b[1;33m,\u001b[0m\u001b[1;36m3\u001b[0m\u001b[1;33m]\u001b[0m\u001b[1;33m}\u001b[0m\u001b[1;33m\u001b[0m\u001b[1;33m\u001b[0m\u001b[0m\n\u001b[0m",
      "\u001b[1;31mTypeError\u001b[0m: unhashable type: 'list'"
     ]
    }
   ],
   "source": [
    "s={(1,2,\"vamsi\"),[1,3]}"
   ]
  },
  {
   "cell_type": "code",
   "execution_count": 95,
   "id": "ae40a9b6",
   "metadata": {},
   "outputs": [],
   "source": [
    "s={(1,2,\"vamsi\")}"
   ]
  },
  {
   "cell_type": "code",
   "execution_count": 96,
   "id": "1d95f4b4",
   "metadata": {},
   "outputs": [
    {
     "data": {
      "text/plain": [
       "{(1, 2, 'vamsi')}"
      ]
     },
     "execution_count": 96,
     "metadata": {},
     "output_type": "execute_result"
    }
   ],
   "source": [
    "s"
   ]
  },
  {
   "cell_type": "code",
   "execution_count": 97,
   "id": "144f0f8c",
   "metadata": {},
   "outputs": [
    {
     "ename": "TypeError",
     "evalue": "unhashable type: 'set'",
     "output_type": "error",
     "traceback": [
      "\u001b[1;31m---------------------------------------------------------------------------\u001b[0m",
      "\u001b[1;31mTypeError\u001b[0m                                 Traceback (most recent call last)",
      "\u001b[1;32m<ipython-input-97-77fc889cda16>\u001b[0m in \u001b[0;36m<module>\u001b[1;34m\u001b[0m\n\u001b[1;32m----> 1\u001b[1;33m \u001b[0ms\u001b[0m\u001b[1;33m=\u001b[0m\u001b[0mset\u001b[0m\u001b[1;33m(\u001b[0m\u001b[0ml\u001b[0m\u001b[1;33m)\u001b[0m\u001b[1;33m\u001b[0m\u001b[1;33m\u001b[0m\u001b[0m\n\u001b[0m",
      "\u001b[1;31mTypeError\u001b[0m: unhashable type: 'set'"
     ]
    }
   ],
   "source": [
    "s=set(l)"
   ]
  },
  {
   "cell_type": "code",
   "execution_count": 98,
   "id": "825ae247",
   "metadata": {},
   "outputs": [
    {
     "ename": "TypeError",
     "evalue": "unhashable type: 'set'",
     "output_type": "error",
     "traceback": [
      "\u001b[1;31m---------------------------------------------------------------------------\u001b[0m",
      "\u001b[1;31mTypeError\u001b[0m                                 Traceback (most recent call last)",
      "\u001b[1;32m<ipython-input-98-3c219b61f4b0>\u001b[0m in \u001b[0;36m<module>\u001b[1;34m\u001b[0m\n\u001b[1;32m----> 1\u001b[1;33m \u001b[0ms\u001b[0m\u001b[1;33m=\u001b[0m\u001b[1;33m{\u001b[0m\u001b[1;33m{\u001b[0m\u001b[1;36m1\u001b[0m\u001b[1;33m,\u001b[0m\u001b[1;36m2\u001b[0m\u001b[1;33m}\u001b[0m\u001b[1;33m}\u001b[0m\u001b[1;33m\u001b[0m\u001b[1;33m\u001b[0m\u001b[0m\n\u001b[0m",
      "\u001b[1;31mTypeError\u001b[0m: unhashable type: 'set'"
     ]
    }
   ],
   "source": [
    "s={{1,2}}"
   ]
  },
  {
   "cell_type": "code",
   "execution_count": 99,
   "id": "c7d88c16",
   "metadata": {},
   "outputs": [
    {
     "ename": "TypeError",
     "evalue": "unhashable type: 'set'",
     "output_type": "error",
     "traceback": [
      "\u001b[1;31m---------------------------------------------------------------------------\u001b[0m",
      "\u001b[1;31mTypeError\u001b[0m                                 Traceback (most recent call last)",
      "\u001b[1;32m<ipython-input-99-5ec4d9fd0757>\u001b[0m in \u001b[0;36m<module>\u001b[1;34m\u001b[0m\n\u001b[1;32m----> 1\u001b[1;33m \u001b[0ms\u001b[0m\u001b[1;33m=\u001b[0m\u001b[1;33m{\u001b[0m\u001b[1;33m(\u001b[0m\u001b[1;36m1\u001b[0m\u001b[1;33m,\u001b[0m\u001b[1;36m2\u001b[0m\u001b[1;33m,\u001b[0m\u001b[1;33m{\u001b[0m\u001b[1;36m3\u001b[0m\u001b[1;33m,\u001b[0m\u001b[1;36m4\u001b[0m\u001b[1;33m}\u001b[0m\u001b[1;33m)\u001b[0m\u001b[1;33m}\u001b[0m\u001b[1;33m\u001b[0m\u001b[1;33m\u001b[0m\u001b[0m\n\u001b[0m",
      "\u001b[1;31mTypeError\u001b[0m: unhashable type: 'set'"
     ]
    }
   ],
   "source": [
    "s={(1,2,{3,4})}"
   ]
  },
  {
   "cell_type": "code",
   "execution_count": 100,
   "id": "aca1eaf2",
   "metadata": {},
   "outputs": [],
   "source": [
    "s={1,2,3,5,6}"
   ]
  },
  {
   "cell_type": "code",
   "execution_count": 101,
   "id": "7b96647c",
   "metadata": {},
   "outputs": [],
   "source": [
    "s.remove(3)"
   ]
  },
  {
   "cell_type": "code",
   "execution_count": 102,
   "id": "f4ff2955",
   "metadata": {},
   "outputs": [
    {
     "data": {
      "text/plain": [
       "{1, 2, 5, 6}"
      ]
     },
     "execution_count": 102,
     "metadata": {},
     "output_type": "execute_result"
    }
   ],
   "source": [
    "s"
   ]
  },
  {
   "cell_type": "code",
   "execution_count": 103,
   "id": "b88ebb2b",
   "metadata": {},
   "outputs": [],
   "source": [
    "l=list(s)"
   ]
  },
  {
   "cell_type": "code",
   "execution_count": 104,
   "id": "50c054f6",
   "metadata": {},
   "outputs": [
    {
     "data": {
      "text/plain": [
       "[1, 2, 5, 6]"
      ]
     },
     "execution_count": 104,
     "metadata": {},
     "output_type": "execute_result"
    }
   ],
   "source": [
    "l"
   ]
  },
  {
   "cell_type": "code",
   "execution_count": 105,
   "id": "3e31ed63",
   "metadata": {},
   "outputs": [],
   "source": [
    "l.remove(5)"
   ]
  },
  {
   "cell_type": "code",
   "execution_count": 106,
   "id": "03666b9f",
   "metadata": {},
   "outputs": [
    {
     "data": {
      "text/plain": [
       "[1, 2, 6]"
      ]
     },
     "execution_count": 106,
     "metadata": {},
     "output_type": "execute_result"
    }
   ],
   "source": [
    "l"
   ]
  },
  {
   "cell_type": "code",
   "execution_count": 107,
   "id": "9ec74468",
   "metadata": {},
   "outputs": [],
   "source": [
    "t=tuple(s)"
   ]
  },
  {
   "cell_type": "code",
   "execution_count": 108,
   "id": "c1a0badb",
   "metadata": {},
   "outputs": [
    {
     "data": {
      "text/plain": [
       "(1, 2, 5, 6)"
      ]
     },
     "execution_count": 108,
     "metadata": {},
     "output_type": "execute_result"
    }
   ],
   "source": [
    "t"
   ]
  },
  {
   "cell_type": "code",
   "execution_count": 109,
   "id": "d4afc7cc",
   "metadata": {},
   "outputs": [
    {
     "ename": "KeyError",
     "evalue": "3",
     "output_type": "error",
     "traceback": [
      "\u001b[1;31m---------------------------------------------------------------------------\u001b[0m",
      "\u001b[1;31mKeyError\u001b[0m                                  Traceback (most recent call last)",
      "\u001b[1;32m<ipython-input-109-b06e0f5ff900>\u001b[0m in \u001b[0;36m<module>\u001b[1;34m\u001b[0m\n\u001b[1;32m----> 1\u001b[1;33m \u001b[0ms\u001b[0m\u001b[1;33m.\u001b[0m\u001b[0mremove\u001b[0m\u001b[1;33m(\u001b[0m\u001b[1;36m3\u001b[0m\u001b[1;33m)\u001b[0m\u001b[1;33m\u001b[0m\u001b[1;33m\u001b[0m\u001b[0m\n\u001b[0m",
      "\u001b[1;31mKeyError\u001b[0m: 3"
     ]
    }
   ],
   "source": [
    "s.remove(3)"
   ]
  },
  {
   "cell_type": "code",
   "execution_count": 110,
   "id": "8fee3826",
   "metadata": {},
   "outputs": [
    {
     "data": {
      "text/plain": [
       "{1, 2, 5, 6}"
      ]
     },
     "execution_count": 110,
     "metadata": {},
     "output_type": "execute_result"
    }
   ],
   "source": [
    "s"
   ]
  },
  {
   "cell_type": "code",
   "execution_count": 111,
   "id": "2945e2ef",
   "metadata": {},
   "outputs": [],
   "source": [
    "s.update({7,8,2})"
   ]
  },
  {
   "cell_type": "code",
   "execution_count": 112,
   "id": "57bfb36c",
   "metadata": {},
   "outputs": [
    {
     "data": {
      "text/plain": [
       "{1, 2, 5, 6, 7, 8}"
      ]
     },
     "execution_count": 112,
     "metadata": {},
     "output_type": "execute_result"
    }
   ],
   "source": [
    "s"
   ]
  },
  {
   "cell_type": "code",
   "execution_count": 113,
   "id": "bf6374f7",
   "metadata": {},
   "outputs": [],
   "source": [
    "s1={2.3,3.3,4.4,5.5}"
   ]
  },
  {
   "cell_type": "code",
   "execution_count": 114,
   "id": "14b04269",
   "metadata": {},
   "outputs": [],
   "source": [
    "s.update(s1)"
   ]
  },
  {
   "cell_type": "code",
   "execution_count": 115,
   "id": "1a1d5a90",
   "metadata": {},
   "outputs": [
    {
     "data": {
      "text/plain": [
       "{1, 2, 2.3, 3.3, 4.4, 5, 5.5, 6, 7, 8}"
      ]
     },
     "execution_count": 115,
     "metadata": {},
     "output_type": "execute_result"
    }
   ],
   "source": [
    "s"
   ]
  },
  {
   "cell_type": "code",
   "execution_count": 122,
   "id": "ef991889",
   "metadata": {},
   "outputs": [],
   "source": [
    "t=((1,2,3,100))"
   ]
  },
  {
   "cell_type": "code",
   "execution_count": 123,
   "id": "90ad66a5",
   "metadata": {},
   "outputs": [],
   "source": [
    "s.update(t)"
   ]
  },
  {
   "cell_type": "code",
   "execution_count": 124,
   "id": "310d9349",
   "metadata": {},
   "outputs": [
    {
     "data": {
      "text/plain": [
       "{1, 2, 2.3, 3, 3.3, 4.4, 5, 5.5, 6, 7, 8, 100}"
      ]
     },
     "execution_count": 124,
     "metadata": {},
     "output_type": "execute_result"
    }
   ],
   "source": [
    "s"
   ]
  },
  {
   "cell_type": "code",
   "execution_count": 134,
   "id": "dcd76226",
   "metadata": {},
   "outputs": [],
   "source": [
    "l=[(\"vamsi\",234),\"nallam\"]"
   ]
  },
  {
   "cell_type": "code",
   "execution_count": 135,
   "id": "6845e659",
   "metadata": {},
   "outputs": [],
   "source": [
    "s.update(l)"
   ]
  },
  {
   "cell_type": "code",
   "execution_count": 136,
   "id": "f96082b6",
   "metadata": {},
   "outputs": [
    {
     "data": {
      "text/plain": [
       "{('vamsi', 234), 1, 100, 2, 2.3, 200, 3, 3.3, 4.4, 5, 5.5, 6, 7, 8, 'nallam'}"
      ]
     },
     "execution_count": 136,
     "metadata": {},
     "output_type": "execute_result"
    }
   ],
   "source": [
    "s"
   ]
  },
  {
   "cell_type": "code",
   "execution_count": 137,
   "id": "0d528d6d",
   "metadata": {},
   "outputs": [
    {
     "data": {
      "text/plain": [
       "{('vamsi', 234), 1, 100, 2, 2.3, 200, 3, 3.3, 4.4, 5, 5.5, 6, 7, 8, 'nallam'}"
      ]
     },
     "execution_count": 137,
     "metadata": {},
     "output_type": "execute_result"
    }
   ],
   "source": [
    "s.union(s1)"
   ]
  },
  {
   "cell_type": "code",
   "execution_count": 138,
   "id": "fd5b4678",
   "metadata": {},
   "outputs": [],
   "source": [
    "s2={\"lucifer\",'chloe'}"
   ]
  },
  {
   "cell_type": "code",
   "execution_count": 139,
   "id": "43e8337a",
   "metadata": {},
   "outputs": [
    {
     "data": {
      "text/plain": [
       "{('vamsi', 234),\n",
       " 1,\n",
       " 100,\n",
       " 2,\n",
       " 2.3,\n",
       " 200,\n",
       " 3,\n",
       " 3.3,\n",
       " 4.4,\n",
       " 5,\n",
       " 5.5,\n",
       " 6,\n",
       " 7,\n",
       " 8,\n",
       " 'chloe',\n",
       " 'lucifer',\n",
       " 'nallam'}"
      ]
     },
     "execution_count": 139,
     "metadata": {},
     "output_type": "execute_result"
    }
   ],
   "source": [
    "s.union(s2)"
   ]
  },
  {
   "cell_type": "code",
   "execution_count": 140,
   "id": "a9545a44",
   "metadata": {},
   "outputs": [
    {
     "data": {
      "text/plain": [
       "{('vamsi', 234), 1, 100, 2, 2.3, 200, 3, 3.3, 4.4, 5, 5.5, 6, 7, 8, 'nallam'}"
      ]
     },
     "execution_count": 140,
     "metadata": {},
     "output_type": "execute_result"
    }
   ],
   "source": [
    "s"
   ]
  },
  {
   "cell_type": "code",
   "execution_count": 141,
   "id": "7fcdee6d",
   "metadata": {},
   "outputs": [
    {
     "data": {
      "text/plain": [
       "{('vamsi', 234), 1, 100, 2, 200, 3, 5, 6, 7, 8, 'nallam'}"
      ]
     },
     "execution_count": 141,
     "metadata": {},
     "output_type": "execute_result"
    }
   ],
   "source": [
    "s.difference(s1)"
   ]
  },
  {
   "cell_type": "code",
   "execution_count": 142,
   "id": "8a707cc5",
   "metadata": {},
   "outputs": [
    {
     "data": {
      "text/plain": [
       "{2.3, 3.3, 4.4, 5.5}"
      ]
     },
     "execution_count": 142,
     "metadata": {},
     "output_type": "execute_result"
    }
   ],
   "source": [
    "s1"
   ]
  },
  {
   "cell_type": "code",
   "execution_count": 143,
   "id": "b62140dc",
   "metadata": {},
   "outputs": [],
   "source": [
    "s1={\"amen\",\"linda\"}"
   ]
  },
  {
   "cell_type": "code",
   "execution_count": 145,
   "id": "285c9853",
   "metadata": {},
   "outputs": [
    {
     "data": {
      "text/plain": [
       "{('vamsi', 234), 1, 100, 2, 2.3, 200, 3, 3.3, 4.4, 5, 5.5, 6, 7, 8, 'nallam'}"
      ]
     },
     "execution_count": 145,
     "metadata": {},
     "output_type": "execute_result"
    }
   ],
   "source": [
    "s.difference(s1)"
   ]
  },
  {
   "cell_type": "code",
   "execution_count": 146,
   "id": "4afe31ad",
   "metadata": {},
   "outputs": [],
   "source": [
    "d={}"
   ]
  },
  {
   "cell_type": "code",
   "execution_count": 147,
   "id": "9e06be8a",
   "metadata": {},
   "outputs": [
    {
     "data": {
      "text/plain": [
       "{}"
      ]
     },
     "execution_count": 147,
     "metadata": {},
     "output_type": "execute_result"
    }
   ],
   "source": [
    "d"
   ]
  },
  {
   "cell_type": "code",
   "execution_count": 148,
   "id": "8908fc70",
   "metadata": {},
   "outputs": [
    {
     "data": {
      "text/plain": [
       "dict"
      ]
     },
     "execution_count": 148,
     "metadata": {},
     "output_type": "execute_result"
    }
   ],
   "source": [
    "type(d)"
   ]
  },
  {
   "cell_type": "code",
   "execution_count": 149,
   "id": "6326c718",
   "metadata": {},
   "outputs": [
    {
     "data": {
      "text/plain": [
       "{}"
      ]
     },
     "execution_count": 149,
     "metadata": {},
     "output_type": "execute_result"
    }
   ],
   "source": [
    "dict()"
   ]
  },
  {
   "cell_type": "code",
   "execution_count": 150,
   "id": "8de1b226",
   "metadata": {},
   "outputs": [],
   "source": [
    "d={'vam':123,123:\"vamsi\"}"
   ]
  },
  {
   "cell_type": "code",
   "execution_count": 152,
   "id": "ba188ac9",
   "metadata": {},
   "outputs": [
    {
     "name": "stdout",
     "output_type": "stream",
     "text": [
      "123\n",
      "vamsi\n"
     ]
    }
   ],
   "source": [
    "for i in d:\n",
    "    print(d[i])"
   ]
  },
  {
   "cell_type": "code",
   "execution_count": 153,
   "id": "f405fbbd",
   "metadata": {},
   "outputs": [
    {
     "data": {
      "text/plain": [
       "{'vam': 123, 123: 'vamsi'}"
      ]
     },
     "execution_count": 153,
     "metadata": {},
     "output_type": "execute_result"
    }
   ],
   "source": [
    "d"
   ]
  },
  {
   "cell_type": "code",
   "execution_count": 158,
   "id": "32634633",
   "metadata": {},
   "outputs": [],
   "source": [
    "d1={\"vamsi\":123,\"vamsi\":234,\"side\":234}"
   ]
  },
  {
   "cell_type": "code",
   "execution_count": 159,
   "id": "80fd5cbe",
   "metadata": {},
   "outputs": [
    {
     "data": {
      "text/plain": [
       "{'vamsi': 234, 'side': 234}"
      ]
     },
     "execution_count": 159,
     "metadata": {},
     "output_type": "execute_result"
    }
   ],
   "source": [
    "d1"
   ]
  },
  {
   "cell_type": "code",
   "execution_count": 160,
   "id": "91bd2cbc",
   "metadata": {},
   "outputs": [],
   "source": [
    "l1=[[1,2,3],(2,\"vamsi\"),{2,3,True},{\"vamsi\":123,\"age\":23333}]"
   ]
  },
  {
   "cell_type": "code",
   "execution_count": 161,
   "id": "bef29fca",
   "metadata": {},
   "outputs": [
    {
     "name": "stdout",
     "output_type": "stream",
     "text": [
      "<class 'list'>\n",
      "<class 'tuple'>\n",
      "<class 'set'>\n",
      "<class 'dict'>\n"
     ]
    }
   ],
   "source": [
    "for i in l1:\n",
    "    print(type(i))"
   ]
  },
  {
   "cell_type": "code",
   "execution_count": 162,
   "id": "fa8c41f9",
   "metadata": {},
   "outputs": [],
   "source": [
    "t1=([1,2,3],(2,\"vamsi\"),{2,3,True},{\"vamsi\":123,\"age\":23333})"
   ]
  },
  {
   "cell_type": "code",
   "execution_count": 163,
   "id": "cd1f8543",
   "metadata": {},
   "outputs": [
    {
     "name": "stdout",
     "output_type": "stream",
     "text": [
      "<class 'list'>\n",
      "<class 'tuple'>\n",
      "<class 'set'>\n",
      "<class 'dict'>\n"
     ]
    }
   ],
   "source": [
    "for i in t1:\n",
    "    print(type(i))"
   ]
  },
  {
   "cell_type": "code",
   "execution_count": 166,
   "id": "5b978bbd",
   "metadata": {},
   "outputs": [
    {
     "ename": "TypeError",
     "evalue": "unhashable type: 'dict'",
     "output_type": "error",
     "traceback": [
      "\u001b[1;31m---------------------------------------------------------------------------\u001b[0m",
      "\u001b[1;31mTypeError\u001b[0m                                 Traceback (most recent call last)",
      "\u001b[1;32m<ipython-input-166-cbcbb19d6b1d>\u001b[0m in \u001b[0;36m<module>\u001b[1;34m\u001b[0m\n\u001b[1;32m----> 1\u001b[1;33m \u001b[0ms1\u001b[0m\u001b[1;33m=\u001b[0m\u001b[1;33m{\u001b[0m\u001b[1;33m(\u001b[0m\u001b[1;36m2\u001b[0m\u001b[1;33m,\u001b[0m\u001b[1;34m\"vamsi\"\u001b[0m\u001b[1;33m)\u001b[0m\u001b[1;33m,\u001b[0m\u001b[1;33m{\u001b[0m\u001b[1;34m\"vamsi\"\u001b[0m\u001b[1;33m:\u001b[0m\u001b[1;36m123\u001b[0m\u001b[1;33m,\u001b[0m\u001b[1;34m\"age\"\u001b[0m\u001b[1;33m:\u001b[0m\u001b[1;36m23333\u001b[0m\u001b[1;33m}\u001b[0m\u001b[1;33m}\u001b[0m\u001b[1;33m\u001b[0m\u001b[1;33m\u001b[0m\u001b[0m\n\u001b[0m",
      "\u001b[1;31mTypeError\u001b[0m: unhashable type: 'dict'"
     ]
    }
   ],
   "source": [
    "s1={(2,\"vamsi\"),{\"vamsi\":123,\"age\":23333}}"
   ]
  },
  {
   "cell_type": "code",
   "execution_count": 167,
   "id": "18169f6f",
   "metadata": {},
   "outputs": [],
   "source": [
    "d1={'list':[1,2,3],'tuple':(2,\"vamsi\"),'set':{2,3,True},'dict':{\"vamsi\":123,\"age\":23333}}"
   ]
  },
  {
   "cell_type": "code",
   "execution_count": 168,
   "id": "52de4afa",
   "metadata": {},
   "outputs": [
    {
     "name": "stdout",
     "output_type": "stream",
     "text": [
      "<class 'list'>\n",
      "<class 'tuple'>\n",
      "<class 'set'>\n",
      "<class 'dict'>\n"
     ]
    }
   ],
   "source": [
    "for i in d1:\n",
    "    print(type(d1[i]))"
   ]
  },
  {
   "cell_type": "code",
   "execution_count": 169,
   "id": "888ab3ce",
   "metadata": {},
   "outputs": [
    {
     "data": {
      "text/plain": [
       "4"
      ]
     },
     "execution_count": 169,
     "metadata": {},
     "output_type": "execute_result"
    }
   ],
   "source": [
    "len(d1)"
   ]
  },
  {
   "cell_type": "code",
   "execution_count": 171,
   "id": "fe306655",
   "metadata": {},
   "outputs": [
    {
     "data": {
      "text/plain": [
       "{True, 2, 3}"
      ]
     },
     "execution_count": 171,
     "metadata": {},
     "output_type": "execute_result"
    }
   ],
   "source": [
    "d1['set']"
   ]
  },
  {
   "cell_type": "code",
   "execution_count": 184,
   "id": "bce0b777",
   "metadata": {},
   "outputs": [],
   "source": [
    "d=dict(vam=123,nal=234,num=456)"
   ]
  },
  {
   "cell_type": "code",
   "execution_count": 185,
   "id": "850b281f",
   "metadata": {},
   "outputs": [
    {
     "data": {
      "text/plain": [
       "{'vam': 123, 'nal': 234, 'num': 456}"
      ]
     },
     "execution_count": 185,
     "metadata": {},
     "output_type": "execute_result"
    }
   ],
   "source": [
    "d"
   ]
  },
  {
   "cell_type": "code",
   "execution_count": 186,
   "id": "db959cb3",
   "metadata": {},
   "outputs": [
    {
     "name": "stdout",
     "output_type": "stream",
     "text": [
      "<class 'str'>\n",
      "<class 'str'>\n",
      "<class 'str'>\n"
     ]
    }
   ],
   "source": [
    "for i in d:\n",
    "    print(type(i))"
   ]
  },
  {
   "cell_type": "code",
   "execution_count": 192,
   "id": "add44d5f",
   "metadata": {},
   "outputs": [],
   "source": [
    "D=dict(vamsi=123)"
   ]
  },
  {
   "cell_type": "code",
   "execution_count": 193,
   "id": "b103b0e4",
   "metadata": {},
   "outputs": [
    {
     "data": {
      "text/plain": [
       "{'list': [1, 2, 3],\n",
       " 'tuple': (2, 'vamsi'),\n",
       " 'set': {True, 2, 3},\n",
       " 'dict': {'vamsi': 123, 'age': 23333}}"
      ]
     },
     "execution_count": 193,
     "metadata": {},
     "output_type": "execute_result"
    }
   ],
   "source": [
    "d1"
   ]
  },
  {
   "cell_type": "code",
   "execution_count": 194,
   "id": "e856ba4d",
   "metadata": {},
   "outputs": [
    {
     "data": {
      "text/plain": [
       "{'vamsi': 123, 'age': 23333}"
      ]
     },
     "execution_count": 194,
     "metadata": {},
     "output_type": "execute_result"
    }
   ],
   "source": [
    "d1['dict']"
   ]
  },
  {
   "cell_type": "code",
   "execution_count": 195,
   "id": "d849e24c",
   "metadata": {},
   "outputs": [
    {
     "data": {
      "text/plain": [
       "{True, 2, 3}"
      ]
     },
     "execution_count": 195,
     "metadata": {},
     "output_type": "execute_result"
    }
   ],
   "source": [
    "d1['set']"
   ]
  },
  {
   "cell_type": "code",
   "execution_count": 198,
   "id": "15fb8542",
   "metadata": {},
   "outputs": [
    {
     "data": {
      "text/plain": [
       "23333"
      ]
     },
     "execution_count": 198,
     "metadata": {},
     "output_type": "execute_result"
    }
   ],
   "source": [
    "d1['dict']['age']"
   ]
  },
  {
   "cell_type": "code",
   "execution_count": 199,
   "id": "4f4aa831",
   "metadata": {},
   "outputs": [
    {
     "data": {
      "text/plain": [
       "['list', 'tuple', 'set', 'dict']"
      ]
     },
     "execution_count": 199,
     "metadata": {},
     "output_type": "execute_result"
    }
   ],
   "source": [
    "list(d1)"
   ]
  },
  {
   "cell_type": "code",
   "execution_count": 200,
   "id": "624fa81a",
   "metadata": {},
   "outputs": [
    {
     "data": {
      "text/plain": [
       "('list', 'tuple', 'set', 'dict')"
      ]
     },
     "execution_count": 200,
     "metadata": {},
     "output_type": "execute_result"
    }
   ],
   "source": [
    "tuple(d1)"
   ]
  },
  {
   "cell_type": "code",
   "execution_count": 201,
   "id": "fa64110f",
   "metadata": {},
   "outputs": [
    {
     "data": {
      "text/plain": [
       "{'dict', 'list', 'set', 'tuple'}"
      ]
     },
     "execution_count": 201,
     "metadata": {},
     "output_type": "execute_result"
    }
   ],
   "source": [
    "set(d1)"
   ]
  },
  {
   "cell_type": "code",
   "execution_count": 202,
   "id": "0dd1d214",
   "metadata": {},
   "outputs": [
    {
     "data": {
      "text/plain": [
       "{'list': [1, 2, 3],\n",
       " 'tuple': (2, 'vamsi'),\n",
       " 'set': {True, 2, 3},\n",
       " 'dict': {'vamsi': 123, 'age': 23333}}"
      ]
     },
     "execution_count": 202,
     "metadata": {},
     "output_type": "execute_result"
    }
   ],
   "source": [
    "dict(d1)"
   ]
  },
  {
   "cell_type": "code",
   "execution_count": 203,
   "id": "d4895825",
   "metadata": {},
   "outputs": [
    {
     "data": {
      "text/plain": [
       "[1, 2, 3]"
      ]
     },
     "execution_count": 203,
     "metadata": {},
     "output_type": "execute_result"
    }
   ],
   "source": [
    "list([1,2,3])"
   ]
  },
  {
   "cell_type": "code",
   "execution_count": 207,
   "id": "24c7ccb6",
   "metadata": {},
   "outputs": [],
   "source": [
    "D={'vamsi':123,345:'nall',True:False,22.22:33.33,(1,2,3):'tuple',}"
   ]
  },
  {
   "cell_type": "code",
   "execution_count": 209,
   "id": "c211641a",
   "metadata": {},
   "outputs": [],
   "source": [
    "D[345]='nallamm'"
   ]
  },
  {
   "cell_type": "code",
   "execution_count": 210,
   "id": "04a3cdb8",
   "metadata": {},
   "outputs": [
    {
     "data": {
      "text/plain": [
       "{'vamsi': 123, 345: 'nallamm', True: False, 22.22: 33.33, (1, 2, 3): 'tuple'}"
      ]
     },
     "execution_count": 210,
     "metadata": {},
     "output_type": "execute_result"
    }
   ],
   "source": [
    "D"
   ]
  },
  {
   "cell_type": "code",
   "execution_count": 211,
   "id": "8b3bc707",
   "metadata": {},
   "outputs": [
    {
     "name": "stdout",
     "output_type": "stream",
     "text": [
      "<class 'str'>\n",
      "<class 'int'>\n",
      "<class 'bool'>\n",
      "<class 'float'>\n",
      "<class 'tuple'>\n"
     ]
    }
   ],
   "source": [
    "for i in D:\n",
    "    print(type(i))"
   ]
  },
  {
   "cell_type": "code",
   "execution_count": 212,
   "id": "6677c188",
   "metadata": {},
   "outputs": [
    {
     "data": {
      "text/plain": [
       "dict_keys(['vamsi', 345, True, 22.22, (1, 2, 3)])"
      ]
     },
     "execution_count": 212,
     "metadata": {},
     "output_type": "execute_result"
    }
   ],
   "source": [
    "D.keys()"
   ]
  },
  {
   "cell_type": "code",
   "execution_count": 213,
   "id": "ebbb1fd9",
   "metadata": {},
   "outputs": [
    {
     "data": {
      "text/plain": [
       "dict_values([123, 'nallamm', False, 33.33, 'tuple'])"
      ]
     },
     "execution_count": 213,
     "metadata": {},
     "output_type": "execute_result"
    }
   ],
   "source": [
    "D.values()"
   ]
  },
  {
   "cell_type": "code",
   "execution_count": 214,
   "id": "376b282c",
   "metadata": {},
   "outputs": [
    {
     "data": {
      "text/plain": [
       "dict_keys"
      ]
     },
     "execution_count": 214,
     "metadata": {},
     "output_type": "execute_result"
    }
   ],
   "source": [
    "type(D.keys())"
   ]
  },
  {
   "cell_type": "code",
   "execution_count": 217,
   "id": "c5e5d2ed",
   "metadata": {},
   "outputs": [
    {
     "name": "stdout",
     "output_type": "stream",
     "text": [
      "dict_keys(['vamsi', 345, True, 22.22, (1, 2, 3)])\n"
     ]
    }
   ],
   "source": [
    "print(D.keys())"
   ]
  },
  {
   "cell_type": "code",
   "execution_count": 218,
   "id": "6ab698ba",
   "metadata": {},
   "outputs": [
    {
     "data": {
      "text/plain": [
       "dict_items([('vamsi', 123), (345, 'nallamm'), (True, False), (22.22, 33.33), ((1, 2, 3), 'tuple')])"
      ]
     },
     "execution_count": 218,
     "metadata": {},
     "output_type": "execute_result"
    }
   ],
   "source": [
    "D.items()"
   ]
  },
  {
   "cell_type": "code",
   "execution_count": 219,
   "id": "48c6cda3",
   "metadata": {},
   "outputs": [
    {
     "data": {
      "text/plain": [
       "[('vamsi', 123),\n",
       " (345, 'nallamm'),\n",
       " (True, False),\n",
       " (22.22, 33.33),\n",
       " ((1, 2, 3), 'tuple')]"
      ]
     },
     "execution_count": 219,
     "metadata": {},
     "output_type": "execute_result"
    }
   ],
   "source": [
    "list(D.items())"
   ]
  },
  {
   "cell_type": "code",
   "execution_count": 224,
   "id": "57400898",
   "metadata": {},
   "outputs": [
    {
     "data": {
      "text/plain": [
       "(('vamsi', 123),\n",
       " (345, 'nallamm'),\n",
       " (True, False),\n",
       " (22.22, 33.33),\n",
       " ((1, 2, 3), 'tuple'))"
      ]
     },
     "execution_count": 224,
     "metadata": {},
     "output_type": "execute_result"
    }
   ],
   "source": [
    "tuple(D.items())"
   ]
  },
  {
   "cell_type": "code",
   "execution_count": 225,
   "id": "726534c8",
   "metadata": {},
   "outputs": [
    {
     "data": {
      "text/plain": [
       "{('vamsi', 123),\n",
       " ((1, 2, 3), 'tuple'),\n",
       " (22.22, 33.33),\n",
       " (345, 'nallamm'),\n",
       " (True, False)}"
      ]
     },
     "execution_count": 225,
     "metadata": {},
     "output_type": "execute_result"
    }
   ],
   "source": [
    "set(D.items())"
   ]
  },
  {
   "cell_type": "code",
   "execution_count": 230,
   "id": "867e5380",
   "metadata": {},
   "outputs": [
    {
     "data": {
      "text/plain": [
       "True"
      ]
     },
     "execution_count": 230,
     "metadata": {},
     "output_type": "execute_result"
    }
   ],
   "source": [
    "tuple(D.items())[2][0]"
   ]
  },
  {
   "cell_type": "code",
   "execution_count": 232,
   "id": "fbe52c9e",
   "metadata": {},
   "outputs": [
    {
     "data": {
      "text/plain": [
       "'nallamm'"
      ]
     },
     "execution_count": 232,
     "metadata": {},
     "output_type": "execute_result"
    }
   ],
   "source": [
    "D.pop(345)"
   ]
  },
  {
   "cell_type": "code",
   "execution_count": 233,
   "id": "21c1d20a",
   "metadata": {},
   "outputs": [
    {
     "data": {
      "text/plain": [
       "{'vamsi': 123, True: False, 22.22: 33.33, (1, 2, 3): 'tuple'}"
      ]
     },
     "execution_count": 233,
     "metadata": {},
     "output_type": "execute_result"
    }
   ],
   "source": [
    "D"
   ]
  },
  {
   "cell_type": "code",
   "execution_count": 239,
   "id": "e55f1c7c",
   "metadata": {},
   "outputs": [],
   "source": [
    "l=[1,2,3,4,5,6]"
   ]
  },
  {
   "cell_type": "code",
   "execution_count": 242,
   "id": "b8e893bc",
   "metadata": {},
   "outputs": [],
   "source": [
    "d1=D.fromkeys(l,\"vamsi\")"
   ]
  },
  {
   "cell_type": "code",
   "execution_count": 243,
   "id": "53b31cbb",
   "metadata": {},
   "outputs": [
    {
     "data": {
      "text/plain": [
       "{'vamsi': 123, True: False, 22.22: 33.33, (1, 2, 3): 'tuple'}"
      ]
     },
     "execution_count": 243,
     "metadata": {},
     "output_type": "execute_result"
    }
   ],
   "source": [
    "D"
   ]
  },
  {
   "cell_type": "code",
   "execution_count": 244,
   "id": "0948d723",
   "metadata": {},
   "outputs": [
    {
     "data": {
      "text/plain": [
       "{1: 'vamsi', 2: 'vamsi', 3: 'vamsi', 4: 'vamsi', 5: 'vamsi', 6: 'vamsi'}"
      ]
     },
     "execution_count": 244,
     "metadata": {},
     "output_type": "execute_result"
    }
   ],
   "source": [
    "d1"
   ]
  },
  {
   "cell_type": "code",
   "execution_count": 245,
   "id": "e54963b7",
   "metadata": {},
   "outputs": [],
   "source": [
    "c={}\n",
    "for i in l:\n",
    "    c[i]='vamsi'"
   ]
  },
  {
   "cell_type": "code",
   "execution_count": 246,
   "id": "76edf34e",
   "metadata": {},
   "outputs": [
    {
     "data": {
      "text/plain": [
       "{1: 'vamsi', 2: 'vamsi', 3: 'vamsi', 4: 'vamsi', 5: 'vamsi', 6: 'vamsi'}"
      ]
     },
     "execution_count": 246,
     "metadata": {},
     "output_type": "execute_result"
    }
   ],
   "source": [
    "c"
   ]
  },
  {
   "cell_type": "code",
   "execution_count": 247,
   "id": "d59cfd26",
   "metadata": {},
   "outputs": [
    {
     "data": {
      "text/plain": [
       "{'vamsi': 123, True: False, 22.22: 33.33, (1, 2, 3): 'tuple'}"
      ]
     },
     "execution_count": 247,
     "metadata": {},
     "output_type": "execute_result"
    }
   ],
   "source": [
    "D"
   ]
  },
  {
   "cell_type": "code",
   "execution_count": 248,
   "id": "cd27b3f9",
   "metadata": {},
   "outputs": [],
   "source": [
    "D['raj']='raj'"
   ]
  },
  {
   "cell_type": "code",
   "execution_count": 249,
   "id": "4b6ec636",
   "metadata": {},
   "outputs": [
    {
     "data": {
      "text/plain": [
       "{'vamsi': 123, True: False, 22.22: 33.33, (1, 2, 3): 'tuple', 'raj': 'raj'}"
      ]
     },
     "execution_count": 249,
     "metadata": {},
     "output_type": "execute_result"
    }
   ],
   "source": [
    "D"
   ]
  },
  {
   "cell_type": "code",
   "execution_count": 250,
   "id": "2450b99f",
   "metadata": {},
   "outputs": [
    {
     "ename": "TypeError",
     "evalue": "unsupported operand type(s) for +: 'dict' and 'dict'",
     "output_type": "error",
     "traceback": [
      "\u001b[1;31m---------------------------------------------------------------------------\u001b[0m",
      "\u001b[1;31mTypeError\u001b[0m                                 Traceback (most recent call last)",
      "\u001b[1;32m<ipython-input-250-603755e6898c>\u001b[0m in \u001b[0;36m<module>\u001b[1;34m\u001b[0m\n\u001b[1;32m----> 1\u001b[1;33m \u001b[0mD\u001b[0m\u001b[1;33m+\u001b[0m\u001b[0md1\u001b[0m\u001b[1;33m\u001b[0m\u001b[1;33m\u001b[0m\u001b[0m\n\u001b[0m",
      "\u001b[1;31mTypeError\u001b[0m: unsupported operand type(s) for +: 'dict' and 'dict'"
     ]
    }
   ],
   "source": [
    "D+d1"
   ]
  },
  {
   "cell_type": "code",
   "execution_count": 253,
   "id": "efd43768",
   "metadata": {},
   "outputs": [
    {
     "ename": "TypeError",
     "evalue": "unsupported operand type(s) for *: 'dict' and 'int'",
     "output_type": "error",
     "traceback": [
      "\u001b[1;31m---------------------------------------------------------------------------\u001b[0m",
      "\u001b[1;31mTypeError\u001b[0m                                 Traceback (most recent call last)",
      "\u001b[1;32m<ipython-input-253-45ee08caf335>\u001b[0m in \u001b[0;36m<module>\u001b[1;34m\u001b[0m\n\u001b[1;32m----> 1\u001b[1;33m \u001b[0mD\u001b[0m\u001b[1;33m*\u001b[0m\u001b[1;36m2\u001b[0m\u001b[1;33m\u001b[0m\u001b[1;33m\u001b[0m\u001b[0m\n\u001b[0m",
      "\u001b[1;31mTypeError\u001b[0m: unsupported operand type(s) for *: 'dict' and 'int'"
     ]
    }
   ],
   "source": [
    "D*2"
   ]
  },
  {
   "cell_type": "code",
   "execution_count": 254,
   "id": "8de77bde",
   "metadata": {},
   "outputs": [],
   "source": [
    "s={1,2,3}"
   ]
  },
  {
   "cell_type": "code",
   "execution_count": 255,
   "id": "7d899a0b",
   "metadata": {},
   "outputs": [
    {
     "ename": "TypeError",
     "evalue": "unsupported operand type(s) for +: 'set' and 'set'",
     "output_type": "error",
     "traceback": [
      "\u001b[1;31m---------------------------------------------------------------------------\u001b[0m",
      "\u001b[1;31mTypeError\u001b[0m                                 Traceback (most recent call last)",
      "\u001b[1;32m<ipython-input-255-d183855cc25e>\u001b[0m in \u001b[0;36m<module>\u001b[1;34m\u001b[0m\n\u001b[1;32m----> 1\u001b[1;33m \u001b[0ms\u001b[0m\u001b[1;33m+\u001b[0m\u001b[0ms\u001b[0m\u001b[1;33m\u001b[0m\u001b[1;33m\u001b[0m\u001b[0m\n\u001b[0m",
      "\u001b[1;31mTypeError\u001b[0m: unsupported operand type(s) for +: 'set' and 'set'"
     ]
    }
   ],
   "source": [
    "s+s"
   ]
  },
  {
   "cell_type": "code",
   "execution_count": 256,
   "id": "e75af065",
   "metadata": {},
   "outputs": [
    {
     "ename": "TypeError",
     "evalue": "unsupported operand type(s) for *: 'set' and 'int'",
     "output_type": "error",
     "traceback": [
      "\u001b[1;31m---------------------------------------------------------------------------\u001b[0m",
      "\u001b[1;31mTypeError\u001b[0m                                 Traceback (most recent call last)",
      "\u001b[1;32m<ipython-input-256-23a0db80d712>\u001b[0m in \u001b[0;36m<module>\u001b[1;34m\u001b[0m\n\u001b[1;32m----> 1\u001b[1;33m \u001b[0ms\u001b[0m\u001b[1;33m*\u001b[0m\u001b[1;36m2\u001b[0m\u001b[1;33m\u001b[0m\u001b[1;33m\u001b[0m\u001b[0m\n\u001b[0m",
      "\u001b[1;31mTypeError\u001b[0m: unsupported operand type(s) for *: 'set' and 'int'"
     ]
    }
   ],
   "source": [
    "s*2"
   ]
  },
  {
   "cell_type": "code",
   "execution_count": 257,
   "id": "6f8b9f73",
   "metadata": {},
   "outputs": [],
   "source": [
    "s1={1}"
   ]
  },
  {
   "cell_type": "code",
   "execution_count": 258,
   "id": "80574497",
   "metadata": {},
   "outputs": [
    {
     "data": {
      "text/plain": [
       "set"
      ]
     },
     "execution_count": 258,
     "metadata": {},
     "output_type": "execute_result"
    }
   ],
   "source": [
    "type(s1)"
   ]
  },
  {
   "cell_type": "code",
   "execution_count": 265,
   "id": "ded749bf",
   "metadata": {},
   "outputs": [],
   "source": [
    "l=[123,2.22,True,'vamsi',[1,2,3],(1,2,3),{1,2,3},{1:'vamsi',2:'nall','ax':122},3+4j,\n",
    "   4+5.5j,23,3.4444,False,True,'nallamm',[4,'nal'],('vam',233,4.4),{3.3,4.4},{1:123,2:234}]"
   ]
  },
  {
   "cell_type": "code",
   "execution_count": 266,
   "id": "9af55186",
   "metadata": {},
   "outputs": [
    {
     "name": "stdout",
     "output_type": "stream",
     "text": [
      "<class 'int'> <class 'float'> <class 'bool'> <class 'str'> <class 'list'> <class 'tuple'> <class 'set'> <class 'dict'> <class 'complex'> <class 'complex'> <class 'int'> <class 'float'> <class 'bool'> <class 'bool'> <class 'str'> <class 'list'> <class 'tuple'> <class 'set'> <class 'dict'> "
     ]
    }
   ],
   "source": [
    "for i in l:\n",
    "    print(type(i),end=\" \")"
   ]
  },
  {
   "cell_type": "code",
   "execution_count": 274,
   "id": "f50dec1a",
   "metadata": {},
   "outputs": [
    {
     "name": "stdout",
     "output_type": "stream",
     "text": [
      "<class 'int'> (123, 23)\n",
      "<class 'float'> (2.22, 3.4444)\n",
      "<class 'bool'> (True, False, True)\n",
      "<class 'str'> ('vamsi', 'nallamm')\n",
      "<class 'list'> ([1, 2, 3], [4, 'nal'])\n",
      "<class 'tuple'> ((1, 2, 3), ('vam', 233, 4.4))\n",
      "<class 'set'> ({1, 2, 3}, {3.3, 4.4})\n",
      "<class 'dict'> ({1: 'vamsi', 2: 'nall', 'ax': 122}, {1: 123, 2: 234})\n",
      "<class 'complex'> ((3+4j), (4+5.5j))\n"
     ]
    }
   ],
   "source": [
    "D={}\n",
    "for i in l:\n",
    "    if type(i) in D:\n",
    "        D[type(i)]=(D[type(i)])+(i,)\n",
    "        continue\n",
    "    else:\n",
    "        D[type(i)]=(i,)\n",
    "for i in D:\n",
    "    print(i,D[i])"
   ]
  },
  {
   "cell_type": "code",
   "execution_count": 261,
   "id": "56a4958e",
   "metadata": {},
   "outputs": [],
   "source": [
    "x={\"vamsi\":123,\"nall\":234}"
   ]
  },
  {
   "cell_type": "code",
   "execution_count": 262,
   "id": "6d83058d",
   "metadata": {},
   "outputs": [
    {
     "data": {
      "text/plain": [
       "True"
      ]
     },
     "execution_count": 262,
     "metadata": {},
     "output_type": "execute_result"
    }
   ],
   "source": [
    "'vamsi' in x"
   ]
  },
  {
   "cell_type": "code",
   "execution_count": 263,
   "id": "539c23e7",
   "metadata": {},
   "outputs": [],
   "source": [
    "c={int:123}"
   ]
  },
  {
   "cell_type": "code",
   "execution_count": 264,
   "id": "4ac36f98",
   "metadata": {},
   "outputs": [
    {
     "data": {
      "text/plain": [
       "{int: 123}"
      ]
     },
     "execution_count": 264,
     "metadata": {},
     "output_type": "execute_result"
    }
   ],
   "source": [
    "c"
   ]
  },
  {
   "cell_type": "code",
   "execution_count": 1,
   "id": "f23a59b2",
   "metadata": {},
   "outputs": [],
   "source": [
    "def sum(a,d):\n",
    "    print(a+d)"
   ]
  },
  {
   "cell_type": "code",
   "execution_count": 2,
   "id": "4e41bd4e",
   "metadata": {},
   "outputs": [
    {
     "name": "stdout",
     "output_type": "stream",
     "text": [
      "7\n"
     ]
    }
   ],
   "source": [
    "sum(3,4)"
   ]
  },
  {
   "cell_type": "code",
   "execution_count": 3,
   "id": "f77468b0",
   "metadata": {},
   "outputs": [],
   "source": [
    "def sum1(a,d):\n",
    "    return a+d"
   ]
  },
  {
   "cell_type": "code",
   "execution_count": 4,
   "id": "518cc45a",
   "metadata": {},
   "outputs": [],
   "source": [
    "a=sum1(4,5)"
   ]
  },
  {
   "cell_type": "code",
   "execution_count": 5,
   "id": "018b5436",
   "metadata": {},
   "outputs": [
    {
     "data": {
      "text/plain": [
       "9"
      ]
     },
     "execution_count": 5,
     "metadata": {},
     "output_type": "execute_result"
    }
   ],
   "source": [
    "a"
   ]
  },
  {
   "cell_type": "code",
   "execution_count": 15,
   "id": "e24c74a5",
   "metadata": {},
   "outputs": [],
   "source": [
    "def test(a,b):\n",
    "    return a*3,b*100,a*b\n",
    "    print(\"hi\")"
   ]
  },
  {
   "cell_type": "code",
   "execution_count": 16,
   "id": "3c2c610d",
   "metadata": {},
   "outputs": [],
   "source": [
    "c=test(3,4)"
   ]
  },
  {
   "cell_type": "code",
   "execution_count": 17,
   "id": "b8e70be6",
   "metadata": {},
   "outputs": [
    {
     "data": {
      "text/plain": [
       "(9, 400, 12)"
      ]
     },
     "execution_count": 17,
     "metadata": {},
     "output_type": "execute_result"
    }
   ],
   "source": [
    "c"
   ]
  },
  {
   "cell_type": "code",
   "execution_count": 18,
   "id": "7d51f811",
   "metadata": {},
   "outputs": [
    {
     "data": {
      "text/plain": [
       "tuple"
      ]
     },
     "execution_count": 18,
     "metadata": {},
     "output_type": "execute_result"
    }
   ],
   "source": [
    "type(c)"
   ]
  },
  {
   "cell_type": "code",
   "execution_count": 19,
   "id": "efe5262b",
   "metadata": {},
   "outputs": [
    {
     "data": {
      "text/plain": [
       "(3, 200, 2)"
      ]
     },
     "execution_count": 19,
     "metadata": {},
     "output_type": "execute_result"
    }
   ],
   "source": [
    "test(1,2)"
   ]
  },
  {
   "cell_type": "code",
   "execution_count": 20,
   "id": "61b137fc",
   "metadata": {},
   "outputs": [],
   "source": [
    "a,b,c=test(1,2)"
   ]
  },
  {
   "cell_type": "code",
   "execution_count": 21,
   "id": "bdc39970",
   "metadata": {},
   "outputs": [
    {
     "data": {
      "text/plain": [
       "3"
      ]
     },
     "execution_count": 21,
     "metadata": {},
     "output_type": "execute_result"
    }
   ],
   "source": [
    "a"
   ]
  },
  {
   "cell_type": "code",
   "execution_count": 22,
   "id": "34db1ea6",
   "metadata": {},
   "outputs": [
    {
     "data": {
      "text/plain": [
       "200"
      ]
     },
     "execution_count": 22,
     "metadata": {},
     "output_type": "execute_result"
    }
   ],
   "source": [
    "b"
   ]
  },
  {
   "cell_type": "code",
   "execution_count": 23,
   "id": "23d79d01",
   "metadata": {},
   "outputs": [
    {
     "data": {
      "text/plain": [
       "2"
      ]
     },
     "execution_count": 23,
     "metadata": {},
     "output_type": "execute_result"
    }
   ],
   "source": [
    "c"
   ]
  },
  {
   "cell_type": "code",
   "execution_count": 25,
   "id": "96ddcd12",
   "metadata": {},
   "outputs": [],
   "source": [
    "a=test(1,2)"
   ]
  },
  {
   "cell_type": "code",
   "execution_count": 26,
   "id": "4c0d09ff",
   "metadata": {},
   "outputs": [
    {
     "data": {
      "text/plain": [
       "(3, 200, 2)"
      ]
     },
     "execution_count": 26,
     "metadata": {},
     "output_type": "execute_result"
    }
   ],
   "source": [
    "a"
   ]
  },
  {
   "cell_type": "code",
   "execution_count": 27,
   "id": "4cd4f77b",
   "metadata": {},
   "outputs": [
    {
     "ename": "SyntaxError",
     "evalue": "non-default argument follows default argument (<ipython-input-27-480f3829c338>, line 1)",
     "output_type": "error",
     "traceback": [
      "\u001b[1;36m  File \u001b[1;32m\"<ipython-input-27-480f3829c338>\"\u001b[1;36m, line \u001b[1;32m1\u001b[0m\n\u001b[1;33m    def test1(n=10,m):\u001b[0m\n\u001b[1;37m              ^\u001b[0m\n\u001b[1;31mSyntaxError\u001b[0m\u001b[1;31m:\u001b[0m non-default argument follows default argument\n"
     ]
    }
   ],
   "source": [
    "def test1(n=10,m):\n",
    "    print(n+m)"
   ]
  },
  {
   "cell_type": "code",
   "execution_count": 28,
   "id": "22077385",
   "metadata": {},
   "outputs": [],
   "source": [
    "def test1(n,m=10):\n",
    "    print(n+m)"
   ]
  },
  {
   "cell_type": "code",
   "execution_count": 29,
   "id": "40fe7971",
   "metadata": {},
   "outputs": [
    {
     "name": "stdout",
     "output_type": "stream",
     "text": [
      "110\n"
     ]
    }
   ],
   "source": [
    "test1(100)"
   ]
  },
  {
   "cell_type": "code",
   "execution_count": 31,
   "id": "8a278206",
   "metadata": {},
   "outputs": [
    {
     "name": "stdout",
     "output_type": "stream",
     "text": [
      "110\n"
     ]
    }
   ],
   "source": [
    "test1(100,)"
   ]
  },
  {
   "cell_type": "code",
   "execution_count": 32,
   "id": "19601ce1",
   "metadata": {},
   "outputs": [
    {
     "name": "stdout",
     "output_type": "stream",
     "text": [
      "300\n"
     ]
    }
   ],
   "source": [
    "test1(100,200)"
   ]
  },
  {
   "cell_type": "code",
   "execution_count": 39,
   "id": "be697a2e",
   "metadata": {},
   "outputs": [],
   "source": [
    "def test(a,b,c):\n",
    "    return a*10,b*20,c*30"
   ]
  },
  {
   "cell_type": "code",
   "execution_count": 40,
   "id": "2d64dbc8",
   "metadata": {},
   "outputs": [],
   "source": [
    "x=test(1,2,3)"
   ]
  },
  {
   "cell_type": "code",
   "execution_count": 41,
   "id": "dfb4ac47",
   "metadata": {},
   "outputs": [
    {
     "data": {
      "text/plain": [
       "(10, 40, 90)"
      ]
     },
     "execution_count": 41,
     "metadata": {},
     "output_type": "execute_result"
    }
   ],
   "source": [
    "x"
   ]
  },
  {
   "cell_type": "code",
   "execution_count": 42,
   "id": "29bf4038",
   "metadata": {},
   "outputs": [],
   "source": [
    "def test1(a=10,b=20,c=30):\n",
    "    print(type(a),type(b),type(c))\n",
    "    return a*2,b*3,c*4"
   ]
  },
  {
   "cell_type": "code",
   "execution_count": 43,
   "id": "ebb898f7",
   "metadata": {},
   "outputs": [
    {
     "name": "stdout",
     "output_type": "stream",
     "text": [
      "<class 'tuple'> <class 'int'> <class 'int'>\n"
     ]
    }
   ],
   "source": [
    "y=test1(_)"
   ]
  },
  {
   "cell_type": "code",
   "execution_count": 44,
   "id": "23844e5d",
   "metadata": {},
   "outputs": [
    {
     "data": {
      "text/plain": [
       "((10, 40, 90, 10, 40, 90), 60, 120)"
      ]
     },
     "execution_count": 44,
     "metadata": {},
     "output_type": "execute_result"
    }
   ],
   "source": [
    "y"
   ]
  },
  {
   "cell_type": "code",
   "execution_count": 57,
   "id": "b1b746e7",
   "metadata": {},
   "outputs": [],
   "source": [
    "def test(*args):\n",
    "    print(args)\n",
    "    print(type(args))\n",
    "    c=[]\n",
    "    for i in args:\n",
    "        c=c+[[i]]\n",
    "    print(c)"
   ]
  },
  {
   "cell_type": "code",
   "execution_count": 58,
   "id": "e0e9934a",
   "metadata": {},
   "outputs": [
    {
     "name": "stdout",
     "output_type": "stream",
     "text": [
      "(1, 2, 3, 'vamsi', ['nal', 123], ('xy', True))\n",
      "<class 'tuple'>\n",
      "[[1], [2], [3], ['vamsi'], [['nal', 123]], [('xy', True)]]\n"
     ]
    }
   ],
   "source": [
    "test(1,2,3,'vamsi',['nal',123],('xy',True))"
   ]
  },
  {
   "cell_type": "code",
   "execution_count": 59,
   "id": "0127a2e5",
   "metadata": {},
   "outputs": [],
   "source": [
    "s={1,2,3,4}"
   ]
  },
  {
   "cell_type": "code",
   "execution_count": 60,
   "id": "c4628890",
   "metadata": {},
   "outputs": [
    {
     "name": "stdout",
     "output_type": "stream",
     "text": [
      "1\n",
      "2\n",
      "3\n",
      "4\n"
     ]
    }
   ],
   "source": [
    "for i in s:\n",
    "    print(i)"
   ]
  },
  {
   "cell_type": "code",
   "execution_count": 61,
   "id": "0ca4a62f",
   "metadata": {},
   "outputs": [],
   "source": [
    "a=1\n",
    "b=200\n",
    "c='vamsi'\n",
    "d=[1,2,3]"
   ]
  },
  {
   "cell_type": "code",
   "execution_count": 62,
   "id": "7e5b9b71",
   "metadata": {},
   "outputs": [
    {
     "name": "stdout",
     "output_type": "stream",
     "text": [
      "(1, 200, 'vamsi', [1, 2, 3])\n",
      "<class 'tuple'>\n",
      "[[1], [200], ['vamsi'], [[1, 2, 3]]]\n"
     ]
    }
   ],
   "source": [
    "test(a,b,c,d)"
   ]
  },
  {
   "cell_type": "code",
   "execution_count": 92,
   "id": "abf81d40",
   "metadata": {},
   "outputs": [],
   "source": [
    "def test(**kwargs):\n",
    "    print(type(kwargs))\n",
    "    for i in kwargs:\n",
    "        print(i,kwargs[i])\n",
    "    return kwargs"
   ]
  },
  {
   "cell_type": "code",
   "execution_count": 93,
   "id": "715221ec",
   "metadata": {},
   "outputs": [
    {
     "name": "stdout",
     "output_type": "stream",
     "text": [
      "<class 'dict'>\n",
      "a 10\n",
      "b vamsi\n",
      "c nall\n"
     ]
    }
   ],
   "source": [
    "y=test(a=10,b=\"vamsi\",c='nall')"
   ]
  },
  {
   "cell_type": "code",
   "execution_count": 94,
   "id": "3aff6181",
   "metadata": {},
   "outputs": [
    {
     "data": {
      "text/plain": [
       "{'a': 10, 'b': 'vamsi', 'c': 'nall'}"
      ]
     },
     "execution_count": 94,
     "metadata": {},
     "output_type": "execute_result"
    }
   ],
   "source": [
    "y"
   ]
  },
  {
   "cell_type": "code",
   "execution_count": 95,
   "id": "a69ce5f2",
   "metadata": {},
   "outputs": [],
   "source": [
    "d={\"vamsi\":123,344:'nallam'}"
   ]
  },
  {
   "cell_type": "code",
   "execution_count": 96,
   "id": "36ea33ed",
   "metadata": {},
   "outputs": [
    {
     "name": "stdout",
     "output_type": "stream",
     "text": [
      "{'vamsi': 123, 344: 'nallam'}\n"
     ]
    }
   ],
   "source": [
    "print(d)"
   ]
  },
  {
   "cell_type": "code",
   "execution_count": 97,
   "id": "7cffcf08",
   "metadata": {},
   "outputs": [
    {
     "data": {
      "text/plain": [
       "[123, 'nallam']"
      ]
     },
     "execution_count": 97,
     "metadata": {},
     "output_type": "execute_result"
    }
   ],
   "source": [
    "list(d.values())"
   ]
  },
  {
   "cell_type": "code",
   "execution_count": 98,
   "id": "d29c564c",
   "metadata": {},
   "outputs": [],
   "source": [
    "l=[[1,2,3]]"
   ]
  },
  {
   "cell_type": "code",
   "execution_count": 99,
   "id": "d4be7e39",
   "metadata": {},
   "outputs": [
    {
     "data": {
      "text/plain": [
       "[[1, 2, 3]]"
      ]
     },
     "execution_count": 99,
     "metadata": {},
     "output_type": "execute_result"
    }
   ],
   "source": [
    "l"
   ]
  },
  {
   "cell_type": "code",
   "execution_count": 100,
   "id": "52283808",
   "metadata": {},
   "outputs": [],
   "source": [
    "def test(*args,**kwargs):\n",
    "    pass"
   ]
  },
  {
   "cell_type": "code",
   "execution_count": 101,
   "id": "d0d9e2e8",
   "metadata": {},
   "outputs": [
    {
     "ename": "SyntaxError",
     "evalue": "invalid syntax (<ipython-input-101-c81253bf1e40>, line 1)",
     "output_type": "error",
     "traceback": [
      "\u001b[1;36m  File \u001b[1;32m\"<ipython-input-101-c81253bf1e40>\"\u001b[1;36m, line \u001b[1;32m1\u001b[0m\n\u001b[1;33m    def test(**kwargs,*args):\u001b[0m\n\u001b[1;37m                      ^\u001b[0m\n\u001b[1;31mSyntaxError\u001b[0m\u001b[1;31m:\u001b[0m invalid syntax\n"
     ]
    }
   ],
   "source": [
    "def test(**kwargs,*args):\n",
    "    pass"
   ]
  },
  {
   "cell_type": "code",
   "execution_count": 103,
   "id": "166f4b6e",
   "metadata": {},
   "outputs": [],
   "source": [
    "def test(*args,**kwargs):\n",
    "    print(args,kwargs)"
   ]
  },
  {
   "cell_type": "code",
   "execution_count": 104,
   "id": "8e031b1d",
   "metadata": {},
   "outputs": [
    {
     "name": "stdout",
     "output_type": "stream",
     "text": [
      "(1, 2, 3) {'a': 100, 'b': 'vamsi'}\n"
     ]
    }
   ],
   "source": [
    "test(1,2,3,a=100,b='vamsi')"
   ]
  },
  {
   "cell_type": "code",
   "execution_count": 107,
   "id": "9ce57b6a",
   "metadata": {},
   "outputs": [
    {
     "ename": "SyntaxError",
     "evalue": "positional argument follows keyword argument (<ipython-input-107-eaee18426a3c>, line 1)",
     "output_type": "error",
     "traceback": [
      "\u001b[1;36m  File \u001b[1;32m\"<ipython-input-107-eaee18426a3c>\"\u001b[1;36m, line \u001b[1;32m1\u001b[0m\n\u001b[1;33m    test(a=100,b='nallam',10,20)\u001b[0m\n\u001b[1;37m                          ^\u001b[0m\n\u001b[1;31mSyntaxError\u001b[0m\u001b[1;31m:\u001b[0m positional argument follows keyword argument\n"
     ]
    }
   ],
   "source": [
    "test(a=100,b='nallam',10,20)"
   ]
  },
  {
   "cell_type": "code",
   "execution_count": 113,
   "id": "aef966c9",
   "metadata": {},
   "outputs": [],
   "source": [
    "def test1(q,*args):\n",
    "    print(args,q)"
   ]
  },
  {
   "cell_type": "code",
   "execution_count": 114,
   "id": "a494e4c4",
   "metadata": {},
   "outputs": [
    {
     "name": "stdout",
     "output_type": "stream",
     "text": [
      "(20, 100) 10\n"
     ]
    }
   ],
   "source": [
    "test1(10,20,100)"
   ]
  },
  {
   "cell_type": "code",
   "execution_count": 2,
   "id": "1218111d",
   "metadata": {},
   "outputs": [
    {
     "name": "stdout",
     "output_type": "stream",
     "text": [
      "22\n",
      "100\n"
     ]
    }
   ],
   "source": [
    "v=100\n",
    "def vamsi(a,b):\n",
    "    v=a*b\n",
    "    print(v)\n",
    "vamsi(11,2)\n",
    "print(v)"
   ]
  },
  {
   "cell_type": "code",
   "execution_count": 6,
   "id": "2518865e",
   "metadata": {},
   "outputs": [
    {
     "name": "stdout",
     "output_type": "stream",
     "text": [
      "22\n",
      "100\n",
      "100\n"
     ]
    }
   ],
   "source": [
    "v1=100\n",
    "def vamsi1(a,b):\n",
    "    \"\"\" \n",
    "    a function for seeing priority of local and global variables\n",
    "    \"\"\"\n",
    "    r=a*b\n",
    "    print(r)\n",
    "    print(v1)\n",
    "vamsi1(11,2)\n",
    "print(v1)"
   ]
  },
  {
   "cell_type": "code",
   "execution_count": 7,
   "id": "2ac00a5a",
   "metadata": {},
   "outputs": [
    {
     "data": {
      "text/plain": [
       "100"
      ]
     },
     "execution_count": 7,
     "metadata": {},
     "output_type": "execute_result"
    }
   ],
   "source": [
    "v1"
   ]
  },
  {
   "cell_type": "code",
   "execution_count": 8,
   "id": "a63b3680",
   "metadata": {},
   "outputs": [],
   "source": [
    "def raja():\n",
    "    '''\n",
    "    hii alllll '''\n",
    "    print(\"hi all\")"
   ]
  },
  {
   "cell_type": "code",
   "execution_count": 9,
   "id": "c91531d1",
   "metadata": {},
   "outputs": [
    {
     "name": "stdout",
     "output_type": "stream",
     "text": [
      "hi all\n"
     ]
    }
   ],
   "source": [
    "raja()"
   ]
  },
  {
   "cell_type": "code",
   "execution_count": 15,
   "id": "6f71c446",
   "metadata": {},
   "outputs": [],
   "source": [
    "x=lambda a,b:print(a,b)"
   ]
  },
  {
   "cell_type": "code",
   "execution_count": 16,
   "id": "d2d0a4e6",
   "metadata": {},
   "outputs": [
    {
     "name": "stdout",
     "output_type": "stream",
     "text": [
      "10 20\n"
     ]
    }
   ],
   "source": [
    "x(10,20)"
   ]
  },
  {
   "cell_type": "code",
   "execution_count": null,
   "id": "26ba8c54",
   "metadata": {},
   "outputs": [],
   "source": []
  }
 ],
 "metadata": {
  "kernelspec": {
   "display_name": "Python 3 (ipykernel)",
   "language": "python",
   "name": "python3"
  },
  "language_info": {
   "codemirror_mode": {
    "name": "ipython",
    "version": 3
   },
   "file_extension": ".py",
   "mimetype": "text/x-python",
   "name": "python",
   "nbconvert_exporter": "python",
   "pygments_lexer": "ipython3",
   "version": "3.8.11"
  }
 },
 "nbformat": 4,
 "nbformat_minor": 5
}
