{
 "cells": [
  {
   "cell_type": "code",
   "execution_count": 1,
   "id": "e7295f62",
   "metadata": {},
   "outputs": [
    {
     "data": {
      "text/plain": [
       "'C:\\\\Users\\\\91868'"
      ]
     },
     "execution_count": 1,
     "metadata": {},
     "output_type": "execute_result"
    }
   ],
   "source": [
    "pwd()"
   ]
  },
  {
   "cell_type": "code",
   "execution_count": 2,
   "id": "fa06e5fc",
   "metadata": {},
   "outputs": [],
   "source": [
    "import math"
   ]
  },
  {
   "cell_type": "code",
   "execution_count": 3,
   "id": "8827d853",
   "metadata": {},
   "outputs": [
    {
     "data": {
      "text/plain": [
       "2.302585092994046"
      ]
     },
     "execution_count": 3,
     "metadata": {},
     "output_type": "execute_result"
    }
   ],
   "source": [
    "math.log(10)"
   ]
  },
  {
   "cell_type": "code",
   "execution_count": 4,
   "id": "3269d5d3",
   "metadata": {},
   "outputs": [
    {
     "data": {
      "text/plain": [
       "2.302585092994046"
      ]
     },
     "execution_count": 4,
     "metadata": {},
     "output_type": "execute_result"
    }
   ],
   "source": [
    "from math import log\n",
    "log(10)"
   ]
  },
  {
   "cell_type": "code",
   "execution_count": 5,
   "id": "a67ad0a6",
   "metadata": {},
   "outputs": [
    {
     "data": {
      "text/plain": [
       "2.995732273553991"
      ]
     },
     "execution_count": 5,
     "metadata": {},
     "output_type": "execute_result"
    }
   ],
   "source": [
    "log(20)"
   ]
  },
  {
   "cell_type": "code",
   "execution_count": 6,
   "id": "ec5bd4a4",
   "metadata": {},
   "outputs": [],
   "source": [
    "from math import *"
   ]
  },
  {
   "cell_type": "code",
   "execution_count": 7,
   "id": "3b83f7a6",
   "metadata": {},
   "outputs": [
    {
     "data": {
      "text/plain": [
       "10.0"
      ]
     },
     "execution_count": 7,
     "metadata": {},
     "output_type": "execute_result"
    }
   ],
   "source": [
    "sqrt(100)"
   ]
  },
  {
   "cell_type": "code",
   "execution_count": 8,
   "id": "6b423a83",
   "metadata": {},
   "outputs": [
    {
     "name": "stdout",
     "output_type": "stream",
     "text": [
      "3.141592653589793\n"
     ]
    }
   ],
   "source": [
    "print(pi)"
   ]
  },
  {
   "cell_type": "code",
   "execution_count": 9,
   "id": "bf8c0872",
   "metadata": {},
   "outputs": [
    {
     "name": "stdout",
     "output_type": "stream",
     "text": [
      "this is my first test module\n"
     ]
    }
   ],
   "source": [
    "import testmodule"
   ]
  },
  {
   "cell_type": "code",
   "execution_count": 10,
   "id": "0fac9d37",
   "metadata": {},
   "outputs": [],
   "source": [
    "import testmodule"
   ]
  },
  {
   "cell_type": "code",
   "execution_count": 11,
   "id": "1ef93180",
   "metadata": {},
   "outputs": [],
   "source": [
    "import imp"
   ]
  },
  {
   "cell_type": "code",
   "execution_count": 14,
   "id": "533bb744",
   "metadata": {},
   "outputs": [
    {
     "name": "stdout",
     "output_type": "stream",
     "text": [
      "this is my first test module\n"
     ]
    },
    {
     "data": {
      "text/plain": [
       "<module 'testmodule' from 'C:\\\\Users\\\\91868\\\\testmodule.py'>"
      ]
     },
     "execution_count": 14,
     "metadata": {},
     "output_type": "execute_result"
    }
   ],
   "source": [
    "imp.reload(testmodule)"
   ]
  },
  {
   "cell_type": "code",
   "execution_count": 15,
   "id": "d44ce240",
   "metadata": {},
   "outputs": [],
   "source": [
    "import testmodule"
   ]
  },
  {
   "cell_type": "code",
   "execution_count": 19,
   "id": "68459747",
   "metadata": {},
   "outputs": [],
   "source": [
    "import os"
   ]
  },
  {
   "cell_type": "code",
   "execution_count": 20,
   "id": "04e03c82",
   "metadata": {},
   "outputs": [],
   "source": [
    "os.chdir('C:\\\\Users\\\\91868\\\\Downloads')"
   ]
  },
  {
   "cell_type": "code",
   "execution_count": 21,
   "id": "edde4738",
   "metadata": {},
   "outputs": [
    {
     "data": {
      "text/plain": [
       "'C:\\\\Users\\\\91868\\\\Downloads'"
      ]
     },
     "execution_count": 21,
     "metadata": {},
     "output_type": "execute_result"
    }
   ],
   "source": [
    "pwd()"
   ]
  },
  {
   "cell_type": "code",
   "execution_count": 22,
   "id": "475fb03d",
   "metadata": {},
   "outputs": [],
   "source": [
    "import addition"
   ]
  },
  {
   "cell_type": "code",
   "execution_count": 23,
   "id": "a2add609",
   "metadata": {},
   "outputs": [
    {
     "data": {
      "text/plain": [
       "30"
      ]
     },
     "execution_count": 23,
     "metadata": {},
     "output_type": "execute_result"
    }
   ],
   "source": [
    "addition.addition(10,20)"
   ]
  },
  {
   "cell_type": "code",
   "execution_count": 24,
   "id": "13e045f6",
   "metadata": {},
   "outputs": [],
   "source": [
    "os.chdir('C:\\\\Users\\\\91868')"
   ]
  },
  {
   "cell_type": "code",
   "execution_count": 25,
   "id": "924f32a0",
   "metadata": {},
   "outputs": [],
   "source": [
    "x=100"
   ]
  },
  {
   "cell_type": "code",
   "execution_count": 26,
   "id": "4805bdcc",
   "metadata": {},
   "outputs": [],
   "source": [
    "s=type(x)"
   ]
  },
  {
   "cell_type": "code",
   "execution_count": 27,
   "id": "9c0b8903",
   "metadata": {},
   "outputs": [
    {
     "data": {
      "text/plain": [
       "int"
      ]
     },
     "execution_count": 27,
     "metadata": {},
     "output_type": "execute_result"
    }
   ],
   "source": [
    "s"
   ]
  },
  {
   "cell_type": "code",
   "execution_count": 28,
   "id": "1f4b0995",
   "metadata": {},
   "outputs": [],
   "source": [
    "v=s(10.111)"
   ]
  },
  {
   "cell_type": "code",
   "execution_count": 29,
   "id": "18c3c2ed",
   "metadata": {},
   "outputs": [
    {
     "data": {
      "text/plain": [
       "10"
      ]
     },
     "execution_count": 29,
     "metadata": {},
     "output_type": "execute_result"
    }
   ],
   "source": [
    "v"
   ]
  },
  {
   "cell_type": "code",
   "execution_count": 30,
   "id": "78e325be",
   "metadata": {},
   "outputs": [],
   "source": [
    "import module1"
   ]
  },
  {
   "cell_type": "code",
   "execution_count": 32,
   "id": "7ae43e34",
   "metadata": {},
   "outputs": [
    {
     "data": {
      "text/plain": [
       "{'name': 'Ineuron Full Stack DataScience',\n",
       " 'courselist': ['python', 'ML', 'Dl', 'NLP', 'CV', 'DSA', 'BD'],\n",
       " 'cost': 18000,\n",
       " 'timimg': '3:00 PM to 6:00 PM on SAT & SUN',\n",
       " 'msg': 'this is my course'}"
      ]
     },
     "execution_count": 32,
     "metadata": {},
     "output_type": "execute_result"
    }
   ],
   "source": [
    "module1.data"
   ]
  },
  {
   "cell_type": "code",
   "execution_count": 33,
   "id": "8fa31c17",
   "metadata": {},
   "outputs": [
    {
     "data": {
      "text/plain": [
       "['python', 'ML', 'Dl', 'NLP', 'CV', 'DSA', 'BD']"
      ]
     },
     "execution_count": 33,
     "metadata": {},
     "output_type": "execute_result"
    }
   ],
   "source": [
    "module1.my_courselist()"
   ]
  },
  {
   "cell_type": "code",
   "execution_count": 34,
   "id": "c228d5a5",
   "metadata": {},
   "outputs": [],
   "source": [
    "import module1"
   ]
  },
  {
   "cell_type": "code",
   "execution_count": 35,
   "id": "3c61efdc",
   "metadata": {},
   "outputs": [],
   "source": [
    "import module1"
   ]
  },
  {
   "cell_type": "code",
   "execution_count": 37,
   "id": "eafc999f",
   "metadata": {},
   "outputs": [
    {
     "name": "stdout",
     "output_type": "stream",
     "text": [
      "u r in module1\n"
     ]
    },
    {
     "data": {
      "text/plain": [
       "<module 'module1' from 'C:\\\\Users\\\\91868\\\\module1.py'>"
      ]
     },
     "execution_count": 37,
     "metadata": {},
     "output_type": "execute_result"
    }
   ],
   "source": [
    "imp.reload(module1)"
   ]
  },
  {
   "cell_type": "code",
   "execution_count": 38,
   "id": "2ccfb96c",
   "metadata": {},
   "outputs": [],
   "source": [
    "from module1 import coursename"
   ]
  },
  {
   "cell_type": "code",
   "execution_count": 39,
   "id": "c90aab91",
   "metadata": {},
   "outputs": [
    {
     "data": {
      "text/plain": [
       "'Ineuron Full Stack DataScience'"
      ]
     },
     "execution_count": 39,
     "metadata": {},
     "output_type": "execute_result"
    }
   ],
   "source": [
    "coursename()"
   ]
  },
  {
   "cell_type": "code",
   "execution_count": 41,
   "id": "d210d36a",
   "metadata": {},
   "outputs": [],
   "source": [
    "f=open('justfortrial.py','w')\n",
    "f.write('print(\"this is new file\")')\n",
    "f.close()"
   ]
  },
  {
   "cell_type": "code",
   "execution_count": 42,
   "id": "58bd39f7",
   "metadata": {},
   "outputs": [
    {
     "data": {
      "text/plain": [
       "'print(\"this is new file\")\\ndef test():\\n    print(\\'this is test function\\')'"
      ]
     },
     "execution_count": 42,
     "metadata": {},
     "output_type": "execute_result"
    }
   ],
   "source": [
    "f=open(\"justfortrial.py\",'r')\n",
    "f.read()"
   ]
  },
  {
   "cell_type": "code",
   "execution_count": 43,
   "id": "fff24d6c",
   "metadata": {},
   "outputs": [],
   "source": [
    "f.close()"
   ]
  },
  {
   "cell_type": "code",
   "execution_count": 44,
   "id": "4d9b594f",
   "metadata": {},
   "outputs": [
    {
     "name": "stdout",
     "output_type": "stream",
     "text": [
      "this is new file\n"
     ]
    }
   ],
   "source": [
    "import justfortrial"
   ]
  },
  {
   "cell_type": "code",
   "execution_count": 45,
   "id": "65c619a4",
   "metadata": {},
   "outputs": [
    {
     "name": "stdout",
     "output_type": "stream",
     "text": [
      "this is test function\n"
     ]
    }
   ],
   "source": [
    "justfortrial.test()"
   ]
  },
  {
   "cell_type": "code",
   "execution_count": 54,
   "id": "67527251",
   "metadata": {},
   "outputs": [
    {
     "data": {
      "text/plain": [
       "1"
      ]
     },
     "execution_count": 54,
     "metadata": {},
     "output_type": "execute_result"
    }
   ],
   "source": [
    "len(\"\t\")"
   ]
  },
  {
   "cell_type": "code",
   "execution_count": 51,
   "id": "c02a7c1a",
   "metadata": {},
   "outputs": [
    {
     "data": {
      "text/plain": [
       "1"
      ]
     },
     "execution_count": 51,
     "metadata": {},
     "output_type": "execute_result"
    }
   ],
   "source": [
    "len('\\t')"
   ]
  },
  {
   "cell_type": "code",
   "execution_count": 52,
   "id": "69adb12b",
   "metadata": {},
   "outputs": [
    {
     "name": "stdout",
     "output_type": "stream",
     "text": [
      "hi\tall\n"
     ]
    }
   ],
   "source": [
    "print('hi\\tall')"
   ]
  },
  {
   "cell_type": "code",
   "execution_count": 53,
   "id": "715b6607",
   "metadata": {},
   "outputs": [
    {
     "data": {
      "text/plain": [
       "6"
      ]
     },
     "execution_count": 53,
     "metadata": {},
     "output_type": "execute_result"
    }
   ],
   "source": [
    "len('hi\\tall')"
   ]
  },
  {
   "cell_type": "code",
   "execution_count": 55,
   "id": "5a4a2320",
   "metadata": {},
   "outputs": [
    {
     "data": {
      "text/plain": [
       "1"
      ]
     },
     "execution_count": 55,
     "metadata": {},
     "output_type": "execute_result"
    }
   ],
   "source": [
    "len('\t')"
   ]
  },
  {
   "cell_type": "code",
   "execution_count": 56,
   "id": "9419b9ca",
   "metadata": {},
   "outputs": [
    {
     "data": {
      "text/plain": [
       "4"
      ]
     },
     "execution_count": 56,
     "metadata": {},
     "output_type": "execute_result"
    }
   ],
   "source": [
    "len('    ')"
   ]
  },
  {
   "cell_type": "code",
   "execution_count": 57,
   "id": "84221b4a",
   "metadata": {},
   "outputs": [
    {
     "data": {
      "text/plain": [
       "4"
      ]
     },
     "execution_count": 57,
     "metadata": {},
     "output_type": "execute_result"
    }
   ],
   "source": [
    "len('    ')"
   ]
  },
  {
   "cell_type": "code",
   "execution_count": 58,
   "id": "f32fac70",
   "metadata": {},
   "outputs": [],
   "source": [
    "import os"
   ]
  },
  {
   "cell_type": "code",
   "execution_count": 59,
   "id": "e27c658b",
   "metadata": {},
   "outputs": [],
   "source": [
    "import shutil"
   ]
  },
  {
   "cell_type": "code",
   "execution_count": 68,
   "id": "0dfe37f1",
   "metadata": {},
   "outputs": [],
   "source": [
    "#\\ndef test():\\n    print(\\'this is test function\\')\n",
    "os.mkdir('testdir')\n",
    "os.chdir('./testdir')\n",
    "f_fname='mod'\n",
    "f_ext='.py'\n",
    "for i in range(1,4):\n",
    "    f_name=f_fname+str(i)+f_ext\n",
    "    f=open(f_name,'w')\n",
    "    f.write(\"this is {} file\\n\\n\".format(f_name))\n",
    "    f.close()\n",
    "    f1=open(f_name,'a')\n",
    "    for j in range(1,4):\n",
    "        fn_name='fn'+str(i)+str(j)\n",
    "        f1.write('\\ndef {}():\\n    print(\\\"this is {} function\\\")'.format(fn_name,fn_name))\n",
    "    f1.close()"
   ]
  },
  {
   "cell_type": "code",
   "execution_count": 65,
   "id": "d32775bc",
   "metadata": {},
   "outputs": [],
   "source": [
    "f1.close()"
   ]
  },
  {
   "cell_type": "code",
   "execution_count": 69,
   "id": "c0183eaa",
   "metadata": {},
   "outputs": [
    {
     "data": {
      "text/plain": [
       "'C:\\\\Users\\\\91868\\\\testdir'"
      ]
     },
     "execution_count": 69,
     "metadata": {},
     "output_type": "execute_result"
    }
   ],
   "source": [
    "pwd()"
   ]
  },
  {
   "cell_type": "code",
   "execution_count": 80,
   "id": "6088b6da",
   "metadata": {},
   "outputs": [],
   "source": [
    "os.chdir('C:\\\\Users\\\\91868\\\\')"
   ]
  },
  {
   "cell_type": "code",
   "execution_count": 71,
   "id": "24cfdc81",
   "metadata": {},
   "outputs": [
    {
     "data": {
      "text/plain": [
       "'C:\\\\Users\\\\91868'"
      ]
     },
     "execution_count": 71,
     "metadata": {},
     "output_type": "execute_result"
    }
   ],
   "source": [
    "pwd()"
   ]
  },
  {
   "cell_type": "code",
   "execution_count": 72,
   "id": "9461ffb6",
   "metadata": {},
   "outputs": [],
   "source": [
    "os.mkdir('TESTOUT')\n",
    "os.chdir(\"./TESTOUT\")"
   ]
  },
  {
   "cell_type": "code",
   "execution_count": 73,
   "id": "8f216a60",
   "metadata": {},
   "outputs": [
    {
     "data": {
      "text/plain": [
       "'C:\\\\Users\\\\91868\\\\TESTOUT\\\\testdir'"
      ]
     },
     "execution_count": 73,
     "metadata": {},
     "output_type": "execute_result"
    }
   ],
   "source": [
    "shutil.move('C:\\\\Users\\\\91868\\\\testdir',os.getcwd())"
   ]
  },
  {
   "cell_type": "code",
   "execution_count": 74,
   "id": "080f06b5",
   "metadata": {},
   "outputs": [
    {
     "data": {
      "text/plain": [
       "'C:\\\\Users\\\\91868\\\\TESTOUT'"
      ]
     },
     "execution_count": 74,
     "metadata": {},
     "output_type": "execute_result"
    }
   ],
   "source": [
    "pwd()"
   ]
  },
  {
   "cell_type": "code",
   "execution_count": 79,
   "id": "a9e035a3",
   "metadata": {},
   "outputs": [
    {
     "name": "stdout",
     "output_type": "stream",
     "text": [
      "mod1\n",
      "import mod1\n",
      "\n",
      "mod2\n",
      "import mod2\n",
      "\n",
      "mod3\n",
      "import mod3\n",
      "\n"
     ]
    }
   ],
   "source": [
    "f=open('jupyternb.ipynb','a')\n",
    "for i in os.listdir('C:\\\\Users\\\\91868\\\\TESTOUT\\\\testdir'):\n",
    "    s=i.split('.')\n",
    "    print(s[0])\n",
    "    print('import '+s[0]+'\\n')\n",
    "    f.write('import '+s[0]+'\\n')\n",
    "f.close()"
   ]
  },
  {
   "cell_type": "code",
   "execution_count": 81,
   "id": "0027a1e5",
   "metadata": {},
   "outputs": [],
   "source": [
    "import os , shutil"
   ]
  },
  {
   "cell_type": "code",
   "execution_count": 82,
   "id": "5680665d",
   "metadata": {},
   "outputs": [],
   "source": [
    "os.chdir('C:\\\\Users\\\\91868')"
   ]
  },
  {
   "cell_type": "code",
   "execution_count": 83,
   "id": "49ae1844",
   "metadata": {},
   "outputs": [],
   "source": [
    "orig=os.getcwd()"
   ]
  },
  {
   "cell_type": "code",
   "execution_count": 84,
   "id": "6b937174",
   "metadata": {},
   "outputs": [
    {
     "data": {
      "text/plain": [
       "'C:\\\\Users\\\\91868'"
      ]
     },
     "execution_count": 84,
     "metadata": {},
     "output_type": "execute_result"
    }
   ],
   "source": [
    "orig"
   ]
  },
  {
   "cell_type": "code",
   "execution_count": 85,
   "id": "e47d0ba3",
   "metadata": {},
   "outputs": [
    {
     "data": {
      "text/plain": [
       "'after executing this code we will get TESTMOD directory in which there will be testdir directory in which\\n   we will have 3 .py files in each of which we will have 3 functions . '"
      ]
     },
     "execution_count": 85,
     "metadata": {},
     "output_type": "execute_result"
    }
   ],
   "source": [
    "#\\ndef test():\\n    print(\\'this is test function\\')\n",
    "import os , shutil\n",
    "orig=os.getcwd()\n",
    "os.mkdir('testdir') #create a directory\n",
    "os.chdir('./testdir') #transfer control to that directory\n",
    "f_fname='mod'\n",
    "f_ext='.py'\n",
    "for i in range(1,4):#for creating and writing in 3 files.\n",
    "    f_name=f_fname+str(i)+f_ext\n",
    "    f=open(f_name,'w') #opening a .py file\n",
    "    f.write(\"this is {} file\\n\\n\".format(f_name)) #writing a simple print statment to it\n",
    "    f.close() #closing the file\n",
    "    f1=open(f_name,'a') #opening the same file in append mode\n",
    "    for j in range(1,4): #for writing 3 functions in the file\n",
    "        fn_name='fn'+str(i)+str(j)\n",
    "        f1.write('\\ndef {}():\\n    print(\\\"this is {} function\\\")'.format(fn_name,fn_name))#creating fn and writing in it\n",
    "    f1.close()#closing the file\n",
    "os.chdir(orig) #moving control back to original directory from testdir.\n",
    "os.mkdir('TESTMOD') #creating a new directory TESTMOD\n",
    "os.chdir('./TESTMOD') #transfer control to TESTMOD\n",
    "shutil.move(orig+'\\\\testdir',os.getcwd())#moving testdir into TESTMOD\n",
    "os.chdir(orig) #moving control back to original directory\n",
    "\n",
    "\"\"\"after executing this code we will get TESTMOD directory in which there will be testdir directory in which\n",
    "   we will have 3 .py files in each of which we will have 3 functions . \"\"\""
   ]
  },
  {
   "cell_type": "code",
   "execution_count": 86,
   "id": "5312acce",
   "metadata": {},
   "outputs": [
    {
     "data": {
      "text/plain": [
       "'C:\\\\Users\\\\91868'"
      ]
     },
     "execution_count": 86,
     "metadata": {},
     "output_type": "execute_result"
    }
   ],
   "source": [
    "pwd()"
   ]
  },
  {
   "cell_type": "code",
   "execution_count": 87,
   "id": "c2c0915c",
   "metadata": {},
   "outputs": [],
   "source": [
    "import os , shutil\n",
    "orig=os.getcwd()\n",
    "os.mkdir('testdir1')\n",
    "os.chdir('./testdir1')\n",
    "f_fname,f_ext='mod','.py'\n",
    "for i in range(1,4):\n",
    "    f_name=f_fname+str(i)+f_ext\n",
    "    f1=open(f_name,'a') \n",
    "    for j in range(1,4):\n",
    "        fn_name='fn'+str(i)+str(j)\n",
    "        f1.write('\\ndef {}():\\n    print(\\\"this is {} function\\\")'.format(fn_name,fn_name))\n",
    "    f1.close()\n",
    "os.chdir(orig)\n",
    "os.mkdir('TESTMOD1')\n",
    "os.chdir('./TESTMOD1')\n",
    "shutil.move(orig+'\\\\testdir1',os.getcwd())\n",
    "os.chdir(orig)"
   ]
  },
  {
   "cell_type": "code",
   "execution_count": 98,
   "id": "fa85eaf2",
   "metadata": {},
   "outputs": [],
   "source": [
    "os.chdir('C:\\\\Users\\\\91868\\\\TESTMOD1\\\\testdir1\\\\')"
   ]
  },
  {
   "cell_type": "code",
   "execution_count": 99,
   "id": "72acf68b",
   "metadata": {},
   "outputs": [
    {
     "data": {
      "text/plain": [
       "'C:\\\\Users\\\\91868\\\\TESTMOD1\\\\testdir1'"
      ]
     },
     "execution_count": 99,
     "metadata": {},
     "output_type": "execute_result"
    }
   ],
   "source": [
    "pwd()"
   ]
  },
  {
   "cell_type": "code",
   "execution_count": 100,
   "id": "af0bf84e",
   "metadata": {},
   "outputs": [],
   "source": [
    "import mod2"
   ]
  },
  {
   "cell_type": "code",
   "execution_count": 101,
   "id": "3201fcf0",
   "metadata": {},
   "outputs": [
    {
     "name": "stdout",
     "output_type": "stream",
     "text": [
      "this is fn21 function\n"
     ]
    }
   ],
   "source": [
    "mod2.fn21()"
   ]
  },
  {
   "cell_type": "code",
   "execution_count": 102,
   "id": "35f769de",
   "metadata": {},
   "outputs": [],
   "source": [
    "os.chdir(orig)"
   ]
  },
  {
   "cell_type": "code",
   "execution_count": 104,
   "id": "8afc3001",
   "metadata": {},
   "outputs": [
    {
     "data": {
      "text/plain": [
       "'C:\\\\Users\\\\91868'"
      ]
     },
     "execution_count": 104,
     "metadata": {},
     "output_type": "execute_result"
    }
   ],
   "source": [
    "pwd()"
   ]
  },
  {
   "cell_type": "code",
   "execution_count": 1,
   "id": "8e656a3d",
   "metadata": {},
   "outputs": [],
   "source": [
    "import os"
   ]
  },
  {
   "cell_type": "code",
   "execution_count": 2,
   "id": "e920c9ce",
   "metadata": {},
   "outputs": [
    {
     "data": {
      "text/plain": [
       "'C:\\\\Users\\\\91868'"
      ]
     },
     "execution_count": 2,
     "metadata": {},
     "output_type": "execute_result"
    }
   ],
   "source": [
    "os.getcwd()"
   ]
  },
  {
   "cell_type": "markdown",
   "id": "3480fd40",
   "metadata": {},
   "source": [
    "EXCEPTION HANDLING"
   ]
  },
  {
   "cell_type": "code",
   "execution_count": 3,
   "id": "da99ef4f",
   "metadata": {},
   "outputs": [
    {
     "ename": "SyntaxError",
     "evalue": "EOL while scanning string literal (<ipython-input-3-51d59883f357>, line 1)",
     "output_type": "error",
     "traceback": [
      "\u001b[1;36m  File \u001b[1;32m\"<ipython-input-3-51d59883f357>\"\u001b[1;36m, line \u001b[1;32m1\u001b[0m\n\u001b[1;33m    print('db dcnckdccind)\u001b[0m\n\u001b[1;37m                          ^\u001b[0m\n\u001b[1;31mSyntaxError\u001b[0m\u001b[1;31m:\u001b[0m EOL while scanning string literal\n"
     ]
    }
   ],
   "source": [
    "print('db dcnckdccind)"
   ]
  },
  {
   "cell_type": "code",
   "execution_count": 6,
   "id": "fb9f038c",
   "metadata": {},
   "outputs": [
    {
     "ename": "ZeroDivisionError",
     "evalue": "division by zero",
     "output_type": "error",
     "traceback": [
      "\u001b[1;31m---------------------------------------------------------------------------\u001b[0m",
      "\u001b[1;31mZeroDivisionError\u001b[0m                         Traceback (most recent call last)",
      "\u001b[1;32m<ipython-input-6-e10c95e08f79>\u001b[0m in \u001b[0;36m<module>\u001b[1;34m\u001b[0m\n\u001b[0;32m      1\u001b[0m \u001b[1;32mdef\u001b[0m \u001b[0mdiv\u001b[0m\u001b[1;33m(\u001b[0m\u001b[0ma\u001b[0m\u001b[1;33m,\u001b[0m\u001b[0mb\u001b[0m\u001b[1;33m)\u001b[0m\u001b[1;33m:\u001b[0m\u001b[1;33m\u001b[0m\u001b[1;33m\u001b[0m\u001b[0m\n\u001b[0;32m      2\u001b[0m     \u001b[1;32mreturn\u001b[0m \u001b[0ma\u001b[0m\u001b[1;33m/\u001b[0m\u001b[0mb\u001b[0m\u001b[1;33m\u001b[0m\u001b[1;33m\u001b[0m\u001b[0m\n\u001b[1;32m----> 3\u001b[1;33m \u001b[0mdiv\u001b[0m\u001b[1;33m(\u001b[0m\u001b[1;36m4\u001b[0m\u001b[1;33m,\u001b[0m\u001b[1;36m0\u001b[0m\u001b[1;33m)\u001b[0m\u001b[1;33m\u001b[0m\u001b[1;33m\u001b[0m\u001b[0m\n\u001b[0m",
      "\u001b[1;32m<ipython-input-6-e10c95e08f79>\u001b[0m in \u001b[0;36mdiv\u001b[1;34m(a, b)\u001b[0m\n\u001b[0;32m      1\u001b[0m \u001b[1;32mdef\u001b[0m \u001b[0mdiv\u001b[0m\u001b[1;33m(\u001b[0m\u001b[0ma\u001b[0m\u001b[1;33m,\u001b[0m\u001b[0mb\u001b[0m\u001b[1;33m)\u001b[0m\u001b[1;33m:\u001b[0m\u001b[1;33m\u001b[0m\u001b[1;33m\u001b[0m\u001b[0m\n\u001b[1;32m----> 2\u001b[1;33m     \u001b[1;32mreturn\u001b[0m \u001b[0ma\u001b[0m\u001b[1;33m/\u001b[0m\u001b[0mb\u001b[0m\u001b[1;33m\u001b[0m\u001b[1;33m\u001b[0m\u001b[0m\n\u001b[0m\u001b[0;32m      3\u001b[0m \u001b[0mdiv\u001b[0m\u001b[1;33m(\u001b[0m\u001b[1;36m4\u001b[0m\u001b[1;33m,\u001b[0m\u001b[1;36m0\u001b[0m\u001b[1;33m)\u001b[0m\u001b[1;33m\u001b[0m\u001b[1;33m\u001b[0m\u001b[0m\n",
      "\u001b[1;31mZeroDivisionError\u001b[0m: division by zero"
     ]
    }
   ],
   "source": [
    "def div(a,b):\n",
    "    return a/b\n",
    "div(4,0)"
   ]
  },
  {
   "cell_type": "code",
   "execution_count": 7,
   "id": "6a5940a5",
   "metadata": {},
   "outputs": [],
   "source": [
    "a=10"
   ]
  },
  {
   "cell_type": "code",
   "execution_count": 9,
   "id": "5b6cae2c",
   "metadata": {},
   "outputs": [
    {
     "data": {
      "text/plain": [
       "140727130925136"
      ]
     },
     "execution_count": 9,
     "metadata": {},
     "output_type": "execute_result"
    }
   ],
   "source": [
    "id(a)"
   ]
  },
  {
   "cell_type": "code",
   "execution_count": 10,
   "id": "812ec507",
   "metadata": {},
   "outputs": [],
   "source": [
    "a=20"
   ]
  },
  {
   "cell_type": "code",
   "execution_count": 11,
   "id": "4cf7afe3",
   "metadata": {},
   "outputs": [
    {
     "data": {
      "text/plain": [
       "140727130925456"
      ]
     },
     "execution_count": 11,
     "metadata": {},
     "output_type": "execute_result"
    }
   ],
   "source": [
    "id(a)"
   ]
  },
  {
   "cell_type": "code",
   "execution_count": 12,
   "id": "c43f5ed7",
   "metadata": {},
   "outputs": [],
   "source": [
    "a=a+1"
   ]
  },
  {
   "cell_type": "code",
   "execution_count": 13,
   "id": "e24bf0ae",
   "metadata": {},
   "outputs": [
    {
     "data": {
      "text/plain": [
       "21"
      ]
     },
     "execution_count": 13,
     "metadata": {},
     "output_type": "execute_result"
    }
   ],
   "source": [
    "a"
   ]
  },
  {
   "cell_type": "code",
   "execution_count": 14,
   "id": "22f58816",
   "metadata": {},
   "outputs": [
    {
     "data": {
      "text/plain": [
       "140727130925488"
      ]
     },
     "execution_count": 14,
     "metadata": {},
     "output_type": "execute_result"
    }
   ],
   "source": [
    "id(a)"
   ]
  },
  {
   "cell_type": "code",
   "execution_count": 15,
   "id": "784e9975",
   "metadata": {},
   "outputs": [
    {
     "data": {
      "text/plain": [
       "140727130925136"
      ]
     },
     "execution_count": 15,
     "metadata": {},
     "output_type": "execute_result"
    }
   ],
   "source": [
    "b=10\n",
    "id(b)"
   ]
  },
  {
   "cell_type": "code",
   "execution_count": 17,
   "id": "08f7e8b2",
   "metadata": {},
   "outputs": [],
   "source": [
    "c=100"
   ]
  },
  {
   "cell_type": "code",
   "execution_count": 18,
   "id": "222462e1",
   "metadata": {},
   "outputs": [
    {
     "data": {
      "text/plain": [
       "140727130928016"
      ]
     },
     "execution_count": 18,
     "metadata": {},
     "output_type": "execute_result"
    }
   ],
   "source": [
    "id(c)"
   ]
  },
  {
   "cell_type": "code",
   "execution_count": 19,
   "id": "cb100df9",
   "metadata": {},
   "outputs": [],
   "source": [
    "def test(x):\n",
    "    s=x[::-1]\n",
    "    return s"
   ]
  },
  {
   "cell_type": "code",
   "execution_count": 20,
   "id": "fba9d5ae",
   "metadata": {},
   "outputs": [
    {
     "data": {
      "text/plain": [
       "'ismav'"
      ]
     },
     "execution_count": 20,
     "metadata": {},
     "output_type": "execute_result"
    }
   ],
   "source": [
    "test('vamsi')"
   ]
  },
  {
   "cell_type": "code",
   "execution_count": 21,
   "id": "5e1af697",
   "metadata": {},
   "outputs": [
    {
     "ename": "TypeError",
     "evalue": "'int' object is not subscriptable",
     "output_type": "error",
     "traceback": [
      "\u001b[1;31m---------------------------------------------------------------------------\u001b[0m",
      "\u001b[1;31mTypeError\u001b[0m                                 Traceback (most recent call last)",
      "\u001b[1;32m<ipython-input-21-5d40cec2ad68>\u001b[0m in \u001b[0;36m<module>\u001b[1;34m\u001b[0m\n\u001b[1;32m----> 1\u001b[1;33m \u001b[0mtest\u001b[0m\u001b[1;33m(\u001b[0m\u001b[1;36m100\u001b[0m\u001b[1;33m)\u001b[0m\u001b[1;33m\u001b[0m\u001b[1;33m\u001b[0m\u001b[0m\n\u001b[0m",
      "\u001b[1;32m<ipython-input-19-c69f9328328d>\u001b[0m in \u001b[0;36mtest\u001b[1;34m(x)\u001b[0m\n\u001b[0;32m      1\u001b[0m \u001b[1;32mdef\u001b[0m \u001b[0mtest\u001b[0m\u001b[1;33m(\u001b[0m\u001b[0mx\u001b[0m\u001b[1;33m)\u001b[0m\u001b[1;33m:\u001b[0m\u001b[1;33m\u001b[0m\u001b[1;33m\u001b[0m\u001b[0m\n\u001b[1;32m----> 2\u001b[1;33m     \u001b[0ms\u001b[0m\u001b[1;33m=\u001b[0m\u001b[0mx\u001b[0m\u001b[1;33m[\u001b[0m\u001b[1;33m:\u001b[0m\u001b[1;33m:\u001b[0m\u001b[1;33m-\u001b[0m\u001b[1;36m1\u001b[0m\u001b[1;33m]\u001b[0m\u001b[1;33m\u001b[0m\u001b[1;33m\u001b[0m\u001b[0m\n\u001b[0m\u001b[0;32m      3\u001b[0m     \u001b[1;32mreturn\u001b[0m \u001b[0ms\u001b[0m\u001b[1;33m\u001b[0m\u001b[1;33m\u001b[0m\u001b[0m\n",
      "\u001b[1;31mTypeError\u001b[0m: 'int' object is not subscriptable"
     ]
    }
   ],
   "source": [
    "test(100)"
   ]
  },
  {
   "cell_type": "code",
   "execution_count": 23,
   "id": "f5923db1",
   "metadata": {},
   "outputs": [
    {
     "name": "stdout",
     "output_type": "stream",
     "text": [
      "hi 1\n",
      "hi 2\n",
      "hi 3\n",
      "hi 4\n",
      "hi 5\n",
      "hi 6\n"
     ]
    }
   ],
   "source": [
    "print(\"hi 1\")\n",
    "print(\"hi 2\")\n",
    "print(\"hi 3\")\n",
    "print(\"hi 4\")\n",
    "print(\"hi 5\")\n",
    "print(\"hi 6\")"
   ]
  },
  {
   "cell_type": "code",
   "execution_count": 27,
   "id": "6b06144a",
   "metadata": {},
   "outputs": [],
   "source": [
    "def test1(a,b):\n",
    "    print(\"code starts\")\n",
    "    d=a/b\n",
    "    print(\"just checkkk\")\n",
    "    print(\"iff code is working\")"
   ]
  },
  {
   "cell_type": "code",
   "execution_count": 28,
   "id": "7b4d0569",
   "metadata": {},
   "outputs": [
    {
     "name": "stdout",
     "output_type": "stream",
     "text": [
      "code starts\n",
      "just checkkk\n",
      "iff code is working\n"
     ]
    }
   ],
   "source": [
    "test1(4,5)"
   ]
  },
  {
   "cell_type": "code",
   "execution_count": 29,
   "id": "bbb351f4",
   "metadata": {},
   "outputs": [
    {
     "name": "stdout",
     "output_type": "stream",
     "text": [
      "code starts\n"
     ]
    },
    {
     "ename": "ZeroDivisionError",
     "evalue": "division by zero",
     "output_type": "error",
     "traceback": [
      "\u001b[1;31m---------------------------------------------------------------------------\u001b[0m",
      "\u001b[1;31mZeroDivisionError\u001b[0m                         Traceback (most recent call last)",
      "\u001b[1;32m<ipython-input-29-6d154cbfc871>\u001b[0m in \u001b[0;36m<module>\u001b[1;34m\u001b[0m\n\u001b[1;32m----> 1\u001b[1;33m \u001b[0mtest1\u001b[0m\u001b[1;33m(\u001b[0m\u001b[1;36m2\u001b[0m\u001b[1;33m,\u001b[0m\u001b[1;36m0\u001b[0m\u001b[1;33m)\u001b[0m\u001b[1;33m\u001b[0m\u001b[1;33m\u001b[0m\u001b[0m\n\u001b[0m",
      "\u001b[1;32m<ipython-input-27-6514a0a83197>\u001b[0m in \u001b[0;36mtest1\u001b[1;34m(a, b)\u001b[0m\n\u001b[0;32m      1\u001b[0m \u001b[1;32mdef\u001b[0m \u001b[0mtest1\u001b[0m\u001b[1;33m(\u001b[0m\u001b[0ma\u001b[0m\u001b[1;33m,\u001b[0m\u001b[0mb\u001b[0m\u001b[1;33m)\u001b[0m\u001b[1;33m:\u001b[0m\u001b[1;33m\u001b[0m\u001b[1;33m\u001b[0m\u001b[0m\n\u001b[0;32m      2\u001b[0m     \u001b[0mprint\u001b[0m\u001b[1;33m(\u001b[0m\u001b[1;34m\"code starts\"\u001b[0m\u001b[1;33m)\u001b[0m\u001b[1;33m\u001b[0m\u001b[1;33m\u001b[0m\u001b[0m\n\u001b[1;32m----> 3\u001b[1;33m     \u001b[0md\u001b[0m\u001b[1;33m=\u001b[0m\u001b[0ma\u001b[0m\u001b[1;33m/\u001b[0m\u001b[0mb\u001b[0m\u001b[1;33m\u001b[0m\u001b[1;33m\u001b[0m\u001b[0m\n\u001b[0m\u001b[0;32m      4\u001b[0m     \u001b[0mprint\u001b[0m\u001b[1;33m(\u001b[0m\u001b[1;34m\"just checkkk\"\u001b[0m\u001b[1;33m)\u001b[0m\u001b[1;33m\u001b[0m\u001b[1;33m\u001b[0m\u001b[0m\n\u001b[0;32m      5\u001b[0m     \u001b[0mprint\u001b[0m\u001b[1;33m(\u001b[0m\u001b[1;34m\"iff code is working\"\u001b[0m\u001b[1;33m)\u001b[0m\u001b[1;33m\u001b[0m\u001b[1;33m\u001b[0m\u001b[0m\n",
      "\u001b[1;31mZeroDivisionError\u001b[0m: division by zero"
     ]
    }
   ],
   "source": [
    "test1(2,0)"
   ]
  },
  {
   "cell_type": "code",
   "execution_count": 3,
   "id": "1c4e0970",
   "metadata": {},
   "outputs": [],
   "source": [
    "def test1(a,b):\n",
    "    print(\"code starts\")\n",
    "    try:\n",
    "        d=a/b\n",
    "    except:\n",
    "        pass\n",
    "    print(\"just checkkk\")\n",
    "    print(\"iff code is working\")"
   ]
  },
  {
   "cell_type": "code",
   "execution_count": 4,
   "id": "34f35232",
   "metadata": {},
   "outputs": [
    {
     "name": "stdout",
     "output_type": "stream",
     "text": [
      "code starts\n",
      "just checkkk\n",
      "iff code is working\n"
     ]
    }
   ],
   "source": [
    "test1(5,0)"
   ]
  },
  {
   "cell_type": "code",
   "execution_count": 13,
   "id": "25304639",
   "metadata": {},
   "outputs": [],
   "source": [
    "def test2(a,b):\n",
    "    print(\"code starts\")\n",
    "    try:\n",
    "        d=a/b\n",
    "        print(d)\n",
    "    except:\n",
    "        print(\"there is a issue in my code\")\n",
    "    print(\"just checkkk\")\n",
    "    print(\"iff code is working\")"
   ]
  },
  {
   "cell_type": "code",
   "execution_count": 14,
   "id": "e89b955d",
   "metadata": {},
   "outputs": [
    {
     "name": "stdout",
     "output_type": "stream",
     "text": [
      "code starts\n",
      "0.5\n",
      "just checkkk\n",
      "iff code is working\n"
     ]
    }
   ],
   "source": [
    "test2(1,2)"
   ]
  },
  {
   "cell_type": "code",
   "execution_count": 16,
   "id": "7db08de6",
   "metadata": {},
   "outputs": [
    {
     "name": "stdout",
     "output_type": "stream",
     "text": [
      "code starts\n",
      "there is a issue in my code\n",
      "just checkkk\n",
      "iff code is working\n"
     ]
    }
   ],
   "source": [
    "test2(1,0)"
   ]
  },
  {
   "cell_type": "code",
   "execution_count": 17,
   "id": "3313d016",
   "metadata": {},
   "outputs": [
    {
     "data": {
      "text/plain": [
       "'Exception\\n      +-- StopIteration\\n      +-- StandardError\\n      |    +-- BufferError\\n      |    +-- ArithmeticError\\n      |    |    +-- FloatingPointError\\n      |    |    +-- OverflowError\\n      |    |    +-- ZeroDivisionError\\n      |    +-- AssertionError\\n      |    +-- AttributeError\\n      |    +-- EnvironmentError\\n      |    |    +-- IOError\\n      |    |    +-- OSError\\n      |    |         +-- WindowsError (Windows)\\n      |    |         +-- VMSError (VMS)\\n      |    +-- EOFError\\n      |    +-- ImportError\\n      |    +-- LookupError\\n      |    |    +-- IndexError\\n      |    |    +-- KeyError\\n      |    +-- MemoryError\\n      |    +-- NameError\\n      |    |    +-- UnboundLocalError\\n      |    +-- ReferenceError\\n      |    +-- RuntimeError\\n      |    |    +-- NotImplementedError\\n      |    +-- SyntaxError\\n      |    |    +-- IndentationError\\n      |    |         +-- TabError\\n      |    +-- SystemError\\n      |    +-- TypeError\\n      |    +-- ValueError\\n      |         +-- UnicodeError\\n      |              +-- UnicodeDecodeError\\n      |              +-- UnicodeEncodeError\\n      |              +-- UnicodeTranslateError '"
      ]
     },
     "execution_count": 17,
     "metadata": {},
     "output_type": "execute_result"
    }
   ],
   "source": [
    "\"\"\"Exception\n",
    "      +-- StopIteration\n",
    "      +-- StandardError\n",
    "      |    +-- BufferError\n",
    "      |    +-- ArithmeticError\n",
    "      |    |    +-- FloatingPointError\n",
    "      |    |    +-- OverflowError\n",
    "      |    |    +-- ZeroDivisionError\n",
    "      |    +-- AssertionError\n",
    "      |    +-- AttributeError\n",
    "      |    +-- EnvironmentError\n",
    "      |    |    +-- IOError\n",
    "      |    |    +-- OSError\n",
    "      |    |         +-- WindowsError (Windows)\n",
    "      |    |         +-- VMSError (VMS)\n",
    "      |    +-- EOFError\n",
    "      |    +-- ImportError\n",
    "      |    +-- LookupError\n",
    "      |    |    +-- IndexError\n",
    "      |    |    +-- KeyError\n",
    "      |    +-- MemoryError\n",
    "      |    +-- NameError\n",
    "      |    |    +-- UnboundLocalError\n",
    "      |    +-- ReferenceError\n",
    "      |    +-- RuntimeError\n",
    "      |    |    +-- NotImplementedError\n",
    "      |    +-- SyntaxError\n",
    "      |    |    +-- IndentationError\n",
    "      |    |         +-- TabError\n",
    "      |    +-- SystemError\n",
    "      |    +-- TypeError\n",
    "      |    +-- ValueError\n",
    "      |         +-- UnicodeError\n",
    "      |              +-- UnicodeDecodeError\n",
    "      |              +-- UnicodeEncodeError\n",
    "      |              +-- UnicodeTranslateError \"\"\""
   ]
  },
  {
   "cell_type": "code",
   "execution_count": 18,
   "id": "33d44613",
   "metadata": {},
   "outputs": [
    {
     "ename": "ZeroDivisionError",
     "evalue": "division by zero",
     "output_type": "error",
     "traceback": [
      "\u001b[1;31m---------------------------------------------------------------------------\u001b[0m",
      "\u001b[1;31mZeroDivisionError\u001b[0m                         Traceback (most recent call last)",
      "\u001b[1;32m<ipython-input-18-a72db067e634>\u001b[0m in \u001b[0;36m<module>\u001b[1;34m\u001b[0m\n\u001b[0;32m      1\u001b[0m \u001b[1;32mtry\u001b[0m\u001b[1;33m:\u001b[0m\u001b[1;33m\u001b[0m\u001b[1;33m\u001b[0m\u001b[0m\n\u001b[1;32m----> 2\u001b[1;33m     \u001b[0ma\u001b[0m\u001b[1;33m=\u001b[0m\u001b[1;36m5\u001b[0m\u001b[1;33m/\u001b[0m\u001b[1;36m0\u001b[0m\u001b[1;33m\u001b[0m\u001b[1;33m\u001b[0m\u001b[0m\n\u001b[0m\u001b[0;32m      3\u001b[0m \u001b[1;32mexcept\u001b[0m \u001b[0mIndentationError\u001b[0m\u001b[1;33m:\u001b[0m\u001b[1;33m\u001b[0m\u001b[1;33m\u001b[0m\u001b[0m\n\u001b[0;32m      4\u001b[0m     \u001b[0mprint\u001b[0m\u001b[1;33m(\u001b[0m\u001b[1;34m\"error\"\u001b[0m\u001b[1;33m)\u001b[0m\u001b[1;33m\u001b[0m\u001b[1;33m\u001b[0m\u001b[0m\n",
      "\u001b[1;31mZeroDivisionError\u001b[0m: division by zero"
     ]
    }
   ],
   "source": [
    "try:\n",
    "    a=5/0\n",
    "except IndentationError:\n",
    "    print(\"error\")"
   ]
  },
  {
   "cell_type": "code",
   "execution_count": 19,
   "id": "083b20e5",
   "metadata": {},
   "outputs": [
    {
     "name": "stdout",
     "output_type": "stream",
     "text": [
      "error\n"
     ]
    }
   ],
   "source": [
    "try:\n",
    "    a=5/0\n",
    "except ZeroDivisionError:\n",
    "    print(\"error\")"
   ]
  },
  {
   "cell_type": "code",
   "execution_count": 21,
   "id": "5736468a",
   "metadata": {},
   "outputs": [
    {
     "name": "stdout",
     "output_type": "stream",
     "text": [
      "error\n"
     ]
    }
   ],
   "source": [
    "try:\n",
    "    a=5/0\n",
    "except ArithmeticError:\n",
    "    print(\"error\")"
   ]
  },
  {
   "cell_type": "code",
   "execution_count": 22,
   "id": "3349fff4",
   "metadata": {},
   "outputs": [
    {
     "name": "stdout",
     "output_type": "stream",
     "text": [
      "error division by zero\n"
     ]
    }
   ],
   "source": [
    "try:\n",
    "    a=5/0\n",
    "except ArithmeticError as e:\n",
    "    print(\"error\",e)"
   ]
  },
  {
   "cell_type": "code",
   "execution_count": 24,
   "id": "fd68325a",
   "metadata": {},
   "outputs": [
    {
     "name": "stdout",
     "output_type": "stream",
     "text": [
      "error division by zero\n"
     ]
    }
   ],
   "source": [
    "try:\n",
    "    a=5/0\n",
    "except ZeroDivisionError as e:\n",
    "    print(\"error\",e)\n",
    "else:\n",
    "    print(\"try block executed naturally\")"
   ]
  },
  {
   "cell_type": "code",
   "execution_count": 25,
   "id": "0eae3251",
   "metadata": {},
   "outputs": [
    {
     "name": "stdout",
     "output_type": "stream",
     "text": [
      "try block executed naturally\n"
     ]
    }
   ],
   "source": [
    "try:\n",
    "    a=5/3\n",
    "except ZeroDivisionError as e:\n",
    "    print(\"error\",e)\n",
    "else:\n",
    "    print(\"try block executed naturally\")"
   ]
  },
  {
   "cell_type": "code",
   "execution_count": 26,
   "id": "283a8091",
   "metadata": {},
   "outputs": [],
   "source": [
    "a='vamsi'"
   ]
  },
  {
   "cell_type": "code",
   "execution_count": 27,
   "id": "b316730f",
   "metadata": {},
   "outputs": [
    {
     "data": {
      "text/plain": [
       "True"
      ]
     },
     "execution_count": 27,
     "metadata": {},
     "output_type": "execute_result"
    }
   ],
   "source": [
    "'v' in a"
   ]
  },
  {
   "cell_type": "code",
   "execution_count": 28,
   "id": "2e056435",
   "metadata": {},
   "outputs": [],
   "source": [
    "x= 'v' in a"
   ]
  },
  {
   "cell_type": "code",
   "execution_count": 29,
   "id": "0551e30b",
   "metadata": {},
   "outputs": [
    {
     "data": {
      "text/plain": [
       "True"
      ]
     },
     "execution_count": 29,
     "metadata": {},
     "output_type": "execute_result"
    }
   ],
   "source": [
    "x"
   ]
  },
  {
   "cell_type": "code",
   "execution_count": 1,
   "id": "e5bbac3b",
   "metadata": {},
   "outputs": [
    {
     "name": "stdout",
     "output_type": "stream",
     "text": [
      "enter a number: 3\n",
      "hiiii\n",
      "we readed : this is except block in else block\n"
     ]
    }
   ],
   "source": [
    "import logging\n",
    "logging.basicConfig(filename='exceptionlogger.txt',level=logging.INFO,format='%(levelname)s:%(asctime)s:%(message)s')\n",
    "logging.info(\"PROGRAM EXECUTION STARTED\")\n",
    "try:\n",
    "    logging.info(\"try block execution started\")\n",
    "    n=int(input(\"enter a number: \"))\n",
    "    logging.info(\"entered input is : \"+ str(n))\n",
    "    a=5/n\n",
    "    print(\"hiiii\")\n",
    "except ZeroDivisionError as e:\n",
    "    logging.info(\"control in except block\")\n",
    "    print(\"error\",e)\n",
    "    a=5/2\n",
    "    print(a)\n",
    "    f=open(\"dhbbCcbs.txt\",'w')\n",
    "    f.write(\"this is for try except block checking\")\n",
    "    logging.info(\"we wrote to dhbbCcbs.txt file\")\n",
    "    f.close()\n",
    "else:\n",
    "    logging.info(\"try block executed naturally control in else block\")\n",
    "    try:\n",
    "        logging.info(\"control in try block in else block\")\n",
    "        f=open(\"hsdvcdsb.txt\",'r')\n",
    "        s=f.read()\n",
    "        print('we readed' +' : '+s)\n",
    "        logging.info('we readed' +' : '+s)\n",
    "        f.close()\n",
    "    except:\n",
    "        logging.info('there is a error in try block in else block, control in except block in else block')\n",
    "        f=open(\"hsdvcdsb.txt\",'w')\n",
    "        f.write(\"this is except block in else block\")\n",
    "        f.close()\n",
    "logging.info(\"PROGRAM EXECUTION COMPLETED\")\n",
    "logging.shutdown()"
   ]
  },
  {
   "cell_type": "code",
   "execution_count": 5,
   "id": "14c01904",
   "metadata": {},
   "outputs": [
    {
     "name": "stdout",
     "output_type": "stream",
     "text": [
      "enter a number: 3\n",
      "try block execution started\n",
      "hiiii\n",
      "control in except block\n",
      "error\n",
      "2.5\n",
      "we wrote to dhbbCcbs11.txt file\n"
     ]
    }
   ],
   "source": [
    "try:\n",
    "    n=int(input(\"enter a number: \"))\n",
    "    print(\"try block execution started\")\n",
    "    a=5/n\n",
    "    print(\"hiiii\")\n",
    "    s='vamsi'\n",
    "    s[0]='A'\n",
    "    print('try block natually executed')\n",
    "except : #in above code we only handled ZeroDivisionError but we also get s[0]='A' as a typeerror \n",
    "    print(\"control in except block\")\n",
    "    print(\"error\")\n",
    "    a=5/2\n",
    "    print(a)\n",
    "    f=open(\"dhbbCcbs11.txt\",'w')\n",
    "    f.write(\"this is for try except block checking\")\n",
    "    print(\"we wrote to dhbbCcbs11.txt file\")\n",
    "    f.close()\n",
    "else:\n",
    "    print(\"try block executed naturally control in else block\")\n",
    "    try:\n",
    "        f=open(\"hsdvcdsb11.txt\",'r')\n",
    "        print('we readed' +' : '+ f.read())\n",
    "        f.close()\n",
    "    except:\n",
    "        print('there is a error in nested try block in else block')\n",
    "        f=open(\"hsdvcdsb11.txt\",'w')\n",
    "        f.write(\"this is except block in else block\")\n",
    "        f.close()"
   ]
  },
  {
   "cell_type": "code",
   "execution_count": 6,
   "id": "90ef4095",
   "metadata": {},
   "outputs": [],
   "source": [
    "f=open('newjupyternotebook.ipynb','w')\n",
    "f.write('#this is our jupyter notebook')\n",
    "f.close()"
   ]
  },
  {
   "cell_type": "code",
   "execution_count": 15,
   "id": "1f564e72",
   "metadata": {},
   "outputs": [
    {
     "name": "stdout",
     "output_type": "stream",
     "text": [
      "(1, 2, 3, 4)\n",
      "this is finally block\n",
      "3\n"
     ]
    },
    {
     "ename": "TypeError",
     "evalue": "'tuple' object does not support item assignment",
     "output_type": "error",
     "traceback": [
      "\u001b[1;31m---------------------------------------------------------------------------\u001b[0m",
      "\u001b[1;31mTypeError\u001b[0m                                 Traceback (most recent call last)",
      "\u001b[1;32m<ipython-input-15-46ef37accf01>\u001b[0m in \u001b[0;36m<module>\u001b[1;34m\u001b[0m\n\u001b[0;32m      2\u001b[0m     \u001b[0mt\u001b[0m\u001b[1;33m=\u001b[0m\u001b[1;33m(\u001b[0m\u001b[1;36m1\u001b[0m\u001b[1;33m,\u001b[0m\u001b[1;36m2\u001b[0m\u001b[1;33m,\u001b[0m\u001b[1;36m3\u001b[0m\u001b[1;33m,\u001b[0m\u001b[1;36m4\u001b[0m\u001b[1;33m)\u001b[0m\u001b[1;33m\u001b[0m\u001b[1;33m\u001b[0m\u001b[0m\n\u001b[0;32m      3\u001b[0m     \u001b[0mprint\u001b[0m\u001b[1;33m(\u001b[0m\u001b[0mt\u001b[0m\u001b[1;33m)\u001b[0m\u001b[1;33m\u001b[0m\u001b[1;33m\u001b[0m\u001b[0m\n\u001b[1;32m----> 4\u001b[1;33m     \u001b[0mt\u001b[0m\u001b[1;33m[\u001b[0m\u001b[1;36m2\u001b[0m\u001b[1;33m]\u001b[0m\u001b[1;33m=\u001b[0m\u001b[1;36m2000\u001b[0m\u001b[1;33m\u001b[0m\u001b[1;33m\u001b[0m\u001b[0m\n\u001b[0m\u001b[0;32m      5\u001b[0m \u001b[1;32mfinally\u001b[0m\u001b[1;33m:\u001b[0m\u001b[1;33m\u001b[0m\u001b[1;33m\u001b[0m\u001b[0m\n\u001b[0;32m      6\u001b[0m     \u001b[0mprint\u001b[0m\u001b[1;33m(\u001b[0m\u001b[1;34m\"this is finally block\"\u001b[0m\u001b[1;33m)\u001b[0m\u001b[1;33m\u001b[0m\u001b[1;33m\u001b[0m\u001b[0m\n",
      "\u001b[1;31mTypeError\u001b[0m: 'tuple' object does not support item assignment"
     ]
    }
   ],
   "source": [
    "try:\n",
    "    t=(1,2,3,4)\n",
    "    print(t)\n",
    "    t[2]=2000\n",
    "finally:\n",
    "    print(\"this is finally block\")\n",
    "    l=[1,2,3,4,5,6]\n",
    "    print(l[2])"
   ]
  },
  {
   "cell_type": "code",
   "execution_count": 17,
   "id": "bd3b2da0",
   "metadata": {},
   "outputs": [
    {
     "name": "stdout",
     "output_type": "stream",
     "text": [
      "(1, 2, 3, 4)\n",
      "this is finally block\n",
      "3\n"
     ]
    }
   ],
   "source": [
    "try:\n",
    "    t=(1,2,3,4)\n",
    "    print(t)\n",
    "finally:\n",
    "    print(\"this is finally block\")\n",
    "    l=[1,2,3,4,5,6]\n",
    "    print(l[2])"
   ]
  },
  {
   "cell_type": "code",
   "execution_count": 20,
   "id": "ab561318",
   "metadata": {},
   "outputs": [
    {
     "name": "stdout",
     "output_type": "stream",
     "text": [
      "(1, 2, 3, 4)\n",
      "this is finally block\n",
      "nested finally block\n"
     ]
    },
    {
     "ename": "IndexError",
     "evalue": "list index out of range",
     "output_type": "error",
     "traceback": [
      "\u001b[1;31m---------------------------------------------------------------------------\u001b[0m",
      "\u001b[1;31mIndexError\u001b[0m                                Traceback (most recent call last)",
      "\u001b[1;32m<ipython-input-20-1b33a805dbc7>\u001b[0m in \u001b[0;36m<module>\u001b[1;34m\u001b[0m\n\u001b[0;32m      3\u001b[0m     \u001b[0mprint\u001b[0m\u001b[1;33m(\u001b[0m\u001b[0mt\u001b[0m\u001b[1;33m)\u001b[0m\u001b[1;33m\u001b[0m\u001b[1;33m\u001b[0m\u001b[0m\n\u001b[1;32m----> 4\u001b[1;33m     \u001b[0mprint\u001b[0m\u001b[1;33m(\u001b[0m\u001b[0mt\u001b[0m\u001b[1;33m[\u001b[0m\u001b[1;36m100\u001b[0m\u001b[1;33m]\u001b[0m\u001b[1;33m)\u001b[0m\u001b[1;33m\u001b[0m\u001b[1;33m\u001b[0m\u001b[0m\n\u001b[0m\u001b[0;32m      5\u001b[0m \u001b[1;32mfinally\u001b[0m\u001b[1;33m:\u001b[0m\u001b[1;33m\u001b[0m\u001b[1;33m\u001b[0m\u001b[0m\n",
      "\u001b[1;31mIndexError\u001b[0m: tuple index out of range",
      "\nDuring handling of the above exception, another exception occurred:\n",
      "\u001b[1;31mIndexError\u001b[0m                                Traceback (most recent call last)",
      "\u001b[1;32m<ipython-input-20-1b33a805dbc7>\u001b[0m in \u001b[0;36m<module>\u001b[1;34m\u001b[0m\n\u001b[0;32m      7\u001b[0m     \u001b[0ml\u001b[0m\u001b[1;33m=\u001b[0m\u001b[1;33m[\u001b[0m\u001b[1;36m1\u001b[0m\u001b[1;33m,\u001b[0m\u001b[1;36m2\u001b[0m\u001b[1;33m,\u001b[0m\u001b[1;36m3\u001b[0m\u001b[1;33m,\u001b[0m\u001b[1;36m4\u001b[0m\u001b[1;33m,\u001b[0m\u001b[1;36m5\u001b[0m\u001b[1;33m,\u001b[0m\u001b[1;36m6\u001b[0m\u001b[1;33m]\u001b[0m\u001b[1;33m\u001b[0m\u001b[1;33m\u001b[0m\u001b[0m\n\u001b[0;32m      8\u001b[0m     \u001b[1;32mtry\u001b[0m\u001b[1;33m:\u001b[0m\u001b[1;33m\u001b[0m\u001b[1;33m\u001b[0m\u001b[0m\n\u001b[1;32m----> 9\u001b[1;33m         \u001b[0mprint\u001b[0m\u001b[1;33m(\u001b[0m\u001b[0ml\u001b[0m\u001b[1;33m[\u001b[0m\u001b[1;36m20\u001b[0m\u001b[1;33m]\u001b[0m\u001b[1;33m)\u001b[0m\u001b[1;33m\u001b[0m\u001b[1;33m\u001b[0m\u001b[0m\n\u001b[0m\u001b[0;32m     10\u001b[0m     \u001b[1;32mfinally\u001b[0m\u001b[1;33m:\u001b[0m\u001b[1;33m\u001b[0m\u001b[1;33m\u001b[0m\u001b[0m\n\u001b[0;32m     11\u001b[0m         \u001b[0mprint\u001b[0m\u001b[1;33m(\u001b[0m\u001b[1;34m'nested finally block'\u001b[0m\u001b[1;33m)\u001b[0m\u001b[1;33m\u001b[0m\u001b[1;33m\u001b[0m\u001b[0m\n",
      "\u001b[1;31mIndexError\u001b[0m: list index out of range"
     ]
    }
   ],
   "source": [
    "try:\n",
    "    t=(1,2,3,4)\n",
    "    print(t)\n",
    "    print(t[100])\n",
    "finally:\n",
    "    print(\"this is finally block\")\n",
    "    l=[1,2,3,4,5,6]\n",
    "    try:\n",
    "        print(l[20])\n",
    "    finally:\n",
    "        print('nested finally block')"
   ]
  },
  {
   "cell_type": "code",
   "execution_count": 2,
   "id": "3a354ea2",
   "metadata": {},
   "outputs": [
    {
     "name": "stdout",
     "output_type": "stream",
     "text": [
      "this is final block\n"
     ]
    }
   ],
   "source": [
    "try:\n",
    "    f=open('hsdchdsb.txt','r')\n",
    "    print(f.read())\n",
    "    f.close()\n",
    "except:\n",
    "    f=open(\"hsdchdsb.txt\",'w')\n",
    "    f.write(\"this is except block\")\n",
    "    f.close()\n",
    "else:\n",
    "    print(\"try block successfully executed control in else block\")\n",
    "finally:\n",
    "    print('this is final block')"
   ]
  },
  {
   "cell_type": "code",
   "execution_count": 3,
   "id": "e50fc867",
   "metadata": {},
   "outputs": [
    {
     "name": "stdout",
     "output_type": "stream",
     "text": [
      "this is except block\n",
      "try block successfully executed control in else block\n",
      "this is final block\n"
     ]
    }
   ],
   "source": [
    "try:\n",
    "    f=open('hsdchdsb.txt','r')\n",
    "    print(f.read())\n",
    "    f.close()\n",
    "except:\n",
    "    f=open(\"hsdchdsb.txt\",'w')\n",
    "    f.write(\"this is except block\")\n",
    "    f.close()\n",
    "else:\n",
    "    print(\"try block successfully executed control in else block\")\n",
    "finally:\n",
    "    print('this is final block')"
   ]
  },
  {
   "cell_type": "code",
   "execution_count": 7,
   "id": "537092d6",
   "metadata": {},
   "outputs": [
    {
     "name": "stdout",
     "output_type": "stream",
     "text": [
      "this is except block\n",
      "this is else block\n",
      "this is final block\n"
     ]
    }
   ],
   "source": [
    "try:\n",
    "    f=open('hsdchdsb.txt','r')\n",
    "    print(f.read())\n",
    "    f.close()\n",
    "except:\n",
    "    f=open(\"hsdchdsb.txt\",'w')\n",
    "    f.write(\"this is except block\")\n",
    "    f.close()\n",
    "\n",
    "else:\n",
    "    print('this is else block')\n",
    "finally:\n",
    "    print(\"this is final block\")"
   ]
  },
  {
   "cell_type": "code",
   "execution_count": 4,
   "id": "5e7daa43",
   "metadata": {},
   "outputs": [
    {
     "name": "stdout",
     "output_type": "stream",
     "text": [
      "enter a number: 50000000\n"
     ]
    }
   ],
   "source": [
    "import logging\n",
    "logging.basicConfig(filename='newloggerrrr.txt',level=logging.INFO)\n",
    "logging.info(str(int(input(\"enter a number: \"))))\n",
    "logging.shutdown()"
   ]
  },
  {
   "cell_type": "code",
   "execution_count": 5,
   "id": "04793eb8",
   "metadata": {},
   "outputs": [
    {
     "ename": "FileNotFoundError",
     "evalue": "[Errno 2] No such file or directory: 'sakvdbj.txt'",
     "output_type": "error",
     "traceback": [
      "\u001b[1;31m---------------------------------------------------------------------------\u001b[0m",
      "\u001b[1;31mFileNotFoundError\u001b[0m                         Traceback (most recent call last)",
      "\u001b[1;32m<ipython-input-5-79c6841be88e>\u001b[0m in \u001b[0;36m<module>\u001b[1;34m\u001b[0m\n\u001b[1;32m----> 1\u001b[1;33m \u001b[0mf\u001b[0m\u001b[1;33m=\u001b[0m\u001b[0mopen\u001b[0m\u001b[1;33m(\u001b[0m\u001b[1;34m'sakvdbj.txt'\u001b[0m\u001b[1;33m,\u001b[0m\u001b[1;34m'r'\u001b[0m\u001b[1;33m)\u001b[0m\u001b[1;33m\u001b[0m\u001b[1;33m\u001b[0m\u001b[0m\n\u001b[0m\u001b[0;32m      2\u001b[0m \u001b[0mf\u001b[0m\u001b[1;33m.\u001b[0m\u001b[0mclose\u001b[0m\u001b[1;33m(\u001b[0m\u001b[1;33m)\u001b[0m\u001b[1;33m\u001b[0m\u001b[1;33m\u001b[0m\u001b[0m\n",
      "\u001b[1;31mFileNotFoundError\u001b[0m: [Errno 2] No such file or directory: 'sakvdbj.txt'"
     ]
    }
   ],
   "source": [
    "f=open('sakvdbj.txt','r')\n",
    "f.close()"
   ]
  },
  {
   "cell_type": "code",
   "execution_count": 6,
   "id": "07f3d821",
   "metadata": {},
   "outputs": [],
   "source": [
    "def askforint():\n",
    "    while True:\n",
    "        try:\n",
    "            n=int(input(\"enter a integer: \"))\n",
    "        except Exception as e:\n",
    "            print(\"sorry there is a error\",e,'try again')\n",
    "        else:\n",
    "            print(\"u have entered crctly\",n)\n",
    "            break\n",
    "        finally:\n",
    "            print(\"process done\")"
   ]
  },
  {
   "cell_type": "code",
   "execution_count": 7,
   "id": "88d0f9d7",
   "metadata": {},
   "outputs": [
    {
     "name": "stdout",
     "output_type": "stream",
     "text": [
      "enter a integer: dkjvb\n",
      "sorry there is a error invalid literal for int() with base 10: 'dkjvb' try again\n",
      "process done\n",
      "enter a integer: jndncdc\n",
      "sorry there is a error invalid literal for int() with base 10: 'jndncdc' try again\n",
      "process done\n",
      "enter a integer: 100\n",
      "u have entered crctly 100\n",
      "process done\n"
     ]
    }
   ],
   "source": [
    "askforint()"
   ]
  },
  {
   "cell_type": "code",
   "execution_count": 9,
   "id": "3e52db17",
   "metadata": {},
   "outputs": [
    {
     "data": {
      "text/plain": [
       "type"
      ]
     },
     "execution_count": 9,
     "metadata": {},
     "output_type": "execute_result"
    }
   ],
   "source": [
    "type(Exception)"
   ]
  },
  {
   "cell_type": "code",
   "execution_count": 13,
   "id": "4c580dfa",
   "metadata": {},
   "outputs": [
    {
     "name": "stdout",
     "output_type": "stream",
     "text": [
      "enter a value: ssdsvds\n",
      "valueerror invalid literal for int() with base 10: 'ssdsvds'\n"
     ]
    }
   ],
   "source": [
    "try:\n",
    "    a=int(input(\"enter a value: \"))\n",
    "except FileNotFoundError as e:\n",
    "    print('fnf error',e)\n",
    "except IndentationError as e:\n",
    "    print('indentationerror',e)\n",
    "except ValueError as e:\n",
    "    print('valueerror',e)\n",
    "else:\n",
    "    print(a)\n",
    "    \n",
    "    "
   ]
  },
  {
   "cell_type": "code",
   "execution_count": 21,
   "id": "74785e31",
   "metadata": {},
   "outputs": [
    {
     "name": "stdout",
     "output_type": "stream",
     "text": [
      "enter a number: 0\n",
      "zde division by zero\n"
     ]
    }
   ],
   "source": [
    "try:\n",
    "    a=int(input('enter a number: '))\n",
    "    b=8/a\n",
    "except FileNotFoundError as e:\n",
    "    print('fnf error',e)\n",
    "except IndentationError as e:\n",
    "    print('indentationerror',e)\n",
    "except ValueError as e:\n",
    "    print('valueerror',e)\n",
    "except ZeroDivisionError as e:\n",
    "    print('zde',e)\n",
    "except ArithmeticError as e:\n",
    "    print('artherr',e)\n",
    "else:\n",
    "    print('happy')\n",
    "    "
   ]
  },
  {
   "cell_type": "code",
   "execution_count": 20,
   "id": "bd3e2360",
   "metadata": {},
   "outputs": [
    {
     "name": "stdout",
     "output_type": "stream",
     "text": [
      "enter a number: 0\n",
      "artherr division by zero\n"
     ]
    }
   ],
   "source": [
    "try:\n",
    "    a=int(input('enter a number: '))\n",
    "    b=8/a\n",
    "except FileNotFoundError as e:\n",
    "    print('fnf error',e)\n",
    "except IndentationError as e:\n",
    "    print('indentationerror',e)\n",
    "except ValueError as e:\n",
    "    print('valueerror',e)\n",
    "except ArithmeticError as e:\n",
    "    print('artherr',e)\n",
    "except ZeroDivisionError as e:\n",
    "    print('zde',e)\n",
    "else:\n",
    "    print('happy')"
   ]
  },
  {
   "cell_type": "code",
   "execution_count": 22,
   "id": "b3a4f239",
   "metadata": {},
   "outputs": [
    {
     "name": "stdout",
     "output_type": "stream",
     "text": [
      "enter a number: 0\n",
      "Exception class division by zero\n"
     ]
    }
   ],
   "source": [
    "try:\n",
    "    a=int(input('enter a number: '))\n",
    "    b=8/a\n",
    "except FileNotFoundError as e:\n",
    "    print('fnf error',e)\n",
    "except IndentationError as e:\n",
    "    print('indentationerror',e)\n",
    "except ValueError as e:\n",
    "    print('valueerror',e)\n",
    "except Exception as e:\n",
    "    print('Exception class',e)\n",
    "except ArithmeticError as e:\n",
    "    print('artherr',e)\n",
    "except ZeroDivisionError as e:\n",
    "    print('zde',e)\n",
    "else:\n",
    "    print('happy')"
   ]
  },
  {
   "cell_type": "code",
   "execution_count": 23,
   "id": "8e7cb9f3",
   "metadata": {},
   "outputs": [
    {
     "name": "stdout",
     "output_type": "stream",
     "text": [
      "enter a number: 0\n",
      "zde division by zero\n"
     ]
    }
   ],
   "source": [
    "try:\n",
    "    a=int(input('enter a number: '))\n",
    "    b=8/a\n",
    "except FileNotFoundError as e:\n",
    "    print('fnf error',e)\n",
    "except IndentationError as e:\n",
    "    print('indentationerror',e)\n",
    "except ValueError as e:\n",
    "    print('valueerror',e)\n",
    "except ZeroDivisionError as e:\n",
    "    print('zde',e)\n",
    "except Exception as e:\n",
    "    print('Exception class',e)\n",
    "except ArithmeticError as e:\n",
    "    print('artherr',e)\n",
    "\n",
    "else:\n",
    "    print('happy')"
   ]
  },
  {
   "cell_type": "code",
   "execution_count": 24,
   "id": "0939271e",
   "metadata": {},
   "outputs": [],
   "source": [
    "def create_own_exception(a):\n",
    "    if a==6:\n",
    "        raise Exception(a)"
   ]
  },
  {
   "cell_type": "code",
   "execution_count": 25,
   "id": "06689dbf",
   "metadata": {},
   "outputs": [],
   "source": [
    "create_own_exception(5)"
   ]
  },
  {
   "cell_type": "code",
   "execution_count": 26,
   "id": "04a4ce4d",
   "metadata": {},
   "outputs": [
    {
     "ename": "Exception",
     "evalue": "6",
     "output_type": "error",
     "traceback": [
      "\u001b[1;31m---------------------------------------------------------------------------\u001b[0m",
      "\u001b[1;31mException\u001b[0m                                 Traceback (most recent call last)",
      "\u001b[1;32m<ipython-input-26-4065b8daa9fc>\u001b[0m in \u001b[0;36m<module>\u001b[1;34m\u001b[0m\n\u001b[1;32m----> 1\u001b[1;33m \u001b[0mcreate_own_exception\u001b[0m\u001b[1;33m(\u001b[0m\u001b[1;36m6\u001b[0m\u001b[1;33m)\u001b[0m\u001b[1;33m\u001b[0m\u001b[1;33m\u001b[0m\u001b[0m\n\u001b[0m",
      "\u001b[1;32m<ipython-input-24-04c16e238797>\u001b[0m in \u001b[0;36mcreate_own_exception\u001b[1;34m(a)\u001b[0m\n\u001b[0;32m      1\u001b[0m \u001b[1;32mdef\u001b[0m \u001b[0mcreate_own_exception\u001b[0m\u001b[1;33m(\u001b[0m\u001b[0ma\u001b[0m\u001b[1;33m)\u001b[0m\u001b[1;33m:\u001b[0m\u001b[1;33m\u001b[0m\u001b[1;33m\u001b[0m\u001b[0m\n\u001b[0;32m      2\u001b[0m     \u001b[1;32mif\u001b[0m \u001b[0ma\u001b[0m\u001b[1;33m==\u001b[0m\u001b[1;36m6\u001b[0m\u001b[1;33m:\u001b[0m\u001b[1;33m\u001b[0m\u001b[1;33m\u001b[0m\u001b[0m\n\u001b[1;32m----> 3\u001b[1;33m         \u001b[1;32mraise\u001b[0m \u001b[0mException\u001b[0m\u001b[1;33m(\u001b[0m\u001b[0ma\u001b[0m\u001b[1;33m)\u001b[0m\u001b[1;33m\u001b[0m\u001b[1;33m\u001b[0m\u001b[0m\n\u001b[0m",
      "\u001b[1;31mException\u001b[0m: 6"
     ]
    }
   ],
   "source": [
    "create_own_exception(6)"
   ]
  },
  {
   "cell_type": "code",
   "execution_count": 45,
   "id": "f677ff81",
   "metadata": {},
   "outputs": [],
   "source": [
    "def create_own_exception(a):\n",
    "    l={'a':123,123:'scc'}\n",
    "    if a==6:\n",
    "        raise Exception(l)"
   ]
  },
  {
   "cell_type": "code",
   "execution_count": 46,
   "id": "e060d10b",
   "metadata": {},
   "outputs": [
    {
     "ename": "Exception",
     "evalue": "{'a': 123, 123: 'scc'}",
     "output_type": "error",
     "traceback": [
      "\u001b[1;31m---------------------------------------------------------------------------\u001b[0m",
      "\u001b[1;31mException\u001b[0m                                 Traceback (most recent call last)",
      "\u001b[1;32m<ipython-input-46-4065b8daa9fc>\u001b[0m in \u001b[0;36m<module>\u001b[1;34m\u001b[0m\n\u001b[1;32m----> 1\u001b[1;33m \u001b[0mcreate_own_exception\u001b[0m\u001b[1;33m(\u001b[0m\u001b[1;36m6\u001b[0m\u001b[1;33m)\u001b[0m\u001b[1;33m\u001b[0m\u001b[1;33m\u001b[0m\u001b[0m\n\u001b[0m",
      "\u001b[1;32m<ipython-input-45-126a667191cf>\u001b[0m in \u001b[0;36mcreate_own_exception\u001b[1;34m(a)\u001b[0m\n\u001b[0;32m      2\u001b[0m     \u001b[0ml\u001b[0m\u001b[1;33m=\u001b[0m\u001b[1;33m{\u001b[0m\u001b[1;34m'a'\u001b[0m\u001b[1;33m:\u001b[0m\u001b[1;36m123\u001b[0m\u001b[1;33m,\u001b[0m\u001b[1;36m123\u001b[0m\u001b[1;33m:\u001b[0m\u001b[1;34m'scc'\u001b[0m\u001b[1;33m}\u001b[0m\u001b[1;33m\u001b[0m\u001b[1;33m\u001b[0m\u001b[0m\n\u001b[0;32m      3\u001b[0m     \u001b[1;32mif\u001b[0m \u001b[0ma\u001b[0m\u001b[1;33m==\u001b[0m\u001b[1;36m6\u001b[0m\u001b[1;33m:\u001b[0m\u001b[1;33m\u001b[0m\u001b[1;33m\u001b[0m\u001b[0m\n\u001b[1;32m----> 4\u001b[1;33m         \u001b[1;32mraise\u001b[0m \u001b[0mException\u001b[0m\u001b[1;33m(\u001b[0m\u001b[0ml\u001b[0m\u001b[1;33m)\u001b[0m\u001b[1;33m\u001b[0m\u001b[1;33m\u001b[0m\u001b[0m\n\u001b[0m",
      "\u001b[1;31mException\u001b[0m: {'a': 123, 123: 'scc'}"
     ]
    }
   ],
   "source": [
    "create_own_exception(6)"
   ]
  },
  {
   "cell_type": "code",
   "execution_count": 47,
   "id": "111b8edc",
   "metadata": {},
   "outputs": [],
   "source": [
    "def create_own_exception(a):\n",
    "    if a==6:\n",
    "        raise Exception('dont give input 6')"
   ]
  },
  {
   "cell_type": "code",
   "execution_count": 48,
   "id": "bb159c12",
   "metadata": {},
   "outputs": [
    {
     "ename": "Exception",
     "evalue": "dont give input 6",
     "output_type": "error",
     "traceback": [
      "\u001b[1;31m---------------------------------------------------------------------------\u001b[0m",
      "\u001b[1;31mException\u001b[0m                                 Traceback (most recent call last)",
      "\u001b[1;32m<ipython-input-48-4065b8daa9fc>\u001b[0m in \u001b[0;36m<module>\u001b[1;34m\u001b[0m\n\u001b[1;32m----> 1\u001b[1;33m \u001b[0mcreate_own_exception\u001b[0m\u001b[1;33m(\u001b[0m\u001b[1;36m6\u001b[0m\u001b[1;33m)\u001b[0m\u001b[1;33m\u001b[0m\u001b[1;33m\u001b[0m\u001b[0m\n\u001b[0m",
      "\u001b[1;32m<ipython-input-47-052afb2c75a3>\u001b[0m in \u001b[0;36mcreate_own_exception\u001b[1;34m(a)\u001b[0m\n\u001b[0;32m      1\u001b[0m \u001b[1;32mdef\u001b[0m \u001b[0mcreate_own_exception\u001b[0m\u001b[1;33m(\u001b[0m\u001b[0ma\u001b[0m\u001b[1;33m)\u001b[0m\u001b[1;33m:\u001b[0m\u001b[1;33m\u001b[0m\u001b[1;33m\u001b[0m\u001b[0m\n\u001b[0;32m      2\u001b[0m     \u001b[1;32mif\u001b[0m \u001b[0ma\u001b[0m\u001b[1;33m==\u001b[0m\u001b[1;36m6\u001b[0m\u001b[1;33m:\u001b[0m\u001b[1;33m\u001b[0m\u001b[1;33m\u001b[0m\u001b[0m\n\u001b[1;32m----> 3\u001b[1;33m         \u001b[1;32mraise\u001b[0m \u001b[0mException\u001b[0m\u001b[1;33m(\u001b[0m\u001b[1;34m'dont give input 6'\u001b[0m\u001b[1;33m)\u001b[0m\u001b[1;33m\u001b[0m\u001b[1;33m\u001b[0m\u001b[0m\n\u001b[0m",
      "\u001b[1;31mException\u001b[0m: dont give input 6"
     ]
    }
   ],
   "source": [
    "create_own_exception(6)"
   ]
  },
  {
   "cell_type": "code",
   "execution_count": 52,
   "id": "751bb1ea",
   "metadata": {},
   "outputs": [],
   "source": [
    "def create_own_exception(a):\n",
    "    if a==6:\n",
    "        raise Exception()\n",
    "    else:\n",
    "        print('this is else block')\n",
    "    return a"
   ]
  },
  {
   "cell_type": "code",
   "execution_count": 53,
   "id": "4e696067",
   "metadata": {},
   "outputs": [
    {
     "name": "stdout",
     "output_type": "stream",
     "text": [
      "this is else block\n"
     ]
    },
    {
     "data": {
      "text/plain": [
       "7"
      ]
     },
     "execution_count": 53,
     "metadata": {},
     "output_type": "execute_result"
    }
   ],
   "source": [
    "create_own_exception(7)"
   ]
  },
  {
   "cell_type": "code",
   "execution_count": 54,
   "id": "4c62ddfd",
   "metadata": {},
   "outputs": [
    {
     "ename": "Exception",
     "evalue": "",
     "output_type": "error",
     "traceback": [
      "\u001b[1;31m---------------------------------------------------------------------------\u001b[0m",
      "\u001b[1;31mException\u001b[0m                                 Traceback (most recent call last)",
      "\u001b[1;32m<ipython-input-54-4065b8daa9fc>\u001b[0m in \u001b[0;36m<module>\u001b[1;34m\u001b[0m\n\u001b[1;32m----> 1\u001b[1;33m \u001b[0mcreate_own_exception\u001b[0m\u001b[1;33m(\u001b[0m\u001b[1;36m6\u001b[0m\u001b[1;33m)\u001b[0m\u001b[1;33m\u001b[0m\u001b[1;33m\u001b[0m\u001b[0m\n\u001b[0m",
      "\u001b[1;32m<ipython-input-52-01611dd9d718>\u001b[0m in \u001b[0;36mcreate_own_exception\u001b[1;34m(a)\u001b[0m\n\u001b[0;32m      1\u001b[0m \u001b[1;32mdef\u001b[0m \u001b[0mcreate_own_exception\u001b[0m\u001b[1;33m(\u001b[0m\u001b[0ma\u001b[0m\u001b[1;33m)\u001b[0m\u001b[1;33m:\u001b[0m\u001b[1;33m\u001b[0m\u001b[1;33m\u001b[0m\u001b[0m\n\u001b[0;32m      2\u001b[0m     \u001b[1;32mif\u001b[0m \u001b[0ma\u001b[0m\u001b[1;33m==\u001b[0m\u001b[1;36m6\u001b[0m\u001b[1;33m:\u001b[0m\u001b[1;33m\u001b[0m\u001b[1;33m\u001b[0m\u001b[0m\n\u001b[1;32m----> 3\u001b[1;33m         \u001b[1;32mraise\u001b[0m \u001b[0mException\u001b[0m\u001b[1;33m(\u001b[0m\u001b[1;33m)\u001b[0m\u001b[1;33m\u001b[0m\u001b[1;33m\u001b[0m\u001b[0m\n\u001b[0m\u001b[0;32m      4\u001b[0m     \u001b[1;32melse\u001b[0m\u001b[1;33m:\u001b[0m\u001b[1;33m\u001b[0m\u001b[1;33m\u001b[0m\u001b[0m\n\u001b[0;32m      5\u001b[0m         \u001b[0mprint\u001b[0m\u001b[1;33m(\u001b[0m\u001b[1;34m'this is else block'\u001b[0m\u001b[1;33m)\u001b[0m\u001b[1;33m\u001b[0m\u001b[1;33m\u001b[0m\u001b[0m\n",
      "\u001b[1;31mException\u001b[0m: "
     ]
    }
   ],
   "source": [
    "create_own_exception(6)"
   ]
  },
  {
   "cell_type": "code",
   "execution_count": 55,
   "id": "25a99268",
   "metadata": {},
   "outputs": [],
   "source": [
    "def create_own_exception(a):\n",
    "    if a==6:\n",
    "        raise Exception(a)\n",
    "    else:\n",
    "        print('this is else block')\n",
    "    return a"
   ]
  },
  {
   "cell_type": "code",
   "execution_count": 56,
   "id": "b2e03a06",
   "metadata": {},
   "outputs": [
    {
     "name": "stdout",
     "output_type": "stream",
     "text": [
      "6\n"
     ]
    }
   ],
   "source": [
    "try:\n",
    "    create_own_exception(6)\n",
    "except Exception as e:\n",
    "    print(e)"
   ]
  },
  {
   "cell_type": "code",
   "execution_count": 57,
   "id": "03573bdd",
   "metadata": {},
   "outputs": [],
   "source": [
    "def test1(a):\n",
    "    if a>6:\n",
    "        raise ArithmeticError('value is > than 6')"
   ]
  },
  {
   "cell_type": "code",
   "execution_count": 58,
   "id": "c264e5f1",
   "metadata": {},
   "outputs": [],
   "source": [
    "test1(4)"
   ]
  },
  {
   "cell_type": "code",
   "execution_count": 59,
   "id": "4d086f71",
   "metadata": {},
   "outputs": [
    {
     "ename": "ArithmeticError",
     "evalue": "value is > than 6",
     "output_type": "error",
     "traceback": [
      "\u001b[1;31m---------------------------------------------------------------------------\u001b[0m",
      "\u001b[1;31mArithmeticError\u001b[0m                           Traceback (most recent call last)",
      "\u001b[1;32m<ipython-input-59-e0de3f0f2aae>\u001b[0m in \u001b[0;36m<module>\u001b[1;34m\u001b[0m\n\u001b[1;32m----> 1\u001b[1;33m \u001b[0mtest1\u001b[0m\u001b[1;33m(\u001b[0m\u001b[1;36m10\u001b[0m\u001b[1;33m)\u001b[0m\u001b[1;33m\u001b[0m\u001b[1;33m\u001b[0m\u001b[0m\n\u001b[0m",
      "\u001b[1;32m<ipython-input-57-68a45d573b9b>\u001b[0m in \u001b[0;36mtest1\u001b[1;34m(a)\u001b[0m\n\u001b[0;32m      1\u001b[0m \u001b[1;32mdef\u001b[0m \u001b[0mtest1\u001b[0m\u001b[1;33m(\u001b[0m\u001b[0ma\u001b[0m\u001b[1;33m)\u001b[0m\u001b[1;33m:\u001b[0m\u001b[1;33m\u001b[0m\u001b[1;33m\u001b[0m\u001b[0m\n\u001b[0;32m      2\u001b[0m     \u001b[1;32mif\u001b[0m \u001b[0ma\u001b[0m\u001b[1;33m>\u001b[0m\u001b[1;36m6\u001b[0m\u001b[1;33m:\u001b[0m\u001b[1;33m\u001b[0m\u001b[1;33m\u001b[0m\u001b[0m\n\u001b[1;32m----> 3\u001b[1;33m         \u001b[1;32mraise\u001b[0m \u001b[0mArithmeticError\u001b[0m\u001b[1;33m(\u001b[0m\u001b[1;34m'value is > than 6'\u001b[0m\u001b[1;33m)\u001b[0m\u001b[1;33m\u001b[0m\u001b[1;33m\u001b[0m\u001b[0m\n\u001b[0m",
      "\u001b[1;31mArithmeticError\u001b[0m: value is > than 6"
     ]
    }
   ],
   "source": [
    "test1(10)"
   ]
  },
  {
   "cell_type": "code",
   "execution_count": 60,
   "id": "7266a646",
   "metadata": {},
   "outputs": [],
   "source": [
    "def test2(b):\n",
    "    if b<6:\n",
    "        raise FileNotFoundError('values lesserthan 6')"
   ]
  },
  {
   "cell_type": "code",
   "execution_count": 61,
   "id": "3629e80e",
   "metadata": {},
   "outputs": [
    {
     "ename": "FileNotFoundError",
     "evalue": "values lesserthan 6",
     "output_type": "error",
     "traceback": [
      "\u001b[1;31m---------------------------------------------------------------------------\u001b[0m",
      "\u001b[1;31mFileNotFoundError\u001b[0m                         Traceback (most recent call last)",
      "\u001b[1;32m<ipython-input-61-8090f0b12dd2>\u001b[0m in \u001b[0;36m<module>\u001b[1;34m\u001b[0m\n\u001b[1;32m----> 1\u001b[1;33m \u001b[0mtest2\u001b[0m\u001b[1;33m(\u001b[0m\u001b[1;36m4\u001b[0m\u001b[1;33m)\u001b[0m\u001b[1;33m\u001b[0m\u001b[1;33m\u001b[0m\u001b[0m\n\u001b[0m",
      "\u001b[1;32m<ipython-input-60-eb34f874b47e>\u001b[0m in \u001b[0;36mtest2\u001b[1;34m(b)\u001b[0m\n\u001b[0;32m      1\u001b[0m \u001b[1;32mdef\u001b[0m \u001b[0mtest2\u001b[0m\u001b[1;33m(\u001b[0m\u001b[0mb\u001b[0m\u001b[1;33m)\u001b[0m\u001b[1;33m:\u001b[0m\u001b[1;33m\u001b[0m\u001b[1;33m\u001b[0m\u001b[0m\n\u001b[0;32m      2\u001b[0m     \u001b[1;32mif\u001b[0m \u001b[0mb\u001b[0m\u001b[1;33m<\u001b[0m\u001b[1;36m6\u001b[0m\u001b[1;33m:\u001b[0m\u001b[1;33m\u001b[0m\u001b[1;33m\u001b[0m\u001b[0m\n\u001b[1;32m----> 3\u001b[1;33m         \u001b[1;32mraise\u001b[0m \u001b[0mFileNotFoundError\u001b[0m\u001b[1;33m(\u001b[0m\u001b[1;34m'values lesserthan 6'\u001b[0m\u001b[1;33m)\u001b[0m\u001b[1;33m\u001b[0m\u001b[1;33m\u001b[0m\u001b[0m\n\u001b[0m",
      "\u001b[1;31mFileNotFoundError\u001b[0m: values lesserthan 6"
     ]
    }
   ],
   "source": [
    "test2(4)"
   ]
  },
  {
   "cell_type": "code",
   "execution_count": 62,
   "id": "310785db",
   "metadata": {},
   "outputs": [],
   "source": [
    "def test3(a):\n",
    "    if a>11:\n",
    "        raise Exception('error is ',a)"
   ]
  },
  {
   "cell_type": "code",
   "execution_count": 63,
   "id": "0c5d6c8a",
   "metadata": {},
   "outputs": [
    {
     "ename": "Exception",
     "evalue": "('error is ', 55)",
     "output_type": "error",
     "traceback": [
      "\u001b[1;31m---------------------------------------------------------------------------\u001b[0m",
      "\u001b[1;31mException\u001b[0m                                 Traceback (most recent call last)",
      "\u001b[1;32m<ipython-input-63-664bc057e565>\u001b[0m in \u001b[0;36m<module>\u001b[1;34m\u001b[0m\n\u001b[1;32m----> 1\u001b[1;33m \u001b[0mtest3\u001b[0m\u001b[1;33m(\u001b[0m\u001b[1;36m55\u001b[0m\u001b[1;33m)\u001b[0m\u001b[1;33m\u001b[0m\u001b[1;33m\u001b[0m\u001b[0m\n\u001b[0m",
      "\u001b[1;32m<ipython-input-62-c533c7a0186e>\u001b[0m in \u001b[0;36mtest3\u001b[1;34m(a)\u001b[0m\n\u001b[0;32m      1\u001b[0m \u001b[1;32mdef\u001b[0m \u001b[0mtest3\u001b[0m\u001b[1;33m(\u001b[0m\u001b[0ma\u001b[0m\u001b[1;33m)\u001b[0m\u001b[1;33m:\u001b[0m\u001b[1;33m\u001b[0m\u001b[1;33m\u001b[0m\u001b[0m\n\u001b[0;32m      2\u001b[0m     \u001b[1;32mif\u001b[0m \u001b[0ma\u001b[0m\u001b[1;33m>\u001b[0m\u001b[1;36m11\u001b[0m\u001b[1;33m:\u001b[0m\u001b[1;33m\u001b[0m\u001b[1;33m\u001b[0m\u001b[0m\n\u001b[1;32m----> 3\u001b[1;33m         \u001b[1;32mraise\u001b[0m \u001b[0mException\u001b[0m\u001b[1;33m(\u001b[0m\u001b[1;34m'error is '\u001b[0m\u001b[1;33m,\u001b[0m\u001b[0ma\u001b[0m\u001b[1;33m)\u001b[0m\u001b[1;33m\u001b[0m\u001b[1;33m\u001b[0m\u001b[0m\n\u001b[0m",
      "\u001b[1;31mException\u001b[0m: ('error is ', 55)"
     ]
    }
   ],
   "source": [
    "test3(55)"
   ]
  },
  {
   "cell_type": "code",
   "execution_count": 66,
   "id": "3b32f138",
   "metadata": {},
   "outputs": [],
   "source": [
    "def test3(a):\n",
    "    if a>11:\n",
    "        raise Exception('error is '+str(a))"
   ]
  },
  {
   "cell_type": "code",
   "execution_count": 67,
   "id": "2258d39e",
   "metadata": {},
   "outputs": [
    {
     "ename": "Exception",
     "evalue": "error is 12",
     "output_type": "error",
     "traceback": [
      "\u001b[1;31m---------------------------------------------------------------------------\u001b[0m",
      "\u001b[1;31mException\u001b[0m                                 Traceback (most recent call last)",
      "\u001b[1;32m<ipython-input-67-2dc4c8d0947f>\u001b[0m in \u001b[0;36m<module>\u001b[1;34m\u001b[0m\n\u001b[1;32m----> 1\u001b[1;33m \u001b[0mtest3\u001b[0m\u001b[1;33m(\u001b[0m\u001b[1;36m12\u001b[0m\u001b[1;33m)\u001b[0m\u001b[1;33m\u001b[0m\u001b[1;33m\u001b[0m\u001b[0m\n\u001b[0m",
      "\u001b[1;32m<ipython-input-66-c4994535215e>\u001b[0m in \u001b[0;36mtest3\u001b[1;34m(a)\u001b[0m\n\u001b[0;32m      1\u001b[0m \u001b[1;32mdef\u001b[0m \u001b[0mtest3\u001b[0m\u001b[1;33m(\u001b[0m\u001b[0ma\u001b[0m\u001b[1;33m)\u001b[0m\u001b[1;33m:\u001b[0m\u001b[1;33m\u001b[0m\u001b[1;33m\u001b[0m\u001b[0m\n\u001b[0;32m      2\u001b[0m     \u001b[1;32mif\u001b[0m \u001b[0ma\u001b[0m\u001b[1;33m>\u001b[0m\u001b[1;36m11\u001b[0m\u001b[1;33m:\u001b[0m\u001b[1;33m\u001b[0m\u001b[1;33m\u001b[0m\u001b[0m\n\u001b[1;32m----> 3\u001b[1;33m         \u001b[1;32mraise\u001b[0m \u001b[0mException\u001b[0m\u001b[1;33m(\u001b[0m\u001b[1;34m'error is '\u001b[0m\u001b[1;33m+\u001b[0m\u001b[0mstr\u001b[0m\u001b[1;33m(\u001b[0m\u001b[0ma\u001b[0m\u001b[1;33m)\u001b[0m\u001b[1;33m)\u001b[0m\u001b[1;33m\u001b[0m\u001b[1;33m\u001b[0m\u001b[0m\n\u001b[0m",
      "\u001b[1;31mException\u001b[0m: error is 12"
     ]
    }
   ],
   "source": [
    "test3(12)"
   ]
  },
  {
   "cell_type": "code",
   "execution_count": 18,
   "id": "cb02c5f4",
   "metadata": {},
   "outputs": [],
   "source": [
    "def even_num():\n",
    "    while True:\n",
    "        try:\n",
    "            n=int(input(\"enter a number: \"))\n",
    "        except Exception as e:\n",
    "            print(\"please enter a integer\",e)\n",
    "        else:\n",
    "            for i in range(0,n+1,2):\n",
    "                print(i)\n",
    "            break\n",
    "        "
   ]
  },
  {
   "cell_type": "code",
   "execution_count": 20,
   "id": "d5386b98",
   "metadata": {},
   "outputs": [
    {
     "name": "stdout",
     "output_type": "stream",
     "text": [
      "enter a number: 100\n",
      "0\n",
      "2\n",
      "4\n",
      "6\n",
      "8\n",
      "10\n",
      "12\n",
      "14\n",
      "16\n",
      "18\n",
      "20\n",
      "22\n",
      "24\n",
      "26\n",
      "28\n",
      "30\n",
      "32\n",
      "34\n",
      "36\n",
      "38\n",
      "40\n",
      "42\n",
      "44\n",
      "46\n",
      "48\n",
      "50\n",
      "52\n",
      "54\n",
      "56\n",
      "58\n",
      "60\n",
      "62\n",
      "64\n",
      "66\n",
      "68\n",
      "70\n",
      "72\n",
      "74\n",
      "76\n",
      "78\n",
      "80\n",
      "82\n",
      "84\n",
      "86\n",
      "88\n",
      "90\n",
      "92\n",
      "94\n",
      "96\n",
      "98\n",
      "100\n"
     ]
    }
   ],
   "source": [
    "even_num()"
   ]
  },
  {
   "cell_type": "code",
   "execution_count": 5,
   "id": "6e3058d8",
   "metadata": {},
   "outputs": [
    {
     "name": "stdout",
     "output_type": "stream",
     "text": [
      "enter 1st number: 19\n",
      "enter 2nd number: kncs\n",
      "<class 'ValueError'> ValueError\n",
      "invalid literal for int() with base 10: 'kncs'\n"
     ]
    }
   ],
   "source": [
    "try:\n",
    "    x=int(input('enter 1st number: '))\n",
    "    y=int(input('enter 2nd number: '))\n",
    "    print(x/y)\n",
    "except (ZeroDivisionError,ValueError) as e:\n",
    "    print(type(e),e.__class__.__name__)\n",
    "    print(e)"
   ]
  },
  {
   "cell_type": "code",
   "execution_count": 6,
   "id": "4ebbe561",
   "metadata": {},
   "outputs": [],
   "source": [
    "#various possible combinations of try-except-else-finally blocks"
   ]
  },
  {
   "cell_type": "code",
   "execution_count": 9,
   "id": "7386b3e7",
   "metadata": {},
   "outputs": [
    {
     "ename": "SyntaxError",
     "evalue": "unexpected EOF while parsing (<ipython-input-9-f35cc6f2ccbf>, line 3)",
     "output_type": "error",
     "traceback": [
      "\u001b[1;36m  File \u001b[1;32m\"<ipython-input-9-f35cc6f2ccbf>\"\u001b[1;36m, line \u001b[1;32m3\u001b[0m\n\u001b[1;33m    #except block is must\u001b[0m\n\u001b[1;37m                         ^\u001b[0m\n\u001b[1;31mSyntaxError\u001b[0m\u001b[1;31m:\u001b[0m unexpected EOF while parsing\n"
     ]
    }
   ],
   "source": [
    "try:\n",
    "    print('try')\n",
    "#except block is must"
   ]
  },
  {
   "cell_type": "code",
   "execution_count": 10,
   "id": "dec6f56d",
   "metadata": {},
   "outputs": [
    {
     "ename": "SyntaxError",
     "evalue": "invalid syntax (<ipython-input-10-cfb9bb4a5c21>, line 1)",
     "output_type": "error",
     "traceback": [
      "\u001b[1;36m  File \u001b[1;32m\"<ipython-input-10-cfb9bb4a5c21>\"\u001b[1;36m, line \u001b[1;32m1\u001b[0m\n\u001b[1;33m    except:\u001b[0m\n\u001b[1;37m    ^\u001b[0m\n\u001b[1;31mSyntaxError\u001b[0m\u001b[1;31m:\u001b[0m invalid syntax\n"
     ]
    }
   ],
   "source": [
    "except:\n",
    "    pass\n",
    "#try block is must"
   ]
  },
  {
   "cell_type": "code",
   "execution_count": 11,
   "id": "67bb14f2",
   "metadata": {},
   "outputs": [
    {
     "ename": "SyntaxError",
     "evalue": "invalid syntax (<ipython-input-11-629254a5534e>, line 1)",
     "output_type": "error",
     "traceback": [
      "\u001b[1;36m  File \u001b[1;32m\"<ipython-input-11-629254a5534e>\"\u001b[1;36m, line \u001b[1;32m1\u001b[0m\n\u001b[1;33m    else:\u001b[0m\n\u001b[1;37m    ^\u001b[0m\n\u001b[1;31mSyntaxError\u001b[0m\u001b[1;31m:\u001b[0m invalid syntax\n"
     ]
    }
   ],
   "source": [
    "else:\n",
    "    pass\n",
    "#else block except block is mandatory for except try is mandatory"
   ]
  },
  {
   "cell_type": "code",
   "execution_count": 12,
   "id": "c0d2c0ef",
   "metadata": {},
   "outputs": [
    {
     "ename": "SyntaxError",
     "evalue": "invalid syntax (<ipython-input-12-993fe1045b41>, line 1)",
     "output_type": "error",
     "traceback": [
      "\u001b[1;36m  File \u001b[1;32m\"<ipython-input-12-993fe1045b41>\"\u001b[1;36m, line \u001b[1;32m1\u001b[0m\n\u001b[1;33m    finally:\u001b[0m\n\u001b[1;37m    ^\u001b[0m\n\u001b[1;31mSyntaxError\u001b[0m\u001b[1;31m:\u001b[0m invalid syntax\n"
     ]
    }
   ],
   "source": [
    "finally:\n",
    "    print('fghj')"
   ]
  },
  {
   "cell_type": "code",
   "execution_count": 13,
   "id": "6f8231e7",
   "metadata": {},
   "outputs": [
    {
     "name": "stdout",
     "output_type": "stream",
     "text": [
      "try\n"
     ]
    }
   ],
   "source": [
    "try:\n",
    "    print('try')\n",
    "except:\n",
    "    pass\n",
    "#valid"
   ]
  },
  {
   "cell_type": "code",
   "execution_count": 14,
   "id": "a0618192",
   "metadata": {},
   "outputs": [
    {
     "ename": "SyntaxError",
     "evalue": "invalid syntax (<ipython-input-14-4d0939b66675>, line 3)",
     "output_type": "error",
     "traceback": [
      "\u001b[1;36m  File \u001b[1;32m\"<ipython-input-14-4d0939b66675>\"\u001b[1;36m, line \u001b[1;32m3\u001b[0m\n\u001b[1;33m    else:\u001b[0m\n\u001b[1;37m    ^\u001b[0m\n\u001b[1;31mSyntaxError\u001b[0m\u001b[1;31m:\u001b[0m invalid syntax\n"
     ]
    }
   ],
   "source": [
    "try:\n",
    "    pass\n",
    "else:\n",
    "    pass\n",
    "#invalid becoz else block must require except block"
   ]
  },
  {
   "cell_type": "code",
   "execution_count": 19,
   "id": "8e4d6710",
   "metadata": {},
   "outputs": [
    {
     "name": "stdout",
     "output_type": "stream",
     "text": [
      "file closed in finally block\n"
     ]
    },
    {
     "ename": "UnsupportedOperation",
     "evalue": "not writable",
     "output_type": "error",
     "traceback": [
      "\u001b[1;31m---------------------------------------------------------------------------\u001b[0m",
      "\u001b[1;31mUnsupportedOperation\u001b[0m                      Traceback (most recent call last)",
      "\u001b[1;32m<ipython-input-19-ccc861b616ec>\u001b[0m in \u001b[0;36m<module>\u001b[1;34m\u001b[0m\n\u001b[0;32m      1\u001b[0m \u001b[1;32mtry\u001b[0m\u001b[1;33m:\u001b[0m\u001b[1;33m\u001b[0m\u001b[1;33m\u001b[0m\u001b[0m\n\u001b[0;32m      2\u001b[0m     \u001b[0mf\u001b[0m\u001b[1;33m=\u001b[0m\u001b[0mopen\u001b[0m\u001b[1;33m(\u001b[0m\u001b[1;34m'dhbbCcbs11.txt'\u001b[0m\u001b[1;33m,\u001b[0m\u001b[1;34m'r'\u001b[0m\u001b[1;33m)\u001b[0m\u001b[1;33m\u001b[0m\u001b[1;33m\u001b[0m\u001b[0m\n\u001b[1;32m----> 3\u001b[1;33m     \u001b[0mf\u001b[0m\u001b[1;33m.\u001b[0m\u001b[0mwrite\u001b[0m\u001b[1;33m(\u001b[0m\u001b[1;34m'hiiiiiiiiiiiiiiiiiiiiiiiiiiiiiiiiiiiiiiiiiii'\u001b[0m\u001b[1;33m)\u001b[0m\u001b[1;33m\u001b[0m\u001b[1;33m\u001b[0m\u001b[0m\n\u001b[0m\u001b[0;32m      4\u001b[0m     \u001b[0mf\u001b[0m\u001b[1;33m.\u001b[0m\u001b[0mclose\u001b[0m\u001b[1;33m(\u001b[0m\u001b[1;33m)\u001b[0m\u001b[1;33m\u001b[0m\u001b[1;33m\u001b[0m\u001b[0m\n\u001b[0;32m      5\u001b[0m     \u001b[0mprint\u001b[0m\u001b[1;33m(\u001b[0m\u001b[1;34m'file closed'\u001b[0m\u001b[1;33m)\u001b[0m\u001b[1;33m\u001b[0m\u001b[1;33m\u001b[0m\u001b[0m\n",
      "\u001b[1;31mUnsupportedOperation\u001b[0m: not writable"
     ]
    }
   ],
   "source": [
    "try:\n",
    "    f=open('dhbbCcbs11.txt','r')\n",
    "    f.write('hiiiiiiiiiiiiiiiiiiiiiiiiiiiiiiiiiiiiiiiiiii')\n",
    "    f.close()\n",
    "    print('file closed')\n",
    "finally:\n",
    "    f.close()\n",
    "    print('file closed in finally block') \n",
    "#try-finally is valid"
   ]
  },
  {
   "cell_type": "code",
   "execution_count": 20,
   "id": "d8142384",
   "metadata": {},
   "outputs": [
    {
     "ename": "ValueError",
     "evalue": "I/O operation on closed file.",
     "output_type": "error",
     "traceback": [
      "\u001b[1;31m---------------------------------------------------------------------------\u001b[0m",
      "\u001b[1;31mValueError\u001b[0m                                Traceback (most recent call last)",
      "\u001b[1;32m<ipython-input-20-571e9fb02258>\u001b[0m in \u001b[0;36m<module>\u001b[1;34m\u001b[0m\n\u001b[1;32m----> 1\u001b[1;33m \u001b[0mf\u001b[0m\u001b[1;33m.\u001b[0m\u001b[0mread\u001b[0m\u001b[1;33m(\u001b[0m\u001b[1;33m)\u001b[0m\u001b[1;33m\u001b[0m\u001b[1;33m\u001b[0m\u001b[0m\n\u001b[0m",
      "\u001b[1;31mValueError\u001b[0m: I/O operation on closed file."
     ]
    }
   ],
   "source": [
    "f.read()"
   ]
  },
  {
   "cell_type": "code",
   "execution_count": 21,
   "id": "2ca776c3",
   "metadata": {},
   "outputs": [
    {
     "ename": "SyntaxError",
     "evalue": "invalid syntax (<ipython-input-21-22b1ad908fb2>, line 3)",
     "output_type": "error",
     "traceback": [
      "\u001b[1;36m  File \u001b[1;32m\"<ipython-input-21-22b1ad908fb2>\"\u001b[1;36m, line \u001b[1;32m3\u001b[0m\n\u001b[1;33m    else:\u001b[0m\n\u001b[1;37m    ^\u001b[0m\n\u001b[1;31mSyntaxError\u001b[0m\u001b[1;31m:\u001b[0m invalid syntax\n"
     ]
    }
   ],
   "source": [
    "try:\n",
    "    pass\n",
    "else:\n",
    "    pass\n",
    "except:\n",
    "    pass\n",
    "#invalid except mustbe before else"
   ]
  },
  {
   "cell_type": "code",
   "execution_count": 22,
   "id": "882434f8",
   "metadata": {},
   "outputs": [],
   "source": [
    "try:\n",
    "    pass\n",
    "except:\n",
    "    pass\n",
    "finally:\n",
    "    pass\n",
    "#valid"
   ]
  },
  {
   "cell_type": "code",
   "execution_count": 24,
   "id": "12cf75f9",
   "metadata": {},
   "outputs": [
    {
     "ename": "SyntaxError",
     "evalue": "invalid syntax (<ipython-input-24-956c40da6703>, line 5)",
     "output_type": "error",
     "traceback": [
      "\u001b[1;36m  File \u001b[1;32m\"<ipython-input-24-956c40da6703>\"\u001b[1;36m, line \u001b[1;32m5\u001b[0m\n\u001b[1;33m    except:\u001b[0m\n\u001b[1;37m    ^\u001b[0m\n\u001b[1;31mSyntaxError\u001b[0m\u001b[1;31m:\u001b[0m invalid syntax\n"
     ]
    }
   ],
   "source": [
    "try:\n",
    "    pass\n",
    "finally:\n",
    "    pass\n",
    "except:\n",
    "    pass\n",
    "#invalid"
   ]
  },
  {
   "cell_type": "code",
   "execution_count": 25,
   "id": "c92e9070",
   "metadata": {},
   "outputs": [],
   "source": [
    "try:\n",
    "    pass\n",
    "except:\n",
    "    pass\n",
    "else:\n",
    "    pass\n",
    "finally:\n",
    "    pass\n",
    "#perfectly valid"
   ]
  },
  {
   "cell_type": "code",
   "execution_count": 26,
   "id": "0bcf3f59",
   "metadata": {},
   "outputs": [],
   "source": [
    "try:\n",
    "    pass\n",
    "except:\n",
    "    pass\n",
    "#1st block\n",
    "try:\n",
    "    pass\n",
    "finally:\n",
    "    pass\n",
    "#2nd block\n",
    "#valid"
   ]
  },
  {
   "cell_type": "code",
   "execution_count": 27,
   "id": "240d90b2",
   "metadata": {},
   "outputs": [
    {
     "ename": "SyntaxError",
     "evalue": "invalid syntax (<ipython-input-27-38262d068c49>, line 8)",
     "output_type": "error",
     "traceback": [
      "\u001b[1;36m  File \u001b[1;32m\"<ipython-input-27-38262d068c49>\"\u001b[1;36m, line \u001b[1;32m8\u001b[0m\n\u001b[1;33m    else:\u001b[0m\n\u001b[1;37m    ^\u001b[0m\n\u001b[1;31mSyntaxError\u001b[0m\u001b[1;31m:\u001b[0m invalid syntax\n"
     ]
    }
   ],
   "source": [
    "try:\n",
    "    pass\n",
    "except:\n",
    "    pass\n",
    "#valid\n",
    "try:\n",
    "    pass\n",
    "else:\n",
    "    pass\n",
    "#invalid\n",
    "#so overall invalid"
   ]
  },
  {
   "cell_type": "code",
   "execution_count": 31,
   "id": "077ac807",
   "metadata": {},
   "outputs": [],
   "source": [
    "try:\n",
    "    pass\n",
    "except xxxxx:\n",
    "    pass\n",
    "except yyyyyy:\n",
    "    pass\n",
    "#valid"
   ]
  },
  {
   "cell_type": "code",
   "execution_count": 32,
   "id": "9e8a9ddf",
   "metadata": {},
   "outputs": [
    {
     "ename": "SyntaxError",
     "evalue": "invalid syntax (<ipython-input-32-1a8903681304>, line 7)",
     "output_type": "error",
     "traceback": [
      "\u001b[1;36m  File \u001b[1;32m\"<ipython-input-32-1a8903681304>\"\u001b[1;36m, line \u001b[1;32m7\u001b[0m\n\u001b[1;33m    else:\u001b[0m\n\u001b[1;37m    ^\u001b[0m\n\u001b[1;31mSyntaxError\u001b[0m\u001b[1;31m:\u001b[0m invalid syntax\n"
     ]
    }
   ],
   "source": [
    "try:\n",
    "    pass\n",
    "except:\n",
    "    pass\n",
    "else:\n",
    "    pass\n",
    "else:\n",
    "    pass\n",
    "#invalid"
   ]
  },
  {
   "cell_type": "code",
   "execution_count": 33,
   "id": "766bec90",
   "metadata": {},
   "outputs": [
    {
     "ename": "SyntaxError",
     "evalue": "invalid syntax (<ipython-input-33-9ed03a807132>, line 7)",
     "output_type": "error",
     "traceback": [
      "\u001b[1;36m  File \u001b[1;32m\"<ipython-input-33-9ed03a807132>\"\u001b[1;36m, line \u001b[1;32m7\u001b[0m\n\u001b[1;33m    finally:\u001b[0m\n\u001b[1;37m    ^\u001b[0m\n\u001b[1;31mSyntaxError\u001b[0m\u001b[1;31m:\u001b[0m invalid syntax\n"
     ]
    }
   ],
   "source": [
    "try:\n",
    "    pass\n",
    "except:\n",
    "    pass\n",
    "finally:\n",
    "    pass\n",
    "finally:\n",
    "    pass\n",
    "#invalid"
   ]
  },
  {
   "cell_type": "code",
   "execution_count": 35,
   "id": "28dc4e4b",
   "metadata": {},
   "outputs": [],
   "source": [
    "try:\n",
    "    pass\n",
    "except:\n",
    "    pass\n",
    "if 10>20:\n",
    "    pass\n",
    "else:\n",
    "    pass\n",
    "#valid try-except one block , if-else another block"
   ]
  },
  {
   "cell_type": "code",
   "execution_count": 36,
   "id": "2c1ba693",
   "metadata": {},
   "outputs": [
    {
     "ename": "SyntaxError",
     "evalue": "invalid syntax (<ipython-input-36-e9a8ffff7eaf>, line 3)",
     "output_type": "error",
     "traceback": [
      "\u001b[1;36m  File \u001b[1;32m\"<ipython-input-36-e9a8ffff7eaf>\"\u001b[1;36m, line \u001b[1;32m3\u001b[0m\n\u001b[1;33m    print('hiii')\u001b[0m\n\u001b[1;37m    ^\u001b[0m\n\u001b[1;31mSyntaxError\u001b[0m\u001b[1;31m:\u001b[0m invalid syntax\n"
     ]
    }
   ],
   "source": [
    "try:\n",
    "    pass\n",
    "print('hiii')\n",
    "except:\n",
    "    pass\n",
    "#invalid"
   ]
  },
  {
   "cell_type": "code",
   "execution_count": 37,
   "id": "c53822d1",
   "metadata": {},
   "outputs": [
    {
     "ename": "SyntaxError",
     "evalue": "invalid syntax (<ipython-input-37-206fb24660c9>, line 6)",
     "output_type": "error",
     "traceback": [
      "\u001b[1;36m  File \u001b[1;32m\"<ipython-input-37-206fb24660c9>\"\u001b[1;36m, line \u001b[1;32m6\u001b[0m\n\u001b[1;33m    except:\u001b[0m\n\u001b[1;37m    ^\u001b[0m\n\u001b[1;31mSyntaxError\u001b[0m\u001b[1;31m:\u001b[0m invalid syntax\n"
     ]
    }
   ],
   "source": [
    "try:\n",
    "    pass\n",
    "except:\n",
    "    pass\n",
    "print('hiiiii')\n",
    "except:\n",
    "    pass\n",
    "#invalid"
   ]
  },
  {
   "cell_type": "code",
   "execution_count": 38,
   "id": "8012c4d9",
   "metadata": {},
   "outputs": [
    {
     "ename": "SyntaxError",
     "evalue": "invalid syntax (<ipython-input-38-796fec530ed7>, line 6)",
     "output_type": "error",
     "traceback": [
      "\u001b[1;36m  File \u001b[1;32m\"<ipython-input-38-796fec530ed7>\"\u001b[1;36m, line \u001b[1;32m6\u001b[0m\n\u001b[1;33m    finally:\u001b[0m\n\u001b[1;37m    ^\u001b[0m\n\u001b[1;31mSyntaxError\u001b[0m\u001b[1;31m:\u001b[0m invalid syntax\n"
     ]
    }
   ],
   "source": [
    "try:\n",
    "    pass\n",
    "except:\n",
    "    pass\n",
    "print('hiiiii')\n",
    "finally:\n",
    "    pass\n",
    "#invalid"
   ]
  },
  {
   "cell_type": "code",
   "execution_count": 40,
   "id": "e7f0c892",
   "metadata": {},
   "outputs": [],
   "source": [
    "try:\n",
    "    try:\n",
    "        pass\n",
    "    except:\n",
    "        pass\n",
    "    else:\n",
    "        pass\n",
    "    finally:\n",
    "        pass\n",
    "except:\n",
    "    pass\n",
    "#valid"
   ]
  },
  {
   "cell_type": "code",
   "execution_count": 41,
   "id": "7dbbc35d",
   "metadata": {},
   "outputs": [],
   "source": [
    "try:\n",
    "    pass\n",
    "except:\n",
    "    try:\n",
    "        pass\n",
    "    except:\n",
    "        pass\n",
    "    else:\n",
    "        pass\n",
    "    finally:\n",
    "        pass\n",
    "#valid"
   ]
  },
  {
   "cell_type": "code",
   "execution_count": 42,
   "id": "c0be5f88",
   "metadata": {},
   "outputs": [],
   "source": [
    "try:\n",
    "    pass\n",
    "except:\n",
    "    pass\n",
    "else:\n",
    "    try:\n",
    "        pass\n",
    "    except:\n",
    "        pass\n",
    "    else:\n",
    "        pass\n",
    "    finally:\n",
    "        pass\n",
    "finally:\n",
    "    pass\n",
    "#valid"
   ]
  },
  {
   "cell_type": "code",
   "execution_count": 43,
   "id": "9afda1f6",
   "metadata": {},
   "outputs": [],
   "source": [
    "try:\n",
    "    pass\n",
    "except:\n",
    "    pass\n",
    "finally:\n",
    "    try:\n",
    "        pass\n",
    "    except:\n",
    "        pass\n",
    "    else:\n",
    "        pass\n",
    "    finally:\n",
    "        pass\n",
    "#valid"
   ]
  },
  {
   "cell_type": "code",
   "execution_count": 1,
   "id": "591bc06e",
   "metadata": {},
   "outputs": [],
   "source": [
    "try:\n",
    "    pass\n",
    "except (ValueError,ZeroDivisionError) as e:\n",
    "    pass\n",
    "#for multiple handles in a single except they must be in a tuple"
   ]
  },
  {
   "cell_type": "code",
   "execution_count": null,
   "id": "958940ec",
   "metadata": {},
   "outputs": [],
   "source": []
  }
 ],
 "metadata": {
  "kernelspec": {
   "display_name": "Python 3 (ipykernel)",
   "language": "python",
   "name": "python3"
  },
  "language_info": {
   "codemirror_mode": {
    "name": "ipython",
    "version": 3
   },
   "file_extension": ".py",
   "mimetype": "text/x-python",
   "name": "python",
   "nbconvert_exporter": "python",
   "pygments_lexer": "ipython3",
   "version": "3.8.11"
  }
 },
 "nbformat": 4,
 "nbformat_minor": 5
}
