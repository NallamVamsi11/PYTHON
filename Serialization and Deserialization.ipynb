{
 "cells": [
  {
   "cell_type": "code",
   "execution_count": 2,
   "id": "1d34a3c2",
   "metadata": {},
   "outputs": [
    {
     "name": "stdout",
     "output_type": "stream",
     "text": [
      "enter file name: vamsi11\n",
      "enter file type .txt is good: .txt\n",
      "enter date DD-MM-YYYY: 22-09-2021\n",
      "do u want to open-o/read-r/append-a/exit-e: r\n",
      "file created on 21-09-2021hi iam vamsi iam appending to this file\n",
      "file reading successful\n",
      "do u want to open-o/read-r/append-a/exit-e: e\n"
     ]
    }
   ],
   "source": [
    "import logging\n",
    "class Data:\n",
    "    def __init__(self,file_name,file_type,date):\n",
    "        self.file_name=file_name\n",
    "        self.file_type=file_type\n",
    "        self.date=date\n",
    "        s=file_name+file_type+date\n",
    "        self.file_log(s ,'info')\n",
    "    def file_open(self):\n",
    "        fname=self.file_name+self.file_type\n",
    "        try:\n",
    "            f=open(fname,'r')\n",
    "            f.close()\n",
    "            print('file opened:')\n",
    "            self.file_log('file opened','info')\n",
    "            choice=input('if u want to read or append enter r/a: ')\n",
    "            if choice.lower()=='r':\n",
    "                self.file_read(fname)\n",
    "            elif choice.lower()=='a':\n",
    "                self.file_append(fname)\n",
    "        except FileNotFoundError as e:\n",
    "            print('sorry , no file with this name',e)\n",
    "            self.file_log('sorry , file with this name not existed'+' '+str(e),'error')\n",
    "            print('so we r creating a new file ',fname)\n",
    "            self.file_log('so we are creating a new file','info')\n",
    "            f=open(fname,'w')\n",
    "            f.write('file created on '+self.date)\n",
    "            f.close()\n",
    "            self.file_log(fname+' '+'file created','info')\n",
    "    def file_read(self,fname):\n",
    "        try:\n",
    "            f=open(fname,'r')\n",
    "            self.file_log('reading from file','info')\n",
    "            print(f.read())\n",
    "            f.close()\n",
    "            print('file reading successful')\n",
    "            self.file_log('file reading successfull','info')\n",
    "        except FileNotFoundError as e:\n",
    "            print('sorry file not found',e)\n",
    "            self.file_log(e,'error')\n",
    "    def file_append(self,fname):\n",
    "        try:\n",
    "            f=open(fname,'r')\n",
    "            f.close()\n",
    "            f=open(fname,'a')\n",
    "            s=input('enter the data to be appended')\n",
    "            f.write(s)\n",
    "            f.close()\n",
    "            self.file_log('appending to file '+fname+' is successful','info')\n",
    "            print('file appending succesfull')\n",
    "        except FileNotFoundError as e:\n",
    "            self.file_log(str(e),'error')\n",
    "            print('sorry file not found ')\n",
    "            choice = input('do u want to create a file s/n: ')\n",
    "            if choice.lower()=='s':\n",
    "                self.file_log('user wants to create file ','info')\n",
    "                f=open(fname,'a')\n",
    "                s=input('enter the data to be appended')\n",
    "                f.write(s)\n",
    "                f.close()\n",
    "                self.file_log('appending to file '+fname+' is successful','info')\n",
    "                print('file appending succesfull')\n",
    "            else:\n",
    "                print('ok u dont want to create file.')\n",
    "    def file_log(self,dat,l):\n",
    "        fname='log_'+self.date[0:2]+self.date[3:5]+self.date[6:10]+'.txt'\n",
    "        logging.basicConfig(filename=fname,level=logging.INFO,format='%(asctime)s:%(levelname)s:%(message)s')\n",
    "        if l=='info':\n",
    "            logging.info(dat)\n",
    "        elif l=='warning':\n",
    "            logging.warning(dat)\n",
    "        elif l=='error':\n",
    "            logging.error(dat)\n",
    "        elif l=='critical':\n",
    "            logging.critical(dat)\n",
    "        logging.shutdown()\n",
    "\n",
    "name=input('enter file name: ')\n",
    "type1=input('enter file type .txt is good: ')\n",
    "date=input('enter date DD-MM-YYYY: ')\n",
    "name1=name+type1\n",
    "while True:\n",
    "    choice = input('do u want to open-o/read-r/append-a/exit-e: ')\n",
    "    if choice.lower()=='o':\n",
    "        d=Data(name,type1,date)\n",
    "        d.file_open()\n",
    "    elif choice.lower()=='r':\n",
    "        d=Data(name,type1,date)\n",
    "        \n",
    "        d.file_read(name1)\n",
    "    elif choice.lower()=='a':\n",
    "        d=Data(name,type1,date)\n",
    "        \n",
    "        d.file_append(name1)\n",
    "    else:\n",
    "        break   "
   ]
  },
  {
   "cell_type": "markdown",
   "id": "489bc055",
   "metadata": {},
   "source": [
    "SERIALIZATION & DESERIALIZATION "
   ]
  },
  {
   "cell_type": "code",
   "execution_count": 2,
   "id": "f103995b",
   "metadata": {},
   "outputs": [],
   "source": [
    "'''Serialization- The process of converting a python object from python supported form to file supported form or \n",
    "network supported form .\n",
    "Deserialization - The process of converting an object from either file supported form or newtork supported form to\n",
    "python supported form.\n",
    "for serialization and deserialization of object wrt file we use - pickle module.\n",
    "for serialization and deserialization of object wrt network we use - JSON , YAML module. '''\n",
    "pass"
   ]
  },
  {
   "cell_type": "code",
   "execution_count": 3,
   "id": "3fa3e59d",
   "metadata": {},
   "outputs": [],
   "source": [
    "#Serialization and Deserialization of object wrt file - using pickle module -> dump(),load() functions\n",
    "#pickle.dump(obj,file) - for serialization\n",
    "#obj=pickle.load(file) - for deserialization\n"
   ]
  },
  {
   "cell_type": "code",
   "execution_count": 12,
   "id": "c72d1399",
   "metadata": {},
   "outputs": [
    {
     "name": "stdout",
     "output_type": "stream",
     "text": [
      "object serialization done.\n",
      "deserialization done\n",
      "Student name: vamsi\n",
      "Student roll.no: 1904068\n",
      "Student cgpa: 7.8\n",
      "Student adress: Addankivarilanka\n",
      "{'sname': 'vamsi', 'sroll': 1904068, 'scgpa': 7.8, 'saddr': 'Addankivarilanka'}\n"
     ]
    }
   ],
   "source": [
    "import pickle\n",
    "class Student:\n",
    "    def __init__(self,name,roll,cgpa,addr):\n",
    "        self.sname=name\n",
    "        self.sroll=roll\n",
    "        self.scgpa=cgpa\n",
    "        self.saddr=addr\n",
    "    def display(self):\n",
    "        print('Student name:',self.sname)\n",
    "        print('Student roll.no:',self.sroll)\n",
    "        print('Student cgpa:',self.scgpa)\n",
    "        print('Student adress:',self.saddr)\n",
    "s1=Student('vamsi',1904068,7.8,'Addankivarilanka')\n",
    "with open('student.ser','wb') as f:\n",
    "    pickle.dump(s1,f)\n",
    "print('object serialization done.')\n",
    "with open('student.ser','rb') as f:\n",
    "    new_s=pickle.load(f)\n",
    "print('deserialization done')\n",
    "new_s.display()\n",
    "print(new_s.__dict__)\n",
    "f.close()"
   ]
  },
  {
   "cell_type": "code",
   "execution_count": 13,
   "id": "69237d9b",
   "metadata": {},
   "outputs": [
    {
     "name": "stdout",
     "output_type": "stream",
     "text": [
      "enter student name: vamsi\n",
      "enter student rollno: 1904068\n",
      "enter student cgpa: 7.8\n",
      "enter student address: addankivarilanka\n",
      "do u want to continue y/n: y\n",
      "enter student name: jagadeesh\n",
      "enter student rollno: 1904062\n",
      "enter student cgpa: 7.4\n",
      "enter student address: palasa\n",
      "do u want to continue y/n: y\n",
      "enter student name: nitish\n",
      "enter student rollno: 1904041\n",
      "enter student cgpa: 7.7\n",
      "enter student address: hyderabad\n",
      "do u want to continue y/n: n\n"
     ]
    }
   ],
   "source": [
    "import pickle\n",
    "import student_py\n",
    "f=open('stud_det.ser','wb')\n",
    "while True:\n",
    "    name=input('enter student name: ')\n",
    "    roll=int(input('enter student rollno: '))\n",
    "    cgpa=float(input('enter student cgpa: '))\n",
    "    addr=input('enter student address: ')\n",
    "    s=Student(name,roll,cgpa,addr)\n",
    "    pickle.dump(s,f)\n",
    "    choice=input('do u want to continue y/n: ')\n",
    "    if choice.lower()=='n':\n",
    "        break\n",
    "f.close()"
   ]
  },
  {
   "cell_type": "code",
   "execution_count": 16,
   "id": "532511da",
   "metadata": {},
   "outputs": [
    {
     "name": "stdout",
     "output_type": "stream",
     "text": [
      "Student name: vamsi\n",
      "Student roll.no: 1904068\n",
      "Student cgpa: 7.8\n",
      "Student adress: addankivarilanka\n",
      "\n",
      "Student name: jagadeesh\n",
      "Student roll.no: 1904062\n",
      "Student cgpa: 7.4\n",
      "Student adress: palasa\n",
      "\n",
      "Student name: nitish\n",
      "Student roll.no: 1904041\n",
      "Student cgpa: 7.7\n",
      "Student adress: hyderabad\n",
      "\n",
      "This is data of all Employees\n"
     ]
    }
   ],
   "source": [
    "import pickle\n",
    "import student_py\n",
    "f=open('stud_det.ser','rb')\n",
    "while True:\n",
    "    try:\n",
    "        new_s=pickle.load(f)\n",
    "        new_s.display()\n",
    "        print()\n",
    "    except EOFError:\n",
    "        break\n",
    "print('This is data of all Employees')"
   ]
  },
  {
   "cell_type": "code",
   "execution_count": 2,
   "id": "10806550",
   "metadata": {},
   "outputs": [
    {
     "name": "stdout",
     "output_type": "stream",
     "text": [
      "enter Employee name: nallam vamsi\n",
      "enter Employee id: 5454\n",
      "enter Employee salary: 1800000\n",
      "enter Employee address: addankivarilanka\n",
      "do u want to continue y/n: y\n",
      "\n",
      "enter Employee name: madhapur nitish\n",
      "enter Employee id: 6464\n",
      "enter Employee salary: 1800000\n",
      "enter Employee address: hyderabad\n",
      "do u want to continue y/n: y\n",
      "\n",
      "enter Employee name: karukola jagadeesh\n",
      "enter Employee id: 7474\n",
      "enter Employee salary: 1800000\n",
      "enter Employee address: palasa\n",
      "do u want to continue y/n: n\n",
      "\n",
      "data entry completed\n",
      "Employee name: nallam vamsi\n",
      "Employee roll.no: 5454\n",
      "Employee cgpa: 1800000.0\n",
      "Employee adress: addankivarilanka\n",
      "\n",
      "Employee name: madhapur nitish\n",
      "Employee roll.no: 6464\n",
      "Employee cgpa: 1800000.0\n",
      "Employee adress: hyderabad\n",
      "\n",
      "Employee name: karukola jagadeesh\n",
      "Employee roll.no: 7474\n",
      "Employee cgpa: 1800000.0\n",
      "Employee adress: palasa\n",
      "\n",
      "This is data of all Employees\n"
     ]
    }
   ],
   "source": [
    "#final program\n",
    "import pickle\n",
    "class Employee:\n",
    "    def __init__(self,name,id1,sal,addr):\n",
    "        self.ename=name\n",
    "        self.eid=id1\n",
    "        self.esal=sal\n",
    "        self.eaddr=addr\n",
    "    def display(self):\n",
    "        print('Employee name:',self.ename)\n",
    "        print('Employee roll.no:',self.eid)\n",
    "        print('Employee cgpa:',self.esal)\n",
    "        print('Employee adress:',self.eaddr)\n",
    "#data entry\n",
    "f=open('Employee_det.ser','wb')\n",
    "while True:\n",
    "    name1=input('enter Employee name: ')\n",
    "    id11=int(input('enter Employee id: '))\n",
    "    sal1=float(input('enter Employee salary: '))\n",
    "    addr1=input('enter Employee address: ')\n",
    "    e=Employee(name1,id11,sal1,addr1)\n",
    "    pickle.dump(e,f)\n",
    "    choice=input('do u want to continue y/n: ')\n",
    "    print()\n",
    "    if choice.lower()=='n':\n",
    "        break\n",
    "f.close()\n",
    "print('data entry completed')\n",
    "#data reading\n",
    "f=open('Employee_det.ser','rb')\n",
    "while True:\n",
    "    try:\n",
    "        new_e=pickle.load(f)\n",
    "        new_e.display()\n",
    "        print()\n",
    "    except EOFError:\n",
    "        break\n",
    "f.close()\n",
    "print('This is data of all Employees')"
   ]
  },
  {
   "cell_type": "code",
   "execution_count": 8,
   "id": "b45189bb",
   "metadata": {},
   "outputs": [
    {
     "name": "stdout",
     "output_type": "stream",
     "text": [
      "<class 'str'> name vamsi\n",
      "<class 'str'> roll 1904068\n",
      "<class 'str'> cgpa 7.8\n",
      "\n",
      "<class 'str'> __module__ __main__\n",
      "<class 'str'> clg nitp\n",
      "<class 'str'> __init__ <function Test.__init__ at 0x000001E018B8FDC0>\n",
      "<class 'str'> m1 <function Test.m1 at 0x000001E018B8FB80>\n",
      "<class 'str'> m2 <classmethod object at 0x000001E018B923A0>\n",
      "<class 'str'> m3 <staticmethod object at 0x000001E018B92310>\n",
      "<class 'str'> __dict__ <attribute '__dict__' of 'Test' objects>\n",
      "<class 'str'> __weakref__ <attribute '__weakref__' of 'Test' objects>\n",
      "<class 'str'> __doc__ None\n",
      "\n",
      "{'name': 'vamsi', 'roll': 1904068, 'cgpa': 7.8}\n",
      "{'__module__': '__main__', 'clg': 'nitp', '__init__': <function Test.__init__ at 0x000001E018B8FDC0>, 'm1': <function Test.m1 at 0x000001E018B8FB80>, 'm2': <classmethod object at 0x000001E018B923A0>, 'm3': <staticmethod object at 0x000001E018B92310>, '__dict__': <attribute '__dict__' of 'Test' objects>, '__weakref__': <attribute '__weakref__' of 'Test' objects>, '__doc__': None}\n",
      "\n",
      "str name vamsi\n",
      "int roll 1904068\n",
      "float cgpa 7.8\n",
      "\n",
      "str __module__ __main__\n",
      "str clg nitp\n",
      "function __init__ <function Test.__init__ at 0x000001E018B8FDC0>\n",
      "function m1 <function Test.m1 at 0x000001E018B8FB80>\n",
      "classmethod m2 <classmethod object at 0x000001E018B923A0>\n",
      "staticmethod m3 <staticmethod object at 0x000001E018B92310>\n",
      "getset_descriptor __dict__ <attribute '__dict__' of 'Test' objects>\n",
      "getset_descriptor __weakref__ <attribute '__weakref__' of 'Test' objects>\n",
      "NoneType __doc__ None\n"
     ]
    }
   ],
   "source": [
    "class Test:\n",
    "    clg='nitp'\n",
    "    def __init__(self):\n",
    "        self.name='vamsi'\n",
    "        self.roll=1904068\n",
    "        self.cgpa=7.8\n",
    "    def m1(self):\n",
    "        print('m1 inst method',self.name)\n",
    "    @classmethod\n",
    "    def m2(cls):\n",
    "        print('classmethod m2',cls.clg)\n",
    "    @staticmethod\n",
    "    def m3():\n",
    "        print('static method m3')\n",
    "t=Test()\n",
    "t1=t.__dict__\n",
    "t2=Test.__dict__\n",
    "for i in t1:\n",
    "    print(type(i),i,t1[i])\n",
    "print()\n",
    "for j in t2:\n",
    "    print(type(j),j,t2[j])\n",
    "print()\n",
    "print(t.__dict__)\n",
    "print(Test.__dict__)\n",
    "print()\n",
    "for i in t1:\n",
    "    print(t1[i].__class__.__name__,i,t1[i])\n",
    "print()\n",
    "for j in t2:\n",
    "    print(t2[j].__class__.__name__,j,t2[j])"
   ]
  },
  {
   "cell_type": "code",
   "execution_count": 3,
   "id": "3a41439b",
   "metadata": {},
   "outputs": [],
   "source": [
    "#Serialization using JSON,YAML\n",
    "'''in this world any application can communicate with any other application , irrespective of the programming language\n",
    "& on the platform in which they are running. The common format is json format . So when we want to send a python object\n",
    "to other language applications , we convert our python dict object to json(-Java Scripy Object Notation) file and then \n",
    "send it this process of python object to json - Serialization.\n",
    "When other applications sends us json file , converting it to python object -Deserialization.\n",
    "for this we use 'json' module and functions dumps(),dump(),loads(),load().\n",
    "in python we call dict , in java script we call the group of key value pairs as object.'''\n",
    "pass"
   ]
  },
  {
   "cell_type": "code",
   "execution_count": 7,
   "id": "e0d2db33",
   "metadata": {},
   "outputs": [
    {
     "name": "stdout",
     "output_type": "stream",
     "text": [
      "{\"name\": \"Vamsi\", \"age\": 21, \"salary\": 100000.0, \"ismaried\": false, \"ishavingGF\": null} <class 'str'>\n"
     ]
    }
   ],
   "source": [
    "#code-1\n",
    "import json\n",
    "#we r converting pythonic dict object to a java script dict-Object\n",
    "emp={'name':'Vamsi','age':21,'salary':100000.0,'ismaried':False,'ishavingGF':None}\n",
    "json_str = json.dumps(emp)\n",
    "print(json_str,type(json_str))\n",
    "#in java script None->null , True-> true , False-> false."
   ]
  },
  {
   "cell_type": "code",
   "execution_count": 13,
   "id": "ecd38caa",
   "metadata": {},
   "outputs": [
    {
     "name": "stdout",
     "output_type": "stream",
     "text": [
      "{\n",
      "     \"name\": \"Vamsi\",\n",
      "     \"age\": 21,\n",
      "     \"salary\": 100000.0,\n",
      "     \"ismaried\": false,\n",
      "     \"ishavingGF\": null\n",
      "}\n"
     ]
    }
   ],
   "source": [
    "import json\n",
    "emp={'name':'Vamsi','age':21,'salary':100000.0,'ismaried':False,'ishavingGF':None}\n",
    "json_str = json.dumps(emp,indent=5)\n",
    "print(json_str)"
   ]
  },
  {
   "cell_type": "code",
   "execution_count": 21,
   "id": "0e2c8feb",
   "metadata": {},
   "outputs": [
    {
     "name": "stdout",
     "output_type": "stream",
     "text": [
      "{\n",
      "     \"name\": \"Vamsi\",\n",
      "     \"age\": 21,\n",
      "     \"salary\": 100000.0,\n",
      "     \"ismaried\": false,\n",
      "     \"ishavingGF\": null\n",
      "}\n"
     ]
    }
   ],
   "source": [
    "'''If ``skipkeys`` is true then ``dict`` keys that are not basic types\n",
    "(``str``, ``int``, ``float``, ``bool``, ``None``) will be skipped\n",
    "instead of raising a ``TypeError``.'''\n",
    "import json\n",
    "emp={'name':'Vamsi','age':21,'salary':100000.0,'ismaried':False,'ishavingGF':None,3+4j:'complexkey'}\n",
    "json_str = json.dumps(emp,skipkeys=True,indent=5)\n",
    "print(json_str)"
   ]
  },
  {
   "cell_type": "code",
   "execution_count": 23,
   "id": "bad9d596",
   "metadata": {},
   "outputs": [
    {
     "name": "stdout",
     "output_type": "stream",
     "text": [
      "{\n",
      "     \"age\": 21,\n",
      "     \"ishavingGF\": null,\n",
      "     \"ismaried\": false,\n",
      "     \"name\": \"Vamsi\",\n",
      "     \"salary\": 100000.0\n",
      "}\n"
     ]
    }
   ],
   "source": [
    "'''If *sort_keys* is true (default: ``False``), then the output of\n",
    "dictionaries will be sorted by key.'''\n",
    "import json\n",
    "emp={'name':'Vamsi','age':21,'salary':100000.0,'ismaried':False,'ishavingGF':None}\n",
    "json_str = json.dumps(emp,sort_keys=True,indent=5)\n",
    "print(json_str)"
   ]
  },
  {
   "cell_type": "code",
   "execution_count": 24,
   "id": "c1247f4b",
   "metadata": {},
   "outputs": [],
   "source": [
    "#to serialize our python dict object to a json file-dump()\n",
    "import json\n",
    "emp={'name':'Vamsi','age':21,'salary':100000.0,'ismaried':False,'ishavingGF':None}\n",
    "with open('employee.json','w') as f:\n",
    "    json.dump(emp,f)"
   ]
  },
  {
   "cell_type": "code",
   "execution_count": 30,
   "id": "b23d9de9",
   "metadata": {},
   "outputs": [
    {
     "name": "stdout",
     "output_type": "stream",
     "text": [
      "{\"name\": \"Vamsi\", \"age\": 21, \"salary\": 100000.0, \"ismaried\": false, \"ishavingGF\": null}\n",
      "{'name': 'Vamsi', 'age': 21, 'salary': 100000.0, 'ismaried': False, 'ishavingGF': None} <class 'dict'>\n"
     ]
    }
   ],
   "source": [
    "import json\n",
    "f=open('employee.json','r')\n",
    "s=f.read()\n",
    "emp=json.loads(s)\n",
    "print(s)\n",
    "print(emp,type(emp))\n",
    "f.close()"
   ]
  },
  {
   "cell_type": "code",
   "execution_count": 31,
   "id": "70b1d8c5",
   "metadata": {},
   "outputs": [
    {
     "name": "stdout",
     "output_type": "stream",
     "text": [
      "{'age': 21, 'ishavingGF': None, 'ismaried': False, 'name': 'Vamsi', 'salary': 100000.0}\n"
     ]
    }
   ],
   "source": [
    "json_str='''{\n",
    "     \"age\": 21,\n",
    "     \"ishavingGF\": null,\n",
    "     \"ismaried\": false,\n",
    "     \"name\": \"Vamsi\",\n",
    "     \"salary\": 100000.0\n",
    "}'''\n",
    "emp=json.loads(json_str)\n",
    "print(emp)"
   ]
  },
  {
   "cell_type": "code",
   "execution_count": 33,
   "id": "0c1602cc",
   "metadata": {},
   "outputs": [
    {
     "name": "stdout",
     "output_type": "stream",
     "text": [
      "{'name': 'Vamsi', 'age': 21, 'salary': 100000.0, 'ismaried': False, 'ishavingGF': None} <class 'dict'>\n"
     ]
    }
   ],
   "source": [
    "#Deserializing from json file- load()\n",
    "import json\n",
    "f=open('employee.json','r')\n",
    "emp1=json.load(f)\n",
    "print(emp1,type(emp1))\n",
    "f.close()"
   ]
  },
  {
   "cell_type": "code",
   "execution_count": 35,
   "id": "1acbd0a7",
   "metadata": {},
   "outputs": [
    {
     "name": "stdout",
     "output_type": "stream",
     "text": [
      "\"vamsi\"\n"
     ]
    }
   ],
   "source": [
    "import json\n",
    "s='vamsi'\n",
    "js=json.dumps(s)\n",
    "print(js)"
   ]
  },
  {
   "cell_type": "code",
   "execution_count": 1,
   "id": "50677a30",
   "metadata": {},
   "outputs": [
    {
     "name": "stdout",
     "output_type": "stream",
     "text": [
      "Note: you may need to restart the kernel to use updated packages.\n"
     ]
    },
    {
     "name": "stderr",
     "output_type": "stream",
     "text": [
      "The filename, directory name, or volume label syntax is incorrect.\n"
     ]
    }
   ],
   "source": [
    "pip install requests"
   ]
  },
  {
   "cell_type": "code",
   "execution_count": 1,
   "id": "360281c9",
   "metadata": {},
   "outputs": [],
   "source": [
    "import requests"
   ]
  },
  {
   "cell_type": "code",
   "execution_count": 5,
   "id": "eeae2430",
   "metadata": {},
   "outputs": [
    {
     "name": "stdout",
     "output_type": "stream",
     "text": [
      "<class 'dict'>\n",
      "{'code': 'USD', 'symbol': '&#36;', 'rate': '41,097.3209', 'description': 'United States Dollar', 'rate_float': 41097.3209}\n"
     ]
    }
   ],
   "source": [
    "#to get bitcoin price\n",
    "import requests,json\n",
    "response=requests.get('https://api.coindesk.com/v1/bpi/currentprice.json')\n",
    "binfo=response.json()\n",
    "print(type(binfo))\n",
    "print(binfo['bpi']['USD'])"
   ]
  },
  {
   "cell_type": "code",
   "execution_count": 9,
   "id": "f5261797",
   "metadata": {},
   "outputs": [
    {
     "name": "stdout",
     "output_type": "stream",
     "text": [
      "{\n",
      "          \"name\": \"vamsi\",\n",
      "          \"age\": 21,\n",
      "          \"salary\": 100000.0,\n",
      "          \"ishavingGF\": null\n",
      "}\n"
     ]
    }
   ],
   "source": [
    "#to serialize and deserialize customized objects in json form.\n",
    "#in python we can only ser&deser python dict objects , but not our own customized objects ,\n",
    "#so we can get that object.__dict__ and ser/deser in into json.\n",
    "import json\n",
    "class Employee:\n",
    "    def __init__(self):\n",
    "        self.name='vamsi'\n",
    "        self.age=21\n",
    "        self.salary=100000.00\n",
    "        self.ishavingGF=None\n",
    "e=Employee()\n",
    "emp_dict=e.__dict__\n",
    "json_str= json.dumps(emp_dict,indent=10)\n",
    "print(json_str)\n",
    "#serialization to a file\n",
    "with open('employee.json','a') as f:\n",
    "    f.write('\\n')\n",
    "    json.dump(emp_dict,f,indent=5)\n"
   ]
  },
  {
   "cell_type": "code",
   "execution_count": 10,
   "id": "190f3388",
   "metadata": {},
   "outputs": [
    {
     "ename": "JSONDecodeError",
     "evalue": "Extra data: line 1 column 88 (char 87)",
     "output_type": "error",
     "traceback": [
      "\u001b[1;31m---------------------------------------------------------------------------\u001b[0m",
      "\u001b[1;31mJSONDecodeError\u001b[0m                           Traceback (most recent call last)",
      "\u001b[1;32m~\\AppData\\Local\\Temp/ipykernel_23096/1486051162.py\u001b[0m in \u001b[0;36m<module>\u001b[1;34m\u001b[0m\n\u001b[0;32m      1\u001b[0m \u001b[1;32mimport\u001b[0m \u001b[0mjson\u001b[0m\u001b[1;33m\u001b[0m\u001b[1;33m\u001b[0m\u001b[0m\n\u001b[0;32m      2\u001b[0m \u001b[1;32mwith\u001b[0m \u001b[0mopen\u001b[0m\u001b[1;33m(\u001b[0m\u001b[1;34m'employee.json'\u001b[0m\u001b[1;33m,\u001b[0m\u001b[1;34m'r'\u001b[0m\u001b[1;33m)\u001b[0m \u001b[1;32mas\u001b[0m \u001b[0mf\u001b[0m\u001b[1;33m:\u001b[0m\u001b[1;33m\u001b[0m\u001b[1;33m\u001b[0m\u001b[0m\n\u001b[1;32m----> 3\u001b[1;33m     \u001b[0memp_o\u001b[0m\u001b[1;33m=\u001b[0m\u001b[0mjson\u001b[0m\u001b[1;33m.\u001b[0m\u001b[0mload\u001b[0m\u001b[1;33m(\u001b[0m\u001b[0mf\u001b[0m\u001b[1;33m)\u001b[0m\u001b[1;33m\u001b[0m\u001b[1;33m\u001b[0m\u001b[0m\n\u001b[0m\u001b[0;32m      4\u001b[0m     \u001b[0mprint\u001b[0m\u001b[1;33m(\u001b[0m\u001b[0memp_o\u001b[0m\u001b[1;33m)\u001b[0m\u001b[1;33m\u001b[0m\u001b[1;33m\u001b[0m\u001b[0m\n",
      "\u001b[1;32m~\\anaconda3\\lib\\json\\__init__.py\u001b[0m in \u001b[0;36mload\u001b[1;34m(fp, cls, object_hook, parse_float, parse_int, parse_constant, object_pairs_hook, **kw)\u001b[0m\n\u001b[0;32m    291\u001b[0m     \u001b[0mkwarg\u001b[0m\u001b[1;33m;\u001b[0m \u001b[0motherwise\u001b[0m\u001b[0;31m \u001b[0m\u001b[0;31m`\u001b[0m\u001b[0;31m`\u001b[0m\u001b[0mJSONDecoder\u001b[0m\u001b[0;31m`\u001b[0m\u001b[0;31m`\u001b[0m \u001b[1;32mis\u001b[0m \u001b[0mused\u001b[0m\u001b[1;33m.\u001b[0m\u001b[1;33m\u001b[0m\u001b[1;33m\u001b[0m\u001b[0m\n\u001b[0;32m    292\u001b[0m     \"\"\"\n\u001b[1;32m--> 293\u001b[1;33m     return loads(fp.read(),\n\u001b[0m\u001b[0;32m    294\u001b[0m         \u001b[0mcls\u001b[0m\u001b[1;33m=\u001b[0m\u001b[0mcls\u001b[0m\u001b[1;33m,\u001b[0m \u001b[0mobject_hook\u001b[0m\u001b[1;33m=\u001b[0m\u001b[0mobject_hook\u001b[0m\u001b[1;33m,\u001b[0m\u001b[1;33m\u001b[0m\u001b[1;33m\u001b[0m\u001b[0m\n\u001b[0;32m    295\u001b[0m         \u001b[0mparse_float\u001b[0m\u001b[1;33m=\u001b[0m\u001b[0mparse_float\u001b[0m\u001b[1;33m,\u001b[0m \u001b[0mparse_int\u001b[0m\u001b[1;33m=\u001b[0m\u001b[0mparse_int\u001b[0m\u001b[1;33m,\u001b[0m\u001b[1;33m\u001b[0m\u001b[1;33m\u001b[0m\u001b[0m\n",
      "\u001b[1;32m~\\anaconda3\\lib\\json\\__init__.py\u001b[0m in \u001b[0;36mloads\u001b[1;34m(s, cls, object_hook, parse_float, parse_int, parse_constant, object_pairs_hook, **kw)\u001b[0m\n\u001b[0;32m    355\u001b[0m             \u001b[0mparse_int\u001b[0m \u001b[1;32mis\u001b[0m \u001b[1;32mNone\u001b[0m \u001b[1;32mand\u001b[0m \u001b[0mparse_float\u001b[0m \u001b[1;32mis\u001b[0m \u001b[1;32mNone\u001b[0m \u001b[1;32mand\u001b[0m\u001b[1;33m\u001b[0m\u001b[1;33m\u001b[0m\u001b[0m\n\u001b[0;32m    356\u001b[0m             parse_constant is None and object_pairs_hook is None and not kw):\n\u001b[1;32m--> 357\u001b[1;33m         \u001b[1;32mreturn\u001b[0m \u001b[0m_default_decoder\u001b[0m\u001b[1;33m.\u001b[0m\u001b[0mdecode\u001b[0m\u001b[1;33m(\u001b[0m\u001b[0ms\u001b[0m\u001b[1;33m)\u001b[0m\u001b[1;33m\u001b[0m\u001b[1;33m\u001b[0m\u001b[0m\n\u001b[0m\u001b[0;32m    358\u001b[0m     \u001b[1;32mif\u001b[0m \u001b[0mcls\u001b[0m \u001b[1;32mis\u001b[0m \u001b[1;32mNone\u001b[0m\u001b[1;33m:\u001b[0m\u001b[1;33m\u001b[0m\u001b[1;33m\u001b[0m\u001b[0m\n\u001b[0;32m    359\u001b[0m         \u001b[0mcls\u001b[0m \u001b[1;33m=\u001b[0m \u001b[0mJSONDecoder\u001b[0m\u001b[1;33m\u001b[0m\u001b[1;33m\u001b[0m\u001b[0m\n",
      "\u001b[1;32m~\\anaconda3\\lib\\json\\decoder.py\u001b[0m in \u001b[0;36mdecode\u001b[1;34m(self, s, _w)\u001b[0m\n\u001b[0;32m    338\u001b[0m         \u001b[0mend\u001b[0m \u001b[1;33m=\u001b[0m \u001b[0m_w\u001b[0m\u001b[1;33m(\u001b[0m\u001b[0ms\u001b[0m\u001b[1;33m,\u001b[0m \u001b[0mend\u001b[0m\u001b[1;33m)\u001b[0m\u001b[1;33m.\u001b[0m\u001b[0mend\u001b[0m\u001b[1;33m(\u001b[0m\u001b[1;33m)\u001b[0m\u001b[1;33m\u001b[0m\u001b[1;33m\u001b[0m\u001b[0m\n\u001b[0;32m    339\u001b[0m         \u001b[1;32mif\u001b[0m \u001b[0mend\u001b[0m \u001b[1;33m!=\u001b[0m \u001b[0mlen\u001b[0m\u001b[1;33m(\u001b[0m\u001b[0ms\u001b[0m\u001b[1;33m)\u001b[0m\u001b[1;33m:\u001b[0m\u001b[1;33m\u001b[0m\u001b[1;33m\u001b[0m\u001b[0m\n\u001b[1;32m--> 340\u001b[1;33m             \u001b[1;32mraise\u001b[0m \u001b[0mJSONDecodeError\u001b[0m\u001b[1;33m(\u001b[0m\u001b[1;34m\"Extra data\"\u001b[0m\u001b[1;33m,\u001b[0m \u001b[0ms\u001b[0m\u001b[1;33m,\u001b[0m \u001b[0mend\u001b[0m\u001b[1;33m)\u001b[0m\u001b[1;33m\u001b[0m\u001b[1;33m\u001b[0m\u001b[0m\n\u001b[0m\u001b[0;32m    341\u001b[0m         \u001b[1;32mreturn\u001b[0m \u001b[0mobj\u001b[0m\u001b[1;33m\u001b[0m\u001b[1;33m\u001b[0m\u001b[0m\n\u001b[0;32m    342\u001b[0m \u001b[1;33m\u001b[0m\u001b[0m\n",
      "\u001b[1;31mJSONDecodeError\u001b[0m: Extra data: line 1 column 88 (char 87)"
     ]
    }
   ],
   "source": [
    "import json\n",
    "with open('employee.json','r') as f:\n",
    "    emp_o=json.load(f)\n",
    "    print(emp_o)"
   ]
  },
  {
   "cell_type": "code",
   "execution_count": 11,
   "id": "b61940a3",
   "metadata": {},
   "outputs": [
    {
     "name": "stdout",
     "output_type": "stream",
     "text": [
      "{\n",
      "          \"name\": \"vamsi\",\n",
      "          \"age\": 21,\n",
      "          \"salary\": 100000.0,\n",
      "          \"ishavingGF\": null\n",
      "}\n"
     ]
    }
   ],
   "source": [
    "import json\n",
    "class Employee:\n",
    "    def __init__(self):\n",
    "        self.name='vamsi'\n",
    "        self.age=21\n",
    "        self.salary=100000.00\n",
    "        self.ishavingGF=None\n",
    "e=Employee()\n",
    "emp_dict=e.__dict__\n",
    "json_str= json.dumps(emp_dict,indent=10)\n",
    "print(json_str)\n",
    "#serialization to a file\n",
    "with open('employee.json','w') as f:\n",
    "    json.dump(emp_dict,f,indent=5)"
   ]
  },
  {
   "cell_type": "code",
   "execution_count": 12,
   "id": "6e87ee3a",
   "metadata": {},
   "outputs": [],
   "source": [
    "with open('employee.json','r') as f:\n",
    "    emp=json.load(f)"
   ]
  },
  {
   "cell_type": "code",
   "execution_count": 13,
   "id": "6ff3f49c",
   "metadata": {},
   "outputs": [
    {
     "data": {
      "text/plain": [
       "{'name': 'vamsi', 'age': 21, 'salary': 100000.0, 'ishavingGF': None}"
      ]
     },
     "execution_count": 13,
     "metadata": {},
     "output_type": "execute_result"
    }
   ],
   "source": [
    "emp"
   ]
  },
  {
   "cell_type": "code",
   "execution_count": 20,
   "id": "ed370a31",
   "metadata": {},
   "outputs": [
    {
     "name": "stdout",
     "output_type": "stream",
     "text": [
      "{\"name\": \"vamsinallam\", \"roll\": 19040620, \"age\": 21}\n",
      "{'name': 'vamsinallam', 'roll': 19040620, 'age': 21} <class '__main__.Student'>\n"
     ]
    }
   ],
   "source": [
    "#customized objects program\n",
    "class Student:\n",
    "    def __init__(self,name,roll,age):\n",
    "        self.name=name\n",
    "        self.roll=roll\n",
    "        self.age=age\n",
    "    def display(self):\n",
    "        print('Student name:',self.name)\n",
    "        print('Student roll:',self.roll)\n",
    "        print('Student age:',self.age)\n",
    "s=Student('vamsinallam',19040620,21)\n",
    "s_dict= s.__dict__\n",
    "json_string=json.dumps(s_dict)\n",
    "print(json_string)\n",
    "#serialization to a json file\n",
    "with open('Student.json','w') as f:\n",
    "    json.dump(s_dict,f)\n",
    "#deserialization from jason file\n",
    "with open('Student.json','r') as f:\n",
    "    sdict1=json.load(f)\n",
    "s1=Student(sdict1['name'],sdict1['roll'],sdict1['age'])\n",
    "print(s1.__dict__,type(s1))"
   ]
  },
  {
   "cell_type": "code",
   "execution_count": 21,
   "id": "04763846",
   "metadata": {},
   "outputs": [],
   "source": [
    "#jsonpickle module"
   ]
  },
  {
   "cell_type": "code",
   "execution_count": 22,
   "id": "c8a94bc9",
   "metadata": {},
   "outputs": [],
   "source": [
    "#to convert our custom object directly to json_string - encode() in jsonpickle module\n",
    "#to convert json_string to object directly - decode() in jsonpickle module"
   ]
  },
  {
   "cell_type": "code",
   "execution_count": 28,
   "id": "cb820889",
   "metadata": {},
   "outputs": [
    {
     "name": "stdout",
     "output_type": "stream",
     "text": [
      "{\"py/object\": \"__main__.Student\", \"name\": \"vamsinallam\", \"roll\": 1904068, \"ishavingGF\": null}\n",
      "<class '__main__.Student'> {'name': 'vamsinallam', 'roll': 1904068, 'ishavingGF': None}\n",
      "<__main__.Student object at 0x00000205123ECE50> {'name': 'vamsinallam', 'roll': 1904068, 'ishavingGF': None}\n"
     ]
    }
   ],
   "source": [
    "import jsonpickle\n",
    "class Student:\n",
    "    def __init__(self,name,roll,ishavingGF):\n",
    "        self.name=name\n",
    "        self.roll=roll\n",
    "        self.ishavingGF=ishavingGF\n",
    "    def display(self):\n",
    "        print('Student name:',self.name)\n",
    "        print('Student roll:',self.roll)\n",
    "        print('Student is having GF:',self.ishavingGF)\n",
    "s=Student('vamsinallam',1904068,None)\n",
    "#serialization to json string\n",
    "json_string=jsonpickle.encode(s)\n",
    "print(json_string)\n",
    "#serialization to file\n",
    "with open('Student1.json','w') as f:\n",
    "    f.write(json_string)\n",
    "#deserialization of json string\n",
    "s1=jsonpickle.decode(json_string)\n",
    "print(type(s1),s1.__dict__)\n",
    "#deserialization from file\n",
    "with open('Student1.json','r') as f:\n",
    "    json_string=f.readline()\n",
    "    s2=jsonpickle.decode(json_string)\n",
    "print(s2,s2.__dict__)"
   ]
  },
  {
   "cell_type": "code",
   "execution_count": 37,
   "id": "4810b95c",
   "metadata": {},
   "outputs": [
    {
     "name": "stdout",
     "output_type": "stream",
     "text": [
      "age: 21\n",
      "bool: true\n",
      "ishavingGF: null\n",
      "name: vamsi\n",
      "salary: 100000.0\n",
      "\n",
      "<class 'dict'> {'age': 21, 'bool': True, 'ishavingGF': None, 'name': 'vamsi', 'salary': 100000.0}\n",
      "<class 'dict'> {'age': 21, 'bool': True, 'ishavingGF': None, 'name': 'vamsi', 'salary': 100000.0}\n"
     ]
    }
   ],
   "source": [
    "#Serialization and Deserialization using yaml module\n",
    "from pyaml import yaml\n",
    "emp_dict={'name':'vamsi','age':21,'salary':100000.00,'ishavingGF':None,'bool':True}\n",
    "#serialization to yaml string\n",
    "yaml_string=yaml.dump(emp_dict)\n",
    "print(yaml_string)\n",
    "#serialization to a file\n",
    "with open('emp.yaml','w') as f:\n",
    "    yaml.dump(emp_dict,f)\n",
    "#deserialization of yaml string to python dict - safe_load()\n",
    "new_dict=yaml.safe_load(yaml_string)\n",
    "print(type(new_dict),new_dict)\n",
    "#deserialization from yaml file to python dict - safe_load()\n",
    "with open('emp.yaml','r') as f:\n",
    "    new_dict1=yaml.safe_load(f)\n",
    "print(type(new_dict1),new_dict1)"
   ]
  },
  {
   "cell_type": "code",
   "execution_count": null,
   "id": "303ada4d",
   "metadata": {},
   "outputs": [],
   "source": []
  }
 ],
 "metadata": {
  "kernelspec": {
   "display_name": "Python 3 (ipykernel)",
   "language": "python",
   "name": "python3"
  },
  "language_info": {
   "codemirror_mode": {
    "name": "ipython",
    "version": 3
   },
   "file_extension": ".py",
   "mimetype": "text/x-python",
   "name": "python",
   "nbconvert_exporter": "python",
   "pygments_lexer": "ipython3",
   "version": "3.8.11"
  }
 },
 "nbformat": 4,
 "nbformat_minor": 5
}
