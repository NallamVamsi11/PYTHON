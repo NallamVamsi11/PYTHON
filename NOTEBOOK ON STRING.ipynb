{
 "cells": [
  {
   "cell_type": "code",
   "execution_count": 1,
   "id": "80a5953a",
   "metadata": {},
   "outputs": [],
   "source": [
    "v=\"vamsiNallam\""
   ]
  },
  {
   "cell_type": "code",
   "execution_count": 2,
   "id": "a14a5d9a",
   "metadata": {},
   "outputs": [
    {
     "data": {
      "text/plain": [
       "'vamsiNallam'"
      ]
     },
     "execution_count": 2,
     "metadata": {},
     "output_type": "execute_result"
    }
   ],
   "source": [
    "v"
   ]
  },
  {
   "cell_type": "code",
   "execution_count": 3,
   "id": "c7ac27f5",
   "metadata": {},
   "outputs": [
    {
     "data": {
      "text/plain": [
       "'s'"
      ]
     },
     "execution_count": 3,
     "metadata": {},
     "output_type": "execute_result"
    }
   ],
   "source": [
    "v[3]"
   ]
  },
  {
   "cell_type": "code",
   "execution_count": 5,
   "id": "ffd01ea7",
   "metadata": {},
   "outputs": [
    {
     "data": {
      "text/plain": [
       "'asNla'"
      ]
     },
     "execution_count": 5,
     "metadata": {},
     "output_type": "execute_result"
    }
   ],
   "source": [
    "v[1:10:2]"
   ]
  },
  {
   "cell_type": "code",
   "execution_count": 11,
   "id": "4504f56d",
   "metadata": {},
   "outputs": [
    {
     "data": {
      "text/plain": [
       "'mallaNism'"
      ]
     },
     "execution_count": 11,
     "metadata": {},
     "output_type": "execute_result"
    }
   ],
   "source": [
    "v[10:1:-1]"
   ]
  },
  {
   "cell_type": "code",
   "execution_count": 15,
   "id": "f7853251",
   "metadata": {},
   "outputs": [
    {
     "name": "stdout",
     "output_type": "stream",
     "text": [
      "ams\n",
      "mlaim\n"
     ]
    }
   ],
   "source": [
    "print(v[1:4:1])\n",
    "print(v[10:1:-2])"
   ]
  },
  {
   "cell_type": "code",
   "execution_count": 16,
   "id": "c4cdd5e6",
   "metadata": {},
   "outputs": [
    {
     "data": {
      "text/plain": [
       "'mallaNismav'"
      ]
     },
     "execution_count": 16,
     "metadata": {},
     "output_type": "execute_result"
    }
   ],
   "source": [
    "v[::-1]"
   ]
  },
  {
   "cell_type": "code",
   "execution_count": 17,
   "id": "abfede4e",
   "metadata": {},
   "outputs": [
    {
     "data": {
      "text/plain": [
       "'vamsiNallam'"
      ]
     },
     "execution_count": 17,
     "metadata": {},
     "output_type": "execute_result"
    }
   ],
   "source": [
    "v[:]"
   ]
  },
  {
   "cell_type": "code",
   "execution_count": 18,
   "id": "9d173223",
   "metadata": {},
   "outputs": [
    {
     "data": {
      "text/plain": [
       "'vamsiNallam'"
      ]
     },
     "execution_count": 18,
     "metadata": {},
     "output_type": "execute_result"
    }
   ],
   "source": [
    "v[::]"
   ]
  },
  {
   "cell_type": "code",
   "execution_count": 20,
   "id": "8b414717",
   "metadata": {},
   "outputs": [
    {
     "data": {
      "text/plain": [
       "True"
      ]
     },
     "execution_count": 20,
     "metadata": {},
     "output_type": "execute_result"
    }
   ],
   "source": [
    "5 in range(5,0,-1)"
   ]
  },
  {
   "cell_type": "code",
   "execution_count": 21,
   "id": "812bc3a9",
   "metadata": {},
   "outputs": [
    {
     "data": {
      "text/plain": [
       "range(5, 0, -1)"
      ]
     },
     "execution_count": 21,
     "metadata": {},
     "output_type": "execute_result"
    }
   ],
   "source": [
    "range(5,0,-1)"
   ]
  },
  {
   "cell_type": "code",
   "execution_count": 23,
   "id": "47fa4dbd",
   "metadata": {},
   "outputs": [
    {
     "name": "stdout",
     "output_type": "stream",
     "text": [
      "5\n",
      "4\n",
      "3\n",
      "2\n",
      "1\n"
     ]
    }
   ],
   "source": [
    "for i in range(5,0,-1):\n",
    "    print(i)"
   ]
  },
  {
   "cell_type": "code",
   "execution_count": 24,
   "id": "3fb2169b",
   "metadata": {},
   "outputs": [
    {
     "data": {
      "text/plain": [
       "'vamsivamsi nallam'"
      ]
     },
     "execution_count": 24,
     "metadata": {},
     "output_type": "execute_result"
    }
   ],
   "source": [
    "'vamsi'+'vamsi'+' '+'nallam'"
   ]
  },
  {
   "cell_type": "code",
   "execution_count": 25,
   "id": "37c47290",
   "metadata": {},
   "outputs": [
    {
     "data": {
      "text/plain": [
       "'vamsivamsivamsi'"
      ]
     },
     "execution_count": 25,
     "metadata": {},
     "output_type": "execute_result"
    }
   ],
   "source": [
    "'vamsi'*3"
   ]
  },
  {
   "cell_type": "code",
   "execution_count": 1,
   "id": "a851ac28",
   "metadata": {},
   "outputs": [
    {
     "data": {
      "text/plain": [
       "'vamsivamsivamsi'"
      ]
     },
     "execution_count": 1,
     "metadata": {},
     "output_type": "execute_result"
    }
   ],
   "source": [
    "3*'vamsi'"
   ]
  },
  {
   "cell_type": "code",
   "execution_count": 2,
   "id": "c942e47a",
   "metadata": {},
   "outputs": [
    {
     "name": "stdout",
     "output_type": "stream",
     "text": [
      "0\n",
      "1\n",
      "2\n",
      "3\n",
      "4\n"
     ]
    }
   ],
   "source": [
    "for j in range(5):\n",
    "    print(j)"
   ]
  },
  {
   "cell_type": "code",
   "execution_count": 4,
   "id": "c15a9d88",
   "metadata": {},
   "outputs": [],
   "source": [
    "v=\"vamsi\""
   ]
  },
  {
   "cell_type": "code",
   "execution_count": 8,
   "id": "4d0a89e0",
   "metadata": {},
   "outputs": [
    {
     "data": {
      "text/plain": [
       "True"
      ]
     },
     "execution_count": 8,
     "metadata": {},
     "output_type": "execute_result"
    }
   ],
   "source": [
    "'a'  in v"
   ]
  },
  {
   "cell_type": "code",
   "execution_count": 9,
   "id": "f5f7b864",
   "metadata": {},
   "outputs": [
    {
     "data": {
      "text/plain": [
       "True"
      ]
     },
     "execution_count": 9,
     "metadata": {},
     "output_type": "execute_result"
    }
   ],
   "source": [
    "j in range(5)"
   ]
  },
  {
   "cell_type": "code",
   "execution_count": 10,
   "id": "2cdd6fe5",
   "metadata": {},
   "outputs": [
    {
     "data": {
      "text/plain": [
       "4"
      ]
     },
     "execution_count": 10,
     "metadata": {},
     "output_type": "execute_result"
    }
   ],
   "source": [
    "j"
   ]
  },
  {
   "cell_type": "code",
   "execution_count": 1,
   "id": "8a8ed26c",
   "metadata": {},
   "outputs": [
    {
     "ename": "NameError",
     "evalue": "name 'i' is not defined",
     "output_type": "error",
     "traceback": [
      "\u001b[1;31m---------------------------------------------------------------------------\u001b[0m",
      "\u001b[1;31mNameError\u001b[0m                                 Traceback (most recent call last)",
      "\u001b[1;32m<ipython-input-1-5aac3e04f453>\u001b[0m in \u001b[0;36m<module>\u001b[1;34m\u001b[0m\n\u001b[1;32m----> 1\u001b[1;33m \u001b[1;32mwhile\u001b[0m \u001b[0mi\u001b[0m \u001b[1;32min\u001b[0m \u001b[0mrange\u001b[0m\u001b[1;33m(\u001b[0m\u001b[1;36m0\u001b[0m\u001b[1;33m,\u001b[0m\u001b[1;36m5\u001b[0m\u001b[1;33m)\u001b[0m\u001b[1;33m:\u001b[0m\u001b[1;33m\u001b[0m\u001b[1;33m\u001b[0m\u001b[0m\n\u001b[0m\u001b[0;32m      2\u001b[0m     \u001b[0mprint\u001b[0m\u001b[1;33m(\u001b[0m\u001b[0mi\u001b[0m\u001b[1;33m)\u001b[0m\u001b[1;33m\u001b[0m\u001b[1;33m\u001b[0m\u001b[0m\n",
      "\u001b[1;31mNameError\u001b[0m: name 'i' is not defined"
     ]
    }
   ],
   "source": [
    "while i in range(0,5):\n",
    "    print(i)"
   ]
  },
  {
   "cell_type": "code",
   "execution_count": 2,
   "id": "4372c37c",
   "metadata": {},
   "outputs": [
    {
     "name": "stdout",
     "output_type": "stream",
     "text": [
      "3\n"
     ]
    }
   ],
   "source": [
    "i=3\n",
    "while i in range(5):\n",
    "    print(i)\n",
    "    break"
   ]
  },
  {
   "cell_type": "code",
   "execution_count": 7,
   "id": "83d8218a",
   "metadata": {},
   "outputs": [],
   "source": [
    "v='vamsi'"
   ]
  },
  {
   "cell_type": "code",
   "execution_count": 8,
   "id": "39add861",
   "metadata": {},
   "outputs": [],
   "source": [
    "v=v+' '"
   ]
  },
  {
   "cell_type": "code",
   "execution_count": 9,
   "id": "3d853fab",
   "metadata": {},
   "outputs": [
    {
     "data": {
      "text/plain": [
       "'vamsi '"
      ]
     },
     "execution_count": 9,
     "metadata": {},
     "output_type": "execute_result"
    }
   ],
   "source": [
    "v"
   ]
  },
  {
   "cell_type": "code",
   "execution_count": 10,
   "id": "8593b261",
   "metadata": {},
   "outputs": [
    {
     "data": {
      "text/plain": [
       "'m'"
      ]
     },
     "execution_count": 10,
     "metadata": {},
     "output_type": "execute_result"
    }
   ],
   "source": [
    "v[2]"
   ]
  },
  {
   "cell_type": "code",
   "execution_count": 11,
   "id": "2079c67c",
   "metadata": {},
   "outputs": [
    {
     "ename": "TypeError",
     "evalue": "'str' object does not support item assignment",
     "output_type": "error",
     "traceback": [
      "\u001b[1;31m---------------------------------------------------------------------------\u001b[0m",
      "\u001b[1;31mTypeError\u001b[0m                                 Traceback (most recent call last)",
      "\u001b[1;32m<ipython-input-11-9765094c4f63>\u001b[0m in \u001b[0;36m<module>\u001b[1;34m\u001b[0m\n\u001b[1;32m----> 1\u001b[1;33m \u001b[0mv\u001b[0m\u001b[1;33m[\u001b[0m\u001b[1;36m2\u001b[0m\u001b[1;33m]\u001b[0m\u001b[1;33m=\u001b[0m\u001b[1;34m'n'\u001b[0m\u001b[1;33m\u001b[0m\u001b[1;33m\u001b[0m\u001b[0m\n\u001b[0m",
      "\u001b[1;31mTypeError\u001b[0m: 'str' object does not support item assignment"
     ]
    }
   ],
   "source": [
    "v[2]='n'"
   ]
  },
  {
   "cell_type": "code",
   "execution_count": 12,
   "id": "f6470135",
   "metadata": {},
   "outputs": [
    {
     "data": {
      "text/plain": [
       "'vamsi '"
      ]
     },
     "execution_count": 12,
     "metadata": {},
     "output_type": "execute_result"
    }
   ],
   "source": [
    "v"
   ]
  },
  {
   "cell_type": "code",
   "execution_count": 13,
   "id": "03924af1",
   "metadata": {},
   "outputs": [],
   "source": [
    "a=v"
   ]
  },
  {
   "cell_type": "code",
   "execution_count": 14,
   "id": "0c50aeaa",
   "metadata": {},
   "outputs": [
    {
     "data": {
      "text/plain": [
       "'vamsi '"
      ]
     },
     "execution_count": 14,
     "metadata": {},
     "output_type": "execute_result"
    }
   ],
   "source": [
    "a"
   ]
  },
  {
   "cell_type": "code",
   "execution_count": 15,
   "id": "590b615b",
   "metadata": {},
   "outputs": [],
   "source": [
    "a='nallam'"
   ]
  },
  {
   "cell_type": "code",
   "execution_count": 16,
   "id": "6c04198b",
   "metadata": {},
   "outputs": [
    {
     "data": {
      "text/plain": [
       "'nallam'"
      ]
     },
     "execution_count": 16,
     "metadata": {},
     "output_type": "execute_result"
    }
   ],
   "source": [
    "a"
   ]
  },
  {
   "cell_type": "code",
   "execution_count": 17,
   "id": "aa7c6faa",
   "metadata": {},
   "outputs": [],
   "source": [
    "b=a+v"
   ]
  },
  {
   "cell_type": "code",
   "execution_count": 18,
   "id": "12e439d7",
   "metadata": {},
   "outputs": [
    {
     "data": {
      "text/plain": [
       "'nallamvamsi '"
      ]
     },
     "execution_count": 18,
     "metadata": {},
     "output_type": "execute_result"
    }
   ],
   "source": [
    "b"
   ]
  },
  {
   "cell_type": "code",
   "execution_count": 19,
   "id": "ea14d208",
   "metadata": {},
   "outputs": [
    {
     "name": "stdout",
     "output_type": "stream",
     "text": [
      "nallam\n"
     ]
    }
   ],
   "source": [
    "b=''\n",
    "for i in a:\n",
    "    b=b+i\n",
    "print(b)"
   ]
  },
  {
   "cell_type": "code",
   "execution_count": 20,
   "id": "8fce6a1d",
   "metadata": {},
   "outputs": [
    {
     "data": {
      "text/plain": [
       "'nallam'"
      ]
     },
     "execution_count": 20,
     "metadata": {},
     "output_type": "execute_result"
    }
   ],
   "source": [
    "b"
   ]
  },
  {
   "cell_type": "code",
   "execution_count": 21,
   "id": "87de061c",
   "metadata": {},
   "outputs": [
    {
     "data": {
      "text/plain": [
       "'nallam'"
      ]
     },
     "execution_count": 21,
     "metadata": {},
     "output_type": "execute_result"
    }
   ],
   "source": [
    "b"
   ]
  },
  {
   "cell_type": "code",
   "execution_count": 22,
   "id": "bfebcac8",
   "metadata": {},
   "outputs": [
    {
     "data": {
      "text/plain": [
       "1"
      ]
     },
     "execution_count": 22,
     "metadata": {},
     "output_type": "execute_result"
    }
   ],
   "source": [
    "b.find('all')"
   ]
  },
  {
   "cell_type": "code",
   "execution_count": 23,
   "id": "aab6d94a",
   "metadata": {},
   "outputs": [],
   "source": [
    "a=\" hi iam lucifer morning star\""
   ]
  },
  {
   "cell_type": "code",
   "execution_count": 25,
   "id": "8dc8bf97",
   "metadata": {},
   "outputs": [
    {
     "data": {
      "text/plain": [
       "3"
      ]
     },
     "execution_count": 25,
     "metadata": {},
     "output_type": "execute_result"
    }
   ],
   "source": [
    "a.find(' iam')\n",
    "#find fn returns the lowest index of sub sting."
   ]
  },
  {
   "cell_type": "code",
   "execution_count": 32,
   "id": "a3b79065",
   "metadata": {},
   "outputs": [],
   "source": [
    "v='vamsi nallam vamsi vamsi'"
   ]
  },
  {
   "cell_type": "code",
   "execution_count": 33,
   "id": "fd7124f0",
   "metadata": {},
   "outputs": [
    {
     "data": {
      "text/plain": [
       "0"
      ]
     },
     "execution_count": 33,
     "metadata": {},
     "output_type": "execute_result"
    }
   ],
   "source": [
    "v.find(\"vamsi\")"
   ]
  },
  {
   "cell_type": "code",
   "execution_count": 35,
   "id": "17cf65ea",
   "metadata": {},
   "outputs": [
    {
     "data": {
      "text/plain": [
       "0"
      ]
     },
     "execution_count": 35,
     "metadata": {},
     "output_type": "execute_result"
    }
   ],
   "source": [
    "v.find(v[13:18])"
   ]
  },
  {
   "cell_type": "code",
   "execution_count": 36,
   "id": "b17b7a04",
   "metadata": {},
   "outputs": [
    {
     "name": "stdout",
     "output_type": "stream",
     "text": [
      "enter a string: hi iam lucy bro lucyyy cclucyy\n",
      "enter a substring: lucy\n",
      "7\n",
      "16\n",
      "25\n"
     ]
    }
   ],
   "source": [
    "#gibves the indexes of the subdtring\n",
    "sin=input(\"enter a string: \")\n",
    "ss=input(\"enter a substring: \")\n",
    "for i in range(0,len(sin)):\n",
    "    if sin[i:i+len(ss)]==ss:\n",
    "        print(i)"
   ]
  },
  {
   "cell_type": "code",
   "execution_count": 39,
   "id": "e9627d2b",
   "metadata": {},
   "outputs": [
    {
     "name": "stdout",
     "output_type": "stream",
     "text": [
      "enter a string data:- hi iam lucy bro lucyyy cclucyy\n",
      "enter the substring:- lucy\n",
      "the index no's of substring are: \n",
      "7 8 9 10 "
     ]
    }
   ],
   "source": [
    "#write a code to find the index no. of substring from a main string for 1st time\n",
    "Sin=input(\"enter a string data:- \")\n",
    "Sfi=input(\"enter the substring:- \")\n",
    "if Sin.find(Sfi)==-1:\n",
    "    print(\"cannot find entered substring\")\n",
    "else:\n",
    "    print(\"the index no's of substring are: \")\n",
    "    for i in range(0,len(Sfi)):\n",
    "        print(Sin.find(Sfi)+i,end=\" \")"
   ]
  },
  {
   "cell_type": "code",
   "execution_count": 40,
   "id": "14b6ce2a",
   "metadata": {},
   "outputs": [
    {
     "data": {
      "text/plain": [
       "'vamsi nallam vamsi vamsi'"
      ]
     },
     "execution_count": 40,
     "metadata": {},
     "output_type": "execute_result"
    }
   ],
   "source": [
    "v"
   ]
  },
  {
   "cell_type": "code",
   "execution_count": 41,
   "id": "dd72c4e4",
   "metadata": {},
   "outputs": [
    {
     "data": {
      "text/plain": [
       "3"
      ]
     },
     "execution_count": 41,
     "metadata": {},
     "output_type": "execute_result"
    }
   ],
   "source": [
    "v.count('vamsi')"
   ]
  },
  {
   "cell_type": "code",
   "execution_count": 42,
   "id": "e1f7d319",
   "metadata": {},
   "outputs": [],
   "source": [
    "v1='ssssssssssssssss'"
   ]
  },
  {
   "cell_type": "code",
   "execution_count": 43,
   "id": "77bc8b53",
   "metadata": {},
   "outputs": [
    {
     "data": {
      "text/plain": [
       "5"
      ]
     },
     "execution_count": 43,
     "metadata": {},
     "output_type": "execute_result"
    }
   ],
   "source": [
    "v1.count('sss')"
   ]
  },
  {
   "cell_type": "code",
   "execution_count": 44,
   "id": "4e28b8b3",
   "metadata": {},
   "outputs": [
    {
     "data": {
      "text/plain": [
       "16"
      ]
     },
     "execution_count": 44,
     "metadata": {},
     "output_type": "execute_result"
    }
   ],
   "source": [
    "len(v1)"
   ]
  },
  {
   "cell_type": "code",
   "execution_count": 3,
   "id": "9857b0dd",
   "metadata": {},
   "outputs": [
    {
     "name": "stdout",
     "output_type": "stream",
     "text": [
      "enter a string: vaavavavav\n",
      "enter a substring: ava\n",
      "2\n"
     ]
    }
   ],
   "source": [
    "#gives the non-overlappping occurence of the substring.\n",
    "Sin=input(\"enter a string: \")\n",
    "ss=input(\"enter a substring: \")\n",
    "i,count=0,0\n",
    "while i<len(Sin):\n",
    "    if Sin[i:i+len(ss)]==ss:\n",
    "        count=count+1\n",
    "        i=i+len(ss)\n",
    "    else:\n",
    "        i=i+1\n",
    "print(count)"
   ]
  },
  {
   "cell_type": "code",
   "execution_count": 1,
   "id": "bd807aef",
   "metadata": {},
   "outputs": [
    {
     "name": "stdout",
     "output_type": "stream",
     "text": [
      "enter a string: vaavavavav\n",
      "enter a substring: ava\n",
      "3\n"
     ]
    }
   ],
   "source": [
    "#gives the overlappping occurence of the substring.\n",
    "Sin=input(\"enter a string: \")\n",
    "ss=input(\"enter a substring: \")\n",
    "i,count=0,0\n",
    "while i<len(Sin):\n",
    "    if Sin[i:i+len(ss)]==ss:\n",
    "        count=count+1\n",
    "    i=i+1\n",
    "print(count)"
   ]
  },
  {
   "cell_type": "code",
   "execution_count": 4,
   "id": "7bff67c9",
   "metadata": {},
   "outputs": [],
   "source": [
    "Str='hi iam lucifer morning star  the devil Iam a devil of my word'"
   ]
  },
  {
   "cell_type": "code",
   "execution_count": 5,
   "id": "8473d9ec",
   "metadata": {},
   "outputs": [
    {
     "data": {
      "text/plain": [
       "['hi',\n",
       " 'iam',\n",
       " 'lucifer',\n",
       " 'morning',\n",
       " 'star',\n",
       " 'the',\n",
       " 'devil',\n",
       " 'Iam',\n",
       " 'a',\n",
       " 'devil',\n",
       " 'of',\n",
       " 'my',\n",
       " 'word']"
      ]
     },
     "execution_count": 5,
     "metadata": {},
     "output_type": "execute_result"
    }
   ],
   "source": [
    "Str.split()"
   ]
  },
  {
   "cell_type": "code",
   "execution_count": 11,
   "id": "696173b7",
   "metadata": {},
   "outputs": [
    {
     "name": "stdout",
     "output_type": "stream",
     "text": [
      "enter a string: hi iam lucifer morning star  the devil Iam a devil of my word\n",
      "enter separation char: a\n",
      "['hi i', 'm lucifer morning st', 'r  the devil I', 'm ']\n"
     ]
    }
   ],
   "source": [
    "Sin=input(\"enter a string: \")\n",
    "sep=input(\"enter separation char: \")\n",
    "l=[]\n",
    "s=''\n",
    "for i in Sin:\n",
    "    if i!=sep:\n",
    "        s=s+i\n",
    "    elif s!='':\n",
    "        l=l+[s]\n",
    "        s=''\n",
    "print(l)"
   ]
  },
  {
   "cell_type": "code",
   "execution_count": 13,
   "id": "f19965e3",
   "metadata": {},
   "outputs": [
    {
     "data": {
      "text/plain": [
       "'hi iam lucifer morning star  the devil Iam a devil of my word'"
      ]
     },
     "execution_count": 13,
     "metadata": {},
     "output_type": "execute_result"
    }
   ],
   "source": [
    "Str"
   ]
  },
  {
   "cell_type": "code",
   "execution_count": 17,
   "id": "f055ce59",
   "metadata": {},
   "outputs": [],
   "source": [
    "up=\"hi Vamssi jbKSDXJsnknx\""
   ]
  },
  {
   "cell_type": "code",
   "execution_count": 18,
   "id": "3839caf5",
   "metadata": {},
   "outputs": [
    {
     "data": {
      "text/plain": [
       "'HI VAMSSI JBKSDXJSNKNX'"
      ]
     },
     "execution_count": 18,
     "metadata": {},
     "output_type": "execute_result"
    }
   ],
   "source": [
    "up.upper()"
   ]
  },
  {
   "cell_type": "code",
   "execution_count": 19,
   "id": "f13a4251",
   "metadata": {},
   "outputs": [
    {
     "data": {
      "text/plain": [
       "'hi Vamssi jbKSDXJsnknx'"
      ]
     },
     "execution_count": 19,
     "metadata": {},
     "output_type": "execute_result"
    }
   ],
   "source": [
    "up"
   ]
  },
  {
   "cell_type": "code",
   "execution_count": 20,
   "id": "0a3d44d2",
   "metadata": {},
   "outputs": [],
   "source": [
    "up1=up.upper()"
   ]
  },
  {
   "cell_type": "code",
   "execution_count": 21,
   "id": "d1e6ff30",
   "metadata": {},
   "outputs": [
    {
     "data": {
      "text/plain": [
       "'HI VAMSSI JBKSDXJSNKNX'"
      ]
     },
     "execution_count": 21,
     "metadata": {},
     "output_type": "execute_result"
    }
   ],
   "source": [
    "up1"
   ]
  },
  {
   "cell_type": "code",
   "execution_count": 26,
   "id": "39693bbd",
   "metadata": {},
   "outputs": [
    {
     "name": "stdout",
     "output_type": "stream",
     "text": [
      "enter a string: hi Vamssi jbKSDXJsnknx\n",
      "HI VAMSSI JBKSDXJSNKNX\n"
     ]
    }
   ],
   "source": [
    "Sin=input(\"enter a string: \")\n",
    "s=''\n",
    "for i in Sin:\n",
    "    if ord(i)>=97 and ord(i)<=122:\n",
    "        s=s+chr(ord(i)-32)\n",
    "    else:\n",
    "        s=s+i\n",
    "print(s)"
   ]
  },
  {
   "cell_type": "code",
   "execution_count": 27,
   "id": "c187a532",
   "metadata": {},
   "outputs": [
    {
     "data": {
      "text/plain": [
       "97"
      ]
     },
     "execution_count": 27,
     "metadata": {},
     "output_type": "execute_result"
    }
   ],
   "source": [
    "ord('a')"
   ]
  },
  {
   "cell_type": "code",
   "execution_count": 28,
   "id": "9e8bacaf",
   "metadata": {},
   "outputs": [
    {
     "data": {
      "text/plain": [
       "122"
      ]
     },
     "execution_count": 28,
     "metadata": {},
     "output_type": "execute_result"
    }
   ],
   "source": [
    "ord('z')"
   ]
  },
  {
   "cell_type": "code",
   "execution_count": 29,
   "id": "6531eb4c",
   "metadata": {},
   "outputs": [
    {
     "data": {
      "text/plain": [
       "65"
      ]
     },
     "execution_count": 29,
     "metadata": {},
     "output_type": "execute_result"
    }
   ],
   "source": [
    "ord('A')"
   ]
  },
  {
   "cell_type": "code",
   "execution_count": 33,
   "id": "1230a993",
   "metadata": {},
   "outputs": [
    {
     "data": {
      "text/plain": [
       "90"
      ]
     },
     "execution_count": 33,
     "metadata": {},
     "output_type": "execute_result"
    }
   ],
   "source": [
    "ord('Z')"
   ]
  },
  {
   "cell_type": "code",
   "execution_count": 34,
   "id": "421bb60d",
   "metadata": {},
   "outputs": [],
   "source": [
    "lo=\"sxbsbBJ jjBKBJJNKNBBbj#$$%\""
   ]
  },
  {
   "cell_type": "code",
   "execution_count": 35,
   "id": "20fb068a",
   "metadata": {},
   "outputs": [
    {
     "data": {
      "text/plain": [
       "'sxbsbbj jjbkbjjnknbbbj#$$%'"
      ]
     },
     "execution_count": 35,
     "metadata": {},
     "output_type": "execute_result"
    }
   ],
   "source": [
    "lo.lower()"
   ]
  },
  {
   "cell_type": "code",
   "execution_count": 36,
   "id": "4fb083bb",
   "metadata": {},
   "outputs": [
    {
     "name": "stdout",
     "output_type": "stream",
     "text": [
      "enter a string: sxbsbBJ jjBKBJJNKNBBbj#$$%\n",
      "sxbsbbj jjbkbjjnknbbbj#$$%\n"
     ]
    }
   ],
   "source": [
    "Sin=input(\"enter a string: \")\n",
    "s=''\n",
    "for i in Sin:\n",
    "    if ord(i)>=65 and ord(i)<=90:\n",
    "        s=s+chr(ord(i)+32)\n",
    "    else:\n",
    "        s=s+i\n",
    "print(s)"
   ]
  },
  {
   "cell_type": "code",
   "execution_count": 40,
   "id": "b354d5e3",
   "metadata": {},
   "outputs": [
    {
     "data": {
      "text/plain": [
       "'sxbsbBJ jjBKBJJNKNBBbj#$$%'"
      ]
     },
     "execution_count": 40,
     "metadata": {},
     "output_type": "execute_result"
    }
   ],
   "source": [
    "lo"
   ]
  },
  {
   "cell_type": "code",
   "execution_count": 41,
   "id": "ed668e93",
   "metadata": {},
   "outputs": [
    {
     "data": {
      "text/plain": [
       "'SXBSBbj JJbkbjjnknbbBJ#$$%'"
      ]
     },
     "execution_count": 41,
     "metadata": {},
     "output_type": "execute_result"
    }
   ],
   "source": [
    "lo.swapcase()"
   ]
  },
  {
   "cell_type": "code",
   "execution_count": 43,
   "id": "1baad038",
   "metadata": {},
   "outputs": [
    {
     "name": "stdout",
     "output_type": "stream",
     "text": [
      "enter a string: sxbsbBJ jjBKBJJNKNBBbj#$$%\n",
      "SXBSBbj JJbkbjjnknbbBJ#$$%\n"
     ]
    }
   ],
   "source": [
    "Sin=input(\"enter a string: \")\n",
    "s=''\n",
    "for i in Sin:\n",
    "    if ord(i)>=97 and ord(i)<=122:\n",
    "        s=s+chr(ord(i)-32)\n",
    "    elif ord(i)>=65 and ord(i)<=90:\n",
    "        s=s+chr(ord(i)+32)\n",
    "    else:\n",
    "        s=s+i\n",
    "print(s)"
   ]
  },
  {
   "cell_type": "code",
   "execution_count": 45,
   "id": "6b130c3e",
   "metadata": {},
   "outputs": [
    {
     "data": {
      "text/plain": [
       "'saxabasabaBaJa ajajaBaKaBaJaJaNaKaNaBaBabaja#a$a$a%'"
      ]
     },
     "execution_count": 45,
     "metadata": {},
     "output_type": "execute_result"
    }
   ],
   "source": [
    "\"a\".join(lo)"
   ]
  },
  {
   "cell_type": "code",
   "execution_count": 46,
   "id": "941885a5",
   "metadata": {},
   "outputs": [
    {
     "name": "stdout",
     "output_type": "stream",
     "text": [
      "enter a string: sxbsbBJ jjBKBJJNKNBBbj#$$%\n",
      "enter a char :a\n",
      "saxabasabaBaJa ajajaBaKaBaJaJaNaKaNaBaBabaja#a$a$a%a\n"
     ]
    }
   ],
   "source": [
    "Sin=input(\"enter a string: \")\n",
    "jc=input(\"enter a char :\")\n",
    "s=''\n",
    "for i in Sin:\n",
    "    s=s+i+jc\n",
    "print(s)    "
   ]
  },
  {
   "cell_type": "code",
   "execution_count": 47,
   "id": "101198d4",
   "metadata": {},
   "outputs": [
    {
     "data": {
      "text/plain": [
       "'hi iam lucifer morning star  the devil Iam a devil of my word'"
      ]
     },
     "execution_count": 47,
     "metadata": {},
     "output_type": "execute_result"
    }
   ],
   "source": [
    "Str"
   ]
  },
  {
   "cell_type": "code",
   "execution_count": 48,
   "id": "052dea70",
   "metadata": {},
   "outputs": [],
   "source": [
    "S1=\"   kjabcj JJdxnk  #^%&*kjdbSDB12  \""
   ]
  },
  {
   "cell_type": "code",
   "execution_count": 52,
   "id": "a03cf117",
   "metadata": {},
   "outputs": [
    {
     "data": {
      "text/plain": [
       "'kjabcj JJdxnk  #^%&*kjdbSDB12'"
      ]
     },
     "execution_count": 52,
     "metadata": {},
     "output_type": "execute_result"
    }
   ],
   "source": [
    "S1.strip()"
   ]
  },
  {
   "cell_type": "code",
   "execution_count": 53,
   "id": "047f1d01",
   "metadata": {},
   "outputs": [
    {
     "data": {
      "text/plain": [
       "'   kkabck JJdxnk  #^%&*kkdbSDB12  '"
      ]
     },
     "execution_count": 53,
     "metadata": {},
     "output_type": "execute_result"
    }
   ],
   "source": [
    "S1.replace('j','k')"
   ]
  },
  {
   "cell_type": "code",
   "execution_count": 7,
   "id": "748e770d",
   "metadata": {},
   "outputs": [],
   "source": [
    "re=\"asscdaaa dcn assaddkcaaaAAAndsn\""
   ]
  },
  {
   "cell_type": "code",
   "execution_count": 8,
   "id": "5d502d13",
   "metadata": {},
   "outputs": [
    {
     "data": {
      "text/plain": [
       "'EsscdEEE dcn EssEddkcEEEAAAndsn'"
      ]
     },
     "execution_count": 8,
     "metadata": {},
     "output_type": "execute_result"
    }
   ],
   "source": [
    "re.replace('a','E')"
   ]
  },
  {
   "cell_type": "code",
   "execution_count": 9,
   "id": "30e1c7f3",
   "metadata": {},
   "outputs": [
    {
     "name": "stdout",
     "output_type": "stream",
     "text": [
      "enter a string: asscdaaa dcn assaddkcaaaAAAndsn\n",
      "enter replacing char: a\n",
      "enter the replacement charE\n",
      "EsscdEEE dcn EssEddkcEEEAAAndsn\n"
     ]
    }
   ],
   "source": [
    "Sin=input(\"enter a string: \")\n",
    "old=input(\"enter replacing char: \")\n",
    "rep=input(\"enter the replacement char\")\n",
    "s=''\n",
    "for i in Sin:\n",
    "    if i==old:\n",
    "        s=s+rep\n",
    "    else:\n",
    "        s=s+i\n",
    "print(s)"
   ]
  },
  {
   "cell_type": "code",
   "execution_count": 15,
   "id": "2a45e5e0",
   "metadata": {},
   "outputs": [
    {
     "name": "stdout",
     "output_type": "stream",
     "text": [
      "enter a string: asscdaaa dcn assaddkcaaaAAAndsn\n",
      "enter replacing char: as\n",
      "enter the replacement charAS\n",
      "ASscdaaa dcn ASsaddkcaaaAAAndsn\n"
     ]
    }
   ],
   "source": [
    "Sin=input(\"enter a string: \")\n",
    "old=input(\"enter replacing char: \")\n",
    "rep=input(\"enter the replacement char\")\n",
    "s=''\n",
    "i=0\n",
    "while i<len(Sin):\n",
    "    if Sin[i:i+len(old)]==old:\n",
    "        s=s+rep\n",
    "        i=i+len(old)\n",
    "    else:\n",
    "        s=s+Sin[i]\n",
    "        i=i+1\n",
    "print(s)"
   ]
  },
  {
   "cell_type": "code",
   "execution_count": 16,
   "id": "64646a65",
   "metadata": {},
   "outputs": [
    {
     "data": {
      "text/plain": [
       "'asscdaaa dcn assaddkcaaaAAAndsn'"
      ]
     },
     "execution_count": 16,
     "metadata": {},
     "output_type": "execute_result"
    }
   ],
   "source": [
    "re"
   ]
  },
  {
   "cell_type": "code",
   "execution_count": 17,
   "id": "19561fda",
   "metadata": {},
   "outputs": [
    {
     "data": {
      "text/plain": [
       "'ASscdaaa dcn ASsaddkcaaaAAAndsn'"
      ]
     },
     "execution_count": 17,
     "metadata": {},
     "output_type": "execute_result"
    }
   ],
   "source": [
    "re.replace('as','AS')"
   ]
  },
  {
   "cell_type": "code",
   "execution_count": 18,
   "id": "f596120a",
   "metadata": {},
   "outputs": [],
   "source": [
    "v=\"vamsi\""
   ]
  },
  {
   "cell_type": "code",
   "execution_count": 19,
   "id": "74110370",
   "metadata": {},
   "outputs": [
    {
     "data": {
      "text/plain": [
       "'fffffffvamsiffffffff'"
      ]
     },
     "execution_count": 19,
     "metadata": {},
     "output_type": "execute_result"
    }
   ],
   "source": [
    "v.center(20,'f')"
   ]
  },
  {
   "cell_type": "code",
   "execution_count": 20,
   "id": "ead3c25f",
   "metadata": {},
   "outputs": [
    {
     "data": {
      "text/plain": [
       "20"
      ]
     },
     "execution_count": 20,
     "metadata": {},
     "output_type": "execute_result"
    }
   ],
   "source": [
    "len(v.center(20,'f'))"
   ]
  },
  {
   "cell_type": "code",
   "execution_count": 21,
   "id": "0af360a7",
   "metadata": {},
   "outputs": [],
   "source": [
    "v1=\"nallam\\tvamsi\""
   ]
  },
  {
   "cell_type": "code",
   "execution_count": 26,
   "id": "8b32385a",
   "metadata": {},
   "outputs": [
    {
     "data": {
      "text/plain": [
       "'nallam  vamsi'"
      ]
     },
     "execution_count": 26,
     "metadata": {},
     "output_type": "execute_result"
    }
   ],
   "source": [
    "v1.expandtabs()"
   ]
  },
  {
   "cell_type": "code",
   "execution_count": 33,
   "id": "6024656e",
   "metadata": {},
   "outputs": [
    {
     "data": {
      "text/plain": [
       "18"
      ]
     },
     "execution_count": 33,
     "metadata": {},
     "output_type": "execute_result"
    }
   ],
   "source": [
    "len(v1.expandtabs(13))\n",
    "#tabsize=2-->1 space"
   ]
  },
  {
   "cell_type": "code",
   "execution_count": 34,
   "id": "931c8b39",
   "metadata": {},
   "outputs": [
    {
     "data": {
      "text/plain": [
       "True"
      ]
     },
     "execution_count": 34,
     "metadata": {},
     "output_type": "execute_result"
    }
   ],
   "source": [
    "'A'.isalpha()"
   ]
  },
  {
   "cell_type": "code",
   "execution_count": 35,
   "id": "cee223ef",
   "metadata": {},
   "outputs": [
    {
     "data": {
      "text/plain": [
       "True"
      ]
     },
     "execution_count": 35,
     "metadata": {},
     "output_type": "execute_result"
    }
   ],
   "source": [
    "'a'.islower()"
   ]
  },
  {
   "cell_type": "code",
   "execution_count": 36,
   "id": "466120dc",
   "metadata": {},
   "outputs": [
    {
     "data": {
      "text/plain": [
       "False"
      ]
     },
     "execution_count": 36,
     "metadata": {},
     "output_type": "execute_result"
    }
   ],
   "source": [
    "'A'.islower()"
   ]
  },
  {
   "cell_type": "code",
   "execution_count": 42,
   "id": "d41da8d6",
   "metadata": {},
   "outputs": [
    {
     "data": {
      "text/plain": [
       "True"
      ]
     },
     "execution_count": 42,
     "metadata": {},
     "output_type": "execute_result"
    }
   ],
   "source": [
    "' '.isspace()"
   ]
  },
  {
   "cell_type": "code",
   "execution_count": 43,
   "id": "4d3d94cc",
   "metadata": {},
   "outputs": [
    {
     "data": {
      "text/plain": [
       "True"
      ]
     },
     "execution_count": 43,
     "metadata": {},
     "output_type": "execute_result"
    }
   ],
   "source": [
    "'           '.isspace()"
   ]
  },
  {
   "cell_type": "code",
   "execution_count": 46,
   "id": "3c788bbc",
   "metadata": {},
   "outputs": [
    {
     "data": {
      "text/plain": [
       "True"
      ]
     },
     "execution_count": 46,
     "metadata": {},
     "output_type": "execute_result"
    }
   ],
   "source": [
    "'hjjasbc'.isalpha()"
   ]
  },
  {
   "cell_type": "code",
   "execution_count": 49,
   "id": "914a898e",
   "metadata": {},
   "outputs": [
    {
     "data": {
      "text/plain": [
       "False"
      ]
     },
     "execution_count": 49,
     "metadata": {},
     "output_type": "execute_result"
    }
   ],
   "source": [
    "'hjjasb@#$122c'.isalpha()"
   ]
  },
  {
   "cell_type": "code",
   "execution_count": 50,
   "id": "93e399ee",
   "metadata": {},
   "outputs": [
    {
     "data": {
      "text/plain": [
       "True"
      ]
     },
     "execution_count": 50,
     "metadata": {},
     "output_type": "execute_result"
    }
   ],
   "source": [
    "'1234'.isdigit()"
   ]
  },
  {
   "cell_type": "code",
   "execution_count": 51,
   "id": "48543c63",
   "metadata": {},
   "outputs": [
    {
     "data": {
      "text/plain": [
       "False"
      ]
     },
     "execution_count": 51,
     "metadata": {},
     "output_type": "execute_result"
    }
   ],
   "source": [
    "'asjgxs124'.isdigit()"
   ]
  },
  {
   "cell_type": "code",
   "execution_count": 52,
   "id": "b7ca13f8",
   "metadata": {},
   "outputs": [
    {
     "name": "stdout",
     "output_type": "stream",
     "text": [
      "enter a string jskkaeinJWEIOUNkx\n",
      "j is not a vowel\n",
      "s is not a vowel\n",
      "k is not a vowel\n",
      "k is not a vowel\n",
      "a is a vowel\n",
      "e is a vowel\n",
      "i is a vowel\n",
      "n is not a vowel\n",
      "J is not a vowel\n",
      "W is not a vowel\n",
      "E is a vowel\n",
      "I is a vowel\n",
      "O is a vowel\n",
      "U is a vowel\n",
      "N is not a vowel\n",
      "k is not a vowel\n",
      "x is not a vowel\n"
     ]
    }
   ],
   "source": [
    "inp=input(\"enter a string \")\n",
    "vowels=\"AaEeIiOoUu\"\n",
    "for i in inp:\n",
    "    if i in vowels:\n",
    "        print(\"{} is a vowel\".format(i))\n",
    "    else:\n",
    "        print(\"{} is not a vowel\".format(i))"
   ]
  },
  {
   "cell_type": "code",
   "execution_count": 53,
   "id": "97d0d1ee",
   "metadata": {},
   "outputs": [
    {
     "name": "stdout",
     "output_type": "stream",
     "text": [
      "enter a word to check is a pallindrome or not: llllll\n",
      "it is a pallindrome\n"
     ]
    }
   ],
   "source": [
    "p=input(\"enter a word to check is a pallindrome or not: \") \n",
    "if p==p[::-1]:\n",
    "    print(\"it is a pallindrome\")\n",
    "else:\n",
    "    print(\"it is not a pallindrome\")"
   ]
  },
  {
   "cell_type": "code",
   "execution_count": 54,
   "id": "23d4674c",
   "metadata": {},
   "outputs": [],
   "source": [
    "v=str(\"vamsi\")"
   ]
  },
  {
   "cell_type": "code",
   "execution_count": 55,
   "id": "f0bc3b83",
   "metadata": {},
   "outputs": [
    {
     "data": {
      "text/plain": [
       "'vamsi'"
      ]
     },
     "execution_count": 55,
     "metadata": {},
     "output_type": "execute_result"
    }
   ],
   "source": [
    "v"
   ]
  },
  {
   "cell_type": "code",
   "execution_count": 56,
   "id": "437a937e",
   "metadata": {},
   "outputs": [],
   "source": [
    "x=123444\n",
    "v=str(x)"
   ]
  },
  {
   "cell_type": "code",
   "execution_count": 57,
   "id": "1e734a52",
   "metadata": {},
   "outputs": [
    {
     "data": {
      "text/plain": [
       "'123444'"
      ]
     },
     "execution_count": 57,
     "metadata": {},
     "output_type": "execute_result"
    }
   ],
   "source": [
    "v"
   ]
  },
  {
   "cell_type": "code",
   "execution_count": 11,
   "id": "e62e1658",
   "metadata": {},
   "outputs": [
    {
     "name": "stdout",
     "output_type": "stream",
     "text": [
      "7\n",
      "---------.|.---------\n",
      "------.|..|..|.------\n",
      "---.|..|..|..|..|.---\n",
      "-------WELCOME-------\n",
      "---.|..|..|..|..|.---\n",
      "------.|..|..|.------\n",
      "---------.|.---------\n"
     ]
    }
   ],
   "source": [
    "N=int(input())\n",
    "M=3*N\n",
    "l_tri=int(N/2)\n",
    "for i in range(l_tri):\n",
    "    print(('.|.'*(2*i+1)).center(M,'-'))\n",
    "print('WELCOME'.center(M,'-'))\n",
    "for i in range(l_tri):\n",
    "    print(('.|.'*(2*(l_tri-i)-1)).center(M,'-'))"
   ]
  },
  {
   "cell_type": "code",
   "execution_count": 12,
   "id": "691377b4",
   "metadata": {},
   "outputs": [
    {
     "name": "stdout",
     "output_type": "stream",
     "text": [
      "7 21\n",
      "---------.|.---------\n",
      "------.|..|..|.------\n",
      "---.|..|..|..|..|.---\n",
      "-------WELCOME-------\n",
      "---.|..|..|..|..|.---\n",
      "------.|..|..|.------\n",
      "---------.|.---------\n"
     ]
    }
   ],
   "source": [
    "N,M=map(int,input().split())\n",
    "l_tri=int(N/2)\n",
    "for i in range(l_tri):\n",
    "    print(('.|.'*(2*i+1)).center(M,'-'))\n",
    "print('WELCOME'.center(M,'-'))\n",
    "for i in range(l_tri):\n",
    "    print(('.|.'*(2*(l_tri-i)-1)).center(M,'-'))\n",
    "    "
   ]
  },
  {
   "cell_type": "code",
   "execution_count": 7,
   "id": "95425a65",
   "metadata": {},
   "outputs": [
    {
     "name": "stdout",
     "output_type": "stream",
     "text": [
      "--------.|..|.-------\n"
     ]
    }
   ],
   "source": [
    "print(('.|.'*2).center(21,'-'))"
   ]
  },
  {
   "cell_type": "code",
   "execution_count": null,
   "id": "f31b6542",
   "metadata": {},
   "outputs": [],
   "source": []
  }
 ],
 "metadata": {
  "kernelspec": {
   "display_name": "Python 3 (ipykernel)",
   "language": "python",
   "name": "python3"
  },
  "language_info": {
   "codemirror_mode": {
    "name": "ipython",
    "version": 3
   },
   "file_extension": ".py",
   "mimetype": "text/x-python",
   "name": "python",
   "nbconvert_exporter": "python",
   "pygments_lexer": "ipython3",
   "version": "3.8.11"
  }
 },
 "nbformat": 4,
 "nbformat_minor": 5
}
