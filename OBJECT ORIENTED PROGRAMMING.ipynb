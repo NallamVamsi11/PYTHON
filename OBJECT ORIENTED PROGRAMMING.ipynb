{
 "cells": [
  {
   "cell_type": "code",
   "execution_count": 5,
   "id": "62dbf410",
   "metadata": {},
   "outputs": [],
   "source": [
    "class car:\n",
    "    pass"
   ]
  },
  {
   "cell_type": "code",
   "execution_count": 6,
   "id": "add5e786",
   "metadata": {},
   "outputs": [],
   "source": [
    "audi=car()"
   ]
  },
  {
   "cell_type": "code",
   "execution_count": 7,
   "id": "82764eac",
   "metadata": {},
   "outputs": [
    {
     "data": {
      "text/plain": [
       "<__main__.car at 0x2161feb3820>"
      ]
     },
     "execution_count": 7,
     "metadata": {},
     "output_type": "execute_result"
    }
   ],
   "source": [
    "audi"
   ]
  },
  {
   "cell_type": "code",
   "execution_count": 8,
   "id": "47081a61",
   "metadata": {},
   "outputs": [],
   "source": [
    "audi.milage=20\n",
    "audi.year=2021\n",
    "audi.model='vamsi11'"
   ]
  },
  {
   "cell_type": "code",
   "execution_count": 11,
   "id": "ab41422c",
   "metadata": {},
   "outputs": [
    {
     "data": {
      "text/plain": [
       "int"
      ]
     },
     "execution_count": 11,
     "metadata": {},
     "output_type": "execute_result"
    }
   ],
   "source": [
    "type(audi.milage)"
   ]
  },
  {
   "cell_type": "code",
   "execution_count": 13,
   "id": "78081dc4",
   "metadata": {},
   "outputs": [
    {
     "data": {
      "text/plain": [
       "__main__.car"
      ]
     },
     "execution_count": 13,
     "metadata": {},
     "output_type": "execute_result"
    }
   ],
   "source": [
    "type(audi)"
   ]
  },
  {
   "cell_type": "code",
   "execution_count": 20,
   "id": "ae7c6301",
   "metadata": {},
   "outputs": [],
   "source": [
    "nano = car()"
   ]
  },
  {
   "cell_type": "code",
   "execution_count": 21,
   "id": "38834e07",
   "metadata": {},
   "outputs": [],
   "source": [
    "nano.milage=30\n",
    "nano.year=2017\n",
    "nano.model='n8688'\n",
    "nano.maker='tata'"
   ]
  },
  {
   "cell_type": "code",
   "execution_count": 22,
   "id": "4cab398a",
   "metadata": {},
   "outputs": [
    {
     "data": {
      "text/plain": [
       "2017"
      ]
     },
     "execution_count": 22,
     "metadata": {},
     "output_type": "execute_result"
    }
   ],
   "source": [
    "nano.year"
   ]
  },
  {
   "cell_type": "code",
   "execution_count": 25,
   "id": "51abb2fb",
   "metadata": {},
   "outputs": [],
   "source": [
    "class Student:\n",
    "    ''' doc string  - this is my first class '''\n",
    "    #variables - properties of object like , name,rollno,marks of students\n",
    "    #methods- actions/ functionalities of objects."
   ]
  },
  {
   "cell_type": "code",
   "execution_count": 26,
   "id": "64641db3",
   "metadata": {},
   "outputs": [
    {
     "name": "stdout",
     "output_type": "stream",
     "text": [
      " doc string  - this is my first class \n"
     ]
    }
   ],
   "source": [
    "print(Student.__doc__)"
   ]
  },
  {
   "cell_type": "code",
   "execution_count": 32,
   "id": "02304f75",
   "metadata": {},
   "outputs": [
    {
     "name": "stdout",
     "output_type": "stream",
     "text": [
      "this is a constructor\n",
      "vamsi\n",
      "1904068\n",
      "15\n",
      "my name is  vamsi\n",
      "my rollno is  1904068\n",
      "my package is  15\n"
     ]
    }
   ],
   "source": [
    "class Student:\n",
    "    '''this is student class'''\n",
    "    def __init__(self):#constructor\n",
    "        print(\"this is a constructor\")\n",
    "        self.name='vamsi'\n",
    "        self.rollno=1904068\n",
    "        self.package=15\n",
    "    def details(self):\n",
    "        print(\"my name is \",self.name)\n",
    "        print(\"my rollno is \",self.rollno)\n",
    "        print(\"my package is \",self.package)\n",
    "s=Student() #constructor is executed during object creation\n",
    "print(s.name)\n",
    "print(s.rollno)\n",
    "print(s.package)\n",
    "s.details()"
   ]
  },
  {
   "cell_type": "code",
   "execution_count": 35,
   "id": "bf62fabd",
   "metadata": {},
   "outputs": [
    {
     "name": "stdout",
     "output_type": "stream",
     "text": [
      "this is a constructor..............\n",
      "this is a constructor..............\n",
      "2294048875328 vamsi\n",
      "2294048876816 vamsi\n"
     ]
    }
   ],
   "source": [
    "class Student:\n",
    "    '''this is student class'''\n",
    "    def __init__(self):#constructor\n",
    "        print(\"this is a constructor..............\")\n",
    "        self.name='vamsi'\n",
    "        self.rollno=1904068\n",
    "        self.package=15\n",
    "    def details(self):\n",
    "        print(\"my name is \",self.name)\n",
    "        print(\"my rollno is \",self.rollno)\n",
    "        print(\"my package is \",self.package)\n",
    "s1=Student()#constructor is executed during object creation\n",
    "s2=Student()\n",
    "#both are different objects\n",
    "print(id(s1),s1.name)\n",
    "print(id(s2),s2.name)"
   ]
  },
  {
   "cell_type": "code",
   "execution_count": 36,
   "id": "f63a4b8e",
   "metadata": {},
   "outputs": [
    {
     "name": "stdout",
     "output_type": "stream",
     "text": [
      "<__main__.Student object at 0x000002161FF7E340>\n"
     ]
    }
   ],
   "source": [
    "print(s1)"
   ]
  },
  {
   "cell_type": "code",
   "execution_count": 11,
   "id": "07e7ede6",
   "metadata": {},
   "outputs": [
    {
     "name": "stdout",
     "output_type": "stream",
     "text": [
      "this is a constructor\n",
      "<__main__.Student object at 0x000001AA5DA8B340>\n",
      "vamsi\n"
     ]
    },
    {
     "ename": "TypeError",
     "evalue": "__init__() takes 1 positional argument but 4 were given",
     "output_type": "error",
     "traceback": [
      "\u001b[1;31m---------------------------------------------------------------------------\u001b[0m",
      "\u001b[1;31mTypeError\u001b[0m                                 Traceback (most recent call last)",
      "\u001b[1;32m<ipython-input-11-f8d0903aa0bf>\u001b[0m in \u001b[0;36m<module>\u001b[1;34m\u001b[0m\n\u001b[0;32m     13\u001b[0m \u001b[0ms\u001b[0m\u001b[1;33m=\u001b[0m\u001b[0mStudent\u001b[0m\u001b[1;33m(\u001b[0m\u001b[1;33m)\u001b[0m \u001b[1;31m#constructor is executed during object creation\u001b[0m\u001b[1;33m\u001b[0m\u001b[1;33m\u001b[0m\u001b[0m\n\u001b[0;32m     14\u001b[0m \u001b[0mprint\u001b[0m\u001b[1;33m(\u001b[0m\u001b[0ms\u001b[0m\u001b[1;33m.\u001b[0m\u001b[0mname\u001b[0m\u001b[1;33m)\u001b[0m\u001b[1;33m\u001b[0m\u001b[1;33m\u001b[0m\u001b[0m\n\u001b[1;32m---> 15\u001b[1;33m \u001b[0ms1\u001b[0m\u001b[1;33m=\u001b[0m\u001b[0mStudent\u001b[0m\u001b[1;33m(\u001b[0m\u001b[1;34m'jagga'\u001b[0m\u001b[1;33m,\u001b[0m\u001b[1;36m1904062\u001b[0m\u001b[1;33m,\u001b[0m\u001b[1;36m10\u001b[0m\u001b[1;33m)\u001b[0m\u001b[1;33m\u001b[0m\u001b[1;33m\u001b[0m\u001b[0m\n\u001b[0m",
      "\u001b[1;31mTypeError\u001b[0m: __init__() takes 1 positional argument but 4 were given"
     ]
    }
   ],
   "source": [
    "class Student:\n",
    "    '''this is student class'''\n",
    "    def __init__(self):#constructor\n",
    "        print(\"this is a constructor\")\n",
    "        print(self)\n",
    "        self.name='vamsi'\n",
    "        self.rollno=1904068\n",
    "        self.package=15\n",
    "    def details(self):\n",
    "        print(\"my name is \",self.name)\n",
    "        print(\"my rollno is \",self.rollno)\n",
    "        print(\"my package is \",self.package)\n",
    "s=Student() #constructor is executed during object creation\n",
    "print(s.name)\n",
    "s1=Student('jagga',1904062,10)"
   ]
  },
  {
   "cell_type": "code",
   "execution_count": 4,
   "id": "0cf454f4",
   "metadata": {},
   "outputs": [
    {
     "name": "stdout",
     "output_type": "stream",
     "text": [
      "my name is  vamsi\n",
      "my rollno is  1904068\n",
      "my package is  15\n"
     ]
    }
   ],
   "source": [
    "s.details()"
   ]
  },
  {
   "cell_type": "code",
   "execution_count": 10,
   "id": "aa34dd66",
   "metadata": {},
   "outputs": [
    {
     "name": "stdout",
     "output_type": "stream",
     "text": [
      "10\n",
      "None\n"
     ]
    }
   ],
   "source": [
    "def Test(a):\n",
    "    print(a)\n",
    "print(Test(10))"
   ]
  },
  {
   "cell_type": "code",
   "execution_count": 17,
   "id": "34ecc6fa",
   "metadata": {},
   "outputs": [
    {
     "name": "stdout",
     "output_type": "stream",
     "text": [
      "jagga 1904062 10\n"
     ]
    }
   ],
   "source": [
    "class Student1:\n",
    "    '''this is student class'''\n",
    "    def __init__(self,name,rollno,package):#constructor\n",
    "        self.name=name\n",
    "        self.rollno=rollno\n",
    "        self.package=package\n",
    "    def details(self):\n",
    "        print(\"my name is \",self.name)\n",
    "        print(\"my rollno is \",self.rollno)\n",
    "        print(\"my package is \",self.package)\n",
    "s1=Student1('jagga',1904062,10)\n",
    "print(s1.name,s1.rollno,s1.package)"
   ]
  },
  {
   "cell_type": "code",
   "execution_count": 21,
   "id": "034b50b9",
   "metadata": {},
   "outputs": [
    {
     "name": "stdout",
     "output_type": "stream",
     "text": [
      "jagga 1904062 10\n",
      "jagga 1904062 10\n"
     ]
    }
   ],
   "source": [
    "class Student1:\n",
    "    '''this is student class'''\n",
    "    def __init__(self,x,y,z):#constructor\n",
    "        print(x,y,z)\n",
    "        self.name=x\n",
    "        self.rollno=y\n",
    "        self.package=z\n",
    "    def details(self):\n",
    "        print(\"my name is \",self.name)\n",
    "        print(\"my rollno is \",self.rollno)\n",
    "        print(\"my package is \",self.package)\n",
    "s1=Student1('jagga',1904062,10)\n",
    "print(s1.name,s1.rollno,s1.package)"
   ]
  },
  {
   "cell_type": "code",
   "execution_count": 25,
   "id": "fcf7690e",
   "metadata": {},
   "outputs": [
    {
     "name": "stdout",
     "output_type": "stream",
     "text": [
      "1831227404928\n",
      "1831227404928\n"
     ]
    }
   ],
   "source": [
    "class Test:\n",
    "    def __init__(self):\n",
    "        print(id(self))\n",
    "t=Test()\n",
    "print(id(t))"
   ]
  },
  {
   "cell_type": "code",
   "execution_count": 26,
   "id": "48cd37cf",
   "metadata": {},
   "outputs": [
    {
     "name": "stdout",
     "output_type": "stream",
     "text": [
      "1831227407952\n",
      "1831227407952\n",
      "1831227407664\n",
      "1831227407664\n"
     ]
    }
   ],
   "source": [
    "class Test:\n",
    "    def __init__(self):\n",
    "        print(id(self))\n",
    "t1=Test()\n",
    "print(id(t1))\n",
    "t2=Test()\n",
    "print(id(t2))"
   ]
  },
  {
   "cell_type": "code",
   "execution_count": 38,
   "id": "2d0be4c1",
   "metadata": {},
   "outputs": [],
   "source": [
    "class Test1:\n",
    "    def __init__(self):\n",
    "        name='vamsi' #local variable\n",
    "        self.name='nallam'\n",
    "        print(name)\n",
    "    def m1(self):\n",
    "        print(self.name)"
   ]
  },
  {
   "cell_type": "code",
   "execution_count": 39,
   "id": "52e0819a",
   "metadata": {},
   "outputs": [
    {
     "name": "stdout",
     "output_type": "stream",
     "text": [
      "vamsi\n",
      "nallam\n"
     ]
    }
   ],
   "source": [
    "t=Test1()\n",
    "t.m1()"
   ]
  },
  {
   "cell_type": "code",
   "execution_count": 40,
   "id": "e1798ab1",
   "metadata": {},
   "outputs": [],
   "source": [
    "#self is not a keyword so we can use any name.\n",
    "class Test2:\n",
    "    def __init__(velf):\n",
    "        velf.name='vamsi'\n",
    "    def det(velf):\n",
    "        print(velf.name)"
   ]
  },
  {
   "cell_type": "code",
   "execution_count": 41,
   "id": "c2c9962b",
   "metadata": {},
   "outputs": [],
   "source": [
    "t=Test2()"
   ]
  },
  {
   "cell_type": "code",
   "execution_count": 42,
   "id": "7c94e790",
   "metadata": {},
   "outputs": [
    {
     "name": "stdout",
     "output_type": "stream",
     "text": [
      "vamsi\n"
     ]
    }
   ],
   "source": [
    "t.det()"
   ]
  },
  {
   "cell_type": "code",
   "execution_count": 45,
   "id": "53b6ed18",
   "metadata": {},
   "outputs": [
    {
     "name": "stdout",
     "output_type": "stream",
     "text": [
      "constructor 1831227609440\n",
      "instance method 1831227609440\n",
      "dell laptop\n",
      "12345\n"
     ]
    }
   ],
   "source": [
    "#the 1st  argument in constructor and instance method will be reference variable pointing to current object.\n",
    "class Test:\n",
    "    def __init__(dell):\n",
    "        print('constructor',id(dell))\n",
    "        dell.name='dell laptop'\n",
    "        dell.model=12345\n",
    "    def det(leno):\n",
    "        print('instance method',id(leno))\n",
    "        print(leno.name)\n",
    "        print(leno.model)\n",
    "t=Test()\n",
    "t.det()"
   ]
  },
  {
   "cell_type": "code",
   "execution_count": 50,
   "id": "b4deb773",
   "metadata": {},
   "outputs": [],
   "source": [
    "def test(a):\n",
    "    print(a,type(a))"
   ]
  },
  {
   "cell_type": "code",
   "execution_count": 51,
   "id": "99b1440e",
   "metadata": {},
   "outputs": [
    {
     "name": "stdout",
     "output_type": "stream",
     "text": [
      "10 <class 'int'>\n"
     ]
    }
   ],
   "source": [
    "test(a=10)"
   ]
  },
  {
   "cell_type": "code",
   "execution_count": 52,
   "id": "909c0b80",
   "metadata": {},
   "outputs": [
    {
     "ename": "TypeError",
     "evalue": "test() got an unexpected keyword argument 'b'",
     "output_type": "error",
     "traceback": [
      "\u001b[1;31m---------------------------------------------------------------------------\u001b[0m",
      "\u001b[1;31mTypeError\u001b[0m                                 Traceback (most recent call last)",
      "\u001b[1;32m<ipython-input-52-4ddfebbf168b>\u001b[0m in \u001b[0;36m<module>\u001b[1;34m\u001b[0m\n\u001b[1;32m----> 1\u001b[1;33m \u001b[0mtest\u001b[0m\u001b[1;33m(\u001b[0m\u001b[0mb\u001b[0m\u001b[1;33m=\u001b[0m\u001b[1;36m10\u001b[0m\u001b[1;33m)\u001b[0m\u001b[1;33m\u001b[0m\u001b[1;33m\u001b[0m\u001b[0m\n\u001b[0m",
      "\u001b[1;31mTypeError\u001b[0m: test() got an unexpected keyword argument 'b'"
     ]
    }
   ],
   "source": [
    "test(b=10)"
   ]
  },
  {
   "cell_type": "code",
   "execution_count": 55,
   "id": "2c437f89",
   "metadata": {},
   "outputs": [
    {
     "name": "stdout",
     "output_type": "stream",
     "text": [
      "hii\n"
     ]
    }
   ],
   "source": [
    "class S:\n",
    "    def __init__(x):\n",
    "        print('hii')\n",
    "s=S()"
   ]
  },
  {
   "cell_type": "code",
   "execution_count": 56,
   "id": "55660e7f",
   "metadata": {},
   "outputs": [
    {
     "ename": "TypeError",
     "evalue": "__init__() takes 1 positional argument but 2 were given",
     "output_type": "error",
     "traceback": [
      "\u001b[1;31m---------------------------------------------------------------------------\u001b[0m",
      "\u001b[1;31mTypeError\u001b[0m                                 Traceback (most recent call last)",
      "\u001b[1;32m<ipython-input-56-414959df05ba>\u001b[0m in \u001b[0;36m<module>\u001b[1;34m\u001b[0m\n\u001b[1;32m----> 1\u001b[1;33m \u001b[0ms1\u001b[0m\u001b[1;33m=\u001b[0m\u001b[0mS\u001b[0m\u001b[1;33m(\u001b[0m\u001b[1;36m10\u001b[0m\u001b[1;33m)\u001b[0m\u001b[1;33m\u001b[0m\u001b[1;33m\u001b[0m\u001b[0m\n\u001b[0m",
      "\u001b[1;31mTypeError\u001b[0m: __init__() takes 1 positional argument but 2 were given"
     ]
    }
   ],
   "source": [
    "s1=S(10)"
   ]
  },
  {
   "cell_type": "code",
   "execution_count": 57,
   "id": "5c32fa33",
   "metadata": {},
   "outputs": [
    {
     "ename": "TypeError",
     "evalue": "__init__() got multiple values for argument 'x'",
     "output_type": "error",
     "traceback": [
      "\u001b[1;31m---------------------------------------------------------------------------\u001b[0m",
      "\u001b[1;31mTypeError\u001b[0m                                 Traceback (most recent call last)",
      "\u001b[1;32m<ipython-input-57-77a0f8cee291>\u001b[0m in \u001b[0;36m<module>\u001b[1;34m\u001b[0m\n\u001b[1;32m----> 1\u001b[1;33m \u001b[0ms1\u001b[0m\u001b[1;33m=\u001b[0m\u001b[0mS\u001b[0m\u001b[1;33m(\u001b[0m\u001b[0mx\u001b[0m\u001b[1;33m=\u001b[0m\u001b[1;36m10\u001b[0m\u001b[1;33m)\u001b[0m\u001b[1;33m\u001b[0m\u001b[1;33m\u001b[0m\u001b[0m\n\u001b[0m",
      "\u001b[1;31mTypeError\u001b[0m: __init__() got multiple values for argument 'x'"
     ]
    }
   ],
   "source": [
    "s1=S(x=10)"
   ]
  },
  {
   "cell_type": "code",
   "execution_count": 63,
   "id": "6ea1fc24",
   "metadata": {},
   "outputs": [
    {
     "name": "stdout",
     "output_type": "stream",
     "text": [
      "Help on class C in module __main__:\n",
      "\n",
      "class C(builtins.object)\n",
      " |  Methods defined here:\n",
      " |  \n",
      " |  __init__(self)\n",
      " |      Initialize self.  See help(type(self)) for accurate signature.\n",
      " |  \n",
      " |  deta(self)\n",
      " |  \n",
      " |  ----------------------------------------------------------------------\n",
      " |  Data descriptors defined here:\n",
      " |  \n",
      " |  __dict__\n",
      " |      dictionary for instance variables (if defined)\n",
      " |  \n",
      " |  __weakref__\n",
      " |      list of weak references to the object (if defined)\n",
      "\n"
     ]
    }
   ],
   "source": [
    "class C:\n",
    "    def __init__(self):\n",
    "        name='vamsi'\n",
    "        rollno=1904068\n",
    "        help(type(self))\n",
    "        self.name='nallam'\n",
    "    def deta(self):\n",
    "        print(self.name,name)\n",
    "c=C()"
   ]
  },
  {
   "cell_type": "code",
   "execution_count": 59,
   "id": "af87cea7",
   "metadata": {},
   "outputs": [
    {
     "ename": "NameError",
     "evalue": "name 'name' is not defined",
     "output_type": "error",
     "traceback": [
      "\u001b[1;31m---------------------------------------------------------------------------\u001b[0m",
      "\u001b[1;31mNameError\u001b[0m                                 Traceback (most recent call last)",
      "\u001b[1;32m<ipython-input-59-a9afdb24a6d8>\u001b[0m in \u001b[0;36m<module>\u001b[1;34m\u001b[0m\n\u001b[1;32m----> 1\u001b[1;33m \u001b[0mc\u001b[0m\u001b[1;33m.\u001b[0m\u001b[0mdeta\u001b[0m\u001b[1;33m(\u001b[0m\u001b[1;33m)\u001b[0m\u001b[1;33m\u001b[0m\u001b[1;33m\u001b[0m\u001b[0m\n\u001b[0m",
      "\u001b[1;32m<ipython-input-58-d1ac4b8e69ac>\u001b[0m in \u001b[0;36mdeta\u001b[1;34m(self)\u001b[0m\n\u001b[0;32m      5\u001b[0m         \u001b[0mself\u001b[0m\u001b[1;33m.\u001b[0m\u001b[0mname\u001b[0m\u001b[1;33m=\u001b[0m\u001b[1;34m'nallam'\u001b[0m\u001b[1;33m\u001b[0m\u001b[1;33m\u001b[0m\u001b[0m\n\u001b[0;32m      6\u001b[0m     \u001b[1;32mdef\u001b[0m \u001b[0mdeta\u001b[0m\u001b[1;33m(\u001b[0m\u001b[0mself\u001b[0m\u001b[1;33m)\u001b[0m\u001b[1;33m:\u001b[0m\u001b[1;33m\u001b[0m\u001b[1;33m\u001b[0m\u001b[0m\n\u001b[1;32m----> 7\u001b[1;33m         \u001b[0mprint\u001b[0m\u001b[1;33m(\u001b[0m\u001b[0mself\u001b[0m\u001b[1;33m.\u001b[0m\u001b[0mname\u001b[0m\u001b[1;33m,\u001b[0m\u001b[0mname\u001b[0m\u001b[1;33m)\u001b[0m\u001b[1;33m\u001b[0m\u001b[1;33m\u001b[0m\u001b[0m\n\u001b[0m\u001b[0;32m      8\u001b[0m \u001b[0mc\u001b[0m\u001b[1;33m=\u001b[0m\u001b[0mC\u001b[0m\u001b[1;33m(\u001b[0m\u001b[1;33m)\u001b[0m\u001b[1;33m\u001b[0m\u001b[1;33m\u001b[0m\u001b[0m\n",
      "\u001b[1;31mNameError\u001b[0m: name 'name' is not defined"
     ]
    }
   ],
   "source": [
    "c.deta()"
   ]
  },
  {
   "cell_type": "code",
   "execution_count": 60,
   "id": "32e4daac",
   "metadata": {},
   "outputs": [
    {
     "name": "stdout",
     "output_type": "stream",
     "text": [
      "Help on C in module __main__ object:\n",
      "\n",
      "class C(builtins.object)\n",
      " |  Methods defined here:\n",
      " |  \n",
      " |  __init__(self)\n",
      " |      Initialize self.  See help(type(self)) for accurate signature.\n",
      " |  \n",
      " |  deta(self)\n",
      " |  \n",
      " |  ----------------------------------------------------------------------\n",
      " |  Data descriptors defined here:\n",
      " |  \n",
      " |  __dict__\n",
      " |      dictionary for instance variables (if defined)\n",
      " |  \n",
      " |  __weakref__\n",
      " |      list of weak references to the object (if defined)\n",
      "\n"
     ]
    }
   ],
   "source": [
    "help(c)"
   ]
  },
  {
   "cell_type": "code",
   "execution_count": 66,
   "id": "e8111ed8",
   "metadata": {},
   "outputs": [],
   "source": [
    "class test:\n",
    "    def __init__(self):\n",
    "        self.a=100\n",
    "    def fun(self):\n",
    "        self.roll=1000\n",
    "        print(self.roll)"
   ]
  },
  {
   "cell_type": "code",
   "execution_count": 67,
   "id": "5667286e",
   "metadata": {},
   "outputs": [
    {
     "name": "stdout",
     "output_type": "stream",
     "text": [
      "1000\n"
     ]
    }
   ],
   "source": [
    "t=test()\n",
    "t.fun()"
   ]
  },
  {
   "cell_type": "code",
   "execution_count": 68,
   "id": "cfb2e407",
   "metadata": {},
   "outputs": [],
   "source": [
    "class Test1:\n",
    "    def __init__(self,name,rollno,marks):\n",
    "        self.name=name\n",
    "        self.rollno=rollno\n",
    "t=Test1('vamsi',100000,95)"
   ]
  },
  {
   "cell_type": "code",
   "execution_count": 69,
   "id": "e967900d",
   "metadata": {},
   "outputs": [
    {
     "data": {
      "text/plain": [
       "'vamsi'"
      ]
     },
     "execution_count": 69,
     "metadata": {},
     "output_type": "execute_result"
    }
   ],
   "source": [
    "t.name"
   ]
  },
  {
   "cell_type": "code",
   "execution_count": 70,
   "id": "6bdb39ec",
   "metadata": {},
   "outputs": [
    {
     "data": {
      "text/plain": [
       "100000"
      ]
     },
     "execution_count": 70,
     "metadata": {},
     "output_type": "execute_result"
    }
   ],
   "source": [
    "t.rollno"
   ]
  },
  {
   "cell_type": "code",
   "execution_count": 71,
   "id": "7e5651d0",
   "metadata": {},
   "outputs": [
    {
     "ename": "AttributeError",
     "evalue": "'Test1' object has no attribute 'marks'",
     "output_type": "error",
     "traceback": [
      "\u001b[1;31m---------------------------------------------------------------------------\u001b[0m",
      "\u001b[1;31mAttributeError\u001b[0m                            Traceback (most recent call last)",
      "\u001b[1;32m<ipython-input-71-4a9d36c1a0e0>\u001b[0m in \u001b[0;36m<module>\u001b[1;34m\u001b[0m\n\u001b[1;32m----> 1\u001b[1;33m \u001b[0mt\u001b[0m\u001b[1;33m.\u001b[0m\u001b[0mmarks\u001b[0m\u001b[1;33m\u001b[0m\u001b[1;33m\u001b[0m\u001b[0m\n\u001b[0m",
      "\u001b[1;31mAttributeError\u001b[0m: 'Test1' object has no attribute 'marks'"
     ]
    }
   ],
   "source": [
    "t.marks"
   ]
  },
  {
   "cell_type": "code",
   "execution_count": 73,
   "id": "f7b6ef5c",
   "metadata": {},
   "outputs": [
    {
     "name": "stdout",
     "output_type": "stream",
     "text": [
      "m1 method\n"
     ]
    }
   ],
   "source": [
    "class Test1:\n",
    "    def m1(self):\n",
    "        print(\"m1 method\")\n",
    "t=Test1()\n",
    "t.m1()\n",
    "#even if we dont declare a constructor pvm will provide a default constructor.\n",
    "#so in a class constructor declaration is optional"
   ]
  },
  {
   "cell_type": "code",
   "execution_count": 74,
   "id": "a247a4b9",
   "metadata": {},
   "outputs": [
    {
     "name": "stdout",
     "output_type": "stream",
     "text": [
      "m1 method\n",
      "vamsi 1904068\n"
     ]
    }
   ],
   "source": [
    "class Test1:\n",
    "    def m1(self):\n",
    "        print(\"m1 method\")\n",
    "        self.name='vamsi'\n",
    "        self.rollno=1904068\n",
    "t=Test1()\n",
    "t.m1()\n",
    "print(t.name,t.rollno)"
   ]
  },
  {
   "cell_type": "code",
   "execution_count": 75,
   "id": "30ca865f",
   "metadata": {},
   "outputs": [
    {
     "name": "stdout",
     "output_type": "stream",
     "text": [
      "hiiiiiiiiiiiiiiiiiiiiiiiiiiii\n",
      "hiiiiiiiiiiiiiiiiiiiiiiiiiiii\n"
     ]
    }
   ],
   "source": [
    "class Test2:\n",
    "    def __init__(self):\n",
    "        print('hiiiiiiiiiiiiiiiiiiiiiiiiiiii')\n",
    "t=Test2()\n",
    "t.__init__()"
   ]
  },
  {
   "cell_type": "code",
   "execution_count": 82,
   "id": "668d554c",
   "metadata": {},
   "outputs": [],
   "source": [
    "#constructor overloading is not supported\n",
    "class Test:\n",
    "    def __init__(self):\n",
    "        print('0-args constructor')\n",
    "    def __init__(self,x):\n",
    "        print('1-args constructor')\n",
    "#PVM will consider the most recent constructor only and the past ones will not be considered/ gone."
   ]
  },
  {
   "cell_type": "code",
   "execution_count": 84,
   "id": "db6ae4a2",
   "metadata": {},
   "outputs": [
    {
     "name": "stdout",
     "output_type": "stream",
     "text": [
      "PVM will consider the most recent constructor only  __init__() missing 1 required positional argument: 'x'\n",
      "1-args constructor\n"
     ]
    }
   ],
   "source": [
    "try:\n",
    "    t=Test()\n",
    "except TypeError as e:\n",
    "    print('PVM will consider the most recent constructor only ',e)\n",
    "    t=Test(10)"
   ]
  },
  {
   "cell_type": "code",
   "execution_count": 87,
   "id": "23140e22",
   "metadata": {},
   "outputs": [
    {
     "name": "stdout",
     "output_type": "stream",
     "text": [
      "1831227612608\n",
      "1831227611792\n"
     ]
    }
   ],
   "source": [
    "class Test:\n",
    "    def __init__(self,name):\n",
    "        self.name=name\n",
    "t=Test('vamsi')\n",
    "print(id(t))\n",
    "t=Test('nallam')\n",
    "print(id(t))"
   ]
  },
  {
   "cell_type": "code",
   "execution_count": 88,
   "id": "50b363e0",
   "metadata": {},
   "outputs": [
    {
     "name": "stdout",
     "output_type": "stream",
     "text": [
      "nallam\n"
     ]
    }
   ],
   "source": [
    "print(t.name)"
   ]
  },
  {
   "cell_type": "code",
   "execution_count": 89,
   "id": "c99d3c8f",
   "metadata": {},
   "outputs": [
    {
     "name": "stdout",
     "output_type": "stream",
     "text": [
      "140727100516432\n",
      "140727100522512\n"
     ]
    }
   ],
   "source": [
    "a=10\n",
    "print(id(a))\n",
    "a=200\n",
    "print(id(a))"
   ]
  },
  {
   "cell_type": "code",
   "execution_count": 91,
   "id": "d98e2716",
   "metadata": {},
   "outputs": [
    {
     "name": "stdout",
     "output_type": "stream",
     "text": [
      "5 140727100516272\n",
      "10 140727100516432\n",
      "15 140727100516592\n",
      "20 140727100516752\n",
      "25 140727100516912\n",
      "30 140727100517072\n"
     ]
    }
   ],
   "source": [
    "a=0\n",
    "for i in range(0,30,5):\n",
    "    a=a+5\n",
    "    print(a,id(a))"
   ]
  },
  {
   "cell_type": "code",
   "execution_count": 92,
   "id": "b1b3297e",
   "metadata": {},
   "outputs": [
    {
     "name": "stdout",
     "output_type": "stream",
     "text": [
      "1831227324736\n",
      "1831227325120\n"
     ]
    }
   ],
   "source": [
    "l=[1,2,3,4]\n",
    "print(id(l))\n",
    "l=[1,2,3]\n",
    "print(id(l))"
   ]
  },
  {
   "cell_type": "code",
   "execution_count": 94,
   "id": "ca868550",
   "metadata": {},
   "outputs": [
    {
     "name": "stdout",
     "output_type": "stream",
     "text": [
      "1831227660352\n",
      "[1, 2, 3, 4, 5] 1831227660352\n"
     ]
    }
   ],
   "source": [
    "l=[1,2,3,4]\n",
    "print(id(l))\n",
    "l.append(5)\n",
    "print(l,id(l))"
   ]
  },
  {
   "cell_type": "code",
   "execution_count": 95,
   "id": "d3a3497e",
   "metadata": {},
   "outputs": [
    {
     "name": "stdout",
     "output_type": "stream",
     "text": [
      "helllooo\n"
     ]
    }
   ],
   "source": [
    "class Test:\n",
    "    print('helllooo')"
   ]
  },
  {
   "cell_type": "code",
   "execution_count": 97,
   "id": "968ee01b",
   "metadata": {},
   "outputs": [
    {
     "name": "stdout",
     "output_type": "stream",
     "text": [
      "this is test class\n"
     ]
    }
   ],
   "source": [
    "class Test1:\n",
    "    def __init__(self):\n",
    "        print('this is 0 args cons.')\n",
    "    print('this is test class')\n",
    "    def m1(self):\n",
    "        print('this is m1 method')"
   ]
  },
  {
   "cell_type": "code",
   "execution_count": 99,
   "id": "523ca809",
   "metadata": {},
   "outputs": [
    {
     "name": "stdout",
     "output_type": "stream",
     "text": [
      "vamsi\n",
      "100\n"
     ]
    }
   ],
   "source": [
    "class Test:\n",
    "    def __init__(self,name,rollno):\n",
    "        self.name=name\n",
    "        self.rollno=rollno\n",
    "    def m1(self):\n",
    "        print(self.name)\n",
    "        print(self.rollno)\n",
    "t = Test('vamsi',100) #object creation constructor will be executed\n",
    "t.m1() #m1 method will be executed."
   ]
  },
  {
   "cell_type": "code",
   "execution_count": 100,
   "id": "e92ab39e",
   "metadata": {},
   "outputs": [
    {
     "name": "stdout",
     "output_type": "stream",
     "text": [
      "this is a constructor\n",
      "this is m1 method\n"
     ]
    }
   ],
   "source": [
    "class Test:\n",
    "    def __init__(self):\n",
    "        print('this is a constructor')\n",
    "    def method(self):\n",
    "        print(\"this is m1 method\")\n",
    "t=Test()\n",
    "t.method()"
   ]
  },
  {
   "cell_type": "code",
   "execution_count": 2,
   "id": "48c23ece",
   "metadata": {},
   "outputs": [
    {
     "name": "stdout",
     "output_type": "stream",
     "text": [
      "this is a class\n"
     ]
    }
   ],
   "source": [
    "def Test():\n",
    "    print('this is a simple fn')\n",
    "class Test:\n",
    "    print('this is a class')\n",
    "t=Test()"
   ]
  },
  {
   "cell_type": "code",
   "execution_count": 4,
   "id": "dbfdf29a",
   "metadata": {},
   "outputs": [
    {
     "name": "stdout",
     "output_type": "stream",
     "text": [
      "this is a class\n",
      "this is a simple fn2\n",
      "this is a simple fn2\n"
     ]
    }
   ],
   "source": [
    "def Test():\n",
    "    print('this is a simple fn1')\n",
    "class Test:\n",
    "    print('this is a class')\n",
    "def Test():\n",
    "    print('this is a simple fn2')\n",
    "t=Test()\n",
    "t1=Test()"
   ]
  },
  {
   "cell_type": "code",
   "execution_count": 5,
   "id": "a6732ab2",
   "metadata": {},
   "outputs": [
    {
     "name": "stdout",
     "output_type": "stream",
     "text": [
      "this is a simple fn2\n"
     ]
    }
   ],
   "source": [
    "t3=Test()"
   ]
  },
  {
   "cell_type": "code",
   "execution_count": 6,
   "id": "bd17d9e6",
   "metadata": {},
   "outputs": [
    {
     "name": "stdout",
     "output_type": "stream",
     "text": [
      "this is a class\n"
     ]
    }
   ],
   "source": [
    "def Test1():\n",
    "    print('this is a simple fn1')\n",
    "class Test1:\n",
    "    print('this is a class')\n",
    "def Test1():\n",
    "    print('this is a simple fn2')"
   ]
  },
  {
   "cell_type": "code",
   "execution_count": 7,
   "id": "fa43dae6",
   "metadata": {},
   "outputs": [
    {
     "name": "stdout",
     "output_type": "stream",
     "text": [
      "this is a simple fn2\n"
     ]
    }
   ],
   "source": [
    "t=Test1()"
   ]
  },
  {
   "cell_type": "code",
   "execution_count": 16,
   "id": "ed58ac70",
   "metadata": {},
   "outputs": [],
   "source": [
    "class Test:\n",
    "    def __init__(self):\n",
    "        print(\"this is cons.\")\n",
    "        def m2():\n",
    "            print('this is m2')\n",
    "        m2()\n",
    "        self.m1()\n",
    "    def m1(self):\n",
    "        print('this is m1')"
   ]
  },
  {
   "cell_type": "code",
   "execution_count": 17,
   "id": "1c2d5bd0",
   "metadata": {},
   "outputs": [
    {
     "name": "stdout",
     "output_type": "stream",
     "text": [
      "this is cons.\n",
      "this is m2\n",
      "this is m1\n"
     ]
    }
   ],
   "source": [
    "t=Test()"
   ]
  },
  {
   "cell_type": "code",
   "execution_count": 1,
   "id": "e7f8a6c9",
   "metadata": {},
   "outputs": [],
   "source": [
    "a=10\n",
    "b=20\n",
    "c=30\n",
    "l=[a,b,c]"
   ]
  },
  {
   "cell_type": "code",
   "execution_count": 2,
   "id": "e0f14eb6",
   "metadata": {},
   "outputs": [
    {
     "data": {
      "text/plain": [
       "[10, 20, 30]"
      ]
     },
     "execution_count": 2,
     "metadata": {},
     "output_type": "execute_result"
    }
   ],
   "source": [
    "l"
   ]
  },
  {
   "cell_type": "code",
   "execution_count": 3,
   "id": "3d402f73",
   "metadata": {},
   "outputs": [
    {
     "ename": "SyntaxError",
     "evalue": "invalid syntax (<ipython-input-3-4f13cc9a0e34>, line 1)",
     "output_type": "error",
     "traceback": [
      "\u001b[1;36m  File \u001b[1;32m\"<ipython-input-3-4f13cc9a0e34>\"\u001b[1;36m, line \u001b[1;32m1\u001b[0m\n\u001b[1;33m    l1=[a=10,b=20,c=30]\u001b[0m\n\u001b[1;37m         ^\u001b[0m\n\u001b[1;31mSyntaxError\u001b[0m\u001b[1;31m:\u001b[0m invalid syntax\n"
     ]
    }
   ],
   "source": [
    "l1=[a=10,b=20,c=30]"
   ]
  },
  {
   "cell_type": "code",
   "execution_count": 9,
   "id": "4341cc99",
   "metadata": {},
   "outputs": [
    {
     "name": "stdout",
     "output_type": "stream",
     "text": [
      "enter movie name: Attarintiki Daredi\n",
      "enter Hero name: Pawan Kalyan\n",
      "heroine mukhyam bigilu: Samantha\n",
      "Movie entered successfully\n",
      "Do u want to continue Yes/No: s\n",
      "enter movie name: Babubali\n",
      "enter Hero name: Prabhas\n",
      "heroine mukhyam bigilu: Anushka\n",
      "Movie entered successfully\n",
      "Do u want to continue Yes/No: s\n",
      "enter movie name: Khaleja\n",
      "enter Hero name: Mahesh Babu\n",
      "heroine mukhyam bigilu: Anushka\n",
      "Movie entered successfully\n",
      "Do u want to continue Yes/No: s\n",
      "enter movie name: Kumari 21F\n",
      "enter Hero name: Raj Tarun\n",
      "heroine mukhyam bigilu: Hebah Patel\n",
      "Movie entered successfully\n",
      "Do u want to continue Yes/No: s\n",
      "enter movie name: Jai Lava Kusa\n",
      "enter Hero name: NTR\n",
      "heroine mukhyam bigilu: Rashi Khana\n",
      "Movie entered successfully\n",
      "Do u want to continue Yes/No: no\n",
      "All Movies Details\n",
      "------------------------------\n",
      "Movie name is:  Attarintiki Daredi\n",
      "Hero name is:  Pawan Kalyan\n",
      "Heroine name is:  Samantha\n",
      "\n",
      "\n",
      "Movie name is:  Babubali\n",
      "Hero name is:  Prabhas\n",
      "Heroine name is:  Anushka\n",
      "\n",
      "\n",
      "Movie name is:  Khaleja\n",
      "Hero name is:  Mahesh Babu\n",
      "Heroine name is:  Anushka\n",
      "\n",
      "\n",
      "Movie name is:  Kumari 21F\n",
      "Hero name is:  Raj Tarun\n",
      "Heroine name is:  Hebah Patel\n",
      "\n",
      "\n",
      "Movie name is:  Jai Lava Kusa\n",
      "Hero name is:  NTR\n",
      "Heroine name is:  Rashi Khana\n",
      "\n",
      "\n"
     ]
    }
   ],
   "source": [
    "#small movie application\n",
    "class Movie:\n",
    "    def __init__(self,title,hero,heroine):\n",
    "        self.title=title\n",
    "        self.hero=hero\n",
    "        self.heroine=heroine\n",
    "    def movie(self):\n",
    "        print('Movie name is: ',self.title)\n",
    "        print('Hero name is: ',self.hero)\n",
    "        print('Heroine name is: ',self.heroine)\n",
    "List_Movies=[]\n",
    "while True:\n",
    "    a=input('enter movie name: ')\n",
    "    b=input('enter Hero name: ')\n",
    "    c=input('heroine mukhyam bigilu: ')\n",
    "    m=Movie(a,b,c)\n",
    "    List_Movies.append(m)\n",
    "    print('Movie entered successfully')\n",
    "    choice=input('Do u want to continue Yes/No: ')\n",
    "    if choice.lower()=='no':\n",
    "        break\n",
    "print('All Movies Details')\n",
    "print('-'*30)\n",
    "for i in List_Movies:\n",
    "    i.movie()\n",
    "    print('\\n')"
   ]
  },
  {
   "cell_type": "code",
   "execution_count": 10,
   "id": "ca2586a9",
   "metadata": {},
   "outputs": [
    {
     "ename": "SyntaxError",
     "evalue": "non-default argument follows default argument (<ipython-input-10-932c9d1a494a>, line 1)",
     "output_type": "error",
     "traceback": [
      "\u001b[1;36m  File \u001b[1;32m\"<ipython-input-10-932c9d1a494a>\"\u001b[1;36m, line \u001b[1;32m1\u001b[0m\n\u001b[1;33m    def Test(a=10,b=20,c):\u001b[0m\n\u001b[1;37m             ^\u001b[0m\n\u001b[1;31mSyntaxError\u001b[0m\u001b[1;31m:\u001b[0m non-default argument follows default argument\n"
     ]
    }
   ],
   "source": [
    "def Test(a=10,b=20,c):\n",
    "    return a+b+c"
   ]
  },
  {
   "cell_type": "code",
   "execution_count": 14,
   "id": "4b8b99a7",
   "metadata": {},
   "outputs": [],
   "source": [
    "def Test(c,a=10,b=20):\n",
    "    print(c,a,b)\n",
    "    return a+b+c"
   ]
  },
  {
   "cell_type": "code",
   "execution_count": 15,
   "id": "7062b531",
   "metadata": {},
   "outputs": [
    {
     "name": "stdout",
     "output_type": "stream",
     "text": [
      "200 10 20\n"
     ]
    },
    {
     "data": {
      "text/plain": [
       "230"
      ]
     },
     "execution_count": 15,
     "metadata": {},
     "output_type": "execute_result"
    }
   ],
   "source": [
    "Test(200)"
   ]
  },
  {
   "cell_type": "code",
   "execution_count": 16,
   "id": "b4a90ad5",
   "metadata": {},
   "outputs": [
    {
     "name": "stdout",
     "output_type": "stream",
     "text": [
      "200 11 21\n"
     ]
    },
    {
     "data": {
      "text/plain": [
       "232"
      ]
     },
     "execution_count": 16,
     "metadata": {},
     "output_type": "execute_result"
    }
   ],
   "source": [
    "Test(200,11,21)"
   ]
  },
  {
   "cell_type": "code",
   "execution_count": 32,
   "id": "277db9c5",
   "metadata": {},
   "outputs": [
    {
     "name": "stdout",
     "output_type": "stream",
     "text": [
      "this is m2\n",
      "this is constructor\n",
      "vamsi\n",
      "1904068\n"
     ]
    }
   ],
   "source": [
    "class Test:\n",
    "    def __init__(self):\n",
    "        print('this is constructor')\n",
    "        self.name='vamsi'\n",
    "        self.rollno=1904068\n",
    "    def m1(self):\n",
    "        print(self.name)\n",
    "        print(self.rollno)\n",
    "    def m2():\n",
    "        print('this is m2')\n",
    "    m2()\n",
    "    t=Test()\n",
    "    t.m1()\n"
   ]
  },
  {
   "cell_type": "code",
   "execution_count": 40,
   "id": "20a8113e",
   "metadata": {},
   "outputs": [
    {
     "name": "stdout",
     "output_type": "stream",
     "text": [
      "2036523543712\n",
      "2036523543712\n",
      "my name is :  vamsi\n",
      "my rollno is :  1904068\n",
      "2036523543712\n",
      "nitpatna\n",
      "2036494236224\n",
      "2036494236224\n"
     ]
    }
   ],
   "source": [
    "class Student:\n",
    "    collegename='nitpatna' #class level / static variable\n",
    "    def __init__(self):\n",
    "        print(id(self))\n",
    "        self.name='vamsi'\n",
    "        self.rollno=1904068\n",
    "        \n",
    "    def inst(kelf):\n",
    "        print('my name is : ',kelf.name)\n",
    "        print('my rollno is : ',kelf.rollno)\n",
    "        print(id(kelf))\n",
    "        \n",
    "    @classmethod\n",
    "    def classm(cls):\n",
    "        print(cls.collegename)\n",
    "        print(id(cls))\n",
    "s=Student()\n",
    "print(id(s))\n",
    "s.inst()\n",
    "Student.classm()\n",
    "print(id(Student))\n",
    "    "
   ]
  },
  {
   "cell_type": "code",
   "execution_count": 1,
   "id": "45c7f2a3",
   "metadata": {},
   "outputs": [
    {
     "name": "stdout",
     "output_type": "stream",
     "text": [
      "this is constructor..\n"
     ]
    }
   ],
   "source": [
    "class Test:\n",
    "    a=1000\n",
    "    b='ineuron'\n",
    "    def __init__(self):\n",
    "        print('this is constructor..')\n",
    "    def newly(self):\n",
    "        self.name='vamsi'\n",
    "        self.rollno=1000\n",
    "        print('this is newly fn   ',self.name,self.rollno)\n",
    "t=Test()"
   ]
  },
  {
   "cell_type": "code",
   "execution_count": 2,
   "id": "109de180",
   "metadata": {},
   "outputs": [
    {
     "ename": "AttributeError",
     "evalue": "'Test' object has no attribute 'name'",
     "output_type": "error",
     "traceback": [
      "\u001b[1;31m---------------------------------------------------------------------------\u001b[0m",
      "\u001b[1;31mAttributeError\u001b[0m                            Traceback (most recent call last)",
      "\u001b[1;32m<ipython-input-2-afc812d51b9a>\u001b[0m in \u001b[0;36m<module>\u001b[1;34m\u001b[0m\n\u001b[1;32m----> 1\u001b[1;33m \u001b[0mt\u001b[0m\u001b[1;33m.\u001b[0m\u001b[0mname\u001b[0m\u001b[1;33m\u001b[0m\u001b[1;33m\u001b[0m\u001b[0m\n\u001b[0m",
      "\u001b[1;31mAttributeError\u001b[0m: 'Test' object has no attribute 'name'"
     ]
    }
   ],
   "source": [
    "t.name"
   ]
  },
  {
   "cell_type": "code",
   "execution_count": 3,
   "id": "418aa46d",
   "metadata": {},
   "outputs": [
    {
     "name": "stdout",
     "output_type": "stream",
     "text": [
      "this is newly fn    vamsi 1000\n"
     ]
    }
   ],
   "source": [
    "t.newly()"
   ]
  },
  {
   "cell_type": "code",
   "execution_count": 4,
   "id": "c14d5db6",
   "metadata": {},
   "outputs": [
    {
     "data": {
      "text/plain": [
       "'vamsi'"
      ]
     },
     "execution_count": 4,
     "metadata": {},
     "output_type": "execute_result"
    }
   ],
   "source": [
    "t.name"
   ]
  },
  {
   "cell_type": "code",
   "execution_count": 5,
   "id": "812b8dc8",
   "metadata": {},
   "outputs": [
    {
     "data": {
      "text/plain": [
       "1000"
      ]
     },
     "execution_count": 5,
     "metadata": {},
     "output_type": "execute_result"
    }
   ],
   "source": [
    "t.rollno"
   ]
  },
  {
   "cell_type": "code",
   "execution_count": 6,
   "id": "409ea590",
   "metadata": {},
   "outputs": [
    {
     "data": {
      "text/plain": [
       "1000"
      ]
     },
     "execution_count": 6,
     "metadata": {},
     "output_type": "execute_result"
    }
   ],
   "source": [
    "t.a"
   ]
  },
  {
   "cell_type": "code",
   "execution_count": 2,
   "id": "94874e34",
   "metadata": {},
   "outputs": [
    {
     "name": "stdout",
     "output_type": "stream",
     "text": [
      "this is constructor.....\n",
      "this is instance method......\n",
      "Student name is:  vamsi\n",
      "Student rollno is:  68\n",
      "Student marks is:  95\n",
      "this is class method....\n",
      "college name is :  NITPATNA\n",
      "college state is:  BIHAR\n",
      "average is : 20.0\n"
     ]
    }
   ],
   "source": [
    "class Student:\n",
    "    #class level variables - static variables.\n",
    "    college='NITPATNA'\n",
    "    state='BIHAR'\n",
    "    \n",
    "    #inside a constructor generally we initialize instance variables, using self.\n",
    "    #in python constructor name is fixed __init__()\n",
    "    #constructor is also a special type of method and 1st argument is alwats self.\n",
    "    #self- is a referecnce variable pointing to current object.\n",
    "    \n",
    "    def __init__(self,name,roll,marks):\n",
    "        print('this is constructor.....')\n",
    "        self.name=name\n",
    "        self.rollno=roll\n",
    "        self.marks=marks\n",
    "        #so in current object name,rollno,marks vriables will be stored.\n",
    "    def student_details(kelf): #kelf is also like self pointing to current object- object on which method is called.\n",
    "        '''we can use anyname insted of self its just - the 1st argument of constructor and instance method \n",
    "           is always pointing to current object and it will be assigneed by PVM '''\n",
    "        print('this is instance method......')\n",
    "        print('Student name is: ',kelf.name)\n",
    "        print('Student rollno is: ',kelf.rollno)\n",
    "        print('Student marks is: ',kelf.marks)\n",
    "    @classmethod #it is a decerator to tell PVM that it is a class method.\n",
    "    def college_details(cls):\n",
    "        '''cls- is a reference to class level object.\n",
    "           during creation of class PVM will internally create a class level object to store class level data.\n",
    "           and PVM will assign value for cls and it will be pointing to class level object'''\n",
    "        print('this is class method....')\n",
    "        print('college name is : ',cls.college)\n",
    "        print('college state is: ',cls.state)\n",
    "        \n",
    "    @staticmethod #it is a decerator to tell PVM that it is a static method.\n",
    "    def getaverage(a,b,c):\n",
    "        return (a+b+c)/3\n",
    "\n",
    "s=Student('vamsi',68,95)\n",
    "s.student_details()\n",
    "Student.college_details()\n",
    "avg=Student.getaverage(10,20,30)\n",
    "print('average is :',avg)"
   ]
  },
  {
   "cell_type": "markdown",
   "id": "49baafdd",
   "metadata": {},
   "source": [
    "Instance Variables"
   ]
  },
  {
   "cell_type": "code",
   "execution_count": 8,
   "id": "c0367bd5",
   "metadata": {},
   "outputs": [
    {
     "name": "stdout",
     "output_type": "stream",
     "text": [
      "{'a': 100, 'b': 200, 'c': 300, 'd': 400, 'e': 500}\n"
     ]
    }
   ],
   "source": [
    "class Test:\n",
    "    def __init__(self):\n",
    "        self.a=100\n",
    "        self.b=200\n",
    "    def m1(self):\n",
    "        self.c=300\n",
    "t=Test()\n",
    "t.m1()\n",
    "t.d=400\n",
    "t.e=500\n",
    "print(t.__dict__)"
   ]
  },
  {
   "cell_type": "code",
   "execution_count": 9,
   "id": "349b37cc",
   "metadata": {},
   "outputs": [
    {
     "name": "stdout",
     "output_type": "stream",
     "text": [
      "{'a': 100, 'b': 200, 't': 20000, 'c': 300}\n",
      "{'a': 100, 'b': 200, 'c': 300}\n"
     ]
    }
   ],
   "source": [
    "class Test:\n",
    "    def __init__(self):\n",
    "        self.a=100\n",
    "        self.b=200\n",
    "    def m1(self):\n",
    "        self.c=300\n",
    "t1=Test()\n",
    "t1.t=20000\n",
    "t1.m1()\n",
    "t2=Test()\n",
    "t2.m1()\n",
    "print(t1.__dict__)\n",
    "print(t2.__dict__)"
   ]
  },
  {
   "cell_type": "code",
   "execution_count": 12,
   "id": "5dce22c1",
   "metadata": {},
   "outputs": [
    {
     "ename": "NameError",
     "evalue": "name 'self' is not defined",
     "output_type": "error",
     "traceback": [
      "\u001b[1;31m---------------------------------------------------------------------------\u001b[0m",
      "\u001b[1;31mNameError\u001b[0m                                 Traceback (most recent call last)",
      "\u001b[1;32m<ipython-input-12-30567b91ce1e>\u001b[0m in \u001b[0;36m<module>\u001b[1;34m\u001b[0m\n\u001b[0;32m      6\u001b[0m         \u001b[0mself\u001b[0m\u001b[1;33m.\u001b[0m\u001b[0mc\u001b[0m\u001b[1;33m=\u001b[0m\u001b[1;36m300\u001b[0m\u001b[1;33m\u001b[0m\u001b[1;33m\u001b[0m\u001b[0m\n\u001b[0;32m      7\u001b[0m \u001b[0mt\u001b[0m\u001b[1;33m=\u001b[0m\u001b[0mTest\u001b[0m\u001b[1;33m(\u001b[0m\u001b[1;33m)\u001b[0m\u001b[1;33m\u001b[0m\u001b[1;33m\u001b[0m\u001b[0m\n\u001b[1;32m----> 8\u001b[1;33m \u001b[0mt\u001b[0m\u001b[1;33m.\u001b[0m\u001b[0mm1\u001b[0m\u001b[1;33m(\u001b[0m\u001b[1;33m)\u001b[0m\u001b[1;33m\u001b[0m\u001b[1;33m\u001b[0m\u001b[0m\n\u001b[0m\u001b[0;32m      9\u001b[0m \u001b[1;31m#so self is like a local variable to constructor.\u001b[0m\u001b[1;33m\u001b[0m\u001b[1;33m\u001b[0m\u001b[1;33m\u001b[0m\u001b[0m\n",
      "\u001b[1;32m<ipython-input-12-30567b91ce1e>\u001b[0m in \u001b[0;36mm1\u001b[1;34m(kelf)\u001b[0m\n\u001b[0;32m      4\u001b[0m         \u001b[0mself\u001b[0m\u001b[1;33m.\u001b[0m\u001b[0mb\u001b[0m\u001b[1;33m=\u001b[0m\u001b[1;36m200\u001b[0m\u001b[1;33m\u001b[0m\u001b[1;33m\u001b[0m\u001b[0m\n\u001b[0;32m      5\u001b[0m     \u001b[1;32mdef\u001b[0m \u001b[0mm1\u001b[0m\u001b[1;33m(\u001b[0m\u001b[0mkelf\u001b[0m\u001b[1;33m)\u001b[0m\u001b[1;33m:\u001b[0m\u001b[1;33m\u001b[0m\u001b[1;33m\u001b[0m\u001b[0m\n\u001b[1;32m----> 6\u001b[1;33m         \u001b[0mself\u001b[0m\u001b[1;33m.\u001b[0m\u001b[0mc\u001b[0m\u001b[1;33m=\u001b[0m\u001b[1;36m300\u001b[0m\u001b[1;33m\u001b[0m\u001b[1;33m\u001b[0m\u001b[0m\n\u001b[0m\u001b[0;32m      7\u001b[0m \u001b[0mt\u001b[0m\u001b[1;33m=\u001b[0m\u001b[0mTest\u001b[0m\u001b[1;33m(\u001b[0m\u001b[1;33m)\u001b[0m\u001b[1;33m\u001b[0m\u001b[1;33m\u001b[0m\u001b[0m\n\u001b[0;32m      8\u001b[0m \u001b[0mt\u001b[0m\u001b[1;33m.\u001b[0m\u001b[0mm1\u001b[0m\u001b[1;33m(\u001b[0m\u001b[1;33m)\u001b[0m\u001b[1;33m\u001b[0m\u001b[1;33m\u001b[0m\u001b[0m\n",
      "\u001b[1;31mNameError\u001b[0m: name 'self' is not defined"
     ]
    }
   ],
   "source": [
    "class Test:\n",
    "    def __init__(self):\n",
    "        self.a=100\n",
    "        self.b=200\n",
    "    def m1(kelf):\n",
    "        self.c=300\n",
    "t=Test()\n",
    "t.m1()\n",
    "#so self is like a local variable to constructor."
   ]
  },
  {
   "cell_type": "code",
   "execution_count": 19,
   "id": "07d8e12e",
   "metadata": {},
   "outputs": [
    {
     "name": "stdout",
     "output_type": "stream",
     "text": [
      "100\n",
      "200\n",
      "100\n",
      "200\n"
     ]
    }
   ],
   "source": [
    "class Test:\n",
    "    def __init__(self):\n",
    "        self.a=100\n",
    "        self.b=200\n",
    "    \n",
    "    def m1(self):\n",
    "        print(self.a)\n",
    "        print(self.b)\n",
    "t=Test()\n",
    "t.m1()\n",
    "print(t.a)\n",
    "print(t.b)"
   ]
  },
  {
   "cell_type": "code",
   "execution_count": 20,
   "id": "41fa8892",
   "metadata": {},
   "outputs": [
    {
     "name": "stdout",
     "output_type": "stream",
     "text": [
      "100\n",
      "100\n",
      "200\n",
      "100\n",
      "200\n",
      "200\n"
     ]
    }
   ],
   "source": [
    "class Test:\n",
    "    def __init__(self):\n",
    "        self.a=100\n",
    "        self.b=200\n",
    "    t1=Test()\n",
    "    print(t1.a)\n",
    "    def m1(self):\n",
    "        print(self.a)\n",
    "        print(self.b)\n",
    "t=Test()\n",
    "t.m1()\n",
    "print(t.a)\n",
    "print(t.b)\n",
    "print(t1.b)"
   ]
  },
  {
   "cell_type": "code",
   "execution_count": 22,
   "id": "0585f1d6",
   "metadata": {},
   "outputs": [
    {
     "name": "stdout",
     "output_type": "stream",
     "text": [
      "{'a': 10, 'b': 20, 'c': 30, 'd': 40}\n",
      "{'a': 10, 'b': 20, 'c': 30}\n",
      "{'a': 10, 'b': 20}\n"
     ]
    }
   ],
   "source": [
    "class Test:\n",
    "    def __init__(self):\n",
    "        self.a=10\n",
    "        self.b=20\n",
    "        self.c=30\n",
    "        self.d=40\n",
    "    def delete(self):\n",
    "        del self.d\n",
    "t=Test()\n",
    "print(t.__dict__)\n",
    "t.delete()\n",
    "print(t.__dict__)\n",
    "del t.c\n",
    "print(t.__dict__)"
   ]
  },
  {
   "cell_type": "code",
   "execution_count": 26,
   "id": "90440c6a",
   "metadata": {},
   "outputs": [
    {
     "name": "stdout",
     "output_type": "stream",
     "text": [
      "100\n"
     ]
    }
   ],
   "source": [
    "class Test:\n",
    "    def __init__(self):\n",
    "        self.a=100\n",
    "        self.b=2000\n",
    "    print(Test().a)"
   ]
  },
  {
   "cell_type": "code",
   "execution_count": 29,
   "id": "5b259f05",
   "metadata": {},
   "outputs": [
    {
     "ename": "AttributeError",
     "evalue": "type object 'Test' has no attribute 'a'",
     "output_type": "error",
     "traceback": [
      "\u001b[1;31m---------------------------------------------------------------------------\u001b[0m",
      "\u001b[1;31mAttributeError\u001b[0m                            Traceback (most recent call last)",
      "\u001b[1;32m<ipython-input-29-618e281a2b2c>\u001b[0m in \u001b[0;36m<module>\u001b[1;34m\u001b[0m\n\u001b[1;32m----> 1\u001b[1;33m \u001b[1;32mclass\u001b[0m \u001b[0mTest\u001b[0m\u001b[1;33m:\u001b[0m\u001b[1;33m\u001b[0m\u001b[1;33m\u001b[0m\u001b[0m\n\u001b[0m\u001b[0;32m      2\u001b[0m     \u001b[1;32mdef\u001b[0m \u001b[0m__init__\u001b[0m\u001b[1;33m(\u001b[0m\u001b[0mself\u001b[0m\u001b[1;33m)\u001b[0m\u001b[1;33m:\u001b[0m\u001b[1;33m\u001b[0m\u001b[1;33m\u001b[0m\u001b[0m\n\u001b[0;32m      3\u001b[0m         \u001b[0mself\u001b[0m\u001b[1;33m.\u001b[0m\u001b[0ma\u001b[0m\u001b[1;33m=\u001b[0m\u001b[1;36m100\u001b[0m\u001b[1;33m\u001b[0m\u001b[1;33m\u001b[0m\u001b[0m\n\u001b[0;32m      4\u001b[0m         \u001b[0mself\u001b[0m\u001b[1;33m.\u001b[0m\u001b[0mb\u001b[0m\u001b[1;33m=\u001b[0m\u001b[1;36m2000\u001b[0m\u001b[1;33m\u001b[0m\u001b[1;33m\u001b[0m\u001b[0m\n\u001b[0;32m      5\u001b[0m     \u001b[0mprint\u001b[0m\u001b[1;33m(\u001b[0m\u001b[0mTest\u001b[0m\u001b[1;33m.\u001b[0m\u001b[0ma\u001b[0m\u001b[1;33m)\u001b[0m\u001b[1;33m\u001b[0m\u001b[1;33m\u001b[0m\u001b[0m\n",
      "\u001b[1;32m<ipython-input-29-618e281a2b2c>\u001b[0m in \u001b[0;36mTest\u001b[1;34m()\u001b[0m\n\u001b[0;32m      3\u001b[0m         \u001b[0mself\u001b[0m\u001b[1;33m.\u001b[0m\u001b[0ma\u001b[0m\u001b[1;33m=\u001b[0m\u001b[1;36m100\u001b[0m\u001b[1;33m\u001b[0m\u001b[1;33m\u001b[0m\u001b[0m\n\u001b[0;32m      4\u001b[0m         \u001b[0mself\u001b[0m\u001b[1;33m.\u001b[0m\u001b[0mb\u001b[0m\u001b[1;33m=\u001b[0m\u001b[1;36m2000\u001b[0m\u001b[1;33m\u001b[0m\u001b[1;33m\u001b[0m\u001b[0m\n\u001b[1;32m----> 5\u001b[1;33m     \u001b[0mprint\u001b[0m\u001b[1;33m(\u001b[0m\u001b[0mTest\u001b[0m\u001b[1;33m.\u001b[0m\u001b[0ma\u001b[0m\u001b[1;33m)\u001b[0m\u001b[1;33m\u001b[0m\u001b[1;33m\u001b[0m\u001b[0m\n\u001b[0m\u001b[0;32m      6\u001b[0m \u001b[1;31m# print(Test.a) dont work\u001b[0m\u001b[1;33m\u001b[0m\u001b[1;33m\u001b[0m\u001b[1;33m\u001b[0m\u001b[0m\n",
      "\u001b[1;31mAttributeError\u001b[0m: type object 'Test' has no attribute 'a'"
     ]
    }
   ],
   "source": [
    "class Test:\n",
    "    def __init__(self):\n",
    "        self.a=100\n",
    "        self.b=2000\n",
    "    print(Test.a)\n",
    "# print(Test.a) dont work"
   ]
  },
  {
   "cell_type": "code",
   "execution_count": 30,
   "id": "a4804466",
   "metadata": {},
   "outputs": [
    {
     "name": "stdout",
     "output_type": "stream",
     "text": [
      "{'b': 200}\n",
      "{'a': 100, 'b': 200}\n"
     ]
    }
   ],
   "source": [
    "class Test:\n",
    "    def __init__(self):\n",
    "        self.a=100\n",
    "        self.b=200\n",
    "t1=Test()\n",
    "del t1.a\n",
    "t2=Test()\n",
    "print(t1.__dict__)\n",
    "print(t2.__dict__)"
   ]
  },
  {
   "cell_type": "markdown",
   "id": "3ccd6a30",
   "metadata": {},
   "source": [
    "Static variables"
   ]
  },
  {
   "cell_type": "code",
   "execution_count": 31,
   "id": "f8db3aeb",
   "metadata": {},
   "outputs": [
    {
     "name": "stdout",
     "output_type": "stream",
     "text": [
      "{'__module__': '__main__', 'a': 1000, 'b': 200, '__dict__': <attribute '__dict__' of 'Test' objects>, '__weakref__': <attribute '__weakref__' of 'Test' objects>, '__doc__': None}\n"
     ]
    }
   ],
   "source": [
    "class Test:\n",
    "    a=1000\n",
    "    b=200\n",
    "print(Test.__dict__)"
   ]
  },
  {
   "cell_type": "code",
   "execution_count": 33,
   "id": "48a39d7d",
   "metadata": {},
   "outputs": [
    {
     "name": "stdout",
     "output_type": "stream",
     "text": [
      "{'c': 300}\n",
      "{'__module__': '__main__', 'a': 1000, 'b': 200, '__init__': <function Test.__init__ at 0x000001A17D9C8700>, '__dict__': <attribute '__dict__' of 'Test' objects>, '__weakref__': <attribute '__weakref__' of 'Test' objects>, '__doc__': None}\n"
     ]
    }
   ],
   "source": [
    "class Test:\n",
    "    a=1000\n",
    "    b=200\n",
    "    def __init__(self):\n",
    "        self.c=300\n",
    "t=Test()\n",
    "print(t.__dict__)\n",
    "print(Test.__dict__)"
   ]
  },
  {
   "cell_type": "code",
   "execution_count": 37,
   "id": "07bd7ecd",
   "metadata": {},
   "outputs": [
    {
     "name": "stdout",
     "output_type": "stream",
     "text": [
      "{'__module__': '__main__', 'a': 100, '__init__': <function Test.__init__ at 0x000001A17D9C8AF0>, 'm1': <function Test.m1 at 0x000001A17D1F13A0>, '__dict__': <attribute '__dict__' of 'Test' objects>, '__weakref__': <attribute '__weakref__' of 'Test' objects>, '__doc__': None, 'b': 200, 'c': 300}\n",
      "{'b1': 300000}\n"
     ]
    }
   ],
   "source": [
    "class Test:\n",
    "    a=100\n",
    "    def __init__(self):\n",
    "        Test.b=200\n",
    "        self.b1=300000\n",
    "    def m1(self):\n",
    "        Test.c=300\n",
    "t=Test()\n",
    "t.m1()\n",
    "print(Test.__dict__)\n",
    "print(t.__dict__)"
   ]
  },
  {
   "cell_type": "code",
   "execution_count": 44,
   "id": "521a856c",
   "metadata": {},
   "outputs": [
    {
     "name": "stdout",
     "output_type": "stream",
     "text": [
      "{'__module__': '__main__', 'a': 100, '__init__': <function Test.__init__ at 0x000001A17D607DC0>, 'm1': <function Test.m1 at 0x000001A17D607B80>, 'm2': <classmethod object at 0x000001A17D892AC0>, 'm3': <staticmethod object at 0x000001A17D892B20>, '__dict__': <attribute '__dict__' of 'Test' objects>, '__weakref__': <attribute '__weakref__' of 'Test' objects>, '__doc__': None, 'b': 200, 'c': 300, 'd': 400, 'e': 500, 'f': 600, 'g': 700}\n",
      "{'b11': 1111}\n"
     ]
    }
   ],
   "source": [
    "class Test:\n",
    "    a=100\n",
    "    def __init__(self):\n",
    "        Test.b=200\n",
    "        self.b11=1111\n",
    "    def m1(self):\n",
    "        Test.c=300\n",
    "    @classmethod\n",
    "    def m2(cls):\n",
    "        Test.d=400\n",
    "        cls.e=500\n",
    "    @staticmethod\n",
    "    def m3():\n",
    "        Test.f=600\n",
    "t=Test()\n",
    "t.m1()\n",
    "Test.m2()\n",
    "Test.m3()\n",
    "Test.g=700\n",
    "print(Test.__dict__)\n",
    "print(t.__dict__)"
   ]
  },
  {
   "cell_type": "code",
   "execution_count": 43,
   "id": "cba35b0a",
   "metadata": {},
   "outputs": [
    {
     "name": "stdout",
     "output_type": "stream",
     "text": [
      "{'__module__': '__main__', 'a': 100, '__init__': <function Test.__init__ at 0x000001A17D075670>, 'm1': <function Test.m1 at 0x000001A17D0758B0>, 't': <__main__.Test object at 0x000001A17D8AE250>, 'm2': <classmethod object at 0x000001A17D8AE0A0>, 'm3': <staticmethod object at 0x000001A17D8AE190>, '__dict__': <attribute '__dict__' of 'Test' objects>, '__weakref__': <attribute '__weakref__' of 'Test' objects>, '__doc__': None, 'b': 200}\n"
     ]
    }
   ],
   "source": [
    "class Test:\n",
    "    a=100\n",
    "    def __init__(self):\n",
    "        Test.b=200\n",
    "    def m1(self):\n",
    "        Test.c=300\n",
    "    t=Test()\n",
    "    t.a1=2222\n",
    "    @classmethod\n",
    "    def m2(cls):\n",
    "        Test.d=400\n",
    "        cls.e=500\n",
    "    @staticmethod\n",
    "    def m3():\n",
    "        Test.f=600\n",
    "t1=Test()\n",
    "print(Test.__dict__)"
   ]
  },
  {
   "cell_type": "code",
   "execution_count": 54,
   "id": "8b2d67c8",
   "metadata": {},
   "outputs": [
    {
     "name": "stdout",
     "output_type": "stream",
     "text": [
      "10\n",
      "{}\n"
     ]
    }
   ],
   "source": [
    "class Test:\n",
    "    a=10\n",
    "    def m1(self):\n",
    "        print(self.a)\n",
    "t=Test()\n",
    "t.m1()\n",
    "print(t.__dict__)"
   ]
  },
  {
   "cell_type": "code",
   "execution_count": 56,
   "id": "5745092f",
   "metadata": {},
   "outputs": [
    {
     "name": "stdout",
     "output_type": "stream",
     "text": [
      "100\n",
      "100\n",
      "100\n",
      "100\n",
      "100\n",
      "100\n",
      "100\n",
      "100\n",
      "100\n"
     ]
    }
   ],
   "source": [
    "#we can access static variables using self,cls,classname,objectreference\n",
    "\n",
    "class Test:\n",
    "    a=100\n",
    "    def __init__(self):\n",
    "        print(self.a)\n",
    "        print(Test.a)\n",
    "    def m1(self):\n",
    "        print(self.a)\n",
    "        print(Test.a)\n",
    "    @classmethod\n",
    "    def m2(cls):\n",
    "        print(cls.a)\n",
    "        print(Test.a)\n",
    "    @staticmethod\n",
    "    def m3():\n",
    "        print(Test.a)\n",
    "t=Test()\n",
    "t.m1()\n",
    "Test.m2()\n",
    "Test.m3()\n",
    "print(t.a)\n",
    "print(Test.a)"
   ]
  },
  {
   "cell_type": "code",
   "execution_count": 57,
   "id": "d20d6f94",
   "metadata": {},
   "outputs": [
    {
     "name": "stdout",
     "output_type": "stream",
     "text": [
      "10 20\n",
      "10 20\n",
      "88 99\n",
      "88 20\n"
     ]
    }
   ],
   "source": [
    "class Test:\n",
    "    x=10\n",
    "    def __init__(self):\n",
    "        self.y=20\n",
    "t1=Test()\n",
    "t2=Test()\n",
    "print(t1.x,t1.y)\n",
    "print(t2.x,t2.y)\n",
    "Test.x=88\n",
    "t1.y=99\n",
    "print(t1.x,t1.y)\n",
    "print(t2.x,t2.y)"
   ]
  },
  {
   "cell_type": "code",
   "execution_count": 62,
   "id": "bf572f21",
   "metadata": {},
   "outputs": [
    {
     "name": "stdout",
     "output_type": "stream",
     "text": [
      "{'__module__': '__main__', '__init__': <function Test.__init__ at 0x000001A17D1F19D0>, 'm1': <function Test.m1 at 0x000001A17D1F1550>, 'm2': <classmethod object at 0x000001A17D95DFA0>, 'm3': <staticmethod object at 0x000001A17D95DAC0>, '__dict__': <attribute '__dict__' of 'Test' objects>, '__weakref__': <attribute '__weakref__' of 'Test' objects>, '__doc__': None, 'f': 60}\n"
     ]
    }
   ],
   "source": [
    "class Test:\n",
    "    a=10\n",
    "    def __init__(self):\n",
    "        Test.b=20\n",
    "        del Test.a\n",
    "    def m1(self):\n",
    "        Test.c=30\n",
    "        del Test.b\n",
    "    @classmethod\n",
    "    def m2(cls):\n",
    "        cls.d=40\n",
    "        del Test.c\n",
    "    @staticmethod\n",
    "    def m3():\n",
    "        Test.e=50\n",
    "        del Test.d\n",
    "t=Test()\n",
    "t.m1()\n",
    "Test.m2()\n",
    "Test.m3()\n",
    "Test.f=60\n",
    "del Test.e\n",
    "print(Test.__dict__)"
   ]
  },
  {
   "cell_type": "markdown",
   "id": "2094898d",
   "metadata": {},
   "source": [
    "Local Variable"
   ]
  },
  {
   "cell_type": "code",
   "execution_count": 63,
   "id": "92d5cb98",
   "metadata": {},
   "outputs": [
    {
     "name": "stdout",
     "output_type": "stream",
     "text": [
      "100\n"
     ]
    }
   ],
   "source": [
    "class Test:\n",
    "    def m1(self):\n",
    "        a=100\n",
    "        print(a)\n",
    "Test().m1()"
   ]
  },
  {
   "cell_type": "code",
   "execution_count": 2,
   "id": "655bd666",
   "metadata": {},
   "outputs": [
    {
     "name": "stdout",
     "output_type": "stream",
     "text": [
      "Welcome to  VAMSI BANK\n",
      "Enter your name: vam\n",
      "d-Deposit , w-Withdraw , e-Exit\n",
      "Choose your option: e\n",
      "Thank You\n"
     ]
    },
    {
     "ename": "SystemExit",
     "evalue": "",
     "output_type": "error",
     "traceback": [
      "An exception has occurred, use %tb to see the full traceback.\n",
      "\u001b[1;31mSystemExit\u001b[0m\n"
     ]
    },
    {
     "name": "stderr",
     "output_type": "stream",
     "text": [
      "C:\\Users\\91868\\anaconda3\\lib\\site-packages\\IPython\\core\\interactiveshell.py:3445: UserWarning: To exit: use 'exit', 'quit', or Ctrl-D.\n",
      "  warn(\"To exit: use 'exit', 'quit', or Ctrl-D.\", stacklevel=1)\n"
     ]
    }
   ],
   "source": [
    "#mini bank application\n",
    "import sys\n",
    "class Customer:\n",
    "    '''Customer class to describe bank operations...'''\n",
    "    bankname='VAMSI BANK'\n",
    "    def __init__(self,name,balance=0.0):\n",
    "        self.name=name\n",
    "        self.balance=balance\n",
    "    def deposit(self,amount):\n",
    "        self.balance=self.balance+amount\n",
    "        print('Balance after deposit:',self.balance)\n",
    "    def withdraw(self,amount):\n",
    "        if amount>self.balance:\n",
    "            print('insufficient funds cant perform operation..')\n",
    "            sys.exit()\n",
    "        self.balance=self.balance-amount\n",
    "        print('Balance after withdraw:',self.balance)\n",
    "print('Welcome to ',Customer.bankname)\n",
    "name=input('Enter your name: ')\n",
    "c=Customer(name)\n",
    "while True:\n",
    "    print('d-Deposit , w-Withdraw , e-Exit')\n",
    "    option=input('Choose your option: ')\n",
    "    if option.lower()=='d':\n",
    "        amount=float(input(\"Enter deposit amount: \"))\n",
    "        c.deposit(amount)\n",
    "    elif option.lower()=='w':\n",
    "        amount=float(input('Enter amount to withdraw: '))\n",
    "        c.withdraw(amount)\n",
    "    elif option.lower()=='e':\n",
    "        print('Thank You')\n",
    "        sys.exit()\n",
    "    else:\n",
    "        print('please enter valid input')"
   ]
  },
  {
   "cell_type": "code",
   "execution_count": 17,
   "id": "15d1ea10",
   "metadata": {},
   "outputs": [],
   "source": [
    "class Test:\n",
    "    def __init__(self,name,roll):\n",
    "        self.name=name\n",
    "        self.rollno=roll\n",
    "t=Test('vamsi',1000)"
   ]
  },
  {
   "cell_type": "code",
   "execution_count": 18,
   "id": "05184c2b",
   "metadata": {},
   "outputs": [
    {
     "name": "stdout",
     "output_type": "stream",
     "text": [
      "<__main__.Test object at 0x0000017A164D7B80>\n"
     ]
    }
   ],
   "source": [
    "print(t)"
   ]
  },
  {
   "cell_type": "code",
   "execution_count": 24,
   "id": "81a904da",
   "metadata": {},
   "outputs": [],
   "source": [
    "class Test:\n",
    "    def __init__(self,name,roll):\n",
    "        self.name=name\n",
    "        self.rollno=roll\n",
    "    def __str__(c):\n",
    "        return 'this is my Test class'\n",
    "        \n",
    "t=Test('vamsi',1000)"
   ]
  },
  {
   "cell_type": "code",
   "execution_count": 25,
   "id": "6cbf7976",
   "metadata": {},
   "outputs": [
    {
     "data": {
      "text/plain": [
       "<__main__.Test at 0x17a16af0c70>"
      ]
     },
     "execution_count": 25,
     "metadata": {},
     "output_type": "execute_result"
    }
   ],
   "source": [
    "t"
   ]
  },
  {
   "cell_type": "code",
   "execution_count": 26,
   "id": "c227f420",
   "metadata": {},
   "outputs": [
    {
     "name": "stdout",
     "output_type": "stream",
     "text": [
      "this is my Test class\n"
     ]
    }
   ],
   "source": [
    "print(t)"
   ]
  },
  {
   "cell_type": "code",
   "execution_count": 27,
   "id": "13584345",
   "metadata": {},
   "outputs": [],
   "source": [
    "t1=Test('aa',11)"
   ]
  },
  {
   "cell_type": "code",
   "execution_count": 28,
   "id": "a6830885",
   "metadata": {},
   "outputs": [
    {
     "data": {
      "text/plain": [
       "<__main__.Test at 0x17a16af0f10>"
      ]
     },
     "execution_count": 28,
     "metadata": {},
     "output_type": "execute_result"
    }
   ],
   "source": [
    "t1"
   ]
  },
  {
   "cell_type": "code",
   "execution_count": 29,
   "id": "5b766f89",
   "metadata": {},
   "outputs": [
    {
     "name": "stdout",
     "output_type": "stream",
     "text": [
      "this is my Test class\n"
     ]
    }
   ],
   "source": [
    "print(t1)"
   ]
  },
  {
   "cell_type": "code",
   "execution_count": 2,
   "id": "9125efd0",
   "metadata": {},
   "outputs": [
    {
     "name": "stdout",
     "output_type": "stream",
     "text": [
      "how many students: 3\n",
      "enter name: vamsi\n",
      "enter marks: 95\n",
      "enter name: jagga\n",
      "enter marks: 95\n",
      "enter name: nitish\n",
      "enter marks: 95\n",
      "hai vamsi\n",
      "your marks are 95.0\n",
      "\n",
      "hai jagga\n",
      "your marks are 95.0\n",
      "\n",
      "hai nitish\n",
      "your marks are 95.0\n",
      "\n"
     ]
    }
   ],
   "source": [
    "#instance method\n",
    "class Student:\n",
    "    #when we dont know the details instead of constructor use setter and getter methods.\n",
    "    \n",
    "    def setName(self,name):\n",
    "        self.name=name\n",
    "    def getName(self):\n",
    "        return self.name\n",
    "    \n",
    "    def setMarks(self,marks):\n",
    "        self.marks=marks\n",
    "    def getMarks(self):\n",
    "        return self.marks\n",
    "\n",
    "Students=[]\n",
    "n=int(input('how many students: '))\n",
    "for i in range(n):\n",
    "    s=Student()\n",
    "    name=input('enter name: ')\n",
    "    marks=float(input('enter marks: '))\n",
    "    s.setName(name)\n",
    "    s.setMarks(marks)\n",
    "    Students.append(s)\n",
    "for i in Students:\n",
    "    print('hai',i.getName())\n",
    "    print('your marks are',i.getMarks())\n",
    "    print()"
   ]
  },
  {
   "cell_type": "code",
   "execution_count": 8,
   "id": "062001fc",
   "metadata": {},
   "outputs": [
    {
     "name": "stdout",
     "output_type": "stream",
     "text": [
      "instance method\n",
      "instance method\n"
     ]
    }
   ],
   "source": [
    "class Test:\n",
    "    def m1(self):\n",
    "        print('instance method')\n",
    "    t1=Test()\n",
    "    t1.m1()\n",
    "\n",
    "t=Test()\n",
    "t.m1()\n"
   ]
  },
  {
   "cell_type": "code",
   "execution_count": 18,
   "id": "1cdc1f9c",
   "metadata": {},
   "outputs": [
    {
     "name": "stdout",
     "output_type": "stream",
     "text": [
      "i watched iii movie 2 times.\n",
      "i watched dbcsdk movie 2 times.\n",
      "i watched kgf movie 2 times.\n",
      "i watched attarintiki daredi movie 2 times.\n",
      "i watched i movie 2 times.\n"
     ]
    }
   ],
   "source": [
    "#class method\n",
    "class Test:\n",
    "    movies=2\n",
    "    @classmethod\n",
    "    def movie(cls,name):\n",
    "        print('i watched {} movie {} times.'.format(name,cls.movies))\n",
    "    Test.movie('iii')\n",
    "    t1=Test()\n",
    "    t1.movie('dbcsdk')\n",
    "Test.movie('kgf')\n",
    "Test.movie('attarintiki daredi')\n",
    "t=Test()\n",
    "t.movie('i')"
   ]
  },
  {
   "cell_type": "code",
   "execution_count": 21,
   "id": "a00c04c7",
   "metadata": {},
   "outputs": [
    {
     "name": "stdout",
     "output_type": "stream",
     "text": [
      "vcdbskj\n"
     ]
    }
   ],
   "source": [
    "class Test:\n",
    "    time=2\n",
    "    @classmethod\n",
    "    def times(cls,name):\n",
    "        print(name,cls.time)\n",
    "    \n",
    "    def times(self,name):\n",
    "        self.name=name\n",
    "        print(self.name)\n",
    "t=Test()\n",
    "t.times('vcdbskj') #method overloading not possible so latest method is considered."
   ]
  },
  {
   "cell_type": "code",
   "execution_count": 24,
   "id": "f0c140c6",
   "metadata": {},
   "outputs": [
    {
     "name": "stdout",
     "output_type": "stream",
     "text": [
      "{'__module__': '__main__', 'name': <function Test.name at 0x0000028F49EFF8B0>, '__dict__': <attribute '__dict__' of 'Test' objects>, '__weakref__': <attribute '__weakref__' of 'Test' objects>, '__doc__': None}\n"
     ]
    },
    {
     "ename": "TypeError",
     "evalue": "name() missing 2 required positional arguments: 'name1' and 'name2'",
     "output_type": "error",
     "traceback": [
      "\u001b[1;31m---------------------------------------------------------------------------\u001b[0m",
      "\u001b[1;31mTypeError\u001b[0m                                 Traceback (most recent call last)",
      "\u001b[1;32m<ipython-input-24-c07dcf70af1a>\u001b[0m in \u001b[0;36m<module>\u001b[1;34m\u001b[0m\n\u001b[0;32m      8\u001b[0m \u001b[0mt\u001b[0m\u001b[1;33m=\u001b[0m\u001b[0mTest\u001b[0m\u001b[1;33m(\u001b[0m\u001b[1;33m)\u001b[0m\u001b[1;33m\u001b[0m\u001b[1;33m\u001b[0m\u001b[0m\n\u001b[0;32m      9\u001b[0m \u001b[0mprint\u001b[0m\u001b[1;33m(\u001b[0m\u001b[0mTest\u001b[0m\u001b[1;33m.\u001b[0m\u001b[0m__dict__\u001b[0m\u001b[1;33m)\u001b[0m\u001b[1;33m\u001b[0m\u001b[1;33m\u001b[0m\u001b[0m\n\u001b[1;32m---> 10\u001b[1;33m \u001b[0mt\u001b[0m\u001b[1;33m.\u001b[0m\u001b[0mname\u001b[0m\u001b[1;33m(\u001b[0m\u001b[1;33m)\u001b[0m\u001b[1;33m\u001b[0m\u001b[1;33m\u001b[0m\u001b[0m\n\u001b[0m\u001b[0;32m     11\u001b[0m \u001b[0mt\u001b[0m\u001b[1;33m.\u001b[0m\u001b[0mname\u001b[0m\u001b[1;33m(\u001b[0m\u001b[1;34m'vamsi'\u001b[0m\u001b[1;33m)\u001b[0m\u001b[1;33m\u001b[0m\u001b[1;33m\u001b[0m\u001b[0m\n\u001b[0;32m     12\u001b[0m \u001b[0mt\u001b[0m\u001b[1;33m.\u001b[0m\u001b[0mname\u001b[0m\u001b[1;33m(\u001b[0m\u001b[1;34m'vamsi'\u001b[0m\u001b[1;33m,\u001b[0m\u001b[1;34m'nallam'\u001b[0m\u001b[1;33m)\u001b[0m\u001b[1;33m\u001b[0m\u001b[1;33m\u001b[0m\u001b[0m\n",
      "\u001b[1;31mTypeError\u001b[0m: name() missing 2 required positional arguments: 'name1' and 'name2'"
     ]
    }
   ],
   "source": [
    "class Test:\n",
    "    def name(self):\n",
    "        print('0 args method')\n",
    "    def name(self,name1):\n",
    "        print('1 args method')\n",
    "    def name(self,name1,name2):\n",
    "        print('2 args method')\n",
    "t=Test()\n",
    "print(Test.__dict__)\n",
    "t.name()\n",
    "t.name('vamsi')\n",
    "t.name('vamsi','nallam')"
   ]
  },
  {
   "cell_type": "code",
   "execution_count": 25,
   "id": "da2d158d",
   "metadata": {},
   "outputs": [
    {
     "name": "stdout",
     "output_type": "stream",
     "text": [
      "2 args method\n"
     ]
    }
   ],
   "source": [
    "class Test:\n",
    "    def name(self):\n",
    "        print('0 args method')\n",
    "    def name(self,name1):\n",
    "        print('1 args method')\n",
    "    def name(self,name1,name2):\n",
    "        print('2 args method')\n",
    "t=Test()\n",
    "t.name('vamsi','nallam')"
   ]
  },
  {
   "cell_type": "code",
   "execution_count": 9,
   "id": "096a6f9d",
   "metadata": {},
   "outputs": [
    {
     "name": "stdout",
     "output_type": "stream",
     "text": [
      "outer class object creation...\n",
      "Inner class object creation.\n",
      "inner class m1 method\n",
      "outer class object creation...\n",
      "Inner class object creation.\n",
      "inner class m1 method\n",
      "outer class object creation...\n",
      "Inner class object creation.\n",
      "inner class m1 method\n"
     ]
    }
   ],
   "source": [
    "#inner class- a class declared inside another class.\n",
    "#without exixting outer class object there is no chance of existing inner class object.\n",
    "class Outer:\n",
    "    def __init__(self):\n",
    "        print('outer class object creation...')\n",
    "    \n",
    "    class Inner:\n",
    "        def __init__(self):\n",
    "            print('Inner class object creation.')\n",
    "        def m1(self):\n",
    "            print('inner class m1 method')\n",
    "#1st approach\n",
    "o=Outer()\n",
    "i=o.Inner()\n",
    "i.m1()\n",
    "#2nd approach\n",
    "i=Outer().Inner()\n",
    "i.m1()\n",
    "#3rd approach\n",
    "Outer().Inner().m1()"
   ]
  },
  {
   "cell_type": "code",
   "execution_count": 10,
   "id": "49bf3403",
   "metadata": {},
   "outputs": [
    {
     "name": "stdout",
     "output_type": "stream",
     "text": [
      "inner class\n"
     ]
    }
   ],
   "source": [
    "class Outer:\n",
    "    class Inner:\n",
    "        print('inner class')\n",
    "    "
   ]
  },
  {
   "cell_type": "code",
   "execution_count": 11,
   "id": "1a836ed8",
   "metadata": {},
   "outputs": [
    {
     "name": "stdout",
     "output_type": "stream",
     "text": [
      "constructor\n",
      "constructor\n"
     ]
    }
   ],
   "source": [
    "class Test:\n",
    "    def __init__(self):\n",
    "        print('constructor')\n",
    "    t=Test()\n",
    "    \n",
    "t1=Test()"
   ]
  },
  {
   "cell_type": "code",
   "execution_count": 13,
   "id": "d1ea9a1e",
   "metadata": {},
   "outputs": [
    {
     "name": "stdout",
     "output_type": "stream",
     "text": [
      "inner class constructor\n"
     ]
    }
   ],
   "source": [
    "class Outer:\n",
    "    class Inner:\n",
    "        def __init__(Self):\n",
    "            print('inner class constructor')\n",
    "    o=Outer()\n",
    "    I=o.Inner()"
   ]
  },
  {
   "cell_type": "code",
   "execution_count": 15,
   "id": "32223d2e",
   "metadata": {},
   "outputs": [
    {
     "name": "stdout",
     "output_type": "stream",
     "text": [
      "inner class constructor\n"
     ]
    }
   ],
   "source": [
    "class Outer:\n",
    "    class Inner:\n",
    "        def __init__(Self):\n",
    "            print('inner class constructor')\n",
    "    Outer().Inner()"
   ]
  },
  {
   "cell_type": "code",
   "execution_count": 19,
   "id": "1025a07a",
   "metadata": {},
   "outputs": [
    {
     "name": "stdout",
     "output_type": "stream",
     "text": [
      "outer class obj creation\n",
      "inner class obj creation\n",
      "inner inner class obj creation\n",
      "m1 method in nested inner class\n",
      "\n",
      "outer class obj creation\n",
      "inner class obj creation\n",
      "inner inner class obj creation\n",
      "m1 method in nested inner class\n"
     ]
    }
   ],
   "source": [
    "class Outer:\n",
    "    def __init__(self):\n",
    "        print('outer class obj creation')\n",
    "    class Inner:\n",
    "        def __init__(self):\n",
    "            print('inner class obj creation')\n",
    "        class Innerinner:\n",
    "            def __init__(self):\n",
    "                print('inner inner class obj creation')\n",
    "            def m1(self):\n",
    "                print('m1 method in nested inner class')\n",
    "o=Outer()\n",
    "i=o.Inner()\n",
    "ii=i.Innerinner()\n",
    "ii.m1()\n",
    "print()\n",
    "Outer().Inner().Innerinner().m1()        "
   ]
  },
  {
   "cell_type": "code",
   "execution_count": 24,
   "id": "81258cbf",
   "metadata": {},
   "outputs": [
    {
     "name": "stdout",
     "output_type": "stream",
     "text": [
      "Person class object creation....\n",
      "Dob class object is creation...\n",
      "{'dob': <__main__.Person.Dob object at 0x00000218E2464520>}\n"
     ]
    }
   ],
   "source": [
    "class Person:\n",
    "    def __init__(self):\n",
    "        print('Person class object creation....')\n",
    "        self.dob=self.Dob()#we r creating object of Dob class and storing it in object of Person class.\n",
    "        '''Dob() is a inner class of Person class so we have to access it using Person class object\n",
    "           since , self is refering to current class object we can call Dob() using self.'''\n",
    "        '''we are storing the object of Dob()class in dob which is an instance variable of p object'''\n",
    "    class Dob:\n",
    "        def __init__(self):\n",
    "            print('Dob class object is creation...')\n",
    "p=Person()\n",
    "print(p.__dict__)        "
   ]
  },
  {
   "cell_type": "code",
   "execution_count": 27,
   "id": "8ec4e68d",
   "metadata": {},
   "outputs": [
    {
     "name": "stdout",
     "output_type": "stream",
     "text": [
      "hii vamsi\n",
      "Your  DOB is 11/6/2001 \n"
     ]
    }
   ],
   "source": [
    "class Person:\n",
    "    def __init__(self,name,dd,mm,yyyy):\n",
    "        self.name=name\n",
    "        self.dob=self.Dob(dd,mm,yyyy)\n",
    "    def info(self):\n",
    "        print('hii {}'.format(self.name))\n",
    "        self.dob.display()\n",
    "    class Dob:\n",
    "        def __init__(self,d,m,y):\n",
    "            self.day=d\n",
    "            self.month=m\n",
    "            self.year=y\n",
    "        def display(self):\n",
    "            print('Your  DOB is {}/{}/{} '.format(self.day,self.month,self.year))\n",
    "p=Person('vamsi',11,6,2001)\n",
    "p.info()"
   ]
  },
  {
   "cell_type": "code",
   "execution_count": 2,
   "id": "088b738e",
   "metadata": {},
   "outputs": [
    {
     "name": "stdout",
     "output_type": "stream",
     "text": [
      "sum is  30\n",
      "diff is  -10\n",
      "product is  200\n",
      "division is  0.5\n",
      "\n",
      "sum is  300\n",
      "diff is  -100\n",
      "product is  20000\n",
      "division is  0.5\n",
      "\n",
      "sum is  3000\n",
      "diff is  -1000\n",
      "product is  2000000\n",
      "division is  0.5\n",
      "\n"
     ]
    }
   ],
   "source": [
    "class Test:\n",
    "    def m1(self):\n",
    "        def m2(a,b):\n",
    "            print('sum is ',a+b)\n",
    "            print('diff is ',a-b)\n",
    "            print('product is ',a*b)\n",
    "            print('division is ',a/b)\n",
    "            print()\n",
    "        m2(10,20)\n",
    "        m2(100,200)\n",
    "        m2(1000,2000)\n",
    "t=Test()\n",
    "t.m1()"
   ]
  },
  {
   "cell_type": "code",
   "execution_count": 3,
   "id": "7d3acf02",
   "metadata": {},
   "outputs": [],
   "source": [
    "import gc"
   ]
  },
  {
   "cell_type": "code",
   "execution_count": 4,
   "id": "1aa40efe",
   "metadata": {},
   "outputs": [
    {
     "name": "stdout",
     "output_type": "stream",
     "text": [
      "True\n",
      "False\n",
      "True\n"
     ]
    }
   ],
   "source": [
    "print(gc.isenabled())\n",
    "gc.disable()\n",
    "print(gc.isenabled())\n",
    "gc.enable()\n",
    "print(gc.isenabled())"
   ]
  },
  {
   "cell_type": "code",
   "execution_count": 5,
   "id": "9cca414a",
   "metadata": {},
   "outputs": [
    {
     "name": "stdout",
     "output_type": "stream",
     "text": [
      "1743213371552\n",
      "constructor-object initialization\n",
      "1743213371552\n",
      "1743213371552\n",
      "destructor-cleanup activities.\n",
      "140725368625280\n"
     ]
    }
   ],
   "source": [
    "#garbage  collection\n",
    "'''destructor--> before destroying object , GC will call destructor and destructor will perfoem cleanup activities, after\n",
    "execution of destructor completed , then GC will destroy the object.'''\n",
    "#constructor ---> __init__(self) , to initialize variables\n",
    "#destructor ---> __del__(self) , to cleanup activities , GC will destroy the object not destructor.\n",
    "\n",
    "class Test:\n",
    "    def __init__(self):\n",
    "        print(id(self))\n",
    "        print('constructor-object initialization')\n",
    "    \n",
    "    def __del__(self):\n",
    "        print(id(self))\n",
    "        print('destructor-cleanup activities.')\n",
    "t=Test()\n",
    "print(id(t))\n",
    "t=None\n",
    "print(id(t))"
   ]
  },
  {
   "cell_type": "code",
   "execution_count": 6,
   "id": "97e77360",
   "metadata": {},
   "outputs": [
    {
     "name": "stdout",
     "output_type": "stream",
     "text": [
      "1743213374576\n",
      "constructor-object initialization\n",
      "1743213374576\n",
      "1743213372944\n",
      "constructor-object initialization\n",
      "1743213374576\n",
      "destructor-cleanup activities.\n",
      "1743213372944\n"
     ]
    }
   ],
   "source": [
    "class Test:\n",
    "    def __init__(self):\n",
    "        print(id(self))\n",
    "        print('constructor-object initialization')\n",
    "    \n",
    "    def __del__(self):\n",
    "        print(id(self))\n",
    "        print('destructor-cleanup activities.')\n",
    "t=Test()\n",
    "print(id(t))\n",
    "t=Test()\n",
    "print(id(t))"
   ]
  },
  {
   "cell_type": "code",
   "execution_count": 15,
   "id": "2319f710",
   "metadata": {},
   "outputs": [
    {
     "name": "stdout",
     "output_type": "stream",
     "text": [
      "constructor-object initialization\n",
      "destructor-cleanup activities.\n",
      "constructor-object initialization\n",
      "destructor-cleanup activities.\n",
      "end of program\n"
     ]
    }
   ],
   "source": [
    "class Test1:\n",
    "    def __init__(self):\n",
    "        print('constructor-object initialization')\n",
    "    \n",
    "    def __del__(self):\n",
    "        print('destructor-cleanup activities.')\n",
    "t1=Test1()\n",
    "t2=Test1()\n",
    "print('end of program')"
   ]
  },
  {
   "cell_type": "code",
   "execution_count": 17,
   "id": "ff3872c1",
   "metadata": {},
   "outputs": [
    {
     "name": "stdout",
     "output_type": "stream",
     "text": [
      "constructor\n",
      "t1 is deleted\n",
      "t2 is deleted\n",
      "deleting t3\n",
      "destructor\n"
     ]
    }
   ],
   "source": [
    "class Test1:\n",
    "    def __init__(self):\n",
    "        print('constructor')\n",
    "    \n",
    "    def __del__(self):\n",
    "        print('destructor')\n",
    "t1=Test1()\n",
    "t2=t1\n",
    "t3=t1\n",
    "del t1\n",
    "print('t1 is deleted')\n",
    "del t2\n",
    "print('t2 is deleted')\n",
    "print('deleting t3')\n",
    "del t3"
   ]
  },
  {
   "cell_type": "code",
   "execution_count": 18,
   "id": "4f1de30c",
   "metadata": {},
   "outputs": [
    {
     "name": "stdout",
     "output_type": "stream",
     "text": [
      "constructor-object initialization\n",
      "constructor-object initialization\n",
      "constructor-object initialization\n",
      "destructor-cleanup activities.\n",
      "destructor-cleanup activities.\n",
      "destructor-cleanup activities.\n"
     ]
    }
   ],
   "source": [
    "class Test1:\n",
    "    def __init__(self):\n",
    "        print('constructor-object initialization')\n",
    "    \n",
    "    def __del__(self):\n",
    "        print('destructor-cleanup activities.')\n",
    "l=[Test1(),Test1(),Test1()]\n",
    "del l"
   ]
  },
  {
   "cell_type": "code",
   "execution_count": 20,
   "id": "dfd2e8e6",
   "metadata": {},
   "outputs": [
    {
     "name": "stdout",
     "output_type": "stream",
     "text": [
      "2\n"
     ]
    }
   ],
   "source": [
    "import sys\n",
    "class Test:\n",
    "    pass\n",
    "t=Test()\n",
    "print(sys.getrefcount(t))"
   ]
  },
  {
   "cell_type": "code",
   "execution_count": 25,
   "id": "20ee0e50",
   "metadata": {},
   "outputs": [
    {
     "name": "stdout",
     "output_type": "stream",
     "text": [
      "vamsi\n",
      "1000\n",
      "vamsi\n"
     ]
    }
   ],
   "source": [
    "class Test:\n",
    "    def m1(self):\n",
    "        self.name='vamsi'\n",
    "        print(self.name)\n",
    "    @classmethod\n",
    "    def m2(cls):\n",
    "        cls.rollno=1000\n",
    "        print(cls.rollno)\n",
    "class Test1:\n",
    "    def __init__(self,ref):\n",
    "        ref.m1()\n",
    "    t=Test()\n",
    "    t.m1()\n",
    "    Test.m2()\n",
    "x=Test()\n",
    "t1=Test1(x)"
   ]
  },
  {
   "cell_type": "code",
   "execution_count": 37,
   "id": "bbc3c4ea",
   "metadata": {},
   "outputs": [
    {
     "name": "stdout",
     "output_type": "stream",
     "text": [
      "11Af\n",
      "wolkswagen engine\n",
      "petrol diesel\n",
      "11Af\n",
      "petrol diesel\n",
      "wolkswagen engine\n"
     ]
    }
   ],
   "source": [
    "#by creating an object we can access members of one class inside another class - composition.\n",
    "class Engine:\n",
    "    def model(self):\n",
    "        self.model='11Af'\n",
    "        print(self.model)\n",
    "    @classmethod\n",
    "    def name1(cls):\n",
    "        cls.name='wolkswagen engine'\n",
    "        print(cls.name)\n",
    "    @staticmethod\n",
    "    def fuel():\n",
    "        fuel1='petrol'\n",
    "        fuel2='diesel'\n",
    "        print(fuel1,fuel2)\n",
    "\n",
    "class Car:\n",
    "    def m1(self):\n",
    "        x=Engine()\n",
    "        self.carname='hondawagner'\n",
    "        x.model()\n",
    "        x.name1()\n",
    "        x.fuel()\n",
    "    @classmethod\n",
    "    def m2(cls):\n",
    "        cls.cartyres='black color'\n",
    "        x1=Engine()\n",
    "        x1.model()\n",
    "        x1.fuel()\n",
    "        x1.name1()\n",
    "c=Car()\n",
    "c.m1()\n",
    "c.m2()"
   ]
  },
  {
   "cell_type": "code",
   "execution_count": 6,
   "id": "ed54928b",
   "metadata": {},
   "outputs": [
    {
     "name": "stdout",
     "output_type": "stream",
     "text": [
      "constructor\n",
      "destructor\n",
      "end of prgm\n"
     ]
    }
   ],
   "source": [
    "class Test:\n",
    "    def __init__(self):\n",
    "        print('constructor')\n",
    "    def __del__(self):\n",
    "        print('destructor')\n",
    "t1=Test()\n",
    "print('end of prgm')"
   ]
  },
  {
   "cell_type": "code",
   "execution_count": 16,
   "id": "578d425f",
   "metadata": {},
   "outputs": [
    {
     "name": "stdout",
     "output_type": "stream",
     "text": [
      "engine name is wolks wagen\n",
      "engine model is 11AF25\n",
      "engine dimensions is 10*20*30\n",
      "\n",
      "Tyres company name is CEAT\n",
      "tyres color is Black\n",
      "tyres thickness is 1 cm\n"
     ]
    }
   ],
   "source": [
    "#using members of one class inside another class by creating object of one class inside another - composition\n",
    "#class Car HAS-A reference of class Engine , class Tyres\n",
    "class Engine:\n",
    "    def __init__(self):\n",
    "        self.name='wolks wagen'\n",
    "        self.model='11AF25'\n",
    "        self.dimen='10*20*30'\n",
    "    def show(self):\n",
    "        print('engine name is',self.name)\n",
    "        print('engine model is',self.model)\n",
    "        print('engine dimensions is',self.dimen)\n",
    "        \n",
    "class Tyres:\n",
    "    def __init__(self):\n",
    "        self.company='CEAT'\n",
    "        self.color='Black'\n",
    "        self.thick='1 cm'\n",
    "    def show(self):\n",
    "        print('Tyres company name is',self.company)\n",
    "        print('tyres color is',self.color)\n",
    "        print('tyres thickness is',self.thick)\n",
    "\n",
    "class Car:\n",
    "    def __init__(self):\n",
    "        self.engine=Engine()\n",
    "        self.tyres=Tyres()\n",
    "    def specifications(kelf):\n",
    "        kelf.engine.show()\n",
    "        print()\n",
    "        kelf.tyres.show()\n",
    "skoda=Car()\n",
    "skoda.specifications()"
   ]
  },
  {
   "cell_type": "code",
   "execution_count": 5,
   "id": "82a4d3b7",
   "metadata": {},
   "outputs": [
    {
     "name": "stdout",
     "output_type": "stream",
     "text": [
      "{'__module__': '__main__', 'a': 100, '__init__': <function Test.__init__ at 0x000001480BC963A0>, 'stat': <staticmethod object at 0x000001480BB979A0>, '__dict__': <attribute '__dict__' of 'Test' objects>, '__weakref__': <attribute '__weakref__' of 'Test' objects>, '__doc__': None, 'b': 200}\n",
      "{'c': 20000}\n"
     ]
    }
   ],
   "source": [
    "class Test:\n",
    "    a=100\n",
    "    def __init__(Self):\n",
    "        Self.c=20000\n",
    "    @staticmethod\n",
    "    def stat():\n",
    "        Test.b=200\n",
    "        d=300\n",
    "t=Test()\n",
    "Test.stat()\n",
    "print(Test.__dict__)\n",
    "print(t.__dict__)"
   ]
  },
  {
   "cell_type": "code",
   "execution_count": 8,
   "id": "6cff7f6a",
   "metadata": {},
   "outputs": [
    {
     "name": "stdout",
     "output_type": "stream",
     "text": [
      "method\n",
      "method\n"
     ]
    }
   ],
   "source": [
    "class Test:\n",
    "    def m1(a):\n",
    "        print('method')\n",
    "t=Test()\n",
    "t.m1()\n",
    "Test.m1(10)"
   ]
  },
  {
   "cell_type": "code",
   "execution_count": 9,
   "id": "a4ae5b6d",
   "metadata": {},
   "outputs": [
    {
     "name": "stdout",
     "output_type": "stream",
     "text": [
      "50 100\n"
     ]
    }
   ],
   "source": [
    "class Test:\n",
    "    @staticmethod\n",
    "    def m1(a):\n",
    "        Test.b=100\n",
    "        print(a,Test.b)\n",
    "Test.m1(50)"
   ]
  },
  {
   "cell_type": "code",
   "execution_count": 13,
   "id": "b405f7a8",
   "metadata": {},
   "outputs": [
    {
     "name": "stdout",
     "output_type": "stream",
     "text": [
      "constructor\n",
      "2\n",
      "destructor\n",
      "3\n",
      "eop\n"
     ]
    }
   ],
   "source": [
    "import sys\n",
    "class Test:\n",
    "    def __init__(self):\n",
    "        print('constructor')\n",
    "    def __del__(self):\n",
    "        print('destructor')\n",
    "        print(sys.getrefcount(self))\n",
    "t=Test()\n",
    "print(sys.getrefcount(t))\n",
    "t=None\n",
    "print('eop')"
   ]
  },
  {
   "cell_type": "markdown",
   "id": "239f8e74",
   "metadata": {},
   "source": [
    "INHERITANCE or IS-A relationship"
   ]
  },
  {
   "cell_type": "code",
   "execution_count": 17,
   "id": "19e042cf",
   "metadata": {},
   "outputs": [
    {
     "name": "stdout",
     "output_type": "stream",
     "text": [
      "{'t1': <__main__.Test1 object at 0x000001480DA1CD30>}\n"
     ]
    }
   ],
   "source": [
    "#composition\n",
    "class Test1:\n",
    "    pass\n",
    "class Test2:\n",
    "    def __init__(self):\n",
    "        self.t1=Test1()\n",
    "t2=Test2()\n",
    "print(t2.__dict__)"
   ]
  },
  {
   "cell_type": "code",
   "execution_count": 18,
   "id": "a529ffdf",
   "metadata": {},
   "outputs": [
    {
     "name": "stdout",
     "output_type": "stream",
     "text": [
      "{'t1': <__main__.Test2.Test1 object at 0x000001480CBDB400>}\n",
      "{'__module__': '__main__', '__init__': <function Test2.__init__ at 0x000001480DA5F3A0>, 'Test1': <class '__main__.Test2.Test1'>, '__dict__': <attribute '__dict__' of 'Test2' objects>, '__weakref__': <attribute '__weakref__' of 'Test2' objects>, '__doc__': None}\n"
     ]
    }
   ],
   "source": [
    "#inner class\n",
    "class Test2:\n",
    "    def __init__(self):\n",
    "        self.t1=self.Test1()\n",
    "    class Test1:\n",
    "        pass\n",
    "t2=Test2()\n",
    "print(t2.__dict__)\n",
    "print(Test2.__dict__)"
   ]
  },
  {
   "cell_type": "code",
   "execution_count": 5,
   "id": "4cc40ec6",
   "metadata": {},
   "outputs": [
    {
     "name": "stdout",
     "output_type": "stream",
     "text": [
      "m11 method\n"
     ]
    }
   ],
   "source": [
    "'''Inheritance --> parent child relationship/IS-A relationship.\n",
    "code reusability - the members of parent class will be by default available to the child class , so child class \n",
    "no need to redefine the functionalities.\n",
    "code extendibility - child class define its own members irrespective of the inherited ones , so it can extend its\n",
    "functionality.'''\n",
    "class Parent1:\n",
    "    def m11(self):\n",
    "        print('m11 method')\n",
    "class Parent2:\n",
    "    def m11(self):\n",
    "        print('m21 method')\n",
    "class Child(Parent1,Parent2):\n",
    "    def m2(self):\n",
    "        print('m2 method')\n",
    "c=Child()\n",
    "c.m11()\n",
    "#java dont support multiple inheritence"
   ]
  },
  {
   "cell_type": "code",
   "execution_count": null,
   "id": "fb16d434",
   "metadata": {},
   "outputs": [],
   "source": [
    "single\n",
    "multi level\n",
    "multiple\n",
    "hybrid\n",
    "cyclic"
   ]
  },
  {
   "cell_type": "code",
   "execution_count": 26,
   "id": "96a27bcf",
   "metadata": {},
   "outputs": [
    {
     "name": "stdout",
     "output_type": "stream",
     "text": [
      "child method\n",
      "parent method\n",
      "parent method\n",
      "'Pname' object has no attribute 'm2'\n"
     ]
    }
   ],
   "source": [
    "class Pname:\n",
    "    def m1(self):\n",
    "        print('parent method')\n",
    "class Cname(Pname):\n",
    "    def m2(self):\n",
    "        print('child method')\n",
    "c=Cname()\n",
    "c.m2()\n",
    "c.m1()\n",
    "p=Pname()\n",
    "p.m1()\n",
    "try:\n",
    "    p.m2()\n",
    "except AttributeError as e:\n",
    "    print(e)"
   ]
  },
  {
   "cell_type": "code",
   "execution_count": null,
   "id": "6ab1db56",
   "metadata": {},
   "outputs": [],
   "source": [
    "class Tires:\n",
    "    pass\n",
    "class Interir:\n",
    "    pass\n",
    "class windows:\n",
    "    pass\n",
    "class Car():\n",
    "    pass"
   ]
  },
  {
   "cell_type": "code",
   "execution_count": 34,
   "id": "ce013c92",
   "metadata": {},
   "outputs": [
    {
     "name": "stdout",
     "output_type": "stream",
     "text": [
      "parent , constructor\n",
      "200\n",
      "100 100\n",
      "parent , instance method 200\n",
      "parent , class method 100\n",
      "parent , class method 100\n",
      "parent , satic method\n",
      "parent , satic method\n",
      "1408935206384\n",
      "1408935189392\n"
     ]
    }
   ],
   "source": [
    "class P:\n",
    "    a=100 #static variable\n",
    "    def __init__(self): #constuctor\n",
    "        self.b=200\n",
    "        print('parent , constructor')\n",
    "    def m1(self): #instance method\n",
    "        print('parent , instance method',self.b)\n",
    "    @classmethod\n",
    "    def m2(cls): #class methhod\n",
    "        print('parent , class method',cls.a)\n",
    "    @staticmethod\n",
    "    def m3(): #static method\n",
    "        print('parent , satic method')\n",
    "#----------------------------------------------------\n",
    "class C(P):\n",
    "    #we r not defining even child class cons.\n",
    "    pass\n",
    "c=C()\n",
    "print(c.b)\n",
    "print(C.a,c.a)\n",
    "c.m1()\n",
    "C.m2()\n",
    "P.m2()\n",
    "C.m3()\n",
    "P.m3()\n",
    "print(id(P))\n",
    "print(id(C))"
   ]
  },
  {
   "cell_type": "code",
   "execution_count": 39,
   "id": "6ac3afa7",
   "metadata": {},
   "outputs": [],
   "source": [
    "class T:\n",
    "    def __init__(self):\n",
    "        kelf=self\n",
    "        kelf.self=self\n",
    "t=T()"
   ]
  },
  {
   "cell_type": "code",
   "execution_count": 40,
   "id": "e9928ba9",
   "metadata": {},
   "outputs": [
    {
     "data": {
      "text/plain": [
       "{'self': <__main__.T at 0x1480ccbaa60>}"
      ]
     },
     "execution_count": 40,
     "metadata": {},
     "output_type": "execute_result"
    }
   ],
   "source": [
    "t.__dict__"
   ]
  },
  {
   "cell_type": "code",
   "execution_count": 44,
   "id": "e7ce632c",
   "metadata": {},
   "outputs": [
    {
     "name": "stdout",
     "output_type": "stream",
     "text": [
      "employee details are: \n",
      "vamsi\n",
      "1904068\n",
      "8688\n",
      "Addankivarilanka\n",
      "have lunch\n",
      "{'__module__': '__main__', '__init__': <function Employee.__init__ at 0x000001480CF0D1F0>, 'details': <function Employee.details at 0x000001480CF0D310>, '__doc__': None}\n",
      "{'name': 'vamsi', 'eid': 1904068, 'phno': 8688, 'addr': 'Addankivarilanka'}\n"
     ]
    }
   ],
   "source": [
    "class Person:\n",
    "    def __init__(self,name,eid):\n",
    "        self.name=name\n",
    "        self.eid=eid\n",
    "    def lunch(self):\n",
    "        print('have lunch')\n",
    "class Employee(Person):\n",
    "    def __init__(self,name,eid,phno,addr):\n",
    "        self.name=name\n",
    "        self.eid=eid\n",
    "        self.phno=phno\n",
    "        self.addr=addr\n",
    "    def details(self):\n",
    "        print('employee details are: ')\n",
    "        print(self.name)\n",
    "        print(self.eid)\n",
    "        print(self.phno)\n",
    "        print(self.addr)\n",
    "e=Employee('vamsi',1904068,8688,'Addankivarilanka')\n",
    "e.details()\n",
    "e.lunch()\n",
    "print(Employee.__dict__)\n",
    "print(e.__dict__)"
   ]
  },
  {
   "cell_type": "code",
   "execution_count": 50,
   "id": "92851f6d",
   "metadata": {},
   "outputs": [
    {
     "name": "stdout",
     "output_type": "stream",
     "text": [
      "employee details are: \n",
      "vamsi\n",
      "1904068\n",
      "8688\n",
      "Addankivarilanka\n",
      "have lunch\n",
      "{'__module__': '__main__', '__init__': <function Employee.__init__ at 0x000001480CCC7F70>, 'details': <function Employee.details at 0x000001480CCC7EE0>, '__doc__': None}\n",
      "{'name': 'vamsi', 'eid': 1904068, 'phno': 8688, 'addr': 'Addankivarilanka'}\n"
     ]
    }
   ],
   "source": [
    "class Person:\n",
    "    def __init__(self,name,eid):\n",
    "        self.name=name\n",
    "        self.eid=eid\n",
    "    def lunch(self):\n",
    "        print('have lunch')\n",
    "class Employee(Person):\n",
    "    def __init__(self,name,eid,phno,addr):\n",
    "        super().__init__(name,eid)\n",
    "        self.phno=phno\n",
    "        self.addr=addr\n",
    "    def details(self):\n",
    "        print('employee details are: ')\n",
    "        print(self.name)\n",
    "        print(self.eid)\n",
    "        print(self.phno)\n",
    "        print(self.addr)\n",
    "e=Employee('vamsi',1904068,8688,'Addankivarilanka')\n",
    "e.details() \n",
    "e.lunch()\n",
    "print(Employee.__dict__)\n",
    "print(e.__dict__)"
   ]
  },
  {
   "cell_type": "code",
   "execution_count": 53,
   "id": "3056bc5f",
   "metadata": {},
   "outputs": [
    {
     "name": "stdout",
     "output_type": "stream",
     "text": [
      "Mr.vamsi please have lunch\n",
      "employe name: vamsi\n",
      "employe age: 21\n",
      "employe id: 5988\n",
      "employe salary: 150000\n",
      "\n",
      "car name:  honda\n",
      "car model:  123SDF\n",
      "car cost:  1500000\n"
     ]
    }
   ],
   "source": [
    "#using both IS-A & HAS-A relationships\n",
    "class Car:\n",
    "    def __init__(self,name,model,cost):\n",
    "        self.name=name\n",
    "        self.model=model\n",
    "        self.cost=cost\n",
    "    def car_details(self):\n",
    "        print('car name: ',self.name)\n",
    "        print('car model: ',self.model)\n",
    "        print('car cost: ',self.cost)\n",
    "class Person:\n",
    "    def __init__(self,name,age):\n",
    "        self.name=name\n",
    "        self.age=age\n",
    "    def lunch(self):\n",
    "        print('Mr.{} please have lunch'.format(self.name))\n",
    "\n",
    "class Employee(Person):\n",
    "    def __init__(self,name,age,eid,esal,car):\n",
    "        super().__init__(name,age)\n",
    "        self.eid=eid\n",
    "        self.esal=esal\n",
    "        self.car=car\n",
    "    def getinfo(self):\n",
    "        print('employe name:',self.name)\n",
    "        print('employe age:',self.age)\n",
    "        print('employe id:',self.eid)\n",
    "        print('employe salary:',self.esal)\n",
    "        print()\n",
    "        self.car.car_details()\n",
    "car=Car('honda','123SDF',1500000)\n",
    "e=Employee('vamsi',21,5988,150000,car)\n",
    "e.lunch()\n",
    "e.getinfo()    "
   ]
  },
  {
   "cell_type": "code",
   "execution_count": 57,
   "id": "d1a3a01b",
   "metadata": {},
   "outputs": [
    {
     "name": "stdout",
     "output_type": "stream",
     "text": [
      "{'__module__': '__main__', '__init__': <function College.__init__ at 0x000001480CCC7280>, 'Department': <class '__main__.College.Department'>, '__dict__': <attribute '__dict__' of 'College' objects>, '__weakref__': <attribute '__weakref__' of 'College' objects>, '__doc__': None}\n",
      "{'dept': <__main__.College.Department object at 0x000001480DA10F70>}\n"
     ]
    }
   ],
   "source": [
    "#composition\n",
    "class College:\n",
    "    def __init__(self):\n",
    "        self.dept=self.Department()\n",
    "    class Department:\n",
    "        pass\n",
    "c=College()\n",
    "print(College.__dict__)\n",
    "print(c.__dict__)"
   ]
  },
  {
   "cell_type": "code",
   "execution_count": 58,
   "id": "b6289207",
   "metadata": {},
   "outputs": [
    {
     "name": "stdout",
     "output_type": "stream",
     "text": [
      "{'__module__': '__main__', '__init__': <function College.__init__ at 0x000001480CCC7700>, '__dict__': <attribute '__dict__' of 'College' objects>, '__weakref__': <attribute '__weakref__' of 'College' objects>, '__doc__': None}\n",
      "{'dept': <__main__.Department object at 0x000001480D5DCBB0>}\n"
     ]
    }
   ],
   "source": [
    "#aggregation\n",
    "class Department:\n",
    "        pass\n",
    "class College:\n",
    "    def __init__(self,dep):\n",
    "        self.dept=dep\n",
    "dept=Department()\n",
    "c=College(dept)\n",
    "print(College.__dict__)\n",
    "print(c.__dict__)"
   ]
  },
  {
   "cell_type": "code",
   "execution_count": 60,
   "id": "0ef1325a",
   "metadata": {},
   "outputs": [
    {
     "name": "stdout",
     "output_type": "stream",
     "text": [
      "parent class method\n",
      "child class method\n"
     ]
    }
   ],
   "source": [
    "#6 types of inheritance \n",
    "#1) Single level inheritance\n",
    "class P:\n",
    "    def m1(self):\n",
    "        print('parent class method')\n",
    "class C(P):\n",
    "    def m2(self):\n",
    "        print('child class method')\n",
    "c=C()\n",
    "c.m1()\n",
    "c.m2()"
   ]
  },
  {
   "cell_type": "code",
   "execution_count": 61,
   "id": "0ce340f0",
   "metadata": {},
   "outputs": [
    {
     "name": "stdout",
     "output_type": "stream",
     "text": [
      "parent class method\n",
      "child class method\n",
      "child to child\n"
     ]
    }
   ],
   "source": [
    "#2) Multi level Inheritance\n",
    "class P:\n",
    "    def m1(self):\n",
    "        print('parent class method')\n",
    "class C(P):\n",
    "    def m2(self):\n",
    "        print('child class method')\n",
    "class GC(C):\n",
    "    def m3(self):\n",
    "        print('child to child')\n",
    "g=GC()\n",
    "g.m1()\n",
    "g.m2()\n",
    "g.m3()"
   ]
  },
  {
   "cell_type": "code",
   "execution_count": 62,
   "id": "254367c6",
   "metadata": {},
   "outputs": [
    {
     "name": "stdout",
     "output_type": "stream",
     "text": [
      "parent class method\n",
      "child1 method\n",
      "parent class method\n",
      "child2 method\n"
     ]
    }
   ],
   "source": [
    "#3) Hierarchical Inheritance\n",
    "class P:\n",
    "    def m(self):\n",
    "        print('parent class method')\n",
    "class C1(P):\n",
    "    def m1(self):\n",
    "        print('child1 method')\n",
    "class C2(P):\n",
    "    def m2(self):\n",
    "        print('child2 method')\n",
    "c1=C1()\n",
    "c1.m()\n",
    "c1.m1()\n",
    "c2=C2()\n",
    "c2.m()\n",
    "c2.m2()"
   ]
  },
  {
   "cell_type": "code",
   "execution_count": 2,
   "id": "3cf7e976",
   "metadata": {},
   "outputs": [
    {
     "name": "stdout",
     "output_type": "stream",
     "text": [
      "parent1 method\n",
      "parent2 method\n",
      "child method\n"
     ]
    }
   ],
   "source": [
    "#4) Multiple inheritance\n",
    "class P1:\n",
    "    def m1(self):\n",
    "        print('parent1 method')\n",
    "class P2:\n",
    "    def m2(self):\n",
    "        print('parent2 method')\n",
    "class C(P1,P2):\n",
    "    def m3(self):\n",
    "        print('child method')\n",
    "c=C()\n",
    "c.m1()\n",
    "c.m2()\n",
    "c.m3()"
   ]
  },
  {
   "cell_type": "code",
   "execution_count": 3,
   "id": "bbaaeedf",
   "metadata": {},
   "outputs": [
    {
     "name": "stdout",
     "output_type": "stream",
     "text": [
      "child method\n"
     ]
    }
   ],
   "source": [
    "#multiple inheritance\n",
    "class P1:\n",
    "    def m1(self):\n",
    "        print('parent1 method')\n",
    "class P2:\n",
    "    def m1(self):\n",
    "        print('parent2 method')\n",
    "class C(P1,P2):\n",
    "    def m1(self):\n",
    "        print('child method')\n",
    "c=C()\n",
    "c.m1()"
   ]
  },
  {
   "cell_type": "code",
   "execution_count": 5,
   "id": "cdd3dd91",
   "metadata": {},
   "outputs": [
    {
     "name": "stdout",
     "output_type": "stream",
     "text": [
      "parent1 method\n"
     ]
    }
   ],
   "source": [
    "#multiple inheritance\n",
    "class P1:\n",
    "    def m1(self):\n",
    "        print('parent1 method')\n",
    "class P2:\n",
    "    def m1(self):\n",
    "        print('parent2 method')\n",
    "class C(P1,P2):\n",
    "    def m11(self):\n",
    "        print('child method')\n",
    "c=C()\n",
    "c.m1()"
   ]
  },
  {
   "cell_type": "code",
   "execution_count": 6,
   "id": "9992ec65",
   "metadata": {},
   "outputs": [
    {
     "name": "stdout",
     "output_type": "stream",
     "text": [
      "parent2 method\n"
     ]
    }
   ],
   "source": [
    "#multiple inheritance\n",
    "class P1:\n",
    "    def m1(self):\n",
    "        print('parent1 method')\n",
    "class P2:\n",
    "    def m1(self):\n",
    "        print('parent2 method')\n",
    "class C(P2,P1):\n",
    "    def m11(self):\n",
    "        print('child method')\n",
    "c=C()\n",
    "c.m1()"
   ]
  },
  {
   "cell_type": "code",
   "execution_count": 7,
   "id": "8252216c",
   "metadata": {},
   "outputs": [
    {
     "name": "stdout",
     "output_type": "stream",
     "text": [
      "parent2 method\n"
     ]
    }
   ],
   "source": [
    "#multiple inheritance\n",
    "class P1:\n",
    "    def m12(self):\n",
    "        print('parent1 method')\n",
    "class P2:\n",
    "    def m1(self):\n",
    "        print('parent2 method')\n",
    "class C(P1,P2):\n",
    "    def m11(self):\n",
    "        print('child method')\n",
    "c=C()\n",
    "c.m1()"
   ]
  },
  {
   "cell_type": "code",
   "execution_count": 8,
   "id": "26765435",
   "metadata": {},
   "outputs": [],
   "source": [
    "#so order of parent class in parenthesis is very important"
   ]
  },
  {
   "cell_type": "code",
   "execution_count": 9,
   "id": "ef187791",
   "metadata": {},
   "outputs": [],
   "source": [
    "#5) Hybrid inheritance - combination of single , multi level , hierarchical , multiple inheritances."
   ]
  },
  {
   "cell_type": "code",
   "execution_count": 10,
   "id": "b6475e5f",
   "metadata": {},
   "outputs": [
    {
     "ename": "NameError",
     "evalue": "name 'A' is not defined",
     "output_type": "error",
     "traceback": [
      "\u001b[1;31m---------------------------------------------------------------------------\u001b[0m",
      "\u001b[1;31mNameError\u001b[0m                                 Traceback (most recent call last)",
      "\u001b[1;32m~\\AppData\\Local\\Temp/ipykernel_36528/592191863.py\u001b[0m in \u001b[0;36m<module>\u001b[1;34m\u001b[0m\n\u001b[0;32m      1\u001b[0m \u001b[1;31m#6) Cyclic inheritance\u001b[0m\u001b[1;33m\u001b[0m\u001b[1;33m\u001b[0m\u001b[1;33m\u001b[0m\u001b[0m\n\u001b[1;32m----> 2\u001b[1;33m \u001b[1;32mclass\u001b[0m \u001b[0mA\u001b[0m\u001b[1;33m(\u001b[0m\u001b[0mA\u001b[0m\u001b[1;33m)\u001b[0m\u001b[1;33m:\u001b[0m\u001b[1;33m\u001b[0m\u001b[1;33m\u001b[0m\u001b[0m\n\u001b[0m\u001b[0;32m      3\u001b[0m     \u001b[1;32mpass\u001b[0m\u001b[1;33m\u001b[0m\u001b[1;33m\u001b[0m\u001b[0m\n",
      "\u001b[1;31mNameError\u001b[0m: name 'A' is not defined"
     ]
    }
   ],
   "source": [
    "#6) Cyclic inheritance\n",
    "class A(A):\n",
    "    pass"
   ]
  },
  {
   "cell_type": "code",
   "execution_count": 11,
   "id": "646af045",
   "metadata": {},
   "outputs": [
    {
     "ename": "NameError",
     "evalue": "name 'B' is not defined",
     "output_type": "error",
     "traceback": [
      "\u001b[1;31m---------------------------------------------------------------------------\u001b[0m",
      "\u001b[1;31mNameError\u001b[0m                                 Traceback (most recent call last)",
      "\u001b[1;32m~\\AppData\\Local\\Temp/ipykernel_36528/3317506783.py\u001b[0m in \u001b[0;36m<module>\u001b[1;34m\u001b[0m\n\u001b[0;32m      1\u001b[0m \u001b[1;31m#cyclic inheritance\u001b[0m\u001b[1;33m\u001b[0m\u001b[1;33m\u001b[0m\u001b[1;33m\u001b[0m\u001b[0m\n\u001b[1;32m----> 2\u001b[1;33m \u001b[1;32mclass\u001b[0m \u001b[0mA\u001b[0m\u001b[1;33m(\u001b[0m\u001b[0mB\u001b[0m\u001b[1;33m)\u001b[0m\u001b[1;33m:\u001b[0m\u001b[1;33m\u001b[0m\u001b[1;33m\u001b[0m\u001b[0m\n\u001b[0m\u001b[0;32m      3\u001b[0m     \u001b[1;32mpass\u001b[0m\u001b[1;33m\u001b[0m\u001b[1;33m\u001b[0m\u001b[0m\n\u001b[0;32m      4\u001b[0m \u001b[1;32mclass\u001b[0m \u001b[0mB\u001b[0m\u001b[1;33m(\u001b[0m\u001b[0mA\u001b[0m\u001b[1;33m)\u001b[0m\u001b[1;33m:\u001b[0m\u001b[1;33m\u001b[0m\u001b[1;33m\u001b[0m\u001b[0m\n\u001b[0;32m      5\u001b[0m     \u001b[1;32mpass\u001b[0m\u001b[1;33m\u001b[0m\u001b[1;33m\u001b[0m\u001b[0m\n",
      "\u001b[1;31mNameError\u001b[0m: name 'B' is not defined"
     ]
    }
   ],
   "source": [
    "#cyclic inheritance\n",
    "class A(B):\n",
    "    pass\n",
    "class B(A):\n",
    "    pass"
   ]
  },
  {
   "cell_type": "code",
   "execution_count": 2,
   "id": "22ccf312",
   "metadata": {},
   "outputs": [],
   "source": [
    "#MRO - method resolution order algorithm"
   ]
  },
  {
   "cell_type": "code",
   "execution_count": 4,
   "id": "920bd7c9",
   "metadata": {},
   "outputs": [
    {
     "name": "stdout",
     "output_type": "stream",
     "text": [
      "[<class '__main__.A'>, <class 'object'>]\n",
      "[<class '__main__.B'>, <class '__main__.A'>, <class 'object'>]\n",
      "[<class '__main__.C'>, <class '__main__.A'>, <class 'object'>]\n",
      "[<class '__main__.D'>, <class '__main__.B'>, <class '__main__.C'>, <class '__main__.A'>, <class 'object'>]\n"
     ]
    }
   ],
   "source": [
    "class A:\n",
    "    pass\n",
    "class B(A):\n",
    "    pass\n",
    "class C(A):\n",
    "    pass\n",
    "class D(B,C):\n",
    "    pass\n",
    "print(A.mro())\n",
    "print(B.mro())\n",
    "print(C.mro())\n",
    "print(D.mro())"
   ]
  },
  {
   "cell_type": "code",
   "execution_count": 5,
   "id": "ef8e7c6e",
   "metadata": {},
   "outputs": [
    {
     "name": "stdout",
     "output_type": "stream",
     "text": [
      "D class method\n"
     ]
    }
   ],
   "source": [
    "class A:\n",
    "    def m1(self):\n",
    "        print('A class method')\n",
    "class B(A):\n",
    "    def m1(self):\n",
    "        print('B class method')\n",
    "class C(A):\n",
    "    def m1(self):\n",
    "        print('C class method')\n",
    "class D(B,C):\n",
    "    def m1(self):\n",
    "        print('D class method')\n",
    "d=D()\n",
    "d.m1()"
   ]
  },
  {
   "cell_type": "code",
   "execution_count": 6,
   "id": "965f6a33",
   "metadata": {},
   "outputs": [
    {
     "name": "stdout",
     "output_type": "stream",
     "text": [
      "B class method\n"
     ]
    }
   ],
   "source": [
    "class A:\n",
    "    def m1(self):\n",
    "        print('A class method')\n",
    "class B(A):\n",
    "    def m1(self):\n",
    "        print('B class method')\n",
    "class C(A):\n",
    "    def m1(self):\n",
    "        print('C class method')\n",
    "class D(B,C):\n",
    "    pass\n",
    "d=D()\n",
    "d.m1()"
   ]
  },
  {
   "cell_type": "code",
   "execution_count": 7,
   "id": "12fcc310",
   "metadata": {},
   "outputs": [
    {
     "name": "stdout",
     "output_type": "stream",
     "text": [
      "C class method\n"
     ]
    }
   ],
   "source": [
    "class A:\n",
    "    def m1(self):\n",
    "        print('A class method')\n",
    "class B(A):\n",
    "    pass\n",
    "class C(A):\n",
    "    def m1(self):\n",
    "        print('C class method')\n",
    "class D(B,C):\n",
    "    pass\n",
    "d=D()\n",
    "d.m1()"
   ]
  },
  {
   "cell_type": "code",
   "execution_count": 9,
   "id": "16e5d61b",
   "metadata": {},
   "outputs": [
    {
     "name": "stdout",
     "output_type": "stream",
     "text": [
      "A class method\n"
     ]
    }
   ],
   "source": [
    "class A:\n",
    "    def m1(self):\n",
    "        print('A class method')\n",
    "class B(A):\n",
    "    pass\n",
    "class C(A):\n",
    "    pass\n",
    "class D(B,C):\n",
    "    pass\n",
    "d=D()\n",
    "d.m1()"
   ]
  },
  {
   "cell_type": "code",
   "execution_count": 10,
   "id": "f08f3c58",
   "metadata": {},
   "outputs": [
    {
     "ename": "AttributeError",
     "evalue": "'D' object has no attribute 'm1'",
     "output_type": "error",
     "traceback": [
      "\u001b[1;31m---------------------------------------------------------------------------\u001b[0m",
      "\u001b[1;31mAttributeError\u001b[0m                            Traceback (most recent call last)",
      "\u001b[1;32m~\\AppData\\Local\\Temp/ipykernel_25592/13769885.py\u001b[0m in \u001b[0;36m<module>\u001b[1;34m\u001b[0m\n\u001b[0;32m      8\u001b[0m     \u001b[1;32mpass\u001b[0m\u001b[1;33m\u001b[0m\u001b[1;33m\u001b[0m\u001b[0m\n\u001b[0;32m      9\u001b[0m \u001b[0md\u001b[0m\u001b[1;33m=\u001b[0m\u001b[0mD\u001b[0m\u001b[1;33m(\u001b[0m\u001b[1;33m)\u001b[0m\u001b[1;33m\u001b[0m\u001b[1;33m\u001b[0m\u001b[0m\n\u001b[1;32m---> 10\u001b[1;33m \u001b[0md\u001b[0m\u001b[1;33m.\u001b[0m\u001b[0mm1\u001b[0m\u001b[1;33m(\u001b[0m\u001b[1;33m)\u001b[0m\u001b[1;33m\u001b[0m\u001b[1;33m\u001b[0m\u001b[0m\n\u001b[0m",
      "\u001b[1;31mAttributeError\u001b[0m: 'D' object has no attribute 'm1'"
     ]
    }
   ],
   "source": [
    "class A:\n",
    "    pass\n",
    "class B(A):\n",
    "    pass\n",
    "class C(A):\n",
    "    pass\n",
    "class D(B,C):\n",
    "    pass\n",
    "d=D()\n",
    "d.m1()"
   ]
  },
  {
   "cell_type": "code",
   "execution_count": 14,
   "id": "e94e5feb",
   "metadata": {},
   "outputs": [
    {
     "name": "stdout",
     "output_type": "stream",
     "text": [
      "[<class '__main__.A'>, <class 'object'>]\n",
      "[<class '__main__.B'>, <class 'object'>]\n",
      "[<class '__main__.C'>, <class 'object'>]\n",
      "[<class '__main__.D'>, <class '__main__.A'>, <class '__main__.B'>, <class 'object'>]\n",
      "[<class '__main__.E'>, <class '__main__.B'>, <class '__main__.C'>, <class 'object'>]\n",
      "[<class '__main__.F'>, <class '__main__.D'>, <class '__main__.A'>, <class '__main__.E'>, <class '__main__.B'>, <class '__main__.C'>, <class 'object'>]\n"
     ]
    }
   ],
   "source": [
    "class A:\n",
    "    pass\n",
    "class B:\n",
    "    pass\n",
    "class C:\n",
    "    pass\n",
    "class D(A,B):\n",
    "    pass\n",
    "class E(B,C):\n",
    "    pass\n",
    "class F(D,E,C):\n",
    "    pass\n",
    "print(A.mro())\n",
    "print(B.mro())\n",
    "print(C.mro())\n",
    "print(D.mro())\n",
    "print(E.mro())\n",
    "print(F.mro())"
   ]
  },
  {
   "cell_type": "code",
   "execution_count": 17,
   "id": "882c0887",
   "metadata": {},
   "outputs": [
    {
     "name": "stdout",
     "output_type": "stream",
     "text": [
      "A method\n",
      "[<class '__main__.B'>, <class '__main__.A'>, <class 'object'>]\n"
     ]
    }
   ],
   "source": [
    "class A:\n",
    "    def m1(self):\n",
    "        print('A method')\n",
    "class B(A):\n",
    "    pass\n",
    "b=B()\n",
    "b.m1()\n",
    "print(B.mro())        "
   ]
  },
  {
   "cell_type": "code",
   "execution_count": 18,
   "id": "4f33ec79",
   "metadata": {},
   "outputs": [
    {
     "name": "stdout",
     "output_type": "stream",
     "text": [
      "[<class '__main__.F'>, <class '__main__.D'>, <class '__main__.E'>, <class '__main__.A'>, <class '__main__.B'>, <class '__main__.C'>, <class 'object'>]\n"
     ]
    }
   ],
   "source": [
    "class A:\n",
    "    pass\n",
    "class B:\n",
    "    pass\n",
    "class C:\n",
    "    pass\n",
    "class D(A,B):\n",
    "    pass\n",
    "class E(A,C):\n",
    "    pass\n",
    "class F(D,E):\n",
    "    pass\n",
    "print(F.mro())    "
   ]
  },
  {
   "cell_type": "code",
   "execution_count": 1,
   "id": "47fa9d33",
   "metadata": {},
   "outputs": [],
   "source": [
    "#super()"
   ]
  },
  {
   "cell_type": "code",
   "execution_count": 2,
   "id": "526eb231",
   "metadata": {},
   "outputs": [
    {
     "name": "stdout",
     "output_type": "stream",
     "text": [
      "parent method\n",
      "child method\n"
     ]
    }
   ],
   "source": [
    "class P:\n",
    "    def m1(self):\n",
    "        print('parent method')\n",
    "class C(P):\n",
    "    def m2(self):\n",
    "        self.m1()\n",
    "        print('child method')\n",
    "c=C()\n",
    "c.m2()"
   ]
  },
  {
   "cell_type": "code",
   "execution_count": 4,
   "id": "e240f169",
   "metadata": {},
   "outputs": [
    {
     "ename": "RecursionError",
     "evalue": "maximum recursion depth exceeded",
     "output_type": "error",
     "traceback": [
      "\u001b[1;31m---------------------------------------------------------------------------\u001b[0m",
      "\u001b[1;31mRecursionError\u001b[0m                            Traceback (most recent call last)",
      "\u001b[1;32m~\\AppData\\Local\\Temp/ipykernel_36300/1412724346.py\u001b[0m in \u001b[0;36m<module>\u001b[1;34m\u001b[0m\n\u001b[0;32m      7\u001b[0m         \u001b[0mprint\u001b[0m\u001b[1;33m(\u001b[0m\u001b[1;34m'child method'\u001b[0m\u001b[1;33m)\u001b[0m\u001b[1;33m\u001b[0m\u001b[1;33m\u001b[0m\u001b[0m\n\u001b[0;32m      8\u001b[0m \u001b[0mc\u001b[0m\u001b[1;33m=\u001b[0m\u001b[0mC\u001b[0m\u001b[1;33m(\u001b[0m\u001b[1;33m)\u001b[0m\u001b[1;33m\u001b[0m\u001b[1;33m\u001b[0m\u001b[0m\n\u001b[1;32m----> 9\u001b[1;33m \u001b[0mc\u001b[0m\u001b[1;33m.\u001b[0m\u001b[0mm1\u001b[0m\u001b[1;33m(\u001b[0m\u001b[1;33m)\u001b[0m\u001b[1;33m\u001b[0m\u001b[1;33m\u001b[0m\u001b[0m\n\u001b[0m",
      "\u001b[1;32m~\\AppData\\Local\\Temp/ipykernel_36300/1412724346.py\u001b[0m in \u001b[0;36mm1\u001b[1;34m(self)\u001b[0m\n\u001b[0;32m      4\u001b[0m \u001b[1;32mclass\u001b[0m \u001b[0mC\u001b[0m\u001b[1;33m(\u001b[0m\u001b[0mP\u001b[0m\u001b[1;33m)\u001b[0m\u001b[1;33m:\u001b[0m\u001b[1;33m\u001b[0m\u001b[1;33m\u001b[0m\u001b[0m\n\u001b[0;32m      5\u001b[0m     \u001b[1;32mdef\u001b[0m \u001b[0mm1\u001b[0m\u001b[1;33m(\u001b[0m\u001b[0mself\u001b[0m\u001b[1;33m)\u001b[0m\u001b[1;33m:\u001b[0m\u001b[1;33m\u001b[0m\u001b[1;33m\u001b[0m\u001b[0m\n\u001b[1;32m----> 6\u001b[1;33m         \u001b[0mself\u001b[0m\u001b[1;33m.\u001b[0m\u001b[0mm1\u001b[0m\u001b[1;33m(\u001b[0m\u001b[1;33m)\u001b[0m\u001b[1;33m\u001b[0m\u001b[1;33m\u001b[0m\u001b[0m\n\u001b[0m\u001b[0;32m      7\u001b[0m         \u001b[0mprint\u001b[0m\u001b[1;33m(\u001b[0m\u001b[1;34m'child method'\u001b[0m\u001b[1;33m)\u001b[0m\u001b[1;33m\u001b[0m\u001b[1;33m\u001b[0m\u001b[0m\n\u001b[0;32m      8\u001b[0m \u001b[0mc\u001b[0m\u001b[1;33m=\u001b[0m\u001b[0mC\u001b[0m\u001b[1;33m(\u001b[0m\u001b[1;33m)\u001b[0m\u001b[1;33m\u001b[0m\u001b[1;33m\u001b[0m\u001b[0m\n",
      "... last 1 frames repeated, from the frame below ...\n",
      "\u001b[1;32m~\\AppData\\Local\\Temp/ipykernel_36300/1412724346.py\u001b[0m in \u001b[0;36mm1\u001b[1;34m(self)\u001b[0m\n\u001b[0;32m      4\u001b[0m \u001b[1;32mclass\u001b[0m \u001b[0mC\u001b[0m\u001b[1;33m(\u001b[0m\u001b[0mP\u001b[0m\u001b[1;33m)\u001b[0m\u001b[1;33m:\u001b[0m\u001b[1;33m\u001b[0m\u001b[1;33m\u001b[0m\u001b[0m\n\u001b[0;32m      5\u001b[0m     \u001b[1;32mdef\u001b[0m \u001b[0mm1\u001b[0m\u001b[1;33m(\u001b[0m\u001b[0mself\u001b[0m\u001b[1;33m)\u001b[0m\u001b[1;33m:\u001b[0m\u001b[1;33m\u001b[0m\u001b[1;33m\u001b[0m\u001b[0m\n\u001b[1;32m----> 6\u001b[1;33m         \u001b[0mself\u001b[0m\u001b[1;33m.\u001b[0m\u001b[0mm1\u001b[0m\u001b[1;33m(\u001b[0m\u001b[1;33m)\u001b[0m\u001b[1;33m\u001b[0m\u001b[1;33m\u001b[0m\u001b[0m\n\u001b[0m\u001b[0;32m      7\u001b[0m         \u001b[0mprint\u001b[0m\u001b[1;33m(\u001b[0m\u001b[1;34m'child method'\u001b[0m\u001b[1;33m)\u001b[0m\u001b[1;33m\u001b[0m\u001b[1;33m\u001b[0m\u001b[0m\n\u001b[0;32m      8\u001b[0m \u001b[0mc\u001b[0m\u001b[1;33m=\u001b[0m\u001b[0mC\u001b[0m\u001b[1;33m(\u001b[0m\u001b[1;33m)\u001b[0m\u001b[1;33m\u001b[0m\u001b[1;33m\u001b[0m\u001b[0m\n",
      "\u001b[1;31mRecursionError\u001b[0m: maximum recursion depth exceeded"
     ]
    }
   ],
   "source": [
    "class P:\n",
    "    def m1(self):\n",
    "        print('parent method')\n",
    "class C(P):\n",
    "    def m1(self):\n",
    "        self.m1()\n",
    "        print('child method')\n",
    "c=C()\n",
    "c.m1()"
   ]
  },
  {
   "cell_type": "code",
   "execution_count": 5,
   "id": "35b0895c",
   "metadata": {},
   "outputs": [],
   "source": [
    "#because on c object priority will be always for child class m1() so it will be recursion."
   ]
  },
  {
   "cell_type": "code",
   "execution_count": 6,
   "id": "1fdfc975",
   "metadata": {},
   "outputs": [
    {
     "name": "stdout",
     "output_type": "stream",
     "text": [
      "parent method\n",
      "child method\n"
     ]
    }
   ],
   "source": [
    "#to call parent class members explicitly\n",
    "class P:\n",
    "    def m1(self):\n",
    "        print('parent method')\n",
    "class C(P):\n",
    "    def m1(self):\n",
    "        super().m1()\n",
    "        print('child method')\n",
    "c=C()\n",
    "c.m1()"
   ]
  },
  {
   "cell_type": "code",
   "execution_count": 11,
   "id": "5126a9c0",
   "metadata": {},
   "outputs": [
    {
     "name": "stdout",
     "output_type": "stream",
     "text": [
      "parent method\n",
      "parent 1999\n",
      "child method\n"
     ]
    }
   ],
   "source": [
    "class P:\n",
    "    place=1999\n",
    "    def __init__(self):\n",
    "        self.name='parent'\n",
    "    def m1(self):\n",
    "        print('parent method')\n",
    "class C(P):\n",
    "    def m2(self):\n",
    "        self.m1()\n",
    "        print(self.name,C.place)\n",
    "        print('child method')\n",
    "p=P()\n",
    "c=C()\n",
    "c.m2()"
   ]
  },
  {
   "cell_type": "code",
   "execution_count": 17,
   "id": "78262df4",
   "metadata": {},
   "outputs": [
    {
     "name": "stdout",
     "output_type": "stream",
     "text": [
      "guardian 1 parent disp\n",
      "guardian 1 parent m1\n",
      "Parent parent m2\n",
      "Parent parent m2\n",
      "parent m3\n",
      "parent m3\n",
      "guardian 1 parent m1\n",
      "guardian 1 parent disp\n",
      "Parent parent m2\n",
      "parent m3\n"
     ]
    }
   ],
   "source": [
    "class Parent:\n",
    "    name='Parent'\n",
    "    def __init__(pelf):\n",
    "        pelf.role='guardian'\n",
    "        pelf.pref=1\n",
    "    def m1(celf):\n",
    "        print(celf.role , celf.pref , 'parent m1')\n",
    "    def disp(pelf):\n",
    "        print(pelf.role,pelf.pref,'parent disp')\n",
    "    @classmethod\n",
    "    def m2(pls):\n",
    "        print(pls.name,'parent m2')\n",
    "    @staticmethod\n",
    "    def m3():\n",
    "        print('parent m3')\n",
    "class Child1(Parent):\n",
    "    def __init__(celf):\n",
    "        super().__init__()\n",
    "        celf.m1()\n",
    "        Child1.m2()\n",
    "        celf.m2()\n",
    "        Child1.m3()\n",
    "        celf.m3()\n",
    "class Child2(Parent):\n",
    "    def __init__(celf):\n",
    "        super().__init__()\n",
    "        super().m1()\n",
    "        super().disp()\n",
    "        super().m2()\n",
    "        super().m3()\n",
    "p=Parent()\n",
    "p.disp()\n",
    "c1=Child1()\n",
    "c2=Child2()"
   ]
  },
  {
   "cell_type": "code",
   "execution_count": 29,
   "id": "e8be374a",
   "metadata": {},
   "outputs": [
    {
     "name": "stdout",
     "output_type": "stream",
     "text": [
      "2167635238960 2167639111472\n",
      "2167635238960 2167639111472\n",
      "2167635238960 2167639111248 2000 2167639111216 2167639111472\n"
     ]
    }
   ],
   "source": [
    "class P:\n",
    "    roll=1000\n",
    "    def __init__(self):\n",
    "        self.name='vamsi'\n",
    "        print(id(self.name),id(P.roll))\n",
    "class C(P):\n",
    "    rp=12344\n",
    "    roll=2000\n",
    "    def m1(self):\n",
    "        print(id(self.name),id(C.roll),C.roll,id(C.rp),id(super().roll))\n",
    "p=P()\n",
    "c=C()\n",
    "c.m1()"
   ]
  },
  {
   "cell_type": "code",
   "execution_count": 33,
   "id": "fa90abdd",
   "metadata": {},
   "outputs": [
    {
     "name": "stdout",
     "output_type": "stream",
     "text": [
      "2167639140480\n",
      "parent constructor\n",
      "child cons\n",
      "calling parent cons using super()\n",
      "2167639140192\n",
      "parent constructor\n",
      "parent 2167639140480 2167624159312\n",
      "child 2167639140192 2167624183856\n"
     ]
    }
   ],
   "source": [
    "class P:\n",
    "    def __init__(self):\n",
    "        print(id(self))\n",
    "        self.name='parent'\n",
    "        print('parent constructor')\n",
    "class C(P):\n",
    "    def __init__(celf):\n",
    "        celf.name='child'\n",
    "        print('child cons')\n",
    "    def m1(celf):\n",
    "        print('calling parent cons using super()')\n",
    "        super().__init__()\n",
    "p=P()\n",
    "c=C()\n",
    "c.m1()\n",
    "print('parent',id(p),id(P))\n",
    "print('child',id(c),id(C))"
   ]
  },
  {
   "cell_type": "code",
   "execution_count": 36,
   "id": "80ea3c21",
   "metadata": {},
   "outputs": [
    {
     "name": "stdout",
     "output_type": "stream",
     "text": [
      "parent cons 2167635143456\n",
      "child cons 2167635144224\n",
      "\n",
      "calling parent cons using super()\n",
      "parent cons 2167635144224\n",
      "\n",
      "parent 2167635143456 2167624189520\n",
      "child 2167635144224 2167624160256\n"
     ]
    }
   ],
   "source": [
    "#understand super()\n",
    "class P:\n",
    "    def __init__(self):\n",
    "        print('parent cons',id(self))\n",
    "class C(P):\n",
    "    def __init__(celf):\n",
    "        print('child cons',id(celf))\n",
    "    def m1(celf):\n",
    "        print()\n",
    "        print('calling parent cons using super()')\n",
    "        super().__init__()\n",
    "        print()\n",
    "p=P()\n",
    "c=C()\n",
    "c.m1()\n",
    "print('parent',id(p),id(P))\n",
    "print('child',id(c),id(C))"
   ]
  },
  {
   "cell_type": "code",
   "execution_count": 38,
   "id": "d08f3c40",
   "metadata": {},
   "outputs": [
    {
     "name": "stdout",
     "output_type": "stream",
     "text": [
      "parent cons 2167638555520\n",
      "child cons 2167638553360\n",
      "\n",
      "calling parent cons using super()\n",
      "parent cons 2167638553360\n",
      "calling m2 classmethod in parent class using super()\n",
      "2167624187632\n",
      "\n",
      "parent 2167638555520 2167624188576\n",
      "child 2167638553360 2167624187632\n"
     ]
    }
   ],
   "source": [
    "#understand super()\n",
    "class P:\n",
    "    def __init__(self):\n",
    "        print('parent cons',id(self))\n",
    "    @classmethod\n",
    "    def m2(cls):\n",
    "        print(id(cls))\n",
    "class C(P):\n",
    "    def __init__(celf):\n",
    "        print('child cons',id(celf))\n",
    "    def m1(celf):\n",
    "        print()\n",
    "        print('calling parent cons using super()')\n",
    "        super().__init__()\n",
    "        print('calling m2 classmethod in parent class using super()')\n",
    "        super().m2()\n",
    "        print()\n",
    "p=P()\n",
    "c=C()\n",
    "c.m1()\n",
    "print('parent',id(p),id(P))\n",
    "print('child',id(c),id(C))"
   ]
  },
  {
   "cell_type": "code",
   "execution_count": 39,
   "id": "13c7e4f7",
   "metadata": {},
   "outputs": [
    {
     "name": "stdout",
     "output_type": "stream",
     "text": [
      "name is : vamsi\n",
      "age is : 20\n",
      "rollno is : 1904068\n",
      "marks are: 95\n",
      "subject is : Maths\n",
      "{'name': 'vamsi', 'age': 20, 'rollno': 1904068, 'marks': 95, 'subject': 'Maths'}\n"
     ]
    }
   ],
   "source": [
    "class Person:\n",
    "    def __init__(self,name,age,rollno):\n",
    "        self.name=name\n",
    "        self.age=age\n",
    "        self.rollno=rollno\n",
    "    def display(self):\n",
    "        print('name is :',self.name)\n",
    "        print('age is :',self.age)\n",
    "        print('rollno is :',self.rollno)\n",
    "class Student(Person):\n",
    "    def __init__(self,name,age,rollno,marks,subject):\n",
    "        super().__init__(name,age,rollno)\n",
    "        self.marks=marks\n",
    "        self.subject=subject\n",
    "    def display(self):\n",
    "        super().display()\n",
    "        print('marks are:',self.marks)\n",
    "        print('subject is :',self.subject)\n",
    "s=Student('vamsi',20,1904068,95,'Maths')\n",
    "s.display()\n",
    "print(s.__dict__)"
   ]
  },
  {
   "cell_type": "code",
   "execution_count": 44,
   "id": "74e7e3d8",
   "metadata": {},
   "outputs": [
    {
     "name": "stdout",
     "output_type": "stream",
     "text": [
      "E class m1 method\n"
     ]
    }
   ],
   "source": [
    "class A:\n",
    "    def m1(self):\n",
    "        print('A class m1 method')\n",
    "class B(A):\n",
    "    def m1(self):\n",
    "        print('B class m1 method')\n",
    "class C(B):\n",
    "    def m1(self):\n",
    "        print('C class m1 method')\n",
    "class D(C):\n",
    "    def m1(self):\n",
    "        print('D class m1 method')\n",
    "class E(D):\n",
    "    def m1(self):\n",
    "        print('E class m1 method')\n",
    "e=E()\n",
    "e.m1()"
   ]
  },
  {
   "cell_type": "code",
   "execution_count": 47,
   "id": "6ac2a747",
   "metadata": {},
   "outputs": [
    {
     "name": "stdout",
     "output_type": "stream",
     "text": [
      "D class m1 method\n"
     ]
    }
   ],
   "source": [
    "class A:\n",
    "    def m1(self):\n",
    "        print('A class m1 method')\n",
    "class B(A):\n",
    "    def m1(self):\n",
    "        print('B class m1 method')\n",
    "class C(B):\n",
    "    def m1(self):\n",
    "        print('C class m1 method')\n",
    "class D(C):\n",
    "    def m1(self):\n",
    "        print('D class m1 method')\n",
    "class E(D):\n",
    "    def m1(self):\n",
    "        super().m1()\n",
    "e=E()\n",
    "e.m1()"
   ]
  },
  {
   "cell_type": "code",
   "execution_count": 48,
   "id": "255abeaf",
   "metadata": {},
   "outputs": [],
   "source": [
    "#how to call method of a particular super class\n",
    "#2 ways"
   ]
  },
  {
   "cell_type": "code",
   "execution_count": 52,
   "id": "28c7e812",
   "metadata": {},
   "outputs": [
    {
     "name": "stdout",
     "output_type": "stream",
     "text": [
      "2167639052448\n",
      "2167639052448\n",
      "2167639052448\n",
      "C class m1 method\n"
     ]
    }
   ],
   "source": [
    "#1)- classname.methodname(self)\n",
    "class A:\n",
    "    def m1(self):\n",
    "        print('A class m1 method')\n",
    "class B(A):\n",
    "    def m1(self):\n",
    "        print('B class m1 method')\n",
    "class C(B):\n",
    "    def m1(self):\n",
    "        print(id(self))\n",
    "        print('C class m1 method')\n",
    "class D(C):\n",
    "    def m1(self):\n",
    "        print('D class m1 method')\n",
    "class E(D):\n",
    "    def m1(self):\n",
    "        print(id(self))\n",
    "        C.m1(self)\n",
    "e=E()\n",
    "print(id(e))\n",
    "e.m1()"
   ]
  },
  {
   "cell_type": "code",
   "execution_count": 54,
   "id": "8a2a0286",
   "metadata": {},
   "outputs": [
    {
     "name": "stdout",
     "output_type": "stream",
     "text": [
      "2167639140384\n",
      "2167639140384\n",
      "2167639140384\n",
      "B class m1 method\n"
     ]
    }
   ],
   "source": [
    "#2)- super(classname,self).methodname() --> the super class of classname will get chance\n",
    "class A:\n",
    "    def m1(self):\n",
    "        print('A class m1 method')\n",
    "class B(A):\n",
    "    def m1(self):\n",
    "        print(id(self))\n",
    "        print('B class m1 method')\n",
    "class C(B):\n",
    "    def m1(self):\n",
    "        print('C class m1 method')\n",
    "class D(C):\n",
    "    def m1(self):\n",
    "        print('D class m1 method')\n",
    "class E(D):\n",
    "    def m1(self):\n",
    "        print(id(self))\n",
    "        super(C,self).m1()\n",
    "e=E()\n",
    "print(id(e))\n",
    "e.m1()"
   ]
  },
  {
   "cell_type": "code",
   "execution_count": 63,
   "id": "6876aefd",
   "metadata": {},
   "outputs": [
    {
     "name": "stdout",
     "output_type": "stream",
     "text": [
      "parent cons\n",
      "100\n",
      "we cant use super() to access parent class instance variables : 'super' object has no attribute 'b'\n",
      "we can use self.b : 200\n",
      "{'b': 200}\n"
     ]
    }
   ],
   "source": [
    "#we cant use super() to access parent class instance variables\n",
    "class P:\n",
    "    a=100\n",
    "    def __init__(self):\n",
    "        self.b=200\n",
    "        print('parent cons')\n",
    "class C(P):\n",
    "    def m1(self):\n",
    "        print(super().a)\n",
    "        try:\n",
    "            print(super().b)\n",
    "        except AttributeError as e:\n",
    "            print('we cant use super() to access parent class instance variables :',e)\n",
    "            print('we can use self.b :',self.b)\n",
    "c=C()\n",
    "c.m1()\n",
    "print(c.__dict__)"
   ]
  },
  {
   "cell_type": "code",
   "execution_count": 79,
   "id": "8be2c06e",
   "metadata": {},
   "outputs": [
    {
     "name": "stdout",
     "output_type": "stream",
     "text": [
      "calling from constructor in child class 2167640461664\n",
      "parent constructor 2167640461664\n",
      "parent instance method m1 2167640461664\n",
      "parent classmethod m2 2167624165920\n",
      "parent static method m3\n",
      "\n",
      "2167640461664 2167624165920\n",
      "\n",
      "calling from instance method in child class 2167640461664\n",
      "parent constructor 2167640461664\n",
      "parent instance method m1 2167640461664\n",
      "parent classmethod m2 2167624165920\n",
      "parent static method m3\n",
      "\n",
      "calling from class method in child class 2167624165920\n",
      "__init__() missing 1 required positional argument: 'self'\n",
      "m1() missing 1 required positional argument: 'self'\n",
      "parent classmethod m2 2167624165920\n",
      "parent static method m3\n",
      "\n",
      "from child class static method we cant call parent class members using super().\n",
      "super(): no arguments\n",
      "super(): no arguments\n",
      "super(): no arguments\n",
      "super(): no arguments\n"
     ]
    }
   ],
   "source": [
    "class P:\n",
    "    def __init__(self):\n",
    "        print('parent constructor',id(self))\n",
    "    def m1(self):\n",
    "        print('parent instance method m1',id(self))\n",
    "    @classmethod\n",
    "    def m2(pls):\n",
    "        print('parent classmethod m2',id(pls))\n",
    "    @staticmethod\n",
    "    def m3():\n",
    "        print('parent static method m3')\n",
    "#------------------------------------------------\n",
    "class C(P):\n",
    "    def __init__(celf):\n",
    "        print('calling from constructor in child class',id(celf))\n",
    "        super().__init__()\n",
    "        super().m1()\n",
    "        super().m2()\n",
    "        super().m3()\n",
    "    def m1(celf):\n",
    "        print('calling from instance method in child class',id(celf))\n",
    "        super().__init__()\n",
    "        super().m1()\n",
    "        super().m2()\n",
    "        super().m3()\n",
    "    @classmethod\n",
    "    def m2(cls):\n",
    "        print('calling from class method in child class',id(cls))\n",
    "        #super().__init__()\n",
    "        #super().m1()\n",
    "        try:\n",
    "            super().__init__() #here __init__ will be treated as a static method. so it asks a argument.\n",
    "        except Exception as e:\n",
    "            print(e)\n",
    "        try:\n",
    "            super().m1() #here m1 will be treated as a static method. so it asks a argument.\n",
    "        except Exception as e:\n",
    "            print(e)\n",
    "        super().m2()\n",
    "        super().m3()\n",
    "    @staticmethod\n",
    "    def m3():\n",
    "        print('from child class static method we cant call parent class members using super().')\n",
    "        try:\n",
    "            super().__init__()\n",
    "        except Exception as e:\n",
    "            print(e)\n",
    "        try:\n",
    "            super().m1()\n",
    "        except Exception as e:\n",
    "            print(e)\n",
    "        try:\n",
    "            super().m2()\n",
    "        except Exception as e:\n",
    "            print(e)\n",
    "        try:\n",
    "            super().m3()\n",
    "        except Exception as e:\n",
    "            print(e)\n",
    "c=C()\n",
    "print()\n",
    "print(id(c),id(C))\n",
    "print()\n",
    "c.m1()\n",
    "print()\n",
    "C.m2()\n",
    "print()\n",
    "C.m3()"
   ]
  },
  {
   "cell_type": "code",
   "execution_count": 85,
   "id": "a3e0b04c",
   "metadata": {},
   "outputs": [
    {
     "name": "stdout",
     "output_type": "stream",
     "text": [
      "2167624183856\n",
      "2167624183856\n",
      "2167624183856\n",
      "parent class cons.\n",
      "2167624183856\n",
      "parent class instance method m1\n",
      "{'__module__': '__main__', 'm2': <classmethod object at 0x000001F8B15B19D0>, '__doc__': None, 'a': 1000, 'b': 2000}\n"
     ]
    }
   ],
   "source": [
    "#how to call parent class cons,inst method from child class class method\n",
    "class P:\n",
    "    def __init__(self):\n",
    "        print(id(self))\n",
    "        self.a=1000\n",
    "        print('parent class cons.')\n",
    "    def m1(self):\n",
    "        print(id(self))\n",
    "        self.b=2000\n",
    "        print('parent class instance method m1')\n",
    "class C(P):\n",
    "    @classmethod\n",
    "    def m2(cls):\n",
    "        print(id(cls))\n",
    "        super(C,cls).__init__(cls)\n",
    "        super(C,cls).m1(cls)\n",
    "print(id(C))\n",
    "C.m2()\n",
    "print(C.__dict__)"
   ]
  },
  {
   "cell_type": "code",
   "execution_count": 86,
   "id": "75926bb0",
   "metadata": {},
   "outputs": [
    {
     "name": "stdout",
     "output_type": "stream",
     "text": [
      "cons\n",
      "cons\n"
     ]
    },
    {
     "ename": "TypeError",
     "evalue": "__init__() missing 1 required positional argument: 'self'",
     "output_type": "error",
     "traceback": [
      "\u001b[1;31m---------------------------------------------------------------------------\u001b[0m",
      "\u001b[1;31mTypeError\u001b[0m                                 Traceback (most recent call last)",
      "\u001b[1;32m~\\AppData\\Local\\Temp/ipykernel_36300/3829500003.py\u001b[0m in \u001b[0;36m<module>\u001b[1;34m\u001b[0m\n\u001b[0;32m      4\u001b[0m \u001b[0mt\u001b[0m\u001b[1;33m=\u001b[0m\u001b[0mTst\u001b[0m\u001b[1;33m(\u001b[0m\u001b[1;33m)\u001b[0m\u001b[1;33m\u001b[0m\u001b[1;33m\u001b[0m\u001b[0m\n\u001b[0;32m      5\u001b[0m \u001b[0mt\u001b[0m\u001b[1;33m.\u001b[0m\u001b[0m__init__\u001b[0m\u001b[1;33m(\u001b[0m\u001b[1;33m)\u001b[0m\u001b[1;33m\u001b[0m\u001b[1;33m\u001b[0m\u001b[0m\n\u001b[1;32m----> 6\u001b[1;33m \u001b[0mTst\u001b[0m\u001b[1;33m.\u001b[0m\u001b[0m__init__\u001b[0m\u001b[1;33m(\u001b[0m\u001b[1;33m)\u001b[0m\u001b[1;33m\u001b[0m\u001b[1;33m\u001b[0m\u001b[0m\n\u001b[0m\u001b[0;32m      7\u001b[0m \u001b[1;31m#so constructor is also a type of instance method.\u001b[0m\u001b[1;33m\u001b[0m\u001b[1;33m\u001b[0m\u001b[1;33m\u001b[0m\u001b[0m\n",
      "\u001b[1;31mTypeError\u001b[0m: __init__() missing 1 required positional argument: 'self'"
     ]
    }
   ],
   "source": [
    "class Tst:\n",
    "    def __init__(self):\n",
    "        print('cons')\n",
    "t=Tst()\n",
    "t.__init__()\n",
    "Tst.__init__()\n",
    "#so constructor is also a type of instance method."
   ]
  },
  {
   "cell_type": "code",
   "execution_count": 88,
   "id": "b976343f",
   "metadata": {},
   "outputs": [
    {
     "name": "stdout",
     "output_type": "stream",
     "text": [
      "2167624195184\n",
      "2167624195184\n",
      "2167624195184\n",
      "parent class cons.\n",
      "2167624195184\n",
      "parent class instance method m1\n",
      "{'__module__': '__main__', 'm2': <classmethod object at 0x000001F8B177A910>, '__doc__': None, 'a': 1000, 'b': 2000}\n"
     ]
    }
   ],
   "source": [
    "class P:\n",
    "    def __init__(self):\n",
    "        print(id(self))\n",
    "        self.a=1000\n",
    "        print('parent class cons.')\n",
    "    def m1(self):\n",
    "        print(id(self))\n",
    "        self.b=2000\n",
    "        print('parent class instance method m1')\n",
    "class C(P):\n",
    "    @classmethod\n",
    "    def m2(cls):\n",
    "        print(id(cls))\n",
    "        super().__init__(cls) #instead of cls we can pass any argument we want since they are treated like static methods.\n",
    "        super().m1(cls)\n",
    "print(id(C))\n",
    "C.m2()\n",
    "print(C.__dict__)"
   ]
  },
  {
   "cell_type": "code",
   "execution_count": 95,
   "id": "0f5dd3d7",
   "metadata": {},
   "outputs": [
    {
     "name": "stdout",
     "output_type": "stream",
     "text": [
      "2167624187632\n",
      "parent class class method\n",
      "parent class static method\n",
      "2167624187632 2167624186688\n"
     ]
    }
   ],
   "source": [
    "class P:\n",
    "    @classmethod\n",
    "    def m2(cls):\n",
    "        print(id(cls))\n",
    "        print('parent class class method')\n",
    "    @staticmethod\n",
    "    def m3():\n",
    "        print('parent class static method')\n",
    "class C(P):\n",
    "    @staticmethod\n",
    "    def m4():\n",
    "        super(C,C).m2()\n",
    "        super(C,C).m3()\n",
    "C.m4()\n",
    "print(id(C),id(P))"
   ]
  },
  {
   "cell_type": "code",
   "execution_count": 98,
   "id": "bb5ce583",
   "metadata": {},
   "outputs": [
    {
     "name": "stdout",
     "output_type": "stream",
     "text": [
      "2167624205568\n",
      "parent class class method\n",
      "parent class static method\n",
      "2167624205568 2167624194240\n"
     ]
    }
   ],
   "source": [
    "class P:\n",
    "    @classmethod\n",
    "    def m2(cls):\n",
    "        print(id(cls))\n",
    "        print('parent class class method')\n",
    "    @staticmethod\n",
    "    def m3():\n",
    "        print('parent class static method')\n",
    "class C(P):\n",
    "    @staticmethod\n",
    "    def m4(p):\n",
    "        super(C,C).m2()\n",
    "        super(C,C).m3()\n",
    "\n",
    "C.m4(p)\n",
    "print(id(C),id(P))"
   ]
  },
  {
   "cell_type": "code",
   "execution_count": 4,
   "id": "57049a03",
   "metadata": {},
   "outputs": [
    {
     "name": "stdout",
     "output_type": "stream",
     "text": [
      "calling from child class constructor 2442627404704\n",
      "2442627404704 parent class constructor\n",
      "2442627404704 parent instance method m1\n",
      "2442615741312 parent class method m2\n",
      "parent static method m3\n",
      "\n",
      "calling from child class instance method 2442627404704\n",
      "2442627404704 parent class constructor\n",
      "2442627404704 parent instance method m1\n",
      "2442615741312 parent class method m2\n",
      "parent static method m3\n",
      "\n",
      "calling from child class class method 2442615741312\n",
      "2442615741312 parent class constructor\n",
      "2442615741312 parent instance method m1\n",
      "2442615741312 parent class method m2\n",
      "parent static method m3\n",
      "\n",
      "calling from child class static method\n",
      "2442615741312 parent class constructor\n",
      "2442615741312 parent instance method m1\n",
      "2442615741312 parent class method m2\n",
      "parent static method m3\n",
      "\n",
      "2442627404704 2442615741312\n"
     ]
    }
   ],
   "source": [
    "class P:\n",
    "    def __init__(pelf):\n",
    "        print(id(pelf),'parent class constructor')\n",
    "    def m1(pelf):\n",
    "        print(id(pelf),'parent instance method m1')\n",
    "    @classmethod\n",
    "    def m2(pls):\n",
    "        print(id(pls),'parent class method m2')\n",
    "    @staticmethod\n",
    "    def m3():\n",
    "        print('parent static method m3')\n",
    "class C(P):\n",
    "    def __init__(celf):\n",
    "        print('calling from child class constructor',id(celf))\n",
    "        super().__init__()\n",
    "        super().m1()\n",
    "        super().m2()\n",
    "        super().m3()\n",
    "    def m1(celf):\n",
    "        print('calling from child class instance method',id(celf))\n",
    "        super().__init__()\n",
    "        super().m1()\n",
    "        super().m2()\n",
    "        super().m3()\n",
    "    @classmethod\n",
    "    def m2(cls):\n",
    "        print('calling from child class class method',id(cls))\n",
    "        super(C,cls).__init__(cls)\n",
    "        super(C,cls).m1(cls)\n",
    "        super().m2()\n",
    "        super().m3()\n",
    "    @staticmethod\n",
    "    def m3():\n",
    "        print('calling from child class static method')\n",
    "        super(C,C).__init__(C)\n",
    "        super(C,C).m1(C)\n",
    "        super(C,C).m2()\n",
    "        super(C,C).m3()\n",
    "c=C()\n",
    "print()\n",
    "c.m1()\n",
    "print()\n",
    "C.m2()\n",
    "print()\n",
    "C.m3()\n",
    "print()\n",
    "print(id(c),id(C))"
   ]
  },
  {
   "cell_type": "markdown",
   "id": "cb47c007",
   "metadata": {},
   "source": [
    "POLYMORPHISM"
   ]
  },
  {
   "cell_type": "code",
   "execution_count": 6,
   "id": "6f9123f6",
   "metadata": {},
   "outputs": [
    {
     "name": "stdout",
     "output_type": "stream",
     "text": [
      "30\n",
      "vamsinallam\n"
     ]
    }
   ],
   "source": [
    "#operator overloading\n",
    "print(10+20)\n",
    "print('vamsi'+'nallam')"
   ]
  },
  {
   "cell_type": "code",
   "execution_count": null,
   "id": "dfc31b9a",
   "metadata": {},
   "outputs": [],
   "source": [
    "overloading-\n",
    "operator \n",
    "constructor\n",
    "method\n",
    "-----------------------------------------\n",
    "over riding"
   ]
  },
  {
   "cell_type": "code",
   "execution_count": 8,
   "id": "2af4d915",
   "metadata": {},
   "outputs": [
    {
     "data": {
      "text/plain": [
       "'vamsivamsi'"
      ]
     },
     "execution_count": 8,
     "metadata": {},
     "output_type": "execute_result"
    }
   ],
   "source": [
    "'vamsi'*2"
   ]
  },
  {
   "cell_type": "code",
   "execution_count": null,
   "id": "478961ba",
   "metadata": {},
   "outputs": [],
   "source": []
  },
  {
   "cell_type": "code",
   "execution_count": 8,
   "id": "abcf869e",
   "metadata": {},
   "outputs": [
    {
     "name": "stdout",
     "output_type": "stream",
     "text": [
      "physics\n"
     ]
    }
   ],
   "source": [
    "class P:\n",
    "    def sub(self):\n",
    "        print('chemistry')\n",
    "class C(P):\n",
    "    def sub(celf):\n",
    "        print('physics')\n",
    "c=C()\n",
    "c.sub()\n",
    "#method overriding"
   ]
  },
  {
   "cell_type": "code",
   "execution_count": 10,
   "id": "55c31a9e",
   "metadata": {},
   "outputs": [
    {
     "ename": "TypeError",
     "evalue": "unsupported operand type(s) for +: 'Book' and 'Book'",
     "output_type": "error",
     "traceback": [
      "\u001b[1;31m---------------------------------------------------------------------------\u001b[0m",
      "\u001b[1;31mTypeError\u001b[0m                                 Traceback (most recent call last)",
      "\u001b[1;32m~\\AppData\\Local\\Temp/ipykernel_16792/4126755019.py\u001b[0m in \u001b[0;36m<module>\u001b[1;34m\u001b[0m\n\u001b[0;32m      7\u001b[0m \u001b[0mb1\u001b[0m\u001b[1;33m=\u001b[0m\u001b[0mBook\u001b[0m\u001b[1;33m(\u001b[0m\u001b[1;36m100\u001b[0m\u001b[1;33m)\u001b[0m\u001b[1;33m\u001b[0m\u001b[1;33m\u001b[0m\u001b[0m\n\u001b[0;32m      8\u001b[0m \u001b[0mb2\u001b[0m\u001b[1;33m=\u001b[0m\u001b[0mBook\u001b[0m\u001b[1;33m(\u001b[0m\u001b[1;36m200\u001b[0m\u001b[1;33m)\u001b[0m\u001b[1;33m\u001b[0m\u001b[1;33m\u001b[0m\u001b[0m\n\u001b[1;32m----> 9\u001b[1;33m \u001b[0mprint\u001b[0m\u001b[1;33m(\u001b[0m\u001b[0mb1\u001b[0m\u001b[1;33m+\u001b[0m\u001b[0mb2\u001b[0m\u001b[1;33m)\u001b[0m\u001b[1;33m\u001b[0m\u001b[1;33m\u001b[0m\u001b[0m\n\u001b[0m",
      "\u001b[1;31mTypeError\u001b[0m: unsupported operand type(s) for +: 'Book' and 'Book'"
     ]
    }
   ],
   "source": [
    "#overloading\n",
    "#operator overloading \n",
    "# + operator we can use between any type of objects\n",
    "class Book:\n",
    "    def __init__(self,pages): \n",
    "        self.pages=pages\n",
    "b1=Book(100)\n",
    "b2=Book(200)\n",
    "print(b1+b2)"
   ]
  },
  {
   "cell_type": "code",
   "execution_count": 25,
   "id": "437f3d09",
   "metadata": {},
   "outputs": [
    {
     "name": "stdout",
     "output_type": "stream",
     "text": [
      "300\n",
      "500\n",
      "400\n"
     ]
    },
    {
     "ename": "TypeError",
     "evalue": "unsupported operand type(s) for +: 'int' and 'Book'",
     "output_type": "error",
     "traceback": [
      "\u001b[1;31m---------------------------------------------------------------------------\u001b[0m",
      "\u001b[1;31mTypeError\u001b[0m                                 Traceback (most recent call last)",
      "\u001b[1;32m~\\AppData\\Local\\Temp/ipykernel_16792/2895608590.py\u001b[0m in \u001b[0;36m<module>\u001b[1;34m\u001b[0m\n\u001b[0;32m     11\u001b[0m \u001b[0mprint\u001b[0m\u001b[1;33m(\u001b[0m\u001b[0mb2\u001b[0m\u001b[1;33m+\u001b[0m\u001b[0mb3\u001b[0m\u001b[1;33m)\u001b[0m\u001b[1;33m\u001b[0m\u001b[1;33m\u001b[0m\u001b[0m\n\u001b[0;32m     12\u001b[0m \u001b[0mprint\u001b[0m\u001b[1;33m(\u001b[0m\u001b[0mb3\u001b[0m\u001b[1;33m+\u001b[0m\u001b[0mb1\u001b[0m\u001b[1;33m)\u001b[0m\u001b[1;33m\u001b[0m\u001b[1;33m\u001b[0m\u001b[0m\n\u001b[1;32m---> 13\u001b[1;33m \u001b[0mprint\u001b[0m\u001b[1;33m(\u001b[0m\u001b[0mb1\u001b[0m\u001b[1;33m+\u001b[0m\u001b[0mb2\u001b[0m\u001b[1;33m+\u001b[0m\u001b[0mb3\u001b[0m\u001b[1;33m)\u001b[0m\u001b[1;33m\u001b[0m\u001b[1;33m\u001b[0m\u001b[0m\n\u001b[0m",
      "\u001b[1;31mTypeError\u001b[0m: unsupported operand type(s) for +: 'int' and 'Book'"
     ]
    }
   ],
   "source": [
    "class Book:\n",
    "    def __init__(self,pages):\n",
    "        self.pages=pages\n",
    "    def __add__(self1,self2):\n",
    "        totalpages=self1.pages+self2.pages\n",
    "        return totalpages\n",
    "b1=Book(100)\n",
    "b2=Book(200)\n",
    "b3=Book(300)\n",
    "print(b1+b2)\n",
    "print(b2+b3)\n",
    "print(b3+b1)\n",
    "print(b1+b2+b3)"
   ]
  },
  {
   "cell_type": "code",
   "execution_count": 62,
   "id": "ea29fa85",
   "metadata": {},
   "outputs": [
    {
     "name": "stdout",
     "output_type": "stream",
     "text": [
      "300\n",
      "500\n",
      "400\n",
      "600\n"
     ]
    }
   ],
   "source": [
    "class Book:\n",
    "    def __init__(self,pages):\n",
    "        self.pages=pages\n",
    "    def __add__(self1,self2):\n",
    "        totalpages=self1.pages+self2.pages\n",
    "        b=Book(totalpages)\n",
    "        return b\n",
    "b1=Book(100)\n",
    "b2=Book(200)\n",
    "b3=Book(300)\n",
    "#b=(b1+b2)\n",
    "#print(b.pages)\n",
    "print((b1+b2).pages)\n",
    "print((b2+b3).pages)\n",
    "print((b3+b1).pages)\n",
    "print((b1+b2+b3).pages)"
   ]
  },
  {
   "cell_type": "code",
   "execution_count": 29,
   "id": "03a6628a",
   "metadata": {},
   "outputs": [
    {
     "ename": "TypeError",
     "evalue": "__add__() missing 1 required positional argument: 'self3'",
     "output_type": "error",
     "traceback": [
      "\u001b[1;31m---------------------------------------------------------------------------\u001b[0m",
      "\u001b[1;31mTypeError\u001b[0m                                 Traceback (most recent call last)",
      "\u001b[1;32m~\\AppData\\Local\\Temp/ipykernel_16792/398546932.py\u001b[0m in \u001b[0;36m<module>\u001b[1;34m\u001b[0m\n\u001b[0;32m      9\u001b[0m \u001b[0mb3\u001b[0m\u001b[1;33m=\u001b[0m\u001b[0mBook\u001b[0m\u001b[1;33m(\u001b[0m\u001b[1;36m300\u001b[0m\u001b[1;33m)\u001b[0m\u001b[1;33m\u001b[0m\u001b[1;33m\u001b[0m\u001b[0m\n\u001b[0;32m     10\u001b[0m \u001b[1;33m\u001b[0m\u001b[0m\n\u001b[1;32m---> 11\u001b[1;33m \u001b[0mprint\u001b[0m\u001b[1;33m(\u001b[0m\u001b[0mb1\u001b[0m\u001b[1;33m+\u001b[0m\u001b[0mb2\u001b[0m\u001b[1;33m+\u001b[0m\u001b[0mb3\u001b[0m\u001b[1;33m)\u001b[0m\u001b[1;33m\u001b[0m\u001b[1;33m\u001b[0m\u001b[0m\n\u001b[0m\u001b[0;32m     12\u001b[0m \u001b[1;31m#we can have magic method with 2 args only\u001b[0m\u001b[1;33m\u001b[0m\u001b[1;33m\u001b[0m\u001b[1;33m\u001b[0m\u001b[0m\n",
      "\u001b[1;31mTypeError\u001b[0m: __add__() missing 1 required positional argument: 'self3'"
     ]
    }
   ],
   "source": [
    "class Book:\n",
    "    def __init__(self,pages):\n",
    "        self.pages=pages\n",
    "    def __add__(self1,self2,self3):\n",
    "        totalpages=self1.pages+self2.pages+self3.pages\n",
    "        return totalpages\n",
    "b1=Book(100)\n",
    "b2=Book(200)\n",
    "b3=Book(300)\n",
    "\n",
    "print(b1+b2+b3)\n",
    "#we can have magic method with 2 args only"
   ]
  },
  {
   "cell_type": "code",
   "execution_count": 36,
   "id": "c633b3e6",
   "metadata": {},
   "outputs": [
    {
     "name": "stdout",
     "output_type": "stream",
     "text": [
      "gt method\n",
      "False\n",
      "gt method\n",
      "True\n"
     ]
    }
   ],
   "source": [
    "class Student:\n",
    "    def __init__(self,name,marks):\n",
    "        self.name=name\n",
    "        self.marks=marks\n",
    "    def __gt__(self1,self2):\n",
    "        print('gt method')\n",
    "        return self1.marks>self2.marks\n",
    "s1=Student('vamsi',95)\n",
    "s2=Student('nallam',96)\n",
    "print(s1>s2)\n",
    "print(s1<s2)#internally python will reverse the functionality of __gt__ for lessthan operations"
   ]
  },
  {
   "cell_type": "code",
   "execution_count": 39,
   "id": "427d603d",
   "metadata": {},
   "outputs": [
    {
     "name": "stdout",
     "output_type": "stream",
     "text": [
      "False\n",
      "True\n",
      "True\n",
      "False\n"
     ]
    }
   ],
   "source": [
    "class Student:\n",
    "    def __init__(self,name,marks):\n",
    "        self.name=name\n",
    "        self.marks=marks\n",
    "    def __gt__(self1,self2):\n",
    "        return self1.marks>self2.marks\n",
    "    def __le__(self1,self2):\n",
    "        return self1.marks<=self2.marks\n",
    "s1=Student('vamsi',95)\n",
    "s2=Student('nallam',96)\n",
    "print(s1>s2)\n",
    "print(s1<s2)\n",
    "print(s1<=s2)\n",
    "print(s1>=s2)"
   ]
  },
  {
   "cell_type": "code",
   "execution_count": 43,
   "id": "faceff2c",
   "metadata": {},
   "outputs": [
    {
     "name": "stdout",
     "output_type": "stream",
     "text": [
      "This month salary: 110000\n",
      "This month salary: 110000\n"
     ]
    }
   ],
   "source": [
    "# * operator overloading\n",
    "class Employee:\n",
    "    def __init__(self,name,salPD):\n",
    "        self.name=name\n",
    "        self.salPD=salPD\n",
    "    def __mul__(self1,self2):\n",
    "        return self1.salPD * self2.workdays\n",
    "class Timesheet:\n",
    "    def __init__(self,name,workdays):\n",
    "        self.name=name\n",
    "        self.workdays=workdays\n",
    "    def __mul__(self1,self2):\n",
    "        return self2.salPD * self1.workdays\n",
    "e=Employee('vamsi',5000)\n",
    "t=Timesheet('vamsi',22)\n",
    "print('This month salary:',e*t) #pvm will check for magic method in 1st argument class - Employee class\n",
    "print('This month salary:',t*e) #pvm will check for magic method in 1st argument class - Timesheet class"
   ]
  },
  {
   "cell_type": "code",
   "execution_count": 45,
   "id": "7338c837",
   "metadata": {},
   "outputs": [
    {
     "name": "stdout",
     "output_type": "stream",
     "text": [
      "This month salary: 110000\n"
     ]
    }
   ],
   "source": [
    "class Employee:\n",
    "    def __init__(self,name,salPD):\n",
    "        self.name=name\n",
    "        self.salPD=salPD\n",
    "    def __mul__(self1,self2):\n",
    "        return self1.salPD * self2.workdays\n",
    "class Timesheet:\n",
    "    def __init__(self,name,workdays):\n",
    "        self.name=name\n",
    "        self.workdays=workdays\n",
    "e=Employee('vamsi',5000)\n",
    "t=Timesheet('vamsi',22)\n",
    "print('This month salary:',e*t) #pvm will check for magic method in 1st argument class - Employee class\n"
   ]
  },
  {
   "cell_type": "code",
   "execution_count": 47,
   "id": "d41df513",
   "metadata": {},
   "outputs": [
    {
     "name": "stdout",
     "output_type": "stream",
     "text": [
      "20000\n",
      "20000\n"
     ]
    }
   ],
   "source": [
    "class Student:\n",
    "    def __init__(self,no1):\n",
    "        self.no1=no1\n",
    "    def __mul__(self1,self2):\n",
    "        return self1.no1*self2.no1\n",
    "class Teacher(Student):\n",
    "    def __init__(self,no1):\n",
    "        self.no1=no1\n",
    "s=Student(100)\n",
    "t=Teacher(200)\n",
    "print(s*t)\n",
    "print(t*s)"
   ]
  },
  {
   "cell_type": "code",
   "execution_count": 48,
   "id": "2690b408",
   "metadata": {},
   "outputs": [
    {
     "name": "stdout",
     "output_type": "stream",
     "text": [
      "<__main__.Student object at 0x00000238B7FB6F70>\n"
     ]
    }
   ],
   "source": [
    "class Student:\n",
    "    pass\n",
    "s=Student()\n",
    "print(s)"
   ]
  },
  {
   "cell_type": "code",
   "execution_count": 5,
   "id": "f818d81f",
   "metadata": {},
   "outputs": [
    {
     "name": "stdout",
     "output_type": "stream",
     "text": [
      "This object contain data of Std classs\n",
      "This object contain data of Std classs\n"
     ]
    }
   ],
   "source": [
    "class Student:\n",
    "    def __init__(self,name,roll,marks):\n",
    "        self.name=name\n",
    "        self.roll=roll\n",
    "        self.marks=marks\n",
    "    def __str__(self):\n",
    "        #print('__str__ method')\n",
    "        return 'This object contain data of Std classs' \n",
    "\n",
    "s1=Student('vamsi',68,95)\n",
    "s2=Student('nallam',1228,97)\n",
    "print(s1)\n",
    "print(s2)"
   ]
  },
  {
   "cell_type": "code",
   "execution_count": 7,
   "id": "84a53910",
   "metadata": {},
   "outputs": [
    {
     "name": "stdout",
     "output_type": "stream",
     "text": [
      "68\n",
      "1228\n"
     ]
    }
   ],
   "source": [
    "class Student:\n",
    "    def __init__(self,name,roll,marks):\n",
    "        self.name=name\n",
    "        self.roll=roll\n",
    "        self.marks=marks\n",
    "    def __str__(self):\n",
    "        #print('__str__ method')\n",
    "        #return 'This object contain data of Mr.'+self.name\n",
    "        return str(self.roll)\n",
    "s1=Student('vamsi',68,95)\n",
    "s2=Student('nallam',1228,97)\n",
    "print(s1)\n",
    "print(s2)"
   ]
  },
  {
   "cell_type": "code",
   "execution_count": 60,
   "id": "904ebe0f",
   "metadata": {},
   "outputs": [
    {
     "name": "stdout",
     "output_type": "stream",
     "text": [
      "68\n",
      "1228\n"
     ]
    }
   ],
   "source": [
    "class Student:\n",
    "    def __init__(self,name,roll,marks):\n",
    "        self.name=name\n",
    "        self.roll=roll\n",
    "        self.marks=marks\n",
    "    def __str__(self):\n",
    "        #print('__str__ method')\n",
    "        #return 'This object contain data of Mr.'+self.name\n",
    "        return str(self.roll)\n",
    "s1=Student('vamsi',68,95)\n",
    "s2=Student('nallam',1228,97)\n",
    "print(s1)\n",
    "print(s2)"
   ]
  },
  {
   "cell_type": "code",
   "execution_count": 1,
   "id": "2d24edf7",
   "metadata": {},
   "outputs": [
    {
     "name": "stdout",
     "output_type": "stream",
     "text": [
      "add executing\n",
      "add executing\n",
      "600\n",
      "\n",
      "add executing\n",
      "add executing\n",
      "600\n",
      "\n",
      "add executing\n",
      "300\n",
      "\n",
      "add executing\n",
      "500\n",
      "\n",
      "add executing\n",
      "400\n",
      "\n",
      "add executing\n",
      "add executing\n",
      "mul executing\n",
      "210000\n",
      "\n",
      "mul executing\n",
      "add executing\n",
      "add executing\n",
      "60500\n"
     ]
    }
   ],
   "source": [
    "class Book:\n",
    "    def __init__(self,pages):\n",
    "        self.pages=pages\n",
    "    def __add__(self1,self2):\n",
    "        print('add executing')\n",
    "        return Book(self1.pages+self2.pages)\n",
    "    def __mul__(self1,self2):\n",
    "        print('mul executing')\n",
    "        return Book(self1.pages*self2.pages)\n",
    "    def __str__(self):\n",
    "        return str(self.pages)\n",
    "b1=Book(100)\n",
    "b2=Book(200)\n",
    "b3=Book(300)\n",
    "b4=Book(400)\n",
    "print((b1+b2+b3).pages)\n",
    "print()\n",
    "print(b1+b2+b3)\n",
    "print()\n",
    "print(b1+b2)\n",
    "print()\n",
    "print(b2+b3)\n",
    "print()\n",
    "print(b3+b1)\n",
    "print()\n",
    "print((b1+b2)*(b3+b4))\n",
    "print()\n",
    "print(b1+b2*b3+b4)"
   ]
  },
  {
   "cell_type": "code",
   "execution_count": 2,
   "id": "d9a15337",
   "metadata": {},
   "outputs": [],
   "source": [
    "# method overloading"
   ]
  },
  {
   "cell_type": "code",
   "execution_count": 2,
   "id": "e7006999",
   "metadata": {},
   "outputs": [
    {
     "name": "stdout",
     "output_type": "stream",
     "text": [
      "m1() missing 2 required positional arguments: 'x' and 'y'\n",
      "m1() missing 1 required positional argument: 'y'\n",
      "2 args method\n",
      "{'__module__': '__main__', 'm1': <function Test.m1 at 0x000001F3A253CB80>, '__dict__': <attribute '__dict__' of 'Test' objects>, '__weakref__': <attribute '__weakref__' of 'Test' objects>, '__doc__': None}\n"
     ]
    }
   ],
   "source": [
    "#python wont support method overloading.\n",
    "#methods with same name and different argument types or diff. no of args are called overloaded methods.\n",
    "class Test:\n",
    "    def m1(self):\n",
    "        print('0 args method')\n",
    "    def m1(self,x):\n",
    "        print('1 args method')\n",
    "    def m1(self,x,y):\n",
    "        print('2 args method')\n",
    "t=Test()\n",
    "try:\n",
    "    t.m1()\n",
    "except Exception as e:\n",
    "    print(e)\n",
    "try:\n",
    "    t.m1(10)\n",
    "except Exception as e:\n",
    "    print(e)\n",
    "t.m1(10,20)\n",
    "print(Test.__dict__)"
   ]
  },
  {
   "cell_type": "code",
   "execution_count": 8,
   "id": "4ae69269",
   "metadata": {},
   "outputs": [
    {
     "name": "stdout",
     "output_type": "stream",
     "text": [
      " 0 args method 2\n"
     ]
    }
   ],
   "source": [
    "class T:\n",
    "    def m1(a):\n",
    "        print('0 args method1')\n",
    "    def m1(a):\n",
    "        print(' 0 args method 2')\n",
    "t=T()\n",
    "t.m1()"
   ]
  },
  {
   "cell_type": "code",
   "execution_count": 9,
   "id": "82e9775d",
   "metadata": {},
   "outputs": [
    {
     "ename": "SyntaxError",
     "evalue": "duplicate argument 'a' in function definition (Temp/ipykernel_35420/2760034120.py, line 1)",
     "output_type": "error",
     "traceback": [
      "\u001b[1;36m  File \u001b[1;32m\"C:\\Users\\91868\\AppData\\Local\\Temp/ipykernel_35420/2760034120.py\"\u001b[1;36m, line \u001b[1;32m1\u001b[0m\n\u001b[1;33m    def t(a,a):\u001b[0m\n\u001b[1;37m    ^\u001b[0m\n\u001b[1;31mSyntaxError\u001b[0m\u001b[1;31m:\u001b[0m duplicate argument 'a' in function definition\n"
     ]
    }
   ],
   "source": [
    "def t(a,a):\n",
    "    pass"
   ]
  },
  {
   "cell_type": "code",
   "execution_count": 1,
   "id": "c8eb86dc",
   "metadata": {},
   "outputs": [],
   "source": [
    "x=10"
   ]
  },
  {
   "cell_type": "code",
   "execution_count": 3,
   "id": "7d6e5f23",
   "metadata": {},
   "outputs": [
    {
     "name": "stdout",
     "output_type": "stream",
     "text": [
      "<class 'int'>\n"
     ]
    }
   ],
   "source": [
    "print(type(x))"
   ]
  },
  {
   "cell_type": "code",
   "execution_count": 4,
   "id": "ab54e7e0",
   "metadata": {},
   "outputs": [
    {
     "data": {
      "text/plain": [
       "'int'"
      ]
     },
     "execution_count": 4,
     "metadata": {},
     "output_type": "execute_result"
    }
   ],
   "source": [
    "x.__class__.__name__"
   ]
  },
  {
   "cell_type": "code",
   "execution_count": 6,
   "id": "19c82770",
   "metadata": {},
   "outputs": [
    {
     "name": "stdout",
     "output_type": "stream",
     "text": [
      "int arg method\n",
      "str arg method\n"
     ]
    }
   ],
   "source": [
    "class Test:\n",
    "    def m1(self,a):\n",
    "        print('{} arg method'.format(a.__class__.__name__))\n",
    "t=Test()\n",
    "t.m1(10)\n",
    "t.m1('vamsi')"
   ]
  },
  {
   "cell_type": "code",
   "execution_count": 12,
   "id": "a0fbd0ac",
   "metadata": {},
   "outputs": [
    {
     "name": "stdout",
     "output_type": "stream",
     "text": [
      "<class 'int'>\n"
     ]
    }
   ],
   "source": [
    "a=10\n",
    "print(type(a))"
   ]
  },
  {
   "cell_type": "code",
   "execution_count": 13,
   "id": "9e54e936",
   "metadata": {},
   "outputs": [
    {
     "data": {
      "text/plain": [
       "True"
      ]
     },
     "execution_count": 13,
     "metadata": {},
     "output_type": "execute_result"
    }
   ],
   "source": [
    "a is not None"
   ]
  },
  {
   "cell_type": "code",
   "execution_count": 14,
   "id": "6419b49a",
   "metadata": {},
   "outputs": [
    {
     "data": {
      "text/plain": [
       "False"
      ]
     },
     "execution_count": 14,
     "metadata": {},
     "output_type": "execute_result"
    }
   ],
   "source": [
    "a is None"
   ]
  },
  {
   "cell_type": "code",
   "execution_count": 17,
   "id": "4da15cf5",
   "metadata": {},
   "outputs": [
    {
     "data": {
      "text/plain": [
       "True"
      ]
     },
     "execution_count": 17,
     "metadata": {},
     "output_type": "execute_result"
    }
   ],
   "source": [
    "a is not float"
   ]
  },
  {
   "cell_type": "code",
   "execution_count": 24,
   "id": "4dd4a082",
   "metadata": {},
   "outputs": [
    {
     "name": "stdout",
     "output_type": "stream",
     "text": [
      "0 args method\n",
      "1-args method\n",
      "2-args method\n",
      "3-args method\n"
     ]
    }
   ],
   "source": [
    "#in java we cn have methods with same name and diff no.of arguments ,\n",
    "# but in python we can achieve that within a single method\n",
    "#2 ways - by using default arguments , by using variable length arguments\n",
    "class Test:\n",
    "    def m1(self,a=None,b=None,c=None): #by using default arguments\n",
    "        if a is not None and b is not None and c is not None:\n",
    "            print('3-args method')\n",
    "        elif a is not None and b is not None:\n",
    "            print('2-args method')\n",
    "        elif a is not None:\n",
    "            print('1-args method')\n",
    "        else:\n",
    "            print('0 args method')\n",
    "t=Test()\n",
    "t.m1()\n",
    "t.m1(10)\n",
    "t.m1(10,'vamsi')\n",
    "t.m1(10.11,52,'nallam')"
   ]
  },
  {
   "cell_type": "code",
   "execution_count": 25,
   "id": "de4317a4",
   "metadata": {},
   "outputs": [
    {
     "name": "stdout",
     "output_type": "stream",
     "text": [
      "0 arg passed\n",
      "1 arg passed\n",
      "3 arg passed\n"
     ]
    }
   ],
   "source": [
    "class Test:\n",
    "    def m1(self,*args):\n",
    "        print('{} arg passed'.format(len(args)))\n",
    "t=Test()\n",
    "t.m1()\n",
    "t.m1(10)\n",
    "t.m1(10,'vamsi',30)"
   ]
  },
  {
   "cell_type": "code",
   "execution_count": 26,
   "id": "49d127e8",
   "metadata": {},
   "outputs": [],
   "source": [
    "#so in python method overloading concept is not required."
   ]
  },
  {
   "cell_type": "code",
   "execution_count": 27,
   "id": "d3b61372",
   "metadata": {},
   "outputs": [
    {
     "name": "stdout",
     "output_type": "stream",
     "text": [
      "__init__() missing 2 required positional arguments: 'x' and 'y'\n",
      "__init__() missing 1 required positional argument: 'y'\n",
      "2 args cons\n"
     ]
    }
   ],
   "source": [
    "#constructor overloading\n",
    "#python dont support for constructor overloading\n",
    "#if we declare multiple constructors , pvm will consider the last one only.\n",
    "class Test:\n",
    "    def __init__(self):\n",
    "        print('0 args cons')\n",
    "    def __init__(self,x):\n",
    "        print('1 args cons')\n",
    "    def __init__(self,x,y):\n",
    "        print('2 args cons')\n",
    "try:\n",
    "    t=Test()\n",
    "except Exception as e:\n",
    "    print(e)\n",
    "try:\n",
    "    t=Test(10)\n",
    "except Exception as e:\n",
    "    print(e)\n",
    "try:\n",
    "    t=Test(10,20)\n",
    "except Exception as e:\n",
    "    print(e)"
   ]
  },
  {
   "cell_type": "code",
   "execution_count": 28,
   "id": "bdc6064e",
   "metadata": {},
   "outputs": [
    {
     "name": "stdout",
     "output_type": "stream",
     "text": [
      "0 args cons\n",
      "1-args cons\n",
      "2-args cons\n",
      "3-args cons\n"
     ]
    }
   ],
   "source": [
    "#if we want to define constructor with variable no.of arguments - same as in methods\n",
    "#by using default arguments.\n",
    "class Test:\n",
    "    def __init__(self,a=None,b=None,c=None): #by using default arguments\n",
    "        if a is not None and b is not None and c is not None:\n",
    "            print('3-args cons')\n",
    "        elif a is not None and b is not None:\n",
    "            print('2-args cons')\n",
    "        elif a is not None:\n",
    "            print('1-args cons')\n",
    "        else:\n",
    "            print('0 args cons')\n",
    "t=Test()\n",
    "t=Test(10)\n",
    "t=Test(10,'vamsi')\n",
    "t=Test(10,20,30)"
   ]
  },
  {
   "cell_type": "code",
   "execution_count": 29,
   "id": "d79f6964",
   "metadata": {},
   "outputs": [
    {
     "name": "stdout",
     "output_type": "stream",
     "text": [
      "0 args passed\n",
      "6 args passed\n"
     ]
    }
   ],
   "source": [
    "#by using variable length arguments\n",
    "class Test:\n",
    "    def __init__(self,*args):\n",
    "        print('{} args passed'.format(len(args)))\n",
    "t=Test()\n",
    "t=Test(1,2,3,4,5,6)"
   ]
  },
  {
   "cell_type": "markdown",
   "id": "332e3f45",
   "metadata": {},
   "source": [
    "Overriding"
   ]
  },
  {
   "cell_type": "code",
   "execution_count": 10,
   "id": "378f00a4",
   "metadata": {},
   "outputs": [
    {
     "name": "stdout",
     "output_type": "stream",
     "text": [
      "Nallam\n",
      "child choose chesukunta\n"
     ]
    }
   ],
   "source": [
    "#if child class is not satisfied with parent class method implementation , we can redifine that method inside child class.\n",
    "#this process of redefining parent class methods in child class is called - Method overriding.\n",
    "class Parent:\n",
    "    def surname(self):\n",
    "        print('Nallam')\n",
    "    def study(self):\n",
    "        print('CSE choose chesko')\n",
    "class Child(Parent):\n",
    "    def study(self):\n",
    "        print('child choose chesukunta')\n",
    "c=Child()\n",
    "c.surname()\n",
    "c.study()"
   ]
  },
  {
   "cell_type": "code",
   "execution_count": 33,
   "id": "ca60eb74",
   "metadata": {},
   "outputs": [
    {
     "name": "stdout",
     "output_type": "stream",
     "text": [
      "Nallam\n",
      "CSE choose chesko\n",
      "ECE choose chesukunta\n"
     ]
    }
   ],
   "source": [
    "class Parent:\n",
    "    def surname(self):\n",
    "        print('Nallam')\n",
    "    def study(self):\n",
    "        print('CSE choose chesko')\n",
    "class Child(Parent):\n",
    "    def study(self):\n",
    "        super().study()\n",
    "        print('ECE choose chesukunta')\n",
    "c=Child()\n",
    "c.surname()\n",
    "c.study()"
   ]
  },
  {
   "cell_type": "code",
   "execution_count": 35,
   "id": "53201b75",
   "metadata": {},
   "outputs": [
    {
     "name": "stdout",
     "output_type": "stream",
     "text": [
      "parent class cons\n"
     ]
    }
   ],
   "source": [
    "'''constructor overriding - if child class is not satisfied with parent class constructor implementation , we can\n",
    "define constructor in child class and it will be executed.'''\n",
    "class P:\n",
    "    def __init__(self):\n",
    "        print('parent class cons')\n",
    "class C(P):\n",
    "    pass\n",
    "c=C()"
   ]
  },
  {
   "cell_type": "code",
   "execution_count": 10,
   "id": "8caad65e",
   "metadata": {},
   "outputs": [
    {
     "name": "stdout",
     "output_type": "stream",
     "text": [
      "child class cons\n"
     ]
    },
    {
     "data": {
      "text/plain": [
       "mappingproxy({'__module__': '__main__',\n",
       "              '__init__': <function __main__.C.__init__(self)>,\n",
       "              '__doc__': None})"
      ]
     },
     "execution_count": 10,
     "metadata": {},
     "output_type": "execute_result"
    }
   ],
   "source": [
    "class P:\n",
    "    def __init__(self):\n",
    "        print('parent class cons')\n",
    "class C(P):\n",
    "    def __init__(self):\n",
    "        print('child class cons')\n",
    "c=C()\n",
    "C.__dict__"
   ]
  },
  {
   "cell_type": "code",
   "execution_count": 38,
   "id": "15df4181",
   "metadata": {},
   "outputs": [
    {
     "name": "stdout",
     "output_type": "stream",
     "text": [
      "parent class cons\n",
      "child class cons\n"
     ]
    }
   ],
   "source": [
    "class P:\n",
    "    def __init__(self):\n",
    "        print('parent class cons')\n",
    "class C(P):\n",
    "    def __init__(self):\n",
    "        super().__init__()\n",
    "        print('child class cons')\n",
    "c=C()"
   ]
  },
  {
   "cell_type": "code",
   "execution_count": 40,
   "id": "19e1c64e",
   "metadata": {},
   "outputs": [
    {
     "name": "stdout",
     "output_type": "stream",
     "text": [
      "name is: vamsi\n",
      "age is: 21\n",
      "height is: 5.85\n",
      "weight is: 68\n",
      "eid is : 468\n",
      "esal is : 1800000\n"
     ]
    }
   ],
   "source": [
    "#good example on overriding\n",
    "class Person:\n",
    "    def __init__(self,name,age,height,weight):\n",
    "        self.name=name\n",
    "        self.age=age\n",
    "        self.height=height\n",
    "        self.weight=weight\n",
    "    def display(self):\n",
    "        print('name is:',self.name)\n",
    "        print('age is:',self.age)\n",
    "        print('height is:',self.height)\n",
    "        print('weight is:',self.weight)\n",
    "class Employee(Person):\n",
    "    def __init__(self,name,age,height,weight,eid,esal):\n",
    "        self.name=name\n",
    "        self.age=age\n",
    "        self.height=height\n",
    "        self.weight=weight\n",
    "        self.eid=eid\n",
    "        self.esal=esal\n",
    "    def display(self):\n",
    "        print('name is:',self.name)\n",
    "        print('age is:',self.age)\n",
    "        print('height is:',self.height)\n",
    "        print('weight is:',self.weight)\n",
    "        print('eid is :',self.eid)\n",
    "        print('esal is :',self.esal)\n",
    "e=Employee('vamsi',21,5.85,68,468,1800000)\n",
    "e.display()"
   ]
  },
  {
   "cell_type": "code",
   "execution_count": 41,
   "id": "f1a58cd3",
   "metadata": {},
   "outputs": [
    {
     "name": "stdout",
     "output_type": "stream",
     "text": [
      "name is: vamsi\n",
      "age is: 21\n",
      "height is: 5.85\n",
      "weight is: 68\n",
      "eid is : 468\n",
      "esal is : 1800000\n"
     ]
    }
   ],
   "source": [
    "class Person:\n",
    "    def __init__(self,name,age,height,weight):\n",
    "        self.name=name\n",
    "        self.age=age\n",
    "        self.height=height\n",
    "        self.weight=weight\n",
    "    def display(self):\n",
    "        print('name is:',self.name)\n",
    "        print('age is:',self.age)\n",
    "        print('height is:',self.height)\n",
    "        print('weight is:',self.weight)\n",
    "class Employee(Person):\n",
    "    def __init__(self,name,age,height,weight,eid,esal):\n",
    "        super().__init__(name,age,height,weight)\n",
    "        self.eid=eid\n",
    "        self.esal=esal\n",
    "    def display(self):\n",
    "        super().display()\n",
    "        print('eid is :',self.eid)\n",
    "        print('esal is :',self.esal)\n",
    "e=Employee('vamsi',21,5.85,68,468,1800000)\n",
    "e.display()"
   ]
  },
  {
   "cell_type": "markdown",
   "id": "abaca654",
   "metadata": {},
   "source": [
    "ABSTRACTION"
   ]
  },
  {
   "cell_type": "code",
   "execution_count": 1,
   "id": "8ee0516f",
   "metadata": {},
   "outputs": [],
   "source": [
    "#abstract method , abstract class , interface"
   ]
  },
  {
   "cell_type": "code",
   "execution_count": 2,
   "id": "4d8a52f4",
   "metadata": {},
   "outputs": [],
   "source": [
    "#abstract method - only declaration no implementation , implementation in child class.\n",
    "from abc import abstractmethod\n",
    "class Test:\n",
    "    @abstractmethod\n",
    "    def test1(self):\n",
    "        pass"
   ]
  },
  {
   "cell_type": "code",
   "execution_count": 19,
   "id": "be6ad45d",
   "metadata": {},
   "outputs": [
    {
     "name": "stdout",
     "output_type": "stream",
     "text": [
      "6\n",
      "3\n"
     ]
    }
   ],
   "source": [
    "#abstractclass - partially implemented , if classs contain any abstract methods it is also abstract class.\n",
    "#abstract class object creation not possible.\n",
    "#every abstract class in python is child class of ABC class, ABC- Abstract Base Class , present in abc module.\n",
    "from abc import ABC , abstractmethod\n",
    "class Vehicle(ABC):\n",
    "    @abstractmethod\n",
    "    def getnooftyres(self):\n",
    "        pass\n",
    "class Bus(Vehicle): #concrete class becoz it provided implementation for parent abstract method and it is fully implemented\n",
    "    def getnooftyres(self):\n",
    "        return 6\n",
    "class Auto(Vehicle):#concrete class\n",
    "    def getnooftyres(self):\n",
    "        return 3\n",
    "b=Bus()\n",
    "print(b.getnooftyres())\n",
    "a=Auto()\n",
    "print(a.getnooftyres())"
   ]
  },
  {
   "cell_type": "code",
   "execution_count": 20,
   "id": "6ff1e990",
   "metadata": {},
   "outputs": [
    {
     "ename": "TypeError",
     "evalue": "Can't instantiate abstract class Bus with abstract methods getnooftyres",
     "output_type": "error",
     "traceback": [
      "\u001b[1;31m---------------------------------------------------------------------------\u001b[0m",
      "\u001b[1;31mTypeError\u001b[0m                                 Traceback (most recent call last)",
      "\u001b[1;32m~\\AppData\\Local\\Temp/ipykernel_4616/671762938.py\u001b[0m in \u001b[0;36m<module>\u001b[1;34m\u001b[0m\n\u001b[0;32m      6\u001b[0m \u001b[1;32mclass\u001b[0m \u001b[0mBus\u001b[0m\u001b[1;33m(\u001b[0m\u001b[0mVehicle\u001b[0m\u001b[1;33m)\u001b[0m\u001b[1;33m:\u001b[0m\u001b[1;33m\u001b[0m\u001b[1;33m\u001b[0m\u001b[0m\n\u001b[0;32m      7\u001b[0m     \u001b[1;32mpass\u001b[0m\u001b[1;33m\u001b[0m\u001b[1;33m\u001b[0m\u001b[0m\n\u001b[1;32m----> 8\u001b[1;33m \u001b[0mb\u001b[0m\u001b[1;33m=\u001b[0m\u001b[0mBus\u001b[0m\u001b[1;33m(\u001b[0m\u001b[1;33m)\u001b[0m\u001b[1;33m\u001b[0m\u001b[1;33m\u001b[0m\u001b[0m\n\u001b[0m",
      "\u001b[1;31mTypeError\u001b[0m: Can't instantiate abstract class Bus with abstract methods getnooftyres"
     ]
    }
   ],
   "source": [
    "from abc import ABC , abstractmethod\n",
    "class Vehicle(ABC):\n",
    "    @abstractmethod\n",
    "    def getnooftyres(self):\n",
    "        pass\n",
    "class Bus(Vehicle):\n",
    "    pass\n",
    "b=Bus()"
   ]
  },
  {
   "cell_type": "code",
   "execution_count": 21,
   "id": "f4924196",
   "metadata": {},
   "outputs": [],
   "source": [
    "import abc\n",
    "class Test:\n",
    "    @abstractmethod\n",
    "    def m1(self):\n",
    "        pass\n",
    "t=Test()\n"
   ]
  },
  {
   "cell_type": "code",
   "execution_count": 22,
   "id": "cb6831b8",
   "metadata": {},
   "outputs": [
    {
     "ename": "TypeError",
     "evalue": "Can't instantiate abstract class Test with abstract methods m1",
     "output_type": "error",
     "traceback": [
      "\u001b[1;31m---------------------------------------------------------------------------\u001b[0m",
      "\u001b[1;31mTypeError\u001b[0m                                 Traceback (most recent call last)",
      "\u001b[1;32m~\\AppData\\Local\\Temp/ipykernel_4616/3002430830.py\u001b[0m in \u001b[0;36m<module>\u001b[1;34m\u001b[0m\n\u001b[0;32m      4\u001b[0m     \u001b[1;32mdef\u001b[0m \u001b[0mm1\u001b[0m\u001b[1;33m(\u001b[0m\u001b[0mself\u001b[0m\u001b[1;33m)\u001b[0m\u001b[1;33m:\u001b[0m\u001b[1;33m\u001b[0m\u001b[1;33m\u001b[0m\u001b[0m\n\u001b[0;32m      5\u001b[0m         \u001b[1;32mpass\u001b[0m\u001b[1;33m\u001b[0m\u001b[1;33m\u001b[0m\u001b[0m\n\u001b[1;32m----> 6\u001b[1;33m \u001b[0mt\u001b[0m\u001b[1;33m=\u001b[0m\u001b[0mTest\u001b[0m\u001b[1;33m(\u001b[0m\u001b[1;33m)\u001b[0m\u001b[1;33m\u001b[0m\u001b[1;33m\u001b[0m\u001b[0m\n\u001b[0m",
      "\u001b[1;31mTypeError\u001b[0m: Can't instantiate abstract class Test with abstract methods m1"
     ]
    }
   ],
   "source": [
    "import abc\n",
    "class Test(ABC):\n",
    "    @abstractmethod\n",
    "    def m1(self):\n",
    "        pass\n",
    "t=Test()"
   ]
  },
  {
   "cell_type": "code",
   "execution_count": 23,
   "id": "a9aec0ad",
   "metadata": {},
   "outputs": [],
   "source": [
    "import abc\n",
    "class Test(ABC):\n",
    "    \n",
    "    def m1(self):\n",
    "        pass\n",
    "t=Test()"
   ]
  },
  {
   "cell_type": "code",
   "execution_count": 25,
   "id": "89eef2e3",
   "metadata": {},
   "outputs": [
    {
     "data": {
      "text/plain": [
       "'if we are creating a child class for a abstract class , we have to implement every abstract method present in\\nparent class in child class , otherwise since the child class is already abstract and now we are not implementing \\nabstract methods the child class also contain abstract methods so object creation not possible.'"
      ]
     },
     "execution_count": 25,
     "metadata": {},
     "output_type": "execute_result"
    }
   ],
   "source": [
    "'''if we are creating a child class for a abstract class , we have to implement every abstract method present in\n",
    "parent class in child class , otherwise since the child class is already abstract and now we are not implementing \n",
    "abstract methods the child class also contain abstract methods so object creation not possible.'''"
   ]
  },
  {
   "cell_type": "code",
   "execution_count": 26,
   "id": "58cfad38",
   "metadata": {},
   "outputs": [
    {
     "ename": "TypeError",
     "evalue": "Can't instantiate abstract class Sub with abstract methods m1",
     "output_type": "error",
     "traceback": [
      "\u001b[1;31m---------------------------------------------------------------------------\u001b[0m",
      "\u001b[1;31mTypeError\u001b[0m                                 Traceback (most recent call last)",
      "\u001b[1;32m~\\AppData\\Local\\Temp/ipykernel_4616/1216388373.py\u001b[0m in \u001b[0;36m<module>\u001b[1;34m\u001b[0m\n\u001b[0;32m      6\u001b[0m \u001b[1;32mclass\u001b[0m \u001b[0mSub\u001b[0m\u001b[1;33m(\u001b[0m\u001b[0mTest\u001b[0m\u001b[1;33m)\u001b[0m\u001b[1;33m:\u001b[0m\u001b[1;33m\u001b[0m\u001b[1;33m\u001b[0m\u001b[0m\n\u001b[0;32m      7\u001b[0m     \u001b[1;32mpass\u001b[0m\u001b[1;33m\u001b[0m\u001b[1;33m\u001b[0m\u001b[0m\n\u001b[1;32m----> 8\u001b[1;33m \u001b[0ms\u001b[0m\u001b[1;33m=\u001b[0m\u001b[0mSub\u001b[0m\u001b[1;33m(\u001b[0m\u001b[1;33m)\u001b[0m\u001b[1;33m\u001b[0m\u001b[1;33m\u001b[0m\u001b[0m\n\u001b[0m",
      "\u001b[1;31mTypeError\u001b[0m: Can't instantiate abstract class Sub with abstract methods m1"
     ]
    }
   ],
   "source": [
    "import abc\n",
    "class Test(ABC):\n",
    "    @abstractmethod\n",
    "    def m1(self):\n",
    "        pass\n",
    "class Sub(Test):\n",
    "    pass\n",
    "s=Sub()"
   ]
  },
  {
   "cell_type": "code",
   "execution_count": 28,
   "id": "a1577a4a",
   "metadata": {},
   "outputs": [
    {
     "name": "stdout",
     "output_type": "stream",
     "text": [
      "child class m1 method\n"
     ]
    }
   ],
   "source": [
    "class P:\n",
    "    @classmethod\n",
    "    def m1(self):\n",
    "        print('parent m1 method')\n",
    "class C(P):\n",
    "    \n",
    "    def m1(self):\n",
    "        print('child class m1 method')\n",
    "c=C()\n",
    "c.m1()"
   ]
  },
  {
   "cell_type": "code",
   "execution_count": 33,
   "id": "d9183236",
   "metadata": {},
   "outputs": [],
   "source": [
    "import abc\n",
    "class Test:\n",
    "    @abstractmethod\n",
    "    def m1(self):\n",
    "        pass\n",
    "class Sub(Test):\n",
    "    pass\n",
    "s=Sub()\n",
    "s.m1()"
   ]
  },
  {
   "cell_type": "code",
   "execution_count": 34,
   "id": "91955b1c",
   "metadata": {},
   "outputs": [
    {
     "name": "stdout",
     "output_type": "stream",
     "text": [
      "m1\n"
     ]
    }
   ],
   "source": [
    "import abc\n",
    "class Test:\n",
    "    @abstractmethod\n",
    "    def m1(self):\n",
    "        pass\n",
    "class Sub(Test):\n",
    "    def m1(self):\n",
    "        print('m1')\n",
    "s=Sub()\n",
    "s.m1()"
   ]
  },
  {
   "cell_type": "code",
   "execution_count": 39,
   "id": "7de88b1e",
   "metadata": {},
   "outputs": [
    {
     "ename": "TypeError",
     "evalue": "Can't instantiate abstract class Sub with abstract methods m2",
     "output_type": "error",
     "traceback": [
      "\u001b[1;31m---------------------------------------------------------------------------\u001b[0m",
      "\u001b[1;31mTypeError\u001b[0m                                 Traceback (most recent call last)",
      "\u001b[1;32m~\\AppData\\Local\\Temp/ipykernel_4616/784375074.py\u001b[0m in \u001b[0;36m<module>\u001b[1;34m\u001b[0m\n\u001b[0;32m     10\u001b[0m     \u001b[1;32mdef\u001b[0m \u001b[0mm1\u001b[0m\u001b[1;33m(\u001b[0m\u001b[0mcelf\u001b[0m\u001b[1;33m)\u001b[0m\u001b[1;33m:\u001b[0m\u001b[1;33m\u001b[0m\u001b[1;33m\u001b[0m\u001b[0m\n\u001b[0;32m     11\u001b[0m         \u001b[0mprint\u001b[0m\u001b[1;33m(\u001b[0m\u001b[1;34m'm1 child'\u001b[0m\u001b[1;33m)\u001b[0m\u001b[1;33m\u001b[0m\u001b[1;33m\u001b[0m\u001b[0m\n\u001b[1;32m---> 12\u001b[1;33m \u001b[0ms\u001b[0m\u001b[1;33m=\u001b[0m\u001b[0mSub\u001b[0m\u001b[1;33m(\u001b[0m\u001b[1;33m)\u001b[0m\u001b[1;33m\u001b[0m\u001b[1;33m\u001b[0m\u001b[0m\n\u001b[0m",
      "\u001b[1;31mTypeError\u001b[0m: Can't instantiate abstract class Sub with abstract methods m2"
     ]
    }
   ],
   "source": [
    "import abc\n",
    "class Test(ABC):\n",
    "    @abstractmethod\n",
    "    def m1(self):\n",
    "        pass\n",
    "    @abstractmethod\n",
    "    def m2(self):\n",
    "        pass\n",
    "class Sub(Test):\n",
    "    def m1(celf):\n",
    "        print('m1 child')\n",
    "s=Sub()"
   ]
  },
  {
   "cell_type": "code",
   "execution_count": 41,
   "id": "18a5203b",
   "metadata": {},
   "outputs": [
    {
     "name": "stdout",
     "output_type": "stream",
     "text": [
      "m1 child\n",
      "m2 child\n"
     ]
    }
   ],
   "source": [
    "import abc\n",
    "class Test(ABC):\n",
    "    @abstractmethod\n",
    "    def m1(self):\n",
    "        pass\n",
    "    @abstractmethod\n",
    "    def m2(self):\n",
    "        pass\n",
    "class Sub(Test):\n",
    "    def m1(celf):\n",
    "        print('m1 child')\n",
    "    def m2(self):\n",
    "        print('m2 child')\n",
    "s=Sub()\n",
    "s.m1()\n",
    "s.m2()"
   ]
  },
  {
   "cell_type": "code",
   "execution_count": 43,
   "id": "54a906bf",
   "metadata": {},
   "outputs": [],
   "source": [
    "class Test(ABC):\n",
    "    @abstractmethod\n",
    "    def m1(self):\n",
    "        print('m1')"
   ]
  },
  {
   "cell_type": "code",
   "execution_count": 44,
   "id": "ba21f74b",
   "metadata": {},
   "outputs": [
    {
     "name": "stdout",
     "output_type": "stream",
     "text": [
      "m1 method implementation\n",
      "m2 method implementation\n",
      "m3 method implementation\n",
      "m3 method implementation\n"
     ]
    }
   ],
   "source": [
    "#INTERFACE - officialyy python has no interface concept , but we can implement it using abstract class.\n",
    "#abstract class- contains both normal and abstract methods.\n",
    "#interface - contains only abstract methods, it is a - service requirement specification.\n",
    "import abc\n",
    "class Test(ABC):\n",
    "    @abstractmethod\n",
    "    def m1(Self):\n",
    "        pass\n",
    "    @abstractmethod\n",
    "    def m2(Self):\n",
    "        pass\n",
    "    @abstractmethod\n",
    "    def m3(Self):\n",
    "        pass\n",
    "    @abstractmethod\n",
    "    def m4(Self):\n",
    "        pass\n",
    "class Sub(Test):\n",
    "    def m1(self):\n",
    "        print('m1 method implementation')\n",
    "    def m2(self):\n",
    "        print('m2 method implementation')\n",
    "    def m3(self):\n",
    "        print('m3 method implementation')\n",
    "    def m4(self):\n",
    "        print('m4 method implementation')\n",
    "s=Sub()\n",
    "s.m1()\n",
    "s.m2()\n",
    "s.m3()\n",
    "s.m3()"
   ]
  },
  {
   "cell_type": "code",
   "execution_count": 46,
   "id": "55fd52de",
   "metadata": {},
   "outputs": [
    {
     "name": "stdout",
     "output_type": "stream",
     "text": [
      "public m1 method\n",
      "100\n",
      "public m1 method\n",
      "100\n"
     ]
    }
   ],
   "source": [
    "#access specifiers - public , private , protected\n",
    "#public - if a member is public it can be accessed from either within the class or outside of the class.\n",
    "#by default all members in python class is public.\n",
    "class Test:\n",
    "    def __init__(self):\n",
    "        self.x=100 #public variable\n",
    "    def m1(self): #public method\n",
    "        print('public m1 method')\n",
    "    def m2(self): #public method\n",
    "        self.m1()\n",
    "        print(self.x)\n",
    "t=Test()\n",
    "t.m1()\n",
    "print(t.x)\n",
    "t.m2()"
   ]
  },
  {
   "cell_type": "code",
   "execution_count": 54,
   "id": "18b69a71",
   "metadata": {},
   "outputs": [
    {
     "name": "stdout",
     "output_type": "stream",
     "text": [
      "private method m1\n",
      "100\n",
      "100\n",
      "private method m1\n",
      "{'_Test__x': 100}\n",
      "{'__module__': '__main__', '__init__': <function Test.__init__ at 0x00000246365DBDC0>, '_Test__m1': <function Test.__m1 at 0x00000246365DB9D0>, 'm2': <function Test.m2 at 0x00000246365FEAF0>, '__dict__': <attribute '__dict__' of 'Test' objects>, '__weakref__': <attribute '__weakref__' of 'Test' objects>, '__doc__': None}\n"
     ]
    }
   ],
   "source": [
    "#private - if a member is explicitly declared as private , it can only be accesed with in class, but not outside class.\n",
    "#we can declare a member as private by prefexing it with 2 underscores , __\n",
    "class Test:\n",
    "    def __init__(self):\n",
    "        self.__x=100 #private variable\n",
    "    def __m1(self):\n",
    "        print('private method m1')\n",
    "    def m2(self):\n",
    "        #we can private members inside of class\n",
    "        self.__m1()\n",
    "        print(self.__x)\n",
    "t=Test()\n",
    "t.m2()\n",
    "#t.__m1() -> AttributeError: 'Test' object has no attribute '__m1'\n",
    "#print(t.__x)# -> AttributeError: 'Test' object has no attribute '__x'\n",
    "#in python internally name mangling - name of private variables will be changed-> _classname__varname.\n",
    "print(t._Test__x)\n",
    "t._Test__m1()\n",
    "print(t.__dict__)\n",
    "print(Test.__dict__)"
   ]
  },
  {
   "cell_type": "code",
   "execution_count": 56,
   "id": "ea7d3c2e",
   "metadata": {},
   "outputs": [
    {
     "name": "stdout",
     "output_type": "stream",
     "text": [
      "100\n",
      "100\n",
      "100\n"
     ]
    }
   ],
   "source": [
    "# protected members - we can access them within the class from anywhere and outside the class only from child classes.\n",
    "#we can declare a member as protected by prefixing it with single underscore '_'\n",
    "class Test:\n",
    "    def __init__(self):\n",
    "        self._x=100 #protected variable\n",
    "    def m1(self):\n",
    "        print(self._x)\n",
    "class Subtest(Test):\n",
    "    def m2(self):\n",
    "        print(self._x)\n",
    "s=Subtest()\n",
    "s.m1()\n",
    "s.m2()\n",
    "print(s._x)"
   ]
  },
  {
   "cell_type": "code",
   "execution_count": null,
   "id": "3204b712",
   "metadata": {},
   "outputs": [],
   "source": []
  }
 ],
 "metadata": {
  "kernelspec": {
   "display_name": "Python 3 (ipykernel)",
   "language": "python",
   "name": "python3"
  },
  "language_info": {
   "codemirror_mode": {
    "name": "ipython",
    "version": 3
   },
   "file_extension": ".py",
   "mimetype": "text/x-python",
   "name": "python",
   "nbconvert_exporter": "python",
   "pygments_lexer": "ipython3",
   "version": "3.8.11"
  }
 },
 "nbformat": 4,
 "nbformat_minor": 5
}
