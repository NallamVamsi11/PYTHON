{
 "cells": [
  {
   "cell_type": "code",
   "execution_count": 1,
   "id": "1a6ac1b0",
   "metadata": {},
   "outputs": [],
   "source": [
    "#for printing patterns."
   ]
  },
  {
   "cell_type": "markdown",
   "id": "0a73bc77",
   "metadata": {},
   "source": [
    "1st pattern."
   ]
  },
  {
   "cell_type": "code",
   "execution_count": 1,
   "id": "240d6851",
   "metadata": {},
   "outputs": [
    {
     "name": "stdout",
     "output_type": "stream",
     "text": [
      "enter the no.of rows u need:- 7\n",
      "do u want to use code no. 1 or 2:- 1\n",
      "using code no1\n",
      "* \n",
      "* * \n",
      "* * * \n",
      "* * * * \n",
      "* * * * * \n",
      "* * * * * * \n",
      "* * * * * * * \n"
     ]
    }
   ],
   "source": [
    "n=int(input(\"enter the no.of rows u need:- \"))\n",
    "code=int(input(\"do u want to use code no. 1 or 2:- \"))\n",
    "if code==1:\n",
    "    print(\"using code no1\")\n",
    "    for i in range(0,n):\n",
    "        for j in range(0,i+1):\n",
    "            print(\"*\",end=\" \")\n",
    "        print(\"\\r\")\n",
    "else:\n",
    "    print(\"using code no2\")\n",
    "    for i in range(0,n):\n",
    "        print(\"* \"*(i+1))"
   ]
  },
  {
   "cell_type": "markdown",
   "id": "b9b706af",
   "metadata": {},
   "source": [
    "2nd pattern"
   ]
  },
  {
   "cell_type": "code",
   "execution_count": 14,
   "id": "e1f6a892",
   "metadata": {},
   "outputs": [
    {
     "name": "stdout",
     "output_type": "stream",
     "text": [
      "enter the no.of rows u need:- 5\n",
      "do u want to use code no. 1 or 2:1\n",
      "using code 1\n",
      "* * * * * \n",
      "* * * * \n",
      "* * * \n",
      "* * \n",
      "* \n"
     ]
    }
   ],
   "source": [
    "n=int(input(\"enter the no.of rows u need:- \"))\n",
    "code=int(input(\"do u want to use code no. 1 or 2:\"))\n",
    "if code ==1:\n",
    "    print(\"using code 1\")\n",
    "    for i in range(0,n):\n",
    "        for j in range(0,n-i):\n",
    "            print(\"*\",end=\" \")\n",
    "        print(\"\\r\")\n",
    "else :\n",
    "    print(\"using code 2\")\n",
    "    for i in range(0,n):\n",
    "        print(\"* \"*(n-i))"
   ]
  },
  {
   "cell_type": "markdown",
   "id": "b1d4e883",
   "metadata": {},
   "source": [
    "3rd pattern"
   ]
  },
  {
   "cell_type": "code",
   "execution_count": 4,
   "id": "63de9544",
   "metadata": {},
   "outputs": [
    {
     "name": "stdout",
     "output_type": "stream",
     "text": [
      "enter the no.of rows u need:- 5\n",
      "enter the code no. 1 or 2:- 2\n",
      "         * \n",
      "       * * \n",
      "     * * * \n",
      "   * * * * \n",
      " * * * * * \n"
     ]
    }
   ],
   "source": [
    "n = int(input(\"enter the no.of rows u need:- \"))\n",
    "code = int(input(\"enter the code no. 1 or 2:- \"))\n",
    "if code==1:\n",
    "    for i in range(0,n):\n",
    "        for j in range(n-i-1,0,-1):\n",
    "            print(\"  \",end=\"\") #if we dont need space btwn stars- print(\" \",end=\"\")\n",
    "        for k in range(0,i+1):\n",
    "            print(\" *\",end=\"\")\n",
    "        print(\"\\r\")\n",
    "elif code==2:\n",
    "    for i in range(0,n):\n",
    "        for j in range(2*n-i-1,n-i-1,-1):\n",
    "            print(\" \"*(j-i-1),\"* \"*(i+1))\n",
    "            break\n",
    "else:\n",
    "    for i in range(0,n):\n",
    "        print(\"  \"*(n-i-1),\"* \"*(i+1))"
   ]
  },
  {
   "cell_type": "markdown",
   "id": "fb3036bb",
   "metadata": {},
   "source": [
    "4th pattern"
   ]
  },
  {
   "cell_type": "code",
   "execution_count": 17,
   "id": "94880318",
   "metadata": {},
   "outputs": [
    {
     "name": "stdout",
     "output_type": "stream",
     "text": [
      "enter the no.of rows u need:- 5\n",
      "enter which codeno. 1 or 2:- 1\n",
      "* * * * * \n",
      "  * * * * \n",
      "    * * * \n",
      "      * * \n",
      "        * \n"
     ]
    }
   ],
   "source": [
    "n=int(input(\"enter the no.of rows u need:- \"))\n",
    "code=int(input(\"enter which codeno. 1 or 2:- \"))\n",
    "if code==1:\n",
    "    for i in range(0,n):\n",
    "        for j in range(0,i):\n",
    "            print(\"  \",end=\"\")\n",
    "        for k in range(n-i,0,-1):\n",
    "            print(\"* \",end=\"\")\n",
    "        print(\"\\r\")\n",
    "else:\n",
    "    for i in range(0,n):\n",
    "         print(\"  \"*i,\"* \"*(n-i))"
   ]
  },
  {
   "cell_type": "markdown",
   "id": "7eb3d108",
   "metadata": {},
   "source": [
    "5th pattern"
   ]
  },
  {
   "cell_type": "code",
   "execution_count": 5,
   "id": "e65a1ee8",
   "metadata": {},
   "outputs": [
    {
     "name": "stdout",
     "output_type": "stream",
     "text": [
      "enter no.of rows u need:- 5\n",
      "     * \n",
      "    * * \n",
      "   * * * \n",
      "  * * * * \n",
      " * * * * * \n"
     ]
    }
   ],
   "source": [
    "n=int(input(\"enter no.of rows u need:- \"))\n",
    "for i in range(0,n):\n",
    "    print(\" \"*(n-i-1),\"* \"*(i+1))"
   ]
  },
  {
   "cell_type": "markdown",
   "id": "dea08a3c",
   "metadata": {},
   "source": [
    "6th pattern"
   ]
  },
  {
   "cell_type": "code",
   "execution_count": 6,
   "id": "42097529",
   "metadata": {},
   "outputs": [
    {
     "name": "stdout",
     "output_type": "stream",
     "text": [
      "enter the no.of rows u need:- 5\n",
      " * * * * * \n",
      "  * * * * \n",
      "   * * * \n",
      "    * * \n",
      "     * \n"
     ]
    }
   ],
   "source": [
    "n=int(input(\"enter the no.of rows u need:- \"))\n",
    "for i in range(0,n):\n",
    "    print(\" \"*i,\"* \"*(n-i))"
   ]
  },
  {
   "cell_type": "markdown",
   "id": "3a1bc624",
   "metadata": {},
   "source": [
    "7th pattern"
   ]
  },
  {
   "cell_type": "code",
   "execution_count": 2,
   "id": "5f09c7d3",
   "metadata": {},
   "outputs": [
    {
     "name": "stdout",
     "output_type": "stream",
     "text": [
      "enter the no.of rows u want:- 5\n",
      "u want space or not enter 1 0r 2: 2\n",
      "     *\n",
      "    ***\n",
      "   *****\n",
      "  *******\n",
      " *********\n"
     ]
    }
   ],
   "source": [
    "n = int(input(\"enter the no.of rows u want:- \"))\n",
    "code=int(input(\"u want space or not enter 1 0r 2: \"))\n",
    "if code==1:\n",
    "    for i in range(0,n):\n",
    "        print(\"  \"*(n-i-1),\"* \"*(2*i+1))\n",
    "else:\n",
    "    for i in range(0,n):\n",
    "        print(\" \"*(n-i-1),\"*\"*(2*i+1))"
   ]
  },
  {
   "cell_type": "markdown",
   "id": "ebced3c3",
   "metadata": {},
   "source": [
    "8th pattern"
   ]
  },
  {
   "cell_type": "code",
   "execution_count": 18,
   "id": "6d16358e",
   "metadata": {},
   "outputs": [
    {
     "name": "stdout",
     "output_type": "stream",
     "text": [
      "how many rows u need:- 5\n",
      "do u want space or not enter 1 or 2:- 2\n",
      " *********\n",
      "  *******\n",
      "   *****\n",
      "    ***\n",
      "     *\n"
     ]
    }
   ],
   "source": [
    "n = int(input(\"how many rows u need:- \"))\n",
    "space=int(input(\"do u want space or not enter 1 or 2:- \"))\n",
    "if space==1:\n",
    "    for i in range(0,n):\n",
    "        print(\"  \"*i,\"* \"*(2*(n-i)-1))\n",
    "else:\n",
    "    for i in range(0,n):\n",
    "        print(\" \"*i,\"*\"*(2*(n-i)-1))\n",
    "    "
   ]
  },
  {
   "cell_type": "markdown",
   "id": "68af4163",
   "metadata": {},
   "source": [
    "Here we  have written codes for 8 different patterns using FOR loop."
   ]
  }
 ],
 "metadata": {
  "kernelspec": {
   "display_name": "Python 3 (ipykernel)",
   "language": "python",
   "name": "python3"
  },
  "language_info": {
   "codemirror_mode": {
    "name": "ipython",
    "version": 3
   },
   "file_extension": ".py",
   "mimetype": "text/x-python",
   "name": "python",
   "nbconvert_exporter": "python",
   "pygments_lexer": "ipython3",
   "version": "3.8.11"
  }
 },
 "nbformat": 4,
 "nbformat_minor": 5
}
