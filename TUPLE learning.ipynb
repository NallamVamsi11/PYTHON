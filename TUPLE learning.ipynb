{
 "cells": [
  {
   "cell_type": "markdown",
   "id": "adf9dc22",
   "metadata": {},
   "source": [
    "TUPLE manipulation"
   ]
  },
  {
   "cell_type": "code",
   "execution_count": 1,
   "id": "32166275",
   "metadata": {},
   "outputs": [],
   "source": [
    "t= ()"
   ]
  },
  {
   "cell_type": "code",
   "execution_count": 2,
   "id": "ab1347f9",
   "metadata": {},
   "outputs": [
    {
     "data": {
      "text/plain": [
       "tuple"
      ]
     },
     "execution_count": 2,
     "metadata": {},
     "output_type": "execute_result"
    }
   ],
   "source": [
    "type(t)"
   ]
  },
  {
   "cell_type": "code",
   "execution_count": 3,
   "id": "59ab0005",
   "metadata": {},
   "outputs": [
    {
     "data": {
      "text/plain": [
       "()"
      ]
     },
     "execution_count": 3,
     "metadata": {},
     "output_type": "execute_result"
    }
   ],
   "source": [
    "tuple()"
   ]
  },
  {
   "cell_type": "code",
   "execution_count": 30,
   "id": "2f8aff36",
   "metadata": {},
   "outputs": [],
   "source": [
    "t1=(123,1.234,\"vamsi\",True,3+4j)"
   ]
  },
  {
   "cell_type": "code",
   "execution_count": 31,
   "id": "e5a9be06",
   "metadata": {},
   "outputs": [],
   "source": [
    "l1=[123,1.234,\"vamsi\",True,3+4j]"
   ]
  },
  {
   "cell_type": "code",
   "execution_count": 32,
   "id": "5d689d23",
   "metadata": {},
   "outputs": [
    {
     "name": "stdout",
     "output_type": "stream",
     "text": [
      "123\n",
      "1.234\n",
      "vamsi\n",
      "True\n",
      "(3+4j)\n"
     ]
    }
   ],
   "source": [
    "for i in range(len(t1)):\n",
    "    print(t1[i])"
   ]
  },
  {
   "cell_type": "code",
   "execution_count": 33,
   "id": "28730a9b",
   "metadata": {},
   "outputs": [
    {
     "data": {
      "text/plain": [
       "(123, 1.234, 'vamsi', True)"
      ]
     },
     "execution_count": 33,
     "metadata": {},
     "output_type": "execute_result"
    }
   ],
   "source": [
    "t1[0:4]"
   ]
  },
  {
   "cell_type": "code",
   "execution_count": 34,
   "id": "385cba3e",
   "metadata": {},
   "outputs": [
    {
     "data": {
      "text/plain": [
       "(123, 'vamsi', (3+4j))"
      ]
     },
     "execution_count": 34,
     "metadata": {},
     "output_type": "execute_result"
    }
   ],
   "source": [
    "t1[0:5:2]"
   ]
  },
  {
   "cell_type": "code",
   "execution_count": 35,
   "id": "3a774aac",
   "metadata": {},
   "outputs": [
    {
     "data": {
      "text/plain": [
       "((3+4j), True, 'vamsi', 1.234, 123)"
      ]
     },
     "execution_count": 35,
     "metadata": {},
     "output_type": "execute_result"
    }
   ],
   "source": [
    "t1[::-1]"
   ]
  },
  {
   "cell_type": "code",
   "execution_count": 36,
   "id": "3fcaef4a",
   "metadata": {},
   "outputs": [
    {
     "data": {
      "text/plain": [
       "[123, 1.234, 'vamsi', True, (3+4j)]"
      ]
     },
     "execution_count": 36,
     "metadata": {},
     "output_type": "execute_result"
    }
   ],
   "source": [
    "l1"
   ]
  },
  {
   "cell_type": "code",
   "execution_count": 37,
   "id": "1612f1ab",
   "metadata": {},
   "outputs": [],
   "source": [
    "l1[0]=456"
   ]
  },
  {
   "cell_type": "code",
   "execution_count": 38,
   "id": "6e435f3d",
   "metadata": {},
   "outputs": [
    {
     "data": {
      "text/plain": [
       "[456, 1.234, 'vamsi', True, (3+4j)]"
      ]
     },
     "execution_count": 38,
     "metadata": {},
     "output_type": "execute_result"
    }
   ],
   "source": [
    "l1"
   ]
  },
  {
   "cell_type": "code",
   "execution_count": 39,
   "id": "94ea9356",
   "metadata": {},
   "outputs": [
    {
     "data": {
      "text/plain": [
       "123"
      ]
     },
     "execution_count": 39,
     "metadata": {},
     "output_type": "execute_result"
    }
   ],
   "source": [
    "t1[0]"
   ]
  },
  {
   "cell_type": "code",
   "execution_count": 40,
   "id": "12a5b8be",
   "metadata": {},
   "outputs": [
    {
     "ename": "TypeError",
     "evalue": "'tuple' object does not support item assignment",
     "output_type": "error",
     "traceback": [
      "\u001b[1;31m---------------------------------------------------------------------------\u001b[0m",
      "\u001b[1;31mTypeError\u001b[0m                                 Traceback (most recent call last)",
      "\u001b[1;32m<ipython-input-40-9d31d569efc6>\u001b[0m in \u001b[0;36m<module>\u001b[1;34m\u001b[0m\n\u001b[1;32m----> 1\u001b[1;33m \u001b[0mt1\u001b[0m\u001b[1;33m[\u001b[0m\u001b[1;36m0\u001b[0m\u001b[1;33m]\u001b[0m\u001b[1;33m=\u001b[0m\u001b[1;36m456\u001b[0m\u001b[1;33m\u001b[0m\u001b[1;33m\u001b[0m\u001b[0m\n\u001b[0m",
      "\u001b[1;31mTypeError\u001b[0m: 'tuple' object does not support item assignment"
     ]
    }
   ],
   "source": [
    "t1[0]=456"
   ]
  },
  {
   "cell_type": "code",
   "execution_count": 41,
   "id": "ce4215bf",
   "metadata": {},
   "outputs": [
    {
     "data": {
      "text/plain": [
       "(123, 1.234, 'vamsi', True, (3+4j))"
      ]
     },
     "execution_count": 41,
     "metadata": {},
     "output_type": "execute_result"
    }
   ],
   "source": [
    "t1"
   ]
  },
  {
   "cell_type": "code",
   "execution_count": 42,
   "id": "2193c7ba",
   "metadata": {},
   "outputs": [],
   "source": [
    "t2=(456,\"nallam\",False)"
   ]
  },
  {
   "cell_type": "code",
   "execution_count": 43,
   "id": "9c973eb0",
   "metadata": {},
   "outputs": [
    {
     "data": {
      "text/plain": [
       "(123, 1.234, 'vamsi', True, (3+4j), 456, 'nallam', False)"
      ]
     },
     "execution_count": 43,
     "metadata": {},
     "output_type": "execute_result"
    }
   ],
   "source": [
    "t1+t2"
   ]
  },
  {
   "cell_type": "code",
   "execution_count": 44,
   "id": "85c2e465",
   "metadata": {},
   "outputs": [
    {
     "name": "stdout",
     "output_type": "stream",
     "text": [
      "(123, 1.234, 'vamsi', True, (3+4j), 456, 'nallam', False)\n"
     ]
    }
   ],
   "source": [
    "t3=t1+t2\n",
    "print(t3)"
   ]
  },
  {
   "cell_type": "code",
   "execution_count": 45,
   "id": "01097355",
   "metadata": {},
   "outputs": [
    {
     "data": {
      "text/plain": [
       "(123,\n",
       " 1.234,\n",
       " 'vamsi',\n",
       " True,\n",
       " (3+4j),\n",
       " 123,\n",
       " 1.234,\n",
       " 'vamsi',\n",
       " True,\n",
       " (3+4j),\n",
       " 123,\n",
       " 1.234,\n",
       " 'vamsi',\n",
       " True,\n",
       " (3+4j))"
      ]
     },
     "execution_count": 45,
     "metadata": {},
     "output_type": "execute_result"
    }
   ],
   "source": [
    "t1*3"
   ]
  },
  {
   "cell_type": "code",
   "execution_count": 46,
   "id": "0ade4213",
   "metadata": {},
   "outputs": [
    {
     "data": {
      "text/plain": [
       "(123, 1.234, 'vamsi', True, (3+4j), 'devil', 135)"
      ]
     },
     "execution_count": 46,
     "metadata": {},
     "output_type": "execute_result"
    }
   ],
   "source": [
    "t1+(\"devil\",135)"
   ]
  },
  {
   "cell_type": "code",
   "execution_count": 47,
   "id": "553d85b2",
   "metadata": {},
   "outputs": [
    {
     "data": {
      "text/plain": [
       "(123, 1.234, 'vamsi', True, (3+4j))"
      ]
     },
     "execution_count": 47,
     "metadata": {},
     "output_type": "execute_result"
    }
   ],
   "source": [
    "t1"
   ]
  },
  {
   "cell_type": "code",
   "execution_count": 48,
   "id": "9d53a80c",
   "metadata": {},
   "outputs": [
    {
     "data": {
      "text/plain": [
       "True"
      ]
     },
     "execution_count": 48,
     "metadata": {},
     "output_type": "execute_result"
    }
   ],
   "source": [
    "123 in t1"
   ]
  },
  {
   "cell_type": "code",
   "execution_count": 50,
   "id": "9a5509b7",
   "metadata": {},
   "outputs": [
    {
     "data": {
      "text/plain": [
       "False"
      ]
     },
     "execution_count": 50,
     "metadata": {},
     "output_type": "execute_result"
    }
   ],
   "source": [
    "\"nallam\" in t1"
   ]
  },
  {
   "cell_type": "code",
   "execution_count": 51,
   "id": "9bfb8c87",
   "metadata": {},
   "outputs": [
    {
     "ename": "TypeError",
     "evalue": "'>' not supported between instances of 'str' and 'int'",
     "output_type": "error",
     "traceback": [
      "\u001b[1;31m---------------------------------------------------------------------------\u001b[0m",
      "\u001b[1;31mTypeError\u001b[0m                                 Traceback (most recent call last)",
      "\u001b[1;32m<ipython-input-51-07c1bf72392e>\u001b[0m in \u001b[0;36m<module>\u001b[1;34m\u001b[0m\n\u001b[1;32m----> 1\u001b[1;33m \u001b[0mmax\u001b[0m\u001b[1;33m(\u001b[0m\u001b[0mt1\u001b[0m\u001b[1;33m)\u001b[0m\u001b[1;33m\u001b[0m\u001b[1;33m\u001b[0m\u001b[0m\n\u001b[0m",
      "\u001b[1;31mTypeError\u001b[0m: '>' not supported between instances of 'str' and 'int'"
     ]
    }
   ],
   "source": [
    "max(t1)"
   ]
  },
  {
   "cell_type": "code",
   "execution_count": 52,
   "id": "5b8af72a",
   "metadata": {},
   "outputs": [
    {
     "data": {
      "text/plain": [
       "(123, 1.234, 'vamsi', True, (3+4j), 456, 'nallam', False)"
      ]
     },
     "execution_count": 52,
     "metadata": {},
     "output_type": "execute_result"
    }
   ],
   "source": [
    "t3"
   ]
  },
  {
   "cell_type": "code",
   "execution_count": 53,
   "id": "b4fa0b08",
   "metadata": {},
   "outputs": [],
   "source": [
    "t4=(1,2,3,5,8,11)"
   ]
  },
  {
   "cell_type": "code",
   "execution_count": 54,
   "id": "52c384dc",
   "metadata": {},
   "outputs": [
    {
     "data": {
      "text/plain": [
       "11"
      ]
     },
     "execution_count": 54,
     "metadata": {},
     "output_type": "execute_result"
    }
   ],
   "source": [
    "max(t4)"
   ]
  },
  {
   "cell_type": "code",
   "execution_count": 55,
   "id": "2327c52e",
   "metadata": {},
   "outputs": [],
   "source": [
    "t5=(\"vamsi\",\"nallam\",\"devil\",\"lucifer\")"
   ]
  },
  {
   "cell_type": "code",
   "execution_count": 56,
   "id": "0c45365f",
   "metadata": {},
   "outputs": [
    {
     "data": {
      "text/plain": [
       "'vamsi'"
      ]
     },
     "execution_count": 56,
     "metadata": {},
     "output_type": "execute_result"
    }
   ],
   "source": [
    "max(t5)"
   ]
  },
  {
   "cell_type": "code",
   "execution_count": 57,
   "id": "1362ca8b",
   "metadata": {},
   "outputs": [
    {
     "data": {
      "text/plain": [
       "'devil'"
      ]
     },
     "execution_count": 57,
     "metadata": {},
     "output_type": "execute_result"
    }
   ],
   "source": [
    "min(t5)"
   ]
  },
  {
   "cell_type": "code",
   "execution_count": 58,
   "id": "dbbc91d0",
   "metadata": {},
   "outputs": [
    {
     "data": {
      "text/plain": [
       "1"
      ]
     },
     "execution_count": 58,
     "metadata": {},
     "output_type": "execute_result"
    }
   ],
   "source": [
    "min(t4)"
   ]
  },
  {
   "cell_type": "code",
   "execution_count": 61,
   "id": "bbffb4fd",
   "metadata": {},
   "outputs": [],
   "source": [
    "t6=(1.0,2.2,3.33)"
   ]
  },
  {
   "cell_type": "code",
   "execution_count": 62,
   "id": "5d4b977d",
   "metadata": {},
   "outputs": [
    {
     "data": {
      "text/plain": [
       "3.33"
      ]
     },
     "execution_count": 62,
     "metadata": {},
     "output_type": "execute_result"
    }
   ],
   "source": [
    "max(t6)"
   ]
  },
  {
   "cell_type": "code",
   "execution_count": 77,
   "id": "c61f3c52",
   "metadata": {},
   "outputs": [
    {
     "data": {
      "text/plain": [
       "3"
      ]
     },
     "execution_count": 77,
     "metadata": {},
     "output_type": "execute_result"
    }
   ],
   "source": [
    "max(1,2,3)"
   ]
  },
  {
   "cell_type": "code",
   "execution_count": 96,
   "id": "0873bd4d",
   "metadata": {},
   "outputs": [],
   "source": [
    "tup=(0,)"
   ]
  },
  {
   "cell_type": "code",
   "execution_count": 97,
   "id": "8189111a",
   "metadata": {},
   "outputs": [
    {
     "data": {
      "text/plain": [
       "(0,)"
      ]
     },
     "execution_count": 97,
     "metadata": {},
     "output_type": "execute_result"
    }
   ],
   "source": [
    "tup"
   ]
  },
  {
   "cell_type": "code",
   "execution_count": 98,
   "id": "5acf8b72",
   "metadata": {},
   "outputs": [
    {
     "data": {
      "text/plain": [
       "tuple"
      ]
     },
     "execution_count": 98,
     "metadata": {},
     "output_type": "execute_result"
    }
   ],
   "source": [
    "type(tup)"
   ]
  },
  {
   "cell_type": "code",
   "execution_count": 99,
   "id": "85bc9001",
   "metadata": {},
   "outputs": [
    {
     "data": {
      "text/plain": [
       "(0, 2, 3)"
      ]
     },
     "execution_count": 99,
     "metadata": {},
     "output_type": "execute_result"
    }
   ],
   "source": [
    "tup+(2,3)"
   ]
  },
  {
   "cell_type": "code",
   "execution_count": 21,
   "id": "1ba033bf",
   "metadata": {},
   "outputs": [
    {
     "name": "stdout",
     "output_type": "stream",
     "text": [
      "how many values u will enter: 5\n",
      "enter value no 1: 11\n",
      "enter value no 2: 22\n",
      "enter value no 3: 44\n",
      "enter value no 4: 33\n",
      "enter value no 5: 12\n",
      "[11.0, 22.0, 44.0, 33.0, 12.0]\n",
      "(11.0, 22.0, 44.0, 33.0, 12.0)\n",
      "<class 'tuple'>\n",
      "The max value is:  44.0\n"
     ]
    }
   ],
   "source": [
    "lst=[]\n",
    "h1=0\n",
    "n=int(input(\"how many values u will enter: \"))\n",
    "for i in range(n):\n",
    "    inp=float(input(\"enter value no {}: \".format(i+1)))\n",
    "    lst=lst+[inp]\n",
    "print(lst)\n",
    "tup=tuple(lst)\n",
    "print(tup)\n",
    "print(type(tup))\n",
    "for i in range(n):\n",
    "    if tup[i]>=h1:\n",
    "        h1=tup[i]\n",
    "    else:\n",
    "        continue\n",
    "print(\"The max value is: \",h1)"
   ]
  },
  {
   "cell_type": "code",
   "execution_count": 50,
   "id": "8f0eed99",
   "metadata": {},
   "outputs": [
    {
     "name": "stdout",
     "output_type": "stream",
     "text": [
      "how many values u will enter: 5\n",
      "enter value no 1: 1\n",
      "enter value no 2: 2\n",
      "enter value no 3: 3\n",
      "enter value no 4: 5\n",
      "enter value no 5: 4\n",
      "(1.0, 2.0, 3.0, 5.0, 4.0)\n",
      "<class 'tuple'>\n",
      "The max value is:  5.0\n"
     ]
    }
   ],
   "source": [
    "tup=()\n",
    "h1=0\n",
    "n=int(input(\"how many values u will enter: \"))\n",
    "for i in range(n):\n",
    "    inp=float(input(\"enter value no {}: \".format(i+1)))\n",
    "    tup=tup+(inp,)\n",
    "print(tup)\n",
    "print(type(tup))\n",
    "for i in range(n):\n",
    "    if tup[i]>=h1:\n",
    "        h1=tup[i]\n",
    "    else:\n",
    "        continue\n",
    "print(\"The max value is: \",h1)"
   ]
  },
  {
   "cell_type": "code",
   "execution_count": 22,
   "id": "5d84ead6",
   "metadata": {},
   "outputs": [
    {
     "data": {
      "text/plain": [
       "(0, 1, 2)"
      ]
     },
     "execution_count": 22,
     "metadata": {},
     "output_type": "execute_result"
    }
   ],
   "source": [
    "tuple([0,1,2])"
   ]
  },
  {
   "cell_type": "code",
   "execution_count": 23,
   "id": "3664a2d4",
   "metadata": {},
   "outputs": [
    {
     "data": {
      "text/plain": [
       "False"
      ]
     },
     "execution_count": 23,
     "metadata": {},
     "output_type": "execute_result"
    }
   ],
   "source": [
    "11.11>=11.13"
   ]
  },
  {
   "cell_type": "code",
   "execution_count": 25,
   "id": "87e88c4c",
   "metadata": {},
   "outputs": [
    {
     "name": "stdout",
     "output_type": "stream",
     "text": [
      "how many values u will enter: 5\n",
      "enter value no 1: 11\n",
      "enter value no 2: 22\n",
      "enter value no 3: 15\n",
      "enter value no 4: 16\n",
      "enter value no 5: 14\n",
      "[11.0, 22.0, 15.0, 16.0, 14.0]\n",
      "(11.0, 22.0, 15.0, 16.0, 14.0)\n",
      "<class 'tuple'>\n",
      "The min value is:  11.0\n"
     ]
    }
   ],
   "source": [
    "lst1=[]\n",
    "h2=0\n",
    "n1=int(input(\"how many values u will enter: \"))\n",
    "for i in range(n1):\n",
    "    inp1=float(input(\"enter value no {}: \".format(i+1)))\n",
    "    lst1=lst1+[inp1]\n",
    "print(lst1)\n",
    "tup1=tuple(lst1)\n",
    "print(tup1)\n",
    "print(type(tup1))\n",
    "if tup1[0]<=tup1[1]:\n",
    "    h2=tup1[0]\n",
    "else:\n",
    "    h2=tup1[1]\n",
    "for i in range(2,n1):\n",
    "    if tup1[i]<=h2:\n",
    "        h2=tup1[i]\n",
    "    else:\n",
    "        continue\n",
    "print(\"The min value is: \",h2)"
   ]
  },
  {
   "cell_type": "code",
   "execution_count": 26,
   "id": "05016204",
   "metadata": {},
   "outputs": [
    {
     "data": {
      "text/plain": [
       "'Vamsi'"
      ]
     },
     "execution_count": 26,
     "metadata": {},
     "output_type": "execute_result"
    }
   ],
   "source": [
    "min(\"vamsi\",\"Vamsi\")"
   ]
  },
  {
   "cell_type": "code",
   "execution_count": 27,
   "id": "944ef0b0",
   "metadata": {},
   "outputs": [],
   "source": [
    "t1=(123,\"nallam\",1.23)"
   ]
  },
  {
   "cell_type": "code",
   "execution_count": 28,
   "id": "abe84cea",
   "metadata": {},
   "outputs": [
    {
     "data": {
      "text/plain": [
       "(123, 'nallam', 1.23)"
      ]
     },
     "execution_count": 28,
     "metadata": {},
     "output_type": "execute_result"
    }
   ],
   "source": [
    "t1"
   ]
  },
  {
   "cell_type": "code",
   "execution_count": 29,
   "id": "23106b8b",
   "metadata": {},
   "outputs": [
    {
     "data": {
      "text/plain": [
       "2"
      ]
     },
     "execution_count": 29,
     "metadata": {},
     "output_type": "execute_result"
    }
   ],
   "source": [
    "t1.index(1.23)"
   ]
  },
  {
   "cell_type": "code",
   "execution_count": 30,
   "id": "3a3e0df2",
   "metadata": {},
   "outputs": [],
   "source": [
    "t2=(1,2,3,1,1,\"vamsi\",\"nallam\",\"vamsi\",\"vamsi\")"
   ]
  },
  {
   "cell_type": "code",
   "execution_count": 31,
   "id": "679ebf88",
   "metadata": {},
   "outputs": [
    {
     "data": {
      "text/plain": [
       "3"
      ]
     },
     "execution_count": 31,
     "metadata": {},
     "output_type": "execute_result"
    }
   ],
   "source": [
    "t2.count(1)"
   ]
  },
  {
   "cell_type": "code",
   "execution_count": 32,
   "id": "81edffe7",
   "metadata": {},
   "outputs": [
    {
     "data": {
      "text/plain": [
       "3"
      ]
     },
     "execution_count": 32,
     "metadata": {},
     "output_type": "execute_result"
    }
   ],
   "source": [
    "t2.count(\"vamsi\")"
   ]
  },
  {
   "cell_type": "code",
   "execution_count": 33,
   "id": "a3773bdb",
   "metadata": {},
   "outputs": [
    {
     "name": "stdout",
     "output_type": "stream",
     "text": [
      "5.33\n"
     ]
    }
   ],
   "source": [
    "l1=[1.99,2.1,3.31,4,4.6,5.33]\n",
    "h=0\n",
    "for i in range(6):\n",
    "    if l1[i]>=h:\n",
    "        h=l1[i]\n",
    "    else:\n",
    "        continue\n",
    "print(h)"
   ]
  },
  {
   "cell_type": "code",
   "execution_count": 34,
   "id": "70cfb395",
   "metadata": {},
   "outputs": [],
   "source": [
    "T=(10,)"
   ]
  },
  {
   "cell_type": "code",
   "execution_count": 35,
   "id": "8259a0c9",
   "metadata": {},
   "outputs": [
    {
     "data": {
      "text/plain": [
       "tuple"
      ]
     },
     "execution_count": 35,
     "metadata": {},
     "output_type": "execute_result"
    }
   ],
   "source": [
    "type(T)"
   ]
  },
  {
   "cell_type": "code",
   "execution_count": 36,
   "id": "be2cc651",
   "metadata": {},
   "outputs": [
    {
     "data": {
      "text/plain": [
       "1"
      ]
     },
     "execution_count": 36,
     "metadata": {},
     "output_type": "execute_result"
    }
   ],
   "source": [
    "len(T)"
   ]
  },
  {
   "cell_type": "code",
   "execution_count": 37,
   "id": "9c11dde0",
   "metadata": {},
   "outputs": [
    {
     "data": {
      "text/plain": [
       "(123, 'nallam', 1.23)"
      ]
     },
     "execution_count": 37,
     "metadata": {},
     "output_type": "execute_result"
    }
   ],
   "source": [
    "t1"
   ]
  },
  {
   "cell_type": "code",
   "execution_count": 38,
   "id": "13a515d5",
   "metadata": {},
   "outputs": [
    {
     "data": {
      "text/plain": [
       "(123, 'nallam', 1.23, 10)"
      ]
     },
     "execution_count": 38,
     "metadata": {},
     "output_type": "execute_result"
    }
   ],
   "source": [
    "t1+T"
   ]
  },
  {
   "cell_type": "code",
   "execution_count": 39,
   "id": "14d9d503",
   "metadata": {},
   "outputs": [],
   "source": [
    "L=[1,2,3,\"vamsi\"]"
   ]
  },
  {
   "cell_type": "code",
   "execution_count": 40,
   "id": "c48c5df1",
   "metadata": {},
   "outputs": [
    {
     "data": {
      "text/plain": [
       "(1, 2, 3, 'vamsi')"
      ]
     },
     "execution_count": 40,
     "metadata": {},
     "output_type": "execute_result"
    }
   ],
   "source": [
    "tuple(L)"
   ]
  },
  {
   "cell_type": "code",
   "execution_count": 41,
   "id": "2e11810d",
   "metadata": {},
   "outputs": [
    {
     "data": {
      "text/plain": [
       "(123, 'nallam', 1.23)"
      ]
     },
     "execution_count": 41,
     "metadata": {},
     "output_type": "execute_result"
    }
   ],
   "source": [
    "t1"
   ]
  },
  {
   "cell_type": "code",
   "execution_count": 42,
   "id": "6b46852a",
   "metadata": {},
   "outputs": [
    {
     "data": {
      "text/plain": [
       "[123, 'nallam', 1.23]"
      ]
     },
     "execution_count": 42,
     "metadata": {},
     "output_type": "execute_result"
    }
   ],
   "source": [
    "list(t1)"
   ]
  },
  {
   "cell_type": "code",
   "execution_count": 43,
   "id": "027d902f",
   "metadata": {},
   "outputs": [
    {
     "data": {
      "text/plain": [
       "tuple"
      ]
     },
     "execution_count": 43,
     "metadata": {},
     "output_type": "execute_result"
    }
   ],
   "source": [
    "type(t1)"
   ]
  },
  {
   "cell_type": "code",
   "execution_count": 44,
   "id": "affa452e",
   "metadata": {},
   "outputs": [],
   "source": [
    "x=list(t1)"
   ]
  },
  {
   "cell_type": "code",
   "execution_count": 45,
   "id": "b0904414",
   "metadata": {},
   "outputs": [
    {
     "data": {
      "text/plain": [
       "list"
      ]
     },
     "execution_count": 45,
     "metadata": {},
     "output_type": "execute_result"
    }
   ],
   "source": [
    "type(x)"
   ]
  },
  {
   "cell_type": "code",
   "execution_count": 46,
   "id": "fb8ab501",
   "metadata": {},
   "outputs": [
    {
     "name": "stdout",
     "output_type": "stream",
     "text": [
      "enter1222\n",
      "('1', '2', '2', '2')\n"
     ]
    }
   ],
   "source": [
    "y=tuple(input(\"enter\"))\n",
    "print(y)"
   ]
  },
  {
   "cell_type": "code",
   "execution_count": 52,
   "id": "d0d202a0",
   "metadata": {},
   "outputs": [
    {
     "name": "stdout",
     "output_type": "stream",
     "text": [
      "enter data 5\n",
      "enter data 4\n",
      "enter data 3\n",
      "enter data 2\n",
      "enter data 1\n",
      "<class 'tuple'>\n",
      "(5, 4, 3, 2, 1)\n"
     ]
    }
   ],
   "source": [
    "t6=()\n",
    "for i in range(5):\n",
    "    z=int(input(\"enter data \"))\n",
    "    t6=t6+(z,)\n",
    "print(type(t6))\n",
    "print(t6)"
   ]
  },
  {
   "cell_type": "code",
   "execution_count": 53,
   "id": "3af3497b",
   "metadata": {},
   "outputs": [
    {
     "data": {
      "text/plain": [
       "(5, 4, 3, 2, 1)"
      ]
     },
     "execution_count": 53,
     "metadata": {},
     "output_type": "execute_result"
    }
   ],
   "source": [
    "t6"
   ]
  },
  {
   "cell_type": "code",
   "execution_count": 55,
   "id": "51b3bc52",
   "metadata": {},
   "outputs": [],
   "source": [
    "t7=list(t6)"
   ]
  },
  {
   "cell_type": "code",
   "execution_count": 56,
   "id": "f7604915",
   "metadata": {},
   "outputs": [
    {
     "data": {
      "text/plain": [
       "[5, 4, 3, 2, 1]"
      ]
     },
     "execution_count": 56,
     "metadata": {},
     "output_type": "execute_result"
    }
   ],
   "source": [
    "t7"
   ]
  },
  {
   "cell_type": "code",
   "execution_count": 57,
   "id": "12dc2fa5",
   "metadata": {},
   "outputs": [],
   "source": [
    "t7.insert(2,\"vamsi\")"
   ]
  },
  {
   "cell_type": "code",
   "execution_count": 58,
   "id": "823d8e2b",
   "metadata": {},
   "outputs": [
    {
     "data": {
      "text/plain": [
       "[5, 4, 'vamsi', 3, 2, 1]"
      ]
     },
     "execution_count": 58,
     "metadata": {},
     "output_type": "execute_result"
    }
   ],
   "source": [
    "t7"
   ]
  },
  {
   "cell_type": "code",
   "execution_count": 59,
   "id": "61e9311d",
   "metadata": {},
   "outputs": [],
   "source": [
    "t6=tuple(t7)"
   ]
  },
  {
   "cell_type": "code",
   "execution_count": 60,
   "id": "dc4af565",
   "metadata": {},
   "outputs": [
    {
     "data": {
      "text/plain": [
       "(5, 4, 'vamsi', 3, 2, 1)"
      ]
     },
     "execution_count": 60,
     "metadata": {},
     "output_type": "execute_result"
    }
   ],
   "source": [
    "t6"
   ]
  },
  {
   "cell_type": "code",
   "execution_count": 2,
   "id": "aa8acf52",
   "metadata": {},
   "outputs": [],
   "source": [
    "t=((123,\"vamsi\",True),\"lucifer\",13,(456,\"nallam\",False),4+5j,True,[246,\"decker\",False])"
   ]
  },
  {
   "cell_type": "code",
   "execution_count": 3,
   "id": "2c590f7e",
   "metadata": {},
   "outputs": [
    {
     "data": {
      "text/plain": [
       "((123, 'vamsi', True),\n",
       " 'lucifer',\n",
       " 13,\n",
       " (456, 'nallam', False),\n",
       " (4+5j),\n",
       " True,\n",
       " [246, 'decker', False])"
      ]
     },
     "execution_count": 3,
     "metadata": {},
     "output_type": "execute_result"
    }
   ],
   "source": [
    "t"
   ]
  },
  {
   "cell_type": "code",
   "execution_count": 4,
   "id": "5c125805",
   "metadata": {},
   "outputs": [
    {
     "name": "stdout",
     "output_type": "stream",
     "text": [
      "<class 'tuple'>\n",
      "<class 'str'>\n",
      "<class 'int'>\n",
      "<class 'tuple'>\n",
      "<class 'complex'>\n",
      "<class 'bool'>\n",
      "<class 'list'>\n"
     ]
    }
   ],
   "source": [
    "for i in t:\n",
    "    print(type(i))"
   ]
  },
  {
   "cell_type": "code",
   "execution_count": 5,
   "id": "f65d4566",
   "metadata": {},
   "outputs": [
    {
     "name": "stdout",
     "output_type": "stream",
     "text": [
      "we got  246\n"
     ]
    }
   ],
   "source": [
    "for i in t:\n",
    "    if type(i)==list:\n",
    "        for j in i:\n",
    "            if j==246:\n",
    "                print(\"we got \",j)"
   ]
  },
  {
   "cell_type": "code",
   "execution_count": 6,
   "id": "6a2060ef",
   "metadata": {},
   "outputs": [
    {
     "data": {
      "text/plain": [
       "246"
      ]
     },
     "execution_count": 6,
     "metadata": {},
     "output_type": "execute_result"
    }
   ],
   "source": [
    "t[6][0]"
   ]
  },
  {
   "cell_type": "code",
   "execution_count": 7,
   "id": "be6a78cf",
   "metadata": {},
   "outputs": [
    {
     "data": {
      "text/plain": [
       "((123, 'vamsi', True),\n",
       " 'lucifer',\n",
       " 13,\n",
       " (456, 'nallam', False),\n",
       " (4+5j),\n",
       " True,\n",
       " [246, 'decker', False])"
      ]
     },
     "execution_count": 7,
     "metadata": {},
     "output_type": "execute_result"
    }
   ],
   "source": [
    "t"
   ]
  },
  {
   "cell_type": "code",
   "execution_count": 1,
   "id": "60df19ed",
   "metadata": {},
   "outputs": [],
   "source": [
    "t1=(\"vamsi\",\"nallam\",\"devil\",\"lucifer\",\"amenadiel\")"
   ]
  },
  {
   "cell_type": "code",
   "execution_count": 2,
   "id": "bf93f78a",
   "metadata": {},
   "outputs": [
    {
     "name": "stdout",
     "output_type": "stream",
     "text": [
      "enter a name: vamsi\n",
      "vamsi is in the tuple\n"
     ]
    }
   ],
   "source": [
    "inp=input(\"enter a name: \")\n",
    "if inp in t1:\n",
    "    print(\"{} is in the tuple\".format(inp))\n",
    "else:\n",
    "    print(\"{} is not in the tuple\".format(inp))"
   ]
  },
  {
   "cell_type": "code",
   "execution_count": 10,
   "id": "d165d8e4",
   "metadata": {},
   "outputs": [
    {
     "data": {
      "text/plain": [
       "((123, 'vamsi', True),\n",
       " 'lucifer',\n",
       " 13,\n",
       " (456, 'nallam', False),\n",
       " (4+5j),\n",
       " True,\n",
       " [246, 'decker', False])"
      ]
     },
     "execution_count": 10,
     "metadata": {},
     "output_type": "execute_result"
    }
   ],
   "source": [
    "t"
   ]
  },
  {
   "cell_type": "code",
   "execution_count": 11,
   "id": "e860f541",
   "metadata": {},
   "outputs": [],
   "source": [
    "del(t)"
   ]
  },
  {
   "cell_type": "code",
   "execution_count": 12,
   "id": "5ed745f6",
   "metadata": {},
   "outputs": [
    {
     "ename": "NameError",
     "evalue": "name 't' is not defined",
     "output_type": "error",
     "traceback": [
      "\u001b[1;31m---------------------------------------------------------------------------\u001b[0m",
      "\u001b[1;31mNameError\u001b[0m                                 Traceback (most recent call last)",
      "\u001b[1;32m<ipython-input-12-34fc7a11cb38>\u001b[0m in \u001b[0;36m<module>\u001b[1;34m\u001b[0m\n\u001b[1;32m----> 1\u001b[1;33m \u001b[0mt\u001b[0m\u001b[1;33m\u001b[0m\u001b[1;33m\u001b[0m\u001b[0m\n\u001b[0m",
      "\u001b[1;31mNameError\u001b[0m: name 't' is not defined"
     ]
    }
   ],
   "source": [
    "t"
   ]
  },
  {
   "cell_type": "markdown",
   "id": "1de7d2b5",
   "metadata": {},
   "source": [
    "SET"
   ]
  },
  {
   "cell_type": "code",
   "execution_count": 17,
   "id": "27cab2b9",
   "metadata": {},
   "outputs": [],
   "source": [
    "s= set()"
   ]
  },
  {
   "cell_type": "code",
   "execution_count": 18,
   "id": "ad56c52b",
   "metadata": {},
   "outputs": [
    {
     "data": {
      "text/plain": [
       "set"
      ]
     },
     "execution_count": 18,
     "metadata": {},
     "output_type": "execute_result"
    }
   ],
   "source": [
    "type(s)"
   ]
  },
  {
   "cell_type": "code",
   "execution_count": 29,
   "id": "7368c6aa",
   "metadata": {},
   "outputs": [],
   "source": [
    "l=[1,2,2,3,4,7,5,6,5,5,\"vamsi\",\"vamsi\",'nallam',\"Vamsi\"]"
   ]
  },
  {
   "cell_type": "code",
   "execution_count": 30,
   "id": "f2813426",
   "metadata": {},
   "outputs": [],
   "source": [
    "s=set(l)"
   ]
  },
  {
   "cell_type": "code",
   "execution_count": 31,
   "id": "8632371b",
   "metadata": {},
   "outputs": [
    {
     "data": {
      "text/plain": [
       "[1, 2, 2, 3, 4, 7, 5, 6, 5, 5, 'vamsi', 'vamsi', 'nallam', 'Vamsi']"
      ]
     },
     "execution_count": 31,
     "metadata": {},
     "output_type": "execute_result"
    }
   ],
   "source": [
    "l"
   ]
  },
  {
   "cell_type": "code",
   "execution_count": 32,
   "id": "09364b65",
   "metadata": {},
   "outputs": [
    {
     "data": {
      "text/plain": [
       "{1, 2, 3, 4, 5, 6, 7, 'Vamsi', 'nallam', 'vamsi'}"
      ]
     },
     "execution_count": 32,
     "metadata": {},
     "output_type": "execute_result"
    }
   ],
   "source": [
    "s"
   ]
  },
  {
   "cell_type": "code",
   "execution_count": 33,
   "id": "578cbe03",
   "metadata": {},
   "outputs": [
    {
     "data": {
      "text/plain": [
       "3"
      ]
     },
     "execution_count": 33,
     "metadata": {},
     "output_type": "execute_result"
    }
   ],
   "source": [
    "l.count(5)"
   ]
  },
  {
   "cell_type": "code",
   "execution_count": 32,
   "id": "5ac59c01",
   "metadata": {},
   "outputs": [
    {
     "name": "stdout",
     "output_type": "stream",
     "text": [
      "[1, 2, 3, 4, 7, 5, 6, 'vamsi', 'nallam', 'Vamsi']\n",
      "[1, 2, 3, 4, 7, 5, 6] ['vamsi', 'nallam', 'Vamsi']\n"
     ]
    }
   ],
   "source": [
    "l=[1,2,2,3,4,7,5,6,5,5,\"vamsi\",\"vamsi\",'nallam',\"Vamsi\"]\n",
    "X=[]\n",
    "X1=[]\n",
    "X2=[]\n",
    "X11=[]\n",
    "X22=[]\n",
    "for i in l:\n",
    "    if i in X:\n",
    "        continue\n",
    "    else:\n",
    "        X=X+[i]\n",
    "print(X)\n",
    "for j in X:\n",
    "    if type(j)==int:\n",
    "        X1=X1+[j]\n",
    "    elif type(j)==str:\n",
    "        X2=X2+[j]\n",
    "print(X1,X2)\n",
    "   "
   ]
  },
  {
   "cell_type": "code",
   "execution_count": 23,
   "id": "7787bf14",
   "metadata": {},
   "outputs": [
    {
     "name": "stdout",
     "output_type": "stream",
     "text": [
      "118\n"
     ]
    }
   ],
   "source": [
    "\"vamsi\"\n",
    "print(ord(\"v\"))"
   ]
  },
  {
   "cell_type": "code",
   "execution_count": 24,
   "id": "6794f686",
   "metadata": {},
   "outputs": [
    {
     "data": {
      "text/plain": [
       "49"
      ]
     },
     "execution_count": 24,
     "metadata": {},
     "output_type": "execute_result"
    }
   ],
   "source": [
    "ord('1')"
   ]
  },
  {
   "cell_type": "code",
   "execution_count": 25,
   "id": "f1efd538",
   "metadata": {},
   "outputs": [
    {
     "data": {
      "text/plain": [
       "{1, 2, 3, 4, 5, 'Vamsi', 'nallam', 'vamsi'}"
      ]
     },
     "execution_count": 25,
     "metadata": {},
     "output_type": "execute_result"
    }
   ],
   "source": [
    "l1=[1,2,2,2,3,4,5,\"vamsi\",\"vamsi\",\"vamsi\",\"Vamsi\",\"nallam\"]\n",
    "set(l1)"
   ]
  },
  {
   "cell_type": "code",
   "execution_count": 26,
   "id": "9ce2d1b7",
   "metadata": {},
   "outputs": [
    {
     "data": {
      "text/plain": [
       "[]"
      ]
     },
     "execution_count": 26,
     "metadata": {},
     "output_type": "execute_result"
    }
   ],
   "source": [
    "X1"
   ]
  },
  {
   "cell_type": "code",
   "execution_count": 27,
   "id": "d57dad80",
   "metadata": {},
   "outputs": [
    {
     "data": {
      "text/plain": [
       "[]"
      ]
     },
     "execution_count": 27,
     "metadata": {},
     "output_type": "execute_result"
    }
   ],
   "source": [
    "X1"
   ]
  },
  {
   "cell_type": "code",
   "execution_count": 125,
   "id": "a025031c",
   "metadata": {},
   "outputs": [
    {
     "name": "stdout",
     "output_type": "stream",
     "text": [
      "[1, 2, 3, 4, 7, 5, 6, 'vamsi', 'nallam', 'Vamsi']\n"
     ]
    }
   ],
   "source": [
    "l=[1,2,2,3,4,7,5,6,5,5,\"vamsi\",\"vamsi\",'nallam',\"Vamsi\"]\n",
    "X=[]\n",
    "for i in l:\n",
    "    if i in X:\n",
    "        continue\n",
    "    else:\n",
    "        X=X+[i]\n",
    "print(X)"
   ]
  },
  {
   "cell_type": "code",
   "execution_count": 126,
   "id": "f24decbc",
   "metadata": {},
   "outputs": [
    {
     "data": {
      "text/plain": [
       "[1, 2, 3, 4, 7, 5, 6, 'vamsi', 'nallam', 'Vamsi']"
      ]
     },
     "execution_count": 126,
     "metadata": {},
     "output_type": "execute_result"
    }
   ],
   "source": [
    "X"
   ]
  },
  {
   "cell_type": "code",
   "execution_count": 127,
   "id": "9cd6a809",
   "metadata": {},
   "outputs": [
    {
     "name": "stdout",
     "output_type": "stream",
     "text": [
      "[1, 2, 3, 4, 7, 5, 6] ['vamsi', 'nallam', 'Vamsi']\n"
     ]
    }
   ],
   "source": [
    "xi=[]\n",
    "xs=[]\n",
    "for i in X:\n",
    "    if type(i)==int:\n",
    "        xi=xi+[i]\n",
    "    elif type(i)==str:\n",
    "        xs=xs+[i]\n",
    "print(xi,xs)   "
   ]
  },
  {
   "cell_type": "code",
   "execution_count": 128,
   "id": "bce1ee97",
   "metadata": {},
   "outputs": [
    {
     "data": {
      "text/plain": [
       "[1, 2, 3, 4, 7, 5, 6]"
      ]
     },
     "execution_count": 128,
     "metadata": {},
     "output_type": "execute_result"
    }
   ],
   "source": [
    "xi"
   ]
  },
  {
   "cell_type": "code",
   "execution_count": 129,
   "id": "fdae4a96",
   "metadata": {},
   "outputs": [
    {
     "data": {
      "text/plain": [
       "['vamsi', 'nallam', 'Vamsi']"
      ]
     },
     "execution_count": 129,
     "metadata": {},
     "output_type": "execute_result"
    }
   ],
   "source": [
    "xs"
   ]
  },
  {
   "cell_type": "code",
   "execution_count": 130,
   "id": "f43e001c",
   "metadata": {},
   "outputs": [],
   "source": [
    "m=max(xi)"
   ]
  },
  {
   "cell_type": "code",
   "execution_count": 131,
   "id": "7e6c9041",
   "metadata": {},
   "outputs": [
    {
     "data": {
      "text/plain": [
       "[1, 2, 3, 4, 7, 5, 6]"
      ]
     },
     "execution_count": 131,
     "metadata": {},
     "output_type": "execute_result"
    }
   ],
   "source": [
    "xi"
   ]
  },
  {
   "cell_type": "code",
   "execution_count": 132,
   "id": "e60e13fe",
   "metadata": {},
   "outputs": [
    {
     "name": "stdout",
     "output_type": "stream",
     "text": [
      "[1, 2, 3, 4, 5, 6, 7]\n"
     ]
    }
   ],
   "source": [
    "xia=[]\n",
    "while len(xi)!=0:\n",
    "    j=max(xi)\n",
    "    xia=xia+[j]\n",
    "    xi.remove(j)\n",
    "xia1=xia[::-1]\n",
    "print(xia1)"
   ]
  },
  {
   "cell_type": "code",
   "execution_count": 133,
   "id": "200e5d0b",
   "metadata": {},
   "outputs": [
    {
     "name": "stdout",
     "output_type": "stream",
     "text": [
      "['Vamsi', 'nallam', 'vamsi']\n"
     ]
    }
   ],
   "source": [
    "xsa=[]\n",
    "while len(xs)!=0:\n",
    "    j=max(xs)\n",
    "    xsa=xsa+[j]\n",
    "    xs.remove(j)\n",
    "xsa1=xsa[::-1]\n",
    "print(xsa1)"
   ]
  },
  {
   "cell_type": "code",
   "execution_count": 134,
   "id": "f631d740",
   "metadata": {},
   "outputs": [
    {
     "data": {
      "text/plain": [
       "118"
      ]
     },
     "execution_count": 134,
     "metadata": {},
     "output_type": "execute_result"
    }
   ],
   "source": [
    "ord('v')"
   ]
  },
  {
   "cell_type": "code",
   "execution_count": 135,
   "id": "d0b99cbc",
   "metadata": {},
   "outputs": [
    {
     "data": {
      "text/plain": [
       "110"
      ]
     },
     "execution_count": 135,
     "metadata": {},
     "output_type": "execute_result"
    }
   ],
   "source": [
    "ord('n')"
   ]
  },
  {
   "cell_type": "code",
   "execution_count": 136,
   "id": "68588d3e",
   "metadata": {},
   "outputs": [
    {
     "data": {
      "text/plain": [
       "86"
      ]
     },
     "execution_count": 136,
     "metadata": {},
     "output_type": "execute_result"
    }
   ],
   "source": [
    "ord('V')"
   ]
  },
  {
   "cell_type": "code",
   "execution_count": 137,
   "id": "757887f7",
   "metadata": {},
   "outputs": [],
   "source": [
    "Xnew=xia1+xsa1"
   ]
  },
  {
   "cell_type": "code",
   "execution_count": 138,
   "id": "92eea969",
   "metadata": {},
   "outputs": [
    {
     "data": {
      "text/plain": [
       "[1, 2, 3, 4, 5, 6, 7, 'Vamsi', 'nallam', 'vamsi']"
      ]
     },
     "execution_count": 138,
     "metadata": {},
     "output_type": "execute_result"
    }
   ],
   "source": [
    "Xnew"
   ]
  },
  {
   "cell_type": "code",
   "execution_count": 139,
   "id": "205e908f",
   "metadata": {},
   "outputs": [
    {
     "data": {
      "text/plain": [
       "[1, 2, 3, 4, 7, 5, 6, 'vamsi', 'nallam', 'Vamsi']"
      ]
     },
     "execution_count": 139,
     "metadata": {},
     "output_type": "execute_result"
    }
   ],
   "source": [
    "X"
   ]
  },
  {
   "cell_type": "code",
   "execution_count": 145,
   "id": "eb66cc6c",
   "metadata": {},
   "outputs": [
    {
     "name": "stdout",
     "output_type": "stream",
     "text": [
      "original list is  [1, 2, 2, 3, 4, 7, 5, 6, 5, 5, 'vamsi', 'vamsi', 'nallam', 'Vamsi']\n",
      "[1, 2, 3, 4, 7, 5, 6, 'vamsi', 'nallam', 'Vamsi']\n",
      "[1, 2, 3, 4, 7, 5, 6] ['vamsi', 'nallam', 'Vamsi']\n",
      "[1, 2, 3, 4, 5, 6, 7]\n",
      "['Vamsi', 'nallam', 'vamsi']\n",
      "the result of set fn is  [1, 2, 3, 4, 5, 6, 7, 'Vamsi', 'nallam', 'vamsi']\n"
     ]
    }
   ],
   "source": [
    "l=[1,2,2,3,4,7,5,6,5,5,\"vamsi\",\"vamsi\",'nallam',\"Vamsi\"]\n",
    "X=[]\n",
    "print(\"original list is \",l)\n",
    "for i in l:\n",
    "    if i in X:\n",
    "        continue\n",
    "    else:\n",
    "        X=X+[i]\n",
    "print(X)\n",
    "xi=[]\n",
    "xs=[]\n",
    "for i in X:\n",
    "    if type(i)==int:\n",
    "        xi=xi+[i]\n",
    "    elif type(i)==str:\n",
    "        xs=xs+[i]\n",
    "print(xi,xs) \n",
    "xia=[]\n",
    "while len(xi)!=0:\n",
    "    j=max(xi)\n",
    "    xia=xia+[j]\n",
    "    xi.remove(j)\n",
    "xia1=xia[::-1]\n",
    "print(xia1)\n",
    "xsa=[]\n",
    "while len(xs)!=0:\n",
    "    j=max(xs)\n",
    "    xsa=xsa+[j]\n",
    "    xs.remove(j)\n",
    "xsa1=xsa[::-1]\n",
    "print(xsa1)\n",
    "Xnew=xia1+xsa1\n",
    "print(\"the result of set fn is \",Xnew)"
   ]
  },
  {
   "cell_type": "code",
   "execution_count": 147,
   "id": "cc60b1c8",
   "metadata": {},
   "outputs": [],
   "source": [
    "L=[1,3,5,7,6,4,2]"
   ]
  },
  {
   "cell_type": "code",
   "execution_count": 148,
   "id": "8254c95e",
   "metadata": {},
   "outputs": [],
   "source": [
    "L.sort()"
   ]
  },
  {
   "cell_type": "code",
   "execution_count": 149,
   "id": "ddd0538b",
   "metadata": {},
   "outputs": [
    {
     "data": {
      "text/plain": [
       "[1, 2, 3, 4, 5, 6, 7]"
      ]
     },
     "execution_count": 149,
     "metadata": {},
     "output_type": "execute_result"
    }
   ],
   "source": [
    "L"
   ]
  },
  {
   "cell_type": "code",
   "execution_count": 150,
   "id": "51e3d146",
   "metadata": {},
   "outputs": [],
   "source": [
    "L1=[\"vamsi\",\"nallam\",\"devil\",\"vamsi\"]"
   ]
  },
  {
   "cell_type": "code",
   "execution_count": 152,
   "id": "65495eb4",
   "metadata": {},
   "outputs": [],
   "source": [
    "L1.sort()"
   ]
  },
  {
   "cell_type": "code",
   "execution_count": 153,
   "id": "ff815acb",
   "metadata": {},
   "outputs": [
    {
     "data": {
      "text/plain": [
       "['devil', 'nallam', 'vamsi', 'vamsi']"
      ]
     },
     "execution_count": 153,
     "metadata": {},
     "output_type": "execute_result"
    }
   ],
   "source": [
    "L1"
   ]
  },
  {
   "cell_type": "code",
   "execution_count": 161,
   "id": "75b79c9a",
   "metadata": {},
   "outputs": [
    {
     "name": "stdout",
     "output_type": "stream",
     "text": [
      "[1, 2, 2, 3, 4, 7, 5, 6, 5, 5, 'vamsi', 'vamsi', 'nallam', 'Vamsi', 'devil', 'lucifer']\n",
      "[1, 2, 3, 4, 5, 6, 7, 'Vamsi', 'devil', 'lucifer', 'nallam', 'vamsi']\n"
     ]
    }
   ],
   "source": [
    "#THIS PROGRAM DOES SAME AS set()\n",
    "l=[1,2,2,3,4,7,5,6,5,5,\"vamsi\",\"vamsi\",'nallam',\"Vamsi\",\"devil\",\"lucifer\"]\n",
    "X=[]\n",
    "print(l)\n",
    "for i in l:\n",
    "    if i in X:\n",
    "        continue\n",
    "    else:\n",
    "        X=X+[i]\n",
    "xi=[]\n",
    "xs=[]\n",
    "for i in X:\n",
    "    if type(i)==int:\n",
    "        xi=xi+[i]\n",
    "    elif type(i)==str:\n",
    "        xs=xs+[i]\n",
    "xi.sort()\n",
    "xs.sort()\n",
    "Xnew=xi+xs\n",
    "print(Xnew)"
   ]
  },
  {
   "cell_type": "code",
   "execution_count": 163,
   "id": "5857e6f8",
   "metadata": {},
   "outputs": [],
   "source": [
    "S=[\"vamsi\",\"nallam\",\"devil\",\"Vamsi\",\"lucifer\"]"
   ]
  },
  {
   "cell_type": "code",
   "execution_count": 164,
   "id": "6a63fc11",
   "metadata": {},
   "outputs": [],
   "source": [
    "S.sort()"
   ]
  },
  {
   "cell_type": "code",
   "execution_count": 165,
   "id": "0a3c2675",
   "metadata": {},
   "outputs": [
    {
     "data": {
      "text/plain": [
       "['Vamsi', 'devil', 'lucifer', 'nallam', 'vamsi']"
      ]
     },
     "execution_count": 165,
     "metadata": {},
     "output_type": "execute_result"
    }
   ],
   "source": [
    "S"
   ]
  },
  {
   "cell_type": "code",
   "execution_count": 15,
   "id": "a3194bc7",
   "metadata": {},
   "outputs": [],
   "source": [
    "S1=[\"vvvvv\",\"vvvvav\",\"vvvvV\"]"
   ]
  },
  {
   "cell_type": "code",
   "execution_count": 16,
   "id": "c2b4d62e",
   "metadata": {},
   "outputs": [],
   "source": [
    "S1.sort()"
   ]
  },
  {
   "cell_type": "code",
   "execution_count": 30,
   "id": "e9de7854",
   "metadata": {},
   "outputs": [],
   "source": [
    "s=[\"vamsi\",\"nallam\",\"vamsI\",\"vvvvv\",\"abcdefg\"]"
   ]
  },
  {
   "cell_type": "code",
   "execution_count": 31,
   "id": "93581e15",
   "metadata": {},
   "outputs": [
    {
     "data": {
      "text/plain": [
       "['vamsi', 'nallam', 'vamsI', 'vvvvv', 'abcdefg']"
      ]
     },
     "execution_count": 31,
     "metadata": {},
     "output_type": "execute_result"
    }
   ],
   "source": [
    "s"
   ]
  },
  {
   "cell_type": "code",
   "execution_count": 32,
   "id": "0df9cd48",
   "metadata": {},
   "outputs": [],
   "source": [
    "s.sort()"
   ]
  },
  {
   "cell_type": "code",
   "execution_count": 33,
   "id": "6bba1714",
   "metadata": {},
   "outputs": [
    {
     "data": {
      "text/plain": [
       "['abcdefg', 'nallam', 'vamsI', 'vamsi', 'vvvvv']"
      ]
     },
     "execution_count": 33,
     "metadata": {},
     "output_type": "execute_result"
    }
   ],
   "source": [
    "s"
   ]
  },
  {
   "cell_type": "code",
   "execution_count": 9,
   "id": "92666422",
   "metadata": {},
   "outputs": [],
   "source": [
    "l=[1,3,5,4,2,\"vamsi\",\"Vamsi\",'nallam']"
   ]
  },
  {
   "cell_type": "code",
   "execution_count": 10,
   "id": "81619336",
   "metadata": {},
   "outputs": [],
   "source": [
    "s=set(l)"
   ]
  },
  {
   "cell_type": "code",
   "execution_count": 11,
   "id": "8eabb69c",
   "metadata": {},
   "outputs": [
    {
     "data": {
      "text/plain": [
       "{1, 2, 3, 4, 5, 'Vamsi', 'nallam', 'vamsi'}"
      ]
     },
     "execution_count": 11,
     "metadata": {},
     "output_type": "execute_result"
    }
   ],
   "source": [
    "s"
   ]
  },
  {
   "cell_type": "code",
   "execution_count": 12,
   "id": "616bb32c",
   "metadata": {},
   "outputs": [
    {
     "data": {
      "text/plain": [
       "set"
      ]
     },
     "execution_count": 12,
     "metadata": {},
     "output_type": "execute_result"
    }
   ],
   "source": [
    "type(s)"
   ]
  },
  {
   "cell_type": "code",
   "execution_count": 13,
   "id": "6fe56871",
   "metadata": {},
   "outputs": [],
   "source": [
    "s1={1,2,3,\"vamsi\",\"Vamsi\",9}"
   ]
  },
  {
   "cell_type": "code",
   "execution_count": 14,
   "id": "23f00ea2",
   "metadata": {},
   "outputs": [
    {
     "data": {
      "text/plain": [
       "{1, 2, 3, 9, 'Vamsi', 'vamsi'}"
      ]
     },
     "execution_count": 14,
     "metadata": {},
     "output_type": "execute_result"
    }
   ],
   "source": [
    "s1"
   ]
  },
  {
   "cell_type": "code",
   "execution_count": 15,
   "id": "214dd079",
   "metadata": {},
   "outputs": [
    {
     "data": {
      "text/plain": [
       "set"
      ]
     },
     "execution_count": 15,
     "metadata": {},
     "output_type": "execute_result"
    }
   ],
   "source": [
    "type(s1)"
   ]
  },
  {
   "cell_type": "code",
   "execution_count": 16,
   "id": "0b17627f",
   "metadata": {},
   "outputs": [
    {
     "data": {
      "text/plain": [
       "{1, 2, 3, 4, 5, 'Vamsi', 'nallam', 'vamsi'}"
      ]
     },
     "execution_count": 16,
     "metadata": {},
     "output_type": "execute_result"
    }
   ],
   "source": [
    "s"
   ]
  },
  {
   "cell_type": "code",
   "execution_count": 17,
   "id": "e67c2261",
   "metadata": {},
   "outputs": [
    {
     "name": "stdout",
     "output_type": "stream",
     "text": [
      "1\n",
      "2\n",
      "3\n",
      "4\n",
      "5\n",
      "nallam\n",
      "Vamsi\n",
      "vamsi\n"
     ]
    }
   ],
   "source": [
    "for i in s:\n",
    "    print(i)"
   ]
  },
  {
   "cell_type": "code",
   "execution_count": 18,
   "id": "1f2fd76d",
   "metadata": {},
   "outputs": [
    {
     "data": {
      "text/plain": [
       "True"
      ]
     },
     "execution_count": 18,
     "metadata": {},
     "output_type": "execute_result"
    }
   ],
   "source": [
    "4 in s"
   ]
  },
  {
   "cell_type": "code",
   "execution_count": 19,
   "id": "ad71d93e",
   "metadata": {},
   "outputs": [
    {
     "ename": "TypeError",
     "evalue": "'set' object is not subscriptable",
     "output_type": "error",
     "traceback": [
      "\u001b[1;31m---------------------------------------------------------------------------\u001b[0m",
      "\u001b[1;31mTypeError\u001b[0m                                 Traceback (most recent call last)",
      "\u001b[1;32m<ipython-input-19-f8bb2b116405>\u001b[0m in \u001b[0;36m<module>\u001b[1;34m\u001b[0m\n\u001b[1;32m----> 1\u001b[1;33m \u001b[0ms\u001b[0m\u001b[1;33m[\u001b[0m\u001b[1;36m1\u001b[0m\u001b[1;33m]\u001b[0m\u001b[1;33m\u001b[0m\u001b[1;33m\u001b[0m\u001b[0m\n\u001b[0m",
      "\u001b[1;31mTypeError\u001b[0m: 'set' object is not subscriptable"
     ]
    }
   ],
   "source": [
    "s[1]"
   ]
  },
  {
   "cell_type": "code",
   "execution_count": 20,
   "id": "fa0d7b95",
   "metadata": {},
   "outputs": [
    {
     "data": {
      "text/plain": [
       "{1, 2, 3, 4, 5, 'Vamsi', 'nallam', 'vamsi'}"
      ]
     },
     "execution_count": 20,
     "metadata": {},
     "output_type": "execute_result"
    }
   ],
   "source": [
    "s"
   ]
  },
  {
   "cell_type": "code",
   "execution_count": 26,
   "id": "2f69c469",
   "metadata": {},
   "outputs": [],
   "source": [
    "s2={1,2,3,455,3,455,3443,\"vamsi\",\"sabxksxl\",489999372109,3790192}"
   ]
  },
  {
   "cell_type": "code",
   "execution_count": 27,
   "id": "56ae460b",
   "metadata": {},
   "outputs": [
    {
     "data": {
      "text/plain": [
       "{1, 2, 3, 3443, 3790192, 455, 489999372109, 'sabxksxl', 'vamsi'}"
      ]
     },
     "execution_count": 27,
     "metadata": {},
     "output_type": "execute_result"
    }
   ],
   "source": [
    "s2"
   ]
  },
  {
   "cell_type": "code",
   "execution_count": 28,
   "id": "b5f23429",
   "metadata": {},
   "outputs": [
    {
     "name": "stdout",
     "output_type": "stream",
     "text": [
      "1\n",
      "<class 'int'>\n",
      "2\n",
      "<class 'int'>\n",
      "3\n",
      "<class 'int'>\n",
      "455\n",
      "<class 'int'>\n",
      "sabxksxl\n",
      "<class 'str'>\n",
      "489999372109\n",
      "<class 'int'>\n",
      "3790192\n",
      "<class 'int'>\n",
      "3443\n",
      "<class 'int'>\n",
      "vamsi\n",
      "<class 'str'>\n"
     ]
    }
   ],
   "source": [
    "for i in s2:\n",
    "    print(i)\n",
    "    print(type(i))"
   ]
  },
  {
   "cell_type": "code",
   "execution_count": 29,
   "id": "babcf2c4",
   "metadata": {},
   "outputs": [
    {
     "data": {
      "text/plain": [
       "set()"
      ]
     },
     "execution_count": 29,
     "metadata": {},
     "output_type": "execute_result"
    }
   ],
   "source": [
    "set()"
   ]
  },
  {
   "cell_type": "code",
   "execution_count": 30,
   "id": "9ea24c60",
   "metadata": {},
   "outputs": [],
   "source": [
    "s3=set()"
   ]
  },
  {
   "cell_type": "code",
   "execution_count": 31,
   "id": "b24b1151",
   "metadata": {},
   "outputs": [
    {
     "data": {
      "text/plain": [
       "set()"
      ]
     },
     "execution_count": 31,
     "metadata": {},
     "output_type": "execute_result"
    }
   ],
   "source": [
    "s3"
   ]
  },
  {
   "cell_type": "code",
   "execution_count": 32,
   "id": "3afd3c3b",
   "metadata": {},
   "outputs": [],
   "source": [
    "s3.add(444)"
   ]
  },
  {
   "cell_type": "code",
   "execution_count": 33,
   "id": "5944e648",
   "metadata": {},
   "outputs": [
    {
     "data": {
      "text/plain": [
       "{444}"
      ]
     },
     "execution_count": 33,
     "metadata": {},
     "output_type": "execute_result"
    }
   ],
   "source": [
    "s3"
   ]
  },
  {
   "cell_type": "code",
   "execution_count": 35,
   "id": "ebf36a33",
   "metadata": {},
   "outputs": [],
   "source": [
    "s3.add(\"vamsi\")"
   ]
  },
  {
   "cell_type": "code",
   "execution_count": 36,
   "id": "fbf86423",
   "metadata": {},
   "outputs": [
    {
     "data": {
      "text/plain": [
       "{444, 'vamsi'}"
      ]
     },
     "execution_count": 36,
     "metadata": {},
     "output_type": "execute_result"
    }
   ],
   "source": [
    "s3 "
   ]
  },
  {
   "cell_type": "code",
   "execution_count": 38,
   "id": "66a841c2",
   "metadata": {},
   "outputs": [],
   "source": [
    "s4=set(\"vamsi\")"
   ]
  },
  {
   "cell_type": "code",
   "execution_count": 39,
   "id": "a3eda12e",
   "metadata": {},
   "outputs": [
    {
     "data": {
      "text/plain": [
       "{'a', 'i', 'm', 's', 'v'}"
      ]
     },
     "execution_count": 39,
     "metadata": {},
     "output_type": "execute_result"
    }
   ],
   "source": [
    "s4"
   ]
  },
  {
   "cell_type": "code",
   "execution_count": 40,
   "id": "69e83e0e",
   "metadata": {},
   "outputs": [
    {
     "data": {
      "text/plain": [
       "[1, 3, 5, 4, 2, 'vamsi', 'Vamsi', 'nallam']"
      ]
     },
     "execution_count": 40,
     "metadata": {},
     "output_type": "execute_result"
    }
   ],
   "source": [
    "l"
   ]
  },
  {
   "cell_type": "code",
   "execution_count": 41,
   "id": "037a92f5",
   "metadata": {},
   "outputs": [],
   "source": [
    "s5=set(l)"
   ]
  },
  {
   "cell_type": "code",
   "execution_count": 42,
   "id": "33dc75fb",
   "metadata": {},
   "outputs": [
    {
     "data": {
      "text/plain": [
       "{1, 2, 3, 4, 5, 'Vamsi', 'nallam', 'vamsi'}"
      ]
     },
     "execution_count": 42,
     "metadata": {},
     "output_type": "execute_result"
    }
   ],
   "source": [
    "s5"
   ]
  },
  {
   "cell_type": "code",
   "execution_count": 43,
   "id": "e95ab9f5",
   "metadata": {},
   "outputs": [],
   "source": [
    "l1=list(s5)"
   ]
  },
  {
   "cell_type": "code",
   "execution_count": 44,
   "id": "1b1b7202",
   "metadata": {},
   "outputs": [
    {
     "data": {
      "text/plain": [
       "[1, 2, 3, 4, 5, 'nallam', 'Vamsi', 'vamsi']"
      ]
     },
     "execution_count": 44,
     "metadata": {},
     "output_type": "execute_result"
    }
   ],
   "source": [
    "l1"
   ]
  },
  {
   "cell_type": "code",
   "execution_count": 45,
   "id": "61d909ce",
   "metadata": {},
   "outputs": [],
   "source": [
    "s6={10,}"
   ]
  },
  {
   "cell_type": "code",
   "execution_count": 46,
   "id": "d2f27384",
   "metadata": {},
   "outputs": [
    {
     "data": {
      "text/plain": [
       "{10}"
      ]
     },
     "execution_count": 46,
     "metadata": {},
     "output_type": "execute_result"
    }
   ],
   "source": [
    "s6"
   ]
  },
  {
   "cell_type": "code",
   "execution_count": 49,
   "id": "0d969e88",
   "metadata": {},
   "outputs": [
    {
     "data": {
      "text/plain": [
       "set"
      ]
     },
     "execution_count": 49,
     "metadata": {},
     "output_type": "execute_result"
    }
   ],
   "source": [
    "type(s6)"
   ]
  },
  {
   "cell_type": "code",
   "execution_count": 52,
   "id": "939671f9",
   "metadata": {},
   "outputs": [
    {
     "data": {
      "text/plain": [
       "[1, 3, 5, 4, 2, 'vamsi', 'Vamsi', 'nallam']"
      ]
     },
     "execution_count": 52,
     "metadata": {},
     "output_type": "execute_result"
    }
   ],
   "source": [
    "l"
   ]
  },
  {
   "cell_type": "code",
   "execution_count": 53,
   "id": "6956d867",
   "metadata": {},
   "outputs": [],
   "source": [
    "L=[23,34,55,66,12,\"vamsi\",\"Nallam\",'lucifer',[1,2,3,'devil'],(3,4,6,True)]"
   ]
  },
  {
   "cell_type": "code",
   "execution_count": 54,
   "id": "2d152d7a",
   "metadata": {},
   "outputs": [
    {
     "name": "stdout",
     "output_type": "stream",
     "text": [
      "<class 'int'>\n",
      "<class 'int'>\n",
      "<class 'int'>\n",
      "<class 'int'>\n",
      "<class 'int'>\n",
      "<class 'str'>\n",
      "<class 'str'>\n",
      "<class 'str'>\n",
      "<class 'list'>\n",
      "<class 'tuple'>\n"
     ]
    }
   ],
   "source": [
    "for i in L:\n",
    "    print(type(i))"
   ]
  },
  {
   "cell_type": "code",
   "execution_count": 55,
   "id": "40bdd1fa",
   "metadata": {},
   "outputs": [],
   "source": [
    "T=(3,66,78,9.99,\"chloe\",\"mazikeen\",False,(2,4,7,'god'),[3,7,3,'vamsi'])"
   ]
  },
  {
   "cell_type": "code",
   "execution_count": 57,
   "id": "c8cb5245",
   "metadata": {},
   "outputs": [
    {
     "name": "stdout",
     "output_type": "stream",
     "text": [
      "<class 'int'>\n",
      "<class 'int'>\n",
      "<class 'int'>\n",
      "<class 'float'>\n",
      "<class 'str'>\n",
      "<class 'str'>\n",
      "<class 'bool'>\n",
      "<class 'tuple'>\n",
      "<class 'list'>\n"
     ]
    }
   ],
   "source": [
    "for i in T:\n",
    "    print(type(i))"
   ]
  },
  {
   "cell_type": "code",
   "execution_count": 123,
   "id": "38f66fb2",
   "metadata": {},
   "outputs": [],
   "source": [
    "S={44,23,3.12,True,\"nallam\",\"Vamsi\",(6,8,3,'nalvam')}\n",
    "#a set cannot hold a list."
   ]
  },
  {
   "cell_type": "code",
   "execution_count": 124,
   "id": "39033bf6",
   "metadata": {},
   "outputs": [
    {
     "name": "stdout",
     "output_type": "stream",
     "text": [
      "{True, 3.12, (6, 8, 3, 'nalvam'), 44, 'nallam', 23, 'Vamsi'}\n",
      "<class 'bool'>\n",
      "<class 'float'>\n",
      "<class 'tuple'>\n",
      "<class 'int'>\n",
      "<class 'str'>\n",
      "<class 'int'>\n",
      "<class 'str'>\n"
     ]
    }
   ],
   "source": [
    "print(S)\n",
    "for i in S:\n",
    "    print(type(i))"
   ]
  },
  {
   "cell_type": "code",
   "execution_count": 125,
   "id": "3af6c431",
   "metadata": {},
   "outputs": [],
   "source": [
    "a=10"
   ]
  },
  {
   "cell_type": "code",
   "execution_count": 126,
   "id": "a889133c",
   "metadata": {},
   "outputs": [],
   "source": [
    "a=\"vamsi\""
   ]
  },
  {
   "cell_type": "code",
   "execution_count": 127,
   "id": "b967e546",
   "metadata": {},
   "outputs": [
    {
     "data": {
      "text/plain": [
       "'vamsi'"
      ]
     },
     "execution_count": 127,
     "metadata": {},
     "output_type": "execute_result"
    }
   ],
   "source": [
    "a"
   ]
  },
  {
   "cell_type": "code",
   "execution_count": 128,
   "id": "0458d32e",
   "metadata": {},
   "outputs": [],
   "source": [
    "S1={1,2}\n",
    "for i in S:\n",
    "    S1.add(i)\n",
    "    "
   ]
  },
  {
   "cell_type": "code",
   "execution_count": 129,
   "id": "a96eeefc",
   "metadata": {},
   "outputs": [
    {
     "data": {
      "text/plain": [
       "{(6, 8, 3, 'nalvam'), 1, 2, 23, 3.12, 44, 'Vamsi', 'nallam'}"
      ]
     },
     "execution_count": 129,
     "metadata": {},
     "output_type": "execute_result"
    }
   ],
   "source": [
    "S1"
   ]
  },
  {
   "cell_type": "code",
   "execution_count": 130,
   "id": "c25a00a8",
   "metadata": {},
   "outputs": [
    {
     "data": {
      "text/plain": [
       "set"
      ]
     },
     "execution_count": 130,
     "metadata": {},
     "output_type": "execute_result"
    }
   ],
   "source": [
    "type(S1)"
   ]
  },
  {
   "cell_type": "code",
   "execution_count": 131,
   "id": "e33b89db",
   "metadata": {},
   "outputs": [],
   "source": [
    "S2=set()"
   ]
  },
  {
   "cell_type": "code",
   "execution_count": 132,
   "id": "ee910def",
   "metadata": {},
   "outputs": [
    {
     "data": {
      "text/plain": [
       "set"
      ]
     },
     "execution_count": 132,
     "metadata": {},
     "output_type": "execute_result"
    }
   ],
   "source": [
    "type(S2)"
   ]
  },
  {
   "cell_type": "code",
   "execution_count": 133,
   "id": "fdfb7e0c",
   "metadata": {},
   "outputs": [],
   "source": [
    "L1=L+[{1,2,3,4}]"
   ]
  },
  {
   "cell_type": "code",
   "execution_count": 134,
   "id": "8ef67996",
   "metadata": {},
   "outputs": [
    {
     "data": {
      "text/plain": [
       "[23,\n",
       " 34,\n",
       " 55,\n",
       " 66,\n",
       " 12,\n",
       " 'vamsi',\n",
       " 'Nallam',\n",
       " 'lucifer',\n",
       " [1, 2, 3, 'devil'],\n",
       " (3, 4, 6, True),\n",
       " {1, 2, 3, 4}]"
      ]
     },
     "execution_count": 134,
     "metadata": {},
     "output_type": "execute_result"
    }
   ],
   "source": [
    "L1"
   ]
  },
  {
   "cell_type": "code",
   "execution_count": 135,
   "id": "8a6f9aad",
   "metadata": {},
   "outputs": [
    {
     "name": "stdout",
     "output_type": "stream",
     "text": [
      "<class 'int'>\n",
      "<class 'int'>\n",
      "<class 'int'>\n",
      "<class 'int'>\n",
      "<class 'int'>\n",
      "<class 'str'>\n",
      "<class 'str'>\n",
      "<class 'str'>\n",
      "<class 'list'>\n",
      "<class 'tuple'>\n",
      "<class 'set'>\n"
     ]
    }
   ],
   "source": [
    "for i in L1:\n",
    "    print(type(i))"
   ]
  },
  {
   "cell_type": "code",
   "execution_count": 136,
   "id": "73269ca5",
   "metadata": {},
   "outputs": [],
   "source": [
    "T1=T+({2,4,6},)"
   ]
  },
  {
   "cell_type": "code",
   "execution_count": 137,
   "id": "4ceb789d",
   "metadata": {},
   "outputs": [],
   "source": [
    "f={1,2,3}"
   ]
  },
  {
   "cell_type": "code",
   "execution_count": 138,
   "id": "72d769c6",
   "metadata": {},
   "outputs": [
    {
     "data": {
      "text/plain": [
       "set"
      ]
     },
     "execution_count": 138,
     "metadata": {},
     "output_type": "execute_result"
    }
   ],
   "source": [
    "type(f)"
   ]
  },
  {
   "cell_type": "code",
   "execution_count": 139,
   "id": "bca48c7c",
   "metadata": {},
   "outputs": [],
   "source": [
    "f1=(f,)"
   ]
  },
  {
   "cell_type": "code",
   "execution_count": 140,
   "id": "a23c0aaa",
   "metadata": {},
   "outputs": [
    {
     "data": {
      "text/plain": [
       "tuple"
      ]
     },
     "execution_count": 140,
     "metadata": {},
     "output_type": "execute_result"
    }
   ],
   "source": [
    "type(f1)"
   ]
  },
  {
   "cell_type": "code",
   "execution_count": 141,
   "id": "cd1118d6",
   "metadata": {},
   "outputs": [
    {
     "data": {
      "text/plain": [
       "(3,\n",
       " 66,\n",
       " 78,\n",
       " 9.99,\n",
       " 'chloe',\n",
       " 'mazikeen',\n",
       " False,\n",
       " (2, 4, 7, 'god'),\n",
       " [3, 7, 3, 'vamsi'],\n",
       " {2, 4, 6})"
      ]
     },
     "execution_count": 141,
     "metadata": {},
     "output_type": "execute_result"
    }
   ],
   "source": [
    "T1"
   ]
  },
  {
   "cell_type": "code",
   "execution_count": 142,
   "id": "41c8b3de",
   "metadata": {},
   "outputs": [
    {
     "name": "stdout",
     "output_type": "stream",
     "text": [
      "<class 'int'>\n",
      "<class 'int'>\n",
      "<class 'int'>\n",
      "<class 'float'>\n",
      "<class 'str'>\n",
      "<class 'str'>\n",
      "<class 'bool'>\n",
      "<class 'tuple'>\n",
      "<class 'list'>\n",
      "<class 'set'>\n"
     ]
    }
   ],
   "source": [
    "for i in T1:\n",
    "    print(type(i))"
   ]
  },
  {
   "cell_type": "code",
   "execution_count": 143,
   "id": "47456fbb",
   "metadata": {},
   "outputs": [],
   "source": [
    "T2=T+([2,3,4],)"
   ]
  },
  {
   "cell_type": "code",
   "execution_count": 144,
   "id": "26a4aba8",
   "metadata": {},
   "outputs": [
    {
     "data": {
      "text/plain": [
       "(3,\n",
       " 66,\n",
       " 78,\n",
       " 9.99,\n",
       " 'chloe',\n",
       " 'mazikeen',\n",
       " False,\n",
       " (2, 4, 7, 'god'),\n",
       " [3, 7, 3, 'vamsi'],\n",
       " [2, 3, 4])"
      ]
     },
     "execution_count": 144,
     "metadata": {},
     "output_type": "execute_result"
    }
   ],
   "source": [
    "T2"
   ]
  },
  {
   "cell_type": "code",
   "execution_count": 145,
   "id": "28560836",
   "metadata": {},
   "outputs": [
    {
     "data": {
      "text/plain": [
       "(1, 2, 3, 4)"
      ]
     },
     "execution_count": 145,
     "metadata": {},
     "output_type": "execute_result"
    }
   ],
   "source": [
    "tuple([1,2,3,4])"
   ]
  },
  {
   "cell_type": "code",
   "execution_count": 146,
   "id": "c839a152",
   "metadata": {},
   "outputs": [
    {
     "data": {
      "text/plain": [
       "{(6, 8, 3, 'nalvam'), 23, 3.12, 44, True, 'Vamsi', 'nallam'}"
      ]
     },
     "execution_count": 146,
     "metadata": {},
     "output_type": "execute_result"
    }
   ],
   "source": [
    "S"
   ]
  },
  {
   "cell_type": "code",
   "execution_count": 147,
   "id": "26a30f83",
   "metadata": {},
   "outputs": [
    {
     "data": {
      "text/plain": [
       "{(6, 8, 3, 'nalvam'), 23, 3.12, 44, True, 'Vamsi', 'nallam'}"
      ]
     },
     "execution_count": 147,
     "metadata": {},
     "output_type": "execute_result"
    }
   ],
   "source": [
    "S"
   ]
  },
  {
   "cell_type": "code",
   "execution_count": 148,
   "id": "9153ed52",
   "metadata": {},
   "outputs": [],
   "source": [
    "S.add(100)"
   ]
  },
  {
   "cell_type": "code",
   "execution_count": 149,
   "id": "5e4ad0f4",
   "metadata": {},
   "outputs": [
    {
     "data": {
      "text/plain": [
       "{(6, 8, 3, 'nalvam'), 100, 23, 3.12, 44, True, 'Vamsi', 'nallam'}"
      ]
     },
     "execution_count": 149,
     "metadata": {},
     "output_type": "execute_result"
    }
   ],
   "source": [
    "S"
   ]
  },
  {
   "cell_type": "code",
   "execution_count": 150,
   "id": "40ead176",
   "metadata": {},
   "outputs": [],
   "source": [
    "S.remove(100)"
   ]
  },
  {
   "cell_type": "code",
   "execution_count": 151,
   "id": "be3f1191",
   "metadata": {},
   "outputs": [
    {
     "data": {
      "text/plain": [
       "{(6, 8, 3, 'nalvam'), 23, 3.12, 44, True, 'Vamsi', 'nallam'}"
      ]
     },
     "execution_count": 151,
     "metadata": {},
     "output_type": "execute_result"
    }
   ],
   "source": [
    "S"
   ]
  },
  {
   "cell_type": "code",
   "execution_count": 152,
   "id": "ea17adcb",
   "metadata": {},
   "outputs": [],
   "source": [
    "x={}"
   ]
  },
  {
   "cell_type": "code",
   "execution_count": 153,
   "id": "5a644dc4",
   "metadata": {},
   "outputs": [
    {
     "data": {
      "text/plain": [
       "dict"
      ]
     },
     "execution_count": 153,
     "metadata": {},
     "output_type": "execute_result"
    }
   ],
   "source": [
    "type(x)"
   ]
  },
  {
   "cell_type": "code",
   "execution_count": 156,
   "id": "91cd4cae",
   "metadata": {},
   "outputs": [],
   "source": [
    "x1={1}"
   ]
  },
  {
   "cell_type": "code",
   "execution_count": 157,
   "id": "8ba8b67c",
   "metadata": {},
   "outputs": [
    {
     "data": {
      "text/plain": [
       "set"
      ]
     },
     "execution_count": 157,
     "metadata": {},
     "output_type": "execute_result"
    }
   ],
   "source": [
    "type(x1)"
   ]
  },
  {
   "cell_type": "code",
   "execution_count": 158,
   "id": "6407a8e0",
   "metadata": {},
   "outputs": [
    {
     "data": {
      "text/plain": [
       "{}"
      ]
     },
     "execution_count": 158,
     "metadata": {},
     "output_type": "execute_result"
    }
   ],
   "source": [
    "dict()"
   ]
  },
  {
   "cell_type": "code",
   "execution_count": 159,
   "id": "8ccad3dc",
   "metadata": {},
   "outputs": [],
   "source": [
    "d={\"name\":\"vamsi\",\"age\":20}"
   ]
  },
  {
   "cell_type": "code",
   "execution_count": 160,
   "id": "ca937871",
   "metadata": {},
   "outputs": [
    {
     "data": {
      "text/plain": [
       "{'name': 'vamsi', 'age': 20}"
      ]
     },
     "execution_count": 160,
     "metadata": {},
     "output_type": "execute_result"
    }
   ],
   "source": [
    "d"
   ]
  },
  {
   "cell_type": "code",
   "execution_count": 165,
   "id": "7269bb22",
   "metadata": {},
   "outputs": [
    {
     "data": {
      "text/plain": [
       "'vamsi'"
      ]
     },
     "execution_count": 165,
     "metadata": {},
     "output_type": "execute_result"
    }
   ],
   "source": [
    "d['name']"
   ]
  },
  {
   "cell_type": "code",
   "execution_count": 166,
   "id": "99a8d54d",
   "metadata": {},
   "outputs": [
    {
     "data": {
      "text/plain": [
       "20"
      ]
     },
     "execution_count": 166,
     "metadata": {},
     "output_type": "execute_result"
    }
   ],
   "source": [
    "d['age']"
   ]
  },
  {
   "cell_type": "code",
   "execution_count": 167,
   "id": "aecc3a47",
   "metadata": {},
   "outputs": [
    {
     "data": {
      "text/plain": [
       "dict"
      ]
     },
     "execution_count": 167,
     "metadata": {},
     "output_type": "execute_result"
    }
   ],
   "source": [
    "type(d)"
   ]
  },
  {
   "cell_type": "code",
   "execution_count": 168,
   "id": "c0a46c5f",
   "metadata": {},
   "outputs": [
    {
     "data": {
      "text/plain": [
       "2"
      ]
     },
     "execution_count": 168,
     "metadata": {},
     "output_type": "execute_result"
    }
   ],
   "source": [
    "len(d)"
   ]
  },
  {
   "cell_type": "code",
   "execution_count": 172,
   "id": "d8138564",
   "metadata": {},
   "outputs": [
    {
     "name": "stdout",
     "output_type": "stream",
     "text": [
      "name\n",
      "age\n"
     ]
    }
   ],
   "source": [
    "for i in d:\n",
    "    print(i)"
   ]
  },
  {
   "cell_type": "code",
   "execution_count": 232,
   "id": "1402c9b3",
   "metadata": {},
   "outputs": [],
   "source": [
    "D={\"name\":'vamsi',\"age\":20,\"name\":\"nallam\",True:\"devil\",123:2345,False:\"lucifer\",\"key\":3+4j,\n",
    "   (1,2,3):123334,12_2:123,\"list\":[1,2,3],\"tup\":(2,4,6),\"dict\":{\"nn\":269,\"mm\":\"vamsiii\"},\"set\":{1,2,3}}"
   ]
  },
  {
   "cell_type": "code",
   "execution_count": 233,
   "id": "7a080dd1",
   "metadata": {},
   "outputs": [
    {
     "data": {
      "text/plain": [
       "{'name': 'nallam',\n",
       " 'age': 20,\n",
       " True: 'devil',\n",
       " 123: 2345,\n",
       " False: 'lucifer',\n",
       " 'key': (3+4j),\n",
       " (1, 2, 3): 123334,\n",
       " 122: 123,\n",
       " 'list': [1, 2, 3],\n",
       " 'tup': (2, 4, 6),\n",
       " 'dict': {'nn': 269, 'mm': 'vamsiii'},\n",
       " 'set': {1, 2, 3}}"
      ]
     },
     "execution_count": 233,
     "metadata": {},
     "output_type": "execute_result"
    }
   ],
   "source": [
    "D"
   ]
  },
  {
   "cell_type": "code",
   "execution_count": 234,
   "id": "461f32c4",
   "metadata": {},
   "outputs": [
    {
     "data": {
      "text/plain": [
       "12"
      ]
     },
     "execution_count": 234,
     "metadata": {},
     "output_type": "execute_result"
    }
   ],
   "source": [
    "len(D)"
   ]
  },
  {
   "cell_type": "code",
   "execution_count": 235,
   "id": "07d73004",
   "metadata": {},
   "outputs": [
    {
     "data": {
      "text/plain": [
       "'lucifer'"
      ]
     },
     "execution_count": 235,
     "metadata": {},
     "output_type": "execute_result"
    }
   ],
   "source": [
    "D[0]"
   ]
  },
  {
   "cell_type": "code",
   "execution_count": 236,
   "id": "3ae86335",
   "metadata": {},
   "outputs": [
    {
     "name": "stdout",
     "output_type": "stream",
     "text": [
      "name\n",
      "age\n",
      "True\n",
      "123\n",
      "False\n",
      "key\n",
      "(1, 2, 3)\n",
      "122\n",
      "list\n",
      "tup\n",
      "dict\n",
      "set\n"
     ]
    }
   ],
   "source": [
    "for i in D:\n",
    "    print(i)"
   ]
  },
  {
   "cell_type": "code",
   "execution_count": 237,
   "id": "72324454",
   "metadata": {},
   "outputs": [
    {
     "data": {
      "text/plain": [
       "{'name': 'nallam',\n",
       " 'age': 20,\n",
       " True: 'devil',\n",
       " 123: 2345,\n",
       " False: 'lucifer',\n",
       " 'key': (3+4j),\n",
       " (1, 2, 3): 123334,\n",
       " 122: 123,\n",
       " 'list': [1, 2, 3],\n",
       " 'tup': (2, 4, 6),\n",
       " 'dict': {'nn': 269, 'mm': 'vamsiii'},\n",
       " 'set': {1, 2, 3}}"
      ]
     },
     "execution_count": 237,
     "metadata": {},
     "output_type": "execute_result"
    }
   ],
   "source": [
    "D"
   ]
  },
  {
   "cell_type": "code",
   "execution_count": 238,
   "id": "ed9cac92",
   "metadata": {},
   "outputs": [
    {
     "data": {
      "text/plain": [
       "'nallam'"
      ]
     },
     "execution_count": 238,
     "metadata": {},
     "output_type": "execute_result"
    }
   ],
   "source": [
    "D['name']"
   ]
  },
  {
   "cell_type": "code",
   "execution_count": 239,
   "id": "6d6f6680",
   "metadata": {},
   "outputs": [
    {
     "data": {
      "text/plain": [
       "{'nn': 269, 'mm': 'vamsiii'}"
      ]
     },
     "execution_count": 239,
     "metadata": {},
     "output_type": "execute_result"
    }
   ],
   "source": [
    "D['dict']"
   ]
  },
  {
   "cell_type": "code",
   "execution_count": 243,
   "id": "bf4c1595",
   "metadata": {},
   "outputs": [
    {
     "name": "stdout",
     "output_type": "stream",
     "text": [
      "name nallam <class 'str'>\n",
      "age 20 <class 'int'>\n",
      "True devil <class 'str'>\n",
      "123 2345 <class 'int'>\n",
      "False lucifer <class 'str'>\n",
      "key (3+4j) <class 'complex'>\n",
      "(1, 2, 3) 123334 <class 'int'>\n",
      "122 123 <class 'int'>\n",
      "list [1, 2, 3] <class 'list'>\n",
      "tup (2, 4, 6) <class 'tuple'>\n",
      "dict {'nn': 269, 'mm': 'vamsiii'} <class 'dict'>\n",
      "set {1, 2, 3} <class 'set'>\n"
     ]
    }
   ],
   "source": [
    "for i in D:\n",
    "    print(i,D[i],type(D[i]))"
   ]
  },
  {
   "cell_type": "code",
   "execution_count": 245,
   "id": "adc45c3b",
   "metadata": {},
   "outputs": [
    {
     "data": {
      "text/plain": [
       "3"
      ]
     },
     "execution_count": 245,
     "metadata": {},
     "output_type": "execute_result"
    }
   ],
   "source": [
    "D[\"list\"][2]"
   ]
  },
  {
   "cell_type": "code",
   "execution_count": 250,
   "id": "0aed0f89",
   "metadata": {},
   "outputs": [
    {
     "data": {
      "text/plain": [
       "['name',\n",
       " 'age',\n",
       " True,\n",
       " 123,\n",
       " False,\n",
       " 'key',\n",
       " (1, 2, 3),\n",
       " 122,\n",
       " 'list',\n",
       " 'tup',\n",
       " 'dict',\n",
       " 'set']"
      ]
     },
     "execution_count": 250,
     "metadata": {},
     "output_type": "execute_result"
    }
   ],
   "source": [
    "list(D)"
   ]
  },
  {
   "cell_type": "code",
   "execution_count": 251,
   "id": "1a7d7abf",
   "metadata": {},
   "outputs": [
    {
     "data": {
      "text/plain": [
       "('name',\n",
       " 'age',\n",
       " True,\n",
       " 123,\n",
       " False,\n",
       " 'key',\n",
       " (1, 2, 3),\n",
       " 122,\n",
       " 'list',\n",
       " 'tup',\n",
       " 'dict',\n",
       " 'set')"
      ]
     },
     "execution_count": 251,
     "metadata": {},
     "output_type": "execute_result"
    }
   ],
   "source": [
    "tuple(D)"
   ]
  },
  {
   "cell_type": "code",
   "execution_count": 252,
   "id": "07291e7a",
   "metadata": {},
   "outputs": [
    {
     "data": {
      "text/plain": [
       "{'name': 'nallam',\n",
       " 'age': 20,\n",
       " True: 'devil',\n",
       " 123: 2345,\n",
       " False: 'lucifer',\n",
       " 'key': (3+4j),\n",
       " (1, 2, 3): 123334,\n",
       " 122: 123,\n",
       " 'list': [1, 2, 3],\n",
       " 'tup': (2, 4, 6),\n",
       " 'dict': {'nn': 269, 'mm': 'vamsiii'},\n",
       " 'set': {1, 2, 3}}"
      ]
     },
     "execution_count": 252,
     "metadata": {},
     "output_type": "execute_result"
    }
   ],
   "source": [
    "D"
   ]
  },
  {
   "cell_type": "code",
   "execution_count": 255,
   "id": "ba19e740",
   "metadata": {},
   "outputs": [
    {
     "data": {
      "text/plain": [
       "[23,\n",
       " 34,\n",
       " 55,\n",
       " 66,\n",
       " 12,\n",
       " 'vamsi',\n",
       " 'Nallam',\n",
       " 'lucifer',\n",
       " [1, 2, 3, 'devil'],\n",
       " (3, 4, 6, True)]"
      ]
     },
     "execution_count": 255,
     "metadata": {},
     "output_type": "execute_result"
    }
   ],
   "source": [
    "L"
   ]
  },
  {
   "cell_type": "code",
   "execution_count": 256,
   "id": "7906a9f9",
   "metadata": {},
   "outputs": [],
   "source": [
    "D1={\"name\":'vamsi',\"age\":21,True:123}"
   ]
  },
  {
   "cell_type": "code",
   "execution_count": 257,
   "id": "4b249e23",
   "metadata": {},
   "outputs": [
    {
     "data": {
      "text/plain": [
       "{'name': 'vamsi', 'age': 21, True: 123}"
      ]
     },
     "execution_count": 257,
     "metadata": {},
     "output_type": "execute_result"
    }
   ],
   "source": [
    "D1"
   ]
  },
  {
   "cell_type": "code",
   "execution_count": 258,
   "id": "b154b630",
   "metadata": {},
   "outputs": [],
   "source": [
    "D1[\"name\"]=\"nallam\""
   ]
  },
  {
   "cell_type": "code",
   "execution_count": 259,
   "id": "b2751b5c",
   "metadata": {},
   "outputs": [
    {
     "data": {
      "text/plain": [
       "{'name': 'nallam', 'age': 21, True: 123}"
      ]
     },
     "execution_count": 259,
     "metadata": {},
     "output_type": "execute_result"
    }
   ],
   "source": [
    "D1"
   ]
  },
  {
   "cell_type": "code",
   "execution_count": 260,
   "id": "c691ef07",
   "metadata": {},
   "outputs": [
    {
     "data": {
      "text/plain": [
       "dict_keys(['name', 'age', True, 123, False, 'key', (1, 2, 3), 122, 'list', 'tup', 'dict', 'set'])"
      ]
     },
     "execution_count": 260,
     "metadata": {},
     "output_type": "execute_result"
    }
   ],
   "source": [
    "D.keys()"
   ]
  },
  {
   "cell_type": "code",
   "execution_count": 261,
   "id": "8ab94c8b",
   "metadata": {},
   "outputs": [
    {
     "data": {
      "text/plain": [
       "dict_values(['nallam', 20, 'devil', 2345, 'lucifer', (3+4j), 123334, 123, [1, 2, 3], (2, 4, 6), {'nn': 269, 'mm': 'vamsiii'}, {1, 2, 3}])"
      ]
     },
     "execution_count": 261,
     "metadata": {},
     "output_type": "execute_result"
    }
   ],
   "source": [
    "D.values()"
   ]
  },
  {
   "cell_type": "code",
   "execution_count": 262,
   "id": "9f686e37",
   "metadata": {},
   "outputs": [
    {
     "data": {
      "text/plain": [
       "dict_items([('name', 'nallam'), ('age', 20), (True, 'devil'), (123, 2345), (False, 'lucifer'), ('key', (3+4j)), ((1, 2, 3), 123334), (122, 123), ('list', [1, 2, 3]), ('tup', (2, 4, 6)), ('dict', {'nn': 269, 'mm': 'vamsiii'}), ('set', {1, 2, 3})])"
      ]
     },
     "execution_count": 262,
     "metadata": {},
     "output_type": "execute_result"
    }
   ],
   "source": [
    "D.items()"
   ]
  },
  {
   "cell_type": "code",
   "execution_count": 263,
   "id": "005e6af4",
   "metadata": {},
   "outputs": [
    {
     "data": {
      "text/plain": [
       "dict_items"
      ]
     },
     "execution_count": 263,
     "metadata": {},
     "output_type": "execute_result"
    }
   ],
   "source": [
    "type(D.items())"
   ]
  },
  {
   "cell_type": "code",
   "execution_count": 265,
   "id": "1b67fb4f",
   "metadata": {},
   "outputs": [
    {
     "name": "stdout",
     "output_type": "stream",
     "text": [
      "('name', 'nallam') <class 'tuple'>\n",
      "('age', 20) <class 'tuple'>\n",
      "(True, 'devil') <class 'tuple'>\n",
      "(123, 2345) <class 'tuple'>\n",
      "(False, 'lucifer') <class 'tuple'>\n",
      "('key', (3+4j)) <class 'tuple'>\n",
      "((1, 2, 3), 123334) <class 'tuple'>\n",
      "(122, 123) <class 'tuple'>\n",
      "('list', [1, 2, 3]) <class 'tuple'>\n",
      "('tup', (2, 4, 6)) <class 'tuple'>\n",
      "('dict', {'nn': 269, 'mm': 'vamsiii'}) <class 'tuple'>\n",
      "('set', {1, 2, 3}) <class 'tuple'>\n"
     ]
    }
   ],
   "source": [
    "for i in D.items():\n",
    "    print(i,type(i))"
   ]
  },
  {
   "cell_type": "code",
   "execution_count": 266,
   "id": "dface82b",
   "metadata": {},
   "outputs": [
    {
     "data": {
      "text/plain": [
       "{'name': 'nallam', 'age': 21, True: 123}"
      ]
     },
     "execution_count": 266,
     "metadata": {},
     "output_type": "execute_result"
    }
   ],
   "source": [
    "D1"
   ]
  },
  {
   "cell_type": "code",
   "execution_count": 269,
   "id": "0c295ed6",
   "metadata": {},
   "outputs": [
    {
     "name": "stdout",
     "output_type": "stream",
     "text": [
      "('name', 'nallam') name nallam\n",
      "('age', 21) age 21\n",
      "(True, 123) True 123\n"
     ]
    }
   ],
   "source": [
    "for i in D1.items():\n",
    "    print(i,i[0],i[1])"
   ]
  },
  {
   "cell_type": "code",
   "execution_count": 4,
   "id": "47ffd18d",
   "metadata": {},
   "outputs": [
    {
     "name": "stdout",
     "output_type": "stream",
     "text": [
      "enter a scentence with space atlast: my name is name vamsi iam studying btech 3rd 3rd year \n",
      "['my', 'name', 'is', 'name', 'vamsi', 'iam', 'studying', 'btech', '3rd', '3rd', 'year']\n",
      "['my', 'name', 'is', 'vamsi', 'iam', 'studying', 'btech', '3rd', 'year']\n",
      "{'my': 'vamsi', 'name': 'vamsi', 'is': 'vamsi', 'vamsi': 'vamsi', 'iam': 'vamsi', 'studying': 'vamsi', 'btech': 'vamsi', '3rd': 'vamsi', 'year': 'vamsi'}\n",
      "(('my', 'vamsi'), ('name', 'vamsi'), ('is', 'vamsi'), ('vamsi', 'vamsi'), ('iam', 'vamsi'), ('studying', 'vamsi'), ('btech', 'vamsi'), ('3rd', 'vamsi'), ('year', 'vamsi'))\n",
      "[('my', 'vamsi'), ('name', 'vamsi'), ('is', 'vamsi'), ('vamsi', 'vamsi'), ('iam', 'vamsi'), ('studying', 'vamsi'), ('btech', 'vamsi'), ('3rd', 'vamsi'), ('year', 'vamsi')]\n"
     ]
    }
   ],
   "source": [
    "inp=input(\"enter a scentence with space atlast: \")\n",
    "l=[]\n",
    "s=''\n",
    "count=0\n",
    "for i in range(len(inp)):\n",
    "    if inp[i]==\" \":\n",
    "        l=l+[s]\n",
    "        s=''\n",
    "    else:\n",
    "        s=s+inp[i]\n",
    "print(l) \n",
    "print('\\r')\n",
    "L=[]\n",
    "for j in l:\n",
    "    if j in L:\n",
    "        continue\n",
    "    else:\n",
    "        L=L+[j]\n",
    "print(L)\n",
    "print('\\r')\n",
    "d={}\n",
    "for k in L:\n",
    "    d[k]=\"vamsi\"\n",
    "print(d)\n",
    "print('\\r')\n",
    "print(tuple(d.items()))\n",
    "print('\\r')\n",
    "print(list(d.items()))"
   ]
  },
  {
   "cell_type": "code",
   "execution_count": 2,
   "id": "a96c0ed5",
   "metadata": {},
   "outputs": [
    {
     "name": "stdout",
     "output_type": "stream",
     "text": [
      "enter a scentence: my name is vamsi vamsi iam studying btech btech 3rd year\n",
      "['my', 'name', 'is', 'vamsi', 'vamsi', 'iam', 'studying', 'btech', 'btech', '3rd', 'year']\n",
      "{'3rd', 'studying', 'name', 'year', 'iam', 'my', 'btech', 'vamsi', 'is'}\n",
      "{'3rd': 'vamsi', 'studying': 'vamsi', 'name': 'vamsi', 'year': 'vamsi', 'iam': 'vamsi', 'my': 'vamsi', 'btech': 'vamsi', 'vamsi': 'vamsi', 'is': 'vamsi'}\n",
      "(('3rd', 'vamsi'), ('studying', 'vamsi'), ('name', 'vamsi'), ('year', 'vamsi'), ('iam', 'vamsi'), ('my', 'vamsi'), ('btech', 'vamsi'), ('vamsi', 'vamsi'), ('is', 'vamsi'))\n",
      "[('3rd', 'vamsi'), ('studying', 'vamsi'), ('name', 'vamsi'), ('year', 'vamsi'), ('iam', 'vamsi'), ('my', 'vamsi'), ('btech', 'vamsi'), ('vamsi', 'vamsi'), ('is', 'vamsi')]\n"
     ]
    }
   ],
   "source": [
    "in1=input(\"enter a scentence: \")\n",
    "l=in1.split(\" \")\n",
    "print(l)\n",
    "l1=set(l)\n",
    "print(l1)\n",
    "d=dict.fromkeys(l1,\"vamsi\")\n",
    "print(d)\n",
    "print(tuple(d.items()))\n",
    "print(list(d.items()))"
   ]
  },
  {
   "cell_type": "code",
   "execution_count": null,
   "id": "ec6bc07b",
   "metadata": {},
   "outputs": [],
   "source": []
  }
 ],
 "metadata": {
  "kernelspec": {
   "display_name": "Python 3",
   "language": "python",
   "name": "python3"
  },
  "language_info": {
   "codemirror_mode": {
    "name": "ipython",
    "version": 3
   },
   "file_extension": ".py",
   "mimetype": "text/x-python",
   "name": "python",
   "nbconvert_exporter": "python",
   "pygments_lexer": "ipython3",
   "version": "3.8.8"
  }
 },
 "nbformat": 4,
 "nbformat_minor": 5
}
