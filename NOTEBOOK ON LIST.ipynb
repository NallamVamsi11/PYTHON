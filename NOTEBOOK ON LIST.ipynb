{
 "cells": [
  {
   "cell_type": "code",
   "execution_count": 1,
   "id": "93914052",
   "metadata": {},
   "outputs": [],
   "source": [
    "l=[\"vamsi\",1224,1.233,True,4+5j,[\"nallam\",False,345]]"
   ]
  },
  {
   "cell_type": "code",
   "execution_count": 2,
   "id": "9358c483",
   "metadata": {},
   "outputs": [
    {
     "name": "stdout",
     "output_type": "stream",
     "text": [
      "vamsi\n",
      "1224\n",
      "1.233\n",
      "True\n",
      "(4+5j)\n",
      "['nallam', False, 345]\n"
     ]
    }
   ],
   "source": [
    "for i in range(len(l)):\n",
    "    print(l[i])"
   ]
  },
  {
   "cell_type": "code",
   "execution_count": 4,
   "id": "888c2e1e",
   "metadata": {},
   "outputs": [
    {
     "name": "stdout",
     "output_type": "stream",
     "text": [
      "vamsi\n",
      "1224\n",
      "1.233\n",
      "True\n",
      "(4+5j)\n",
      "['nallam', False, 345]\n"
     ]
    }
   ],
   "source": [
    "for i in l:\n",
    "    print(i)"
   ]
  },
  {
   "cell_type": "code",
   "execution_count": 5,
   "id": "da4c1ae2",
   "metadata": {},
   "outputs": [
    {
     "name": "stdout",
     "output_type": "stream",
     "text": [
      "<class 'str'>\n",
      "<class 'int'>\n",
      "<class 'float'>\n",
      "<class 'bool'>\n",
      "<class 'complex'>\n",
      "<class 'list'>\n"
     ]
    }
   ],
   "source": [
    "for i in l:\n",
    "    print(type(i))"
   ]
  },
  {
   "cell_type": "code",
   "execution_count": 10,
   "id": "7b7f0d6e",
   "metadata": {},
   "outputs": [],
   "source": [
    "l1=list(range(10))\n",
    "#argument must be a iterable."
   ]
  },
  {
   "cell_type": "code",
   "execution_count": 11,
   "id": "8f1f7096",
   "metadata": {},
   "outputs": [
    {
     "data": {
      "text/plain": [
       "[0, 1, 2, 3, 4, 5, 6, 7, 8, 9]"
      ]
     },
     "execution_count": 11,
     "metadata": {},
     "output_type": "execute_result"
    }
   ],
   "source": [
    "l1"
   ]
  },
  {
   "cell_type": "code",
   "execution_count": 15,
   "id": "397fa76a",
   "metadata": {},
   "outputs": [],
   "source": [
    "l2=[]\n",
    "l3=list()\n",
    "#empty lists"
   ]
  },
  {
   "cell_type": "code",
   "execution_count": 16,
   "id": "a7637489",
   "metadata": {},
   "outputs": [
    {
     "data": {
      "text/plain": [
       "[]"
      ]
     },
     "execution_count": 16,
     "metadata": {},
     "output_type": "execute_result"
    }
   ],
   "source": [
    "l2"
   ]
  },
  {
   "cell_type": "code",
   "execution_count": 17,
   "id": "479b6e8f",
   "metadata": {},
   "outputs": [
    {
     "data": {
      "text/plain": [
       "[]"
      ]
     },
     "execution_count": 17,
     "metadata": {},
     "output_type": "execute_result"
    }
   ],
   "source": [
    "l3"
   ]
  },
  {
   "cell_type": "code",
   "execution_count": 18,
   "id": "811e6b8a",
   "metadata": {},
   "outputs": [],
   "source": [
    "l4=list(l)"
   ]
  },
  {
   "cell_type": "code",
   "execution_count": 19,
   "id": "e25ddffd",
   "metadata": {},
   "outputs": [
    {
     "data": {
      "text/plain": [
       "['vamsi', 1224, 1.233, True, (4+5j), ['nallam', False, 345]]"
      ]
     },
     "execution_count": 19,
     "metadata": {},
     "output_type": "execute_result"
    }
   ],
   "source": [
    "l4"
   ]
  },
  {
   "cell_type": "code",
   "execution_count": 23,
   "id": "a038e4ea",
   "metadata": {},
   "outputs": [
    {
     "data": {
      "text/plain": [
       "3222"
      ]
     },
     "execution_count": 23,
     "metadata": {},
     "output_type": "execute_result"
    }
   ],
   "source": [
    "max(1,2,3222,4)"
   ]
  },
  {
   "cell_type": "code",
   "execution_count": 24,
   "id": "7c3050e4",
   "metadata": {},
   "outputs": [
    {
     "data": {
      "text/plain": [
       "'v'"
      ]
     },
     "execution_count": 24,
     "metadata": {},
     "output_type": "execute_result"
    }
   ],
   "source": [
    "max(\"vamsi\")"
   ]
  },
  {
   "cell_type": "code",
   "execution_count": 27,
   "id": "8f84aa48",
   "metadata": {},
   "outputs": [
    {
     "data": {
      "text/plain": [
       "'nallam'"
      ]
     },
     "execution_count": 27,
     "metadata": {},
     "output_type": "execute_result"
    }
   ],
   "source": [
    "max(\"vamsi\",\"nallam\",key=len)"
   ]
  },
  {
   "cell_type": "code",
   "execution_count": 28,
   "id": "7b1fa8d0",
   "metadata": {},
   "outputs": [
    {
     "ename": "TypeError",
     "evalue": "'>' not supported between instances of 'int' and 'str'",
     "output_type": "error",
     "traceback": [
      "\u001b[1;31m---------------------------------------------------------------------------\u001b[0m",
      "\u001b[1;31mTypeError\u001b[0m                                 Traceback (most recent call last)",
      "\u001b[1;32m<ipython-input-28-fd8eeca349cc>\u001b[0m in \u001b[0;36m<module>\u001b[1;34m\u001b[0m\n\u001b[1;32m----> 1\u001b[1;33m \u001b[0mmax\u001b[0m\u001b[1;33m(\u001b[0m\u001b[0ml\u001b[0m\u001b[1;33m)\u001b[0m\u001b[1;33m\u001b[0m\u001b[1;33m\u001b[0m\u001b[0m\n\u001b[0m",
      "\u001b[1;31mTypeError\u001b[0m: '>' not supported between instances of 'int' and 'str'"
     ]
    }
   ],
   "source": [
    "max(l)"
   ]
  },
  {
   "cell_type": "code",
   "execution_count": 29,
   "id": "bf328bf1",
   "metadata": {},
   "outputs": [
    {
     "data": {
      "text/plain": [
       "['vamsi', 1224, 1.233, True, (4+5j), ['nallam', False, 345]]"
      ]
     },
     "execution_count": 29,
     "metadata": {},
     "output_type": "execute_result"
    }
   ],
   "source": [
    "l"
   ]
  },
  {
   "cell_type": "code",
   "execution_count": 30,
   "id": "82094d05",
   "metadata": {},
   "outputs": [],
   "source": [
    "l[1]=3456"
   ]
  },
  {
   "cell_type": "code",
   "execution_count": 31,
   "id": "1f9d35b2",
   "metadata": {},
   "outputs": [
    {
     "data": {
      "text/plain": [
       "['vamsi', 3456, 1.233, True, (4+5j), ['nallam', False, 345]]"
      ]
     },
     "execution_count": 31,
     "metadata": {},
     "output_type": "execute_result"
    }
   ],
   "source": [
    "l"
   ]
  },
  {
   "cell_type": "code",
   "execution_count": 32,
   "id": "7d8cd34e",
   "metadata": {},
   "outputs": [],
   "source": [
    "#item assignment is possible so list is an mutaable object"
   ]
  },
  {
   "cell_type": "code",
   "execution_count": 33,
   "id": "6c651704",
   "metadata": {},
   "outputs": [],
   "source": [
    "x=[\"vamsi\",2334]\n",
    "y=[\"nallam\",1.22322]"
   ]
  },
  {
   "cell_type": "code",
   "execution_count": 34,
   "id": "7f360f04",
   "metadata": {},
   "outputs": [
    {
     "data": {
      "text/plain": [
       "['vamsi', 2334, 'nallam', 1.22322]"
      ]
     },
     "execution_count": 34,
     "metadata": {},
     "output_type": "execute_result"
    }
   ],
   "source": [
    "x+y"
   ]
  },
  {
   "cell_type": "code",
   "execution_count": 35,
   "id": "a74f7247",
   "metadata": {},
   "outputs": [
    {
     "data": {
      "text/plain": [
       "['vamsi', 2334]"
      ]
     },
     "execution_count": 35,
     "metadata": {},
     "output_type": "execute_result"
    }
   ],
   "source": [
    "x"
   ]
  },
  {
   "cell_type": "code",
   "execution_count": 36,
   "id": "448d374f",
   "metadata": {},
   "outputs": [
    {
     "data": {
      "text/plain": [
       "['nallam', 1.22322]"
      ]
     },
     "execution_count": 36,
     "metadata": {},
     "output_type": "execute_result"
    }
   ],
   "source": [
    "y"
   ]
  },
  {
   "cell_type": "code",
   "execution_count": 37,
   "id": "174049cf",
   "metadata": {},
   "outputs": [],
   "source": [
    "z=x+y"
   ]
  },
  {
   "cell_type": "code",
   "execution_count": 38,
   "id": "df514acc",
   "metadata": {},
   "outputs": [
    {
     "data": {
      "text/plain": [
       "['vamsi', 2334, 'nallam', 1.22322]"
      ]
     },
     "execution_count": 38,
     "metadata": {},
     "output_type": "execute_result"
    }
   ],
   "source": [
    "z"
   ]
  },
  {
   "cell_type": "code",
   "execution_count": 39,
   "id": "05822c2d",
   "metadata": {},
   "outputs": [
    {
     "data": {
      "text/plain": [
       "['vamsi',\n",
       " 2334,\n",
       " 'nallam',\n",
       " 1.22322,\n",
       " 'vamsi',\n",
       " 2334,\n",
       " 'nallam',\n",
       " 1.22322,\n",
       " 'vamsi',\n",
       " 2334,\n",
       " 'nallam',\n",
       " 1.22322]"
      ]
     },
     "execution_count": 39,
     "metadata": {},
     "output_type": "execute_result"
    }
   ],
   "source": [
    "z*3"
   ]
  },
  {
   "cell_type": "code",
   "execution_count": 40,
   "id": "6735779f",
   "metadata": {},
   "outputs": [
    {
     "data": {
      "text/plain": [
       "['vamsi', 2334, 'nallam', 1.22322]"
      ]
     },
     "execution_count": 40,
     "metadata": {},
     "output_type": "execute_result"
    }
   ],
   "source": [
    "z"
   ]
  },
  {
   "cell_type": "code",
   "execution_count": 41,
   "id": "1bab1e33",
   "metadata": {},
   "outputs": [],
   "source": [
    "p=[\"vamsi\",234,\"nallam\",1.555,True,3+4.5j,[1,2,3]]"
   ]
  },
  {
   "cell_type": "code",
   "execution_count": 42,
   "id": "0a15c71a",
   "metadata": {},
   "outputs": [
    {
     "data": {
      "text/plain": [
       "[234, 'nallam', 1.555]"
      ]
     },
     "execution_count": 42,
     "metadata": {},
     "output_type": "execute_result"
    }
   ],
   "source": [
    "p[1:4]"
   ]
  },
  {
   "cell_type": "code",
   "execution_count": 43,
   "id": "808f3c89",
   "metadata": {},
   "outputs": [
    {
     "data": {
      "text/plain": [
       "['vamsi', 234, 'nallam', 1.555, True, (3+4.5j), [1, 2, 3]]"
      ]
     },
     "execution_count": 43,
     "metadata": {},
     "output_type": "execute_result"
    }
   ],
   "source": [
    "p[:]"
   ]
  },
  {
   "cell_type": "code",
   "execution_count": 44,
   "id": "4a7714c6",
   "metadata": {},
   "outputs": [
    {
     "data": {
      "text/plain": [
       "[[1, 2, 3], (3+4.5j), True, 1.555, 'nallam', 234, 'vamsi']"
      ]
     },
     "execution_count": 44,
     "metadata": {},
     "output_type": "execute_result"
    }
   ],
   "source": [
    "p[::-1]"
   ]
  },
  {
   "cell_type": "code",
   "execution_count": 45,
   "id": "af91df6d",
   "metadata": {},
   "outputs": [
    {
     "data": {
      "text/plain": [
       "['vamsi', 'nallam', True, [1, 2, 3]]"
      ]
     },
     "execution_count": 45,
     "metadata": {},
     "output_type": "execute_result"
    }
   ],
   "source": [
    "p[::2]"
   ]
  },
  {
   "cell_type": "code",
   "execution_count": 47,
   "id": "7911ea78",
   "metadata": {},
   "outputs": [],
   "source": [
    "p.append(\"lucifer\")"
   ]
  },
  {
   "cell_type": "code",
   "execution_count": 54,
   "id": "b6876566",
   "metadata": {},
   "outputs": [
    {
     "data": {
      "text/plain": [
       "['vamsi', 234, 'nallam', 1.555, True, (3+4.5j), [1, 2, 3], 'lucifer']"
      ]
     },
     "execution_count": 54,
     "metadata": {},
     "output_type": "execute_result"
    }
   ],
   "source": [
    "p"
   ]
  },
  {
   "cell_type": "code",
   "execution_count": 55,
   "id": "c29dec32",
   "metadata": {},
   "outputs": [
    {
     "name": "stdout",
     "output_type": "stream",
     "text": [
      "['vamsi', 234, 'nallam', 1.555, True, (3+4.5j), [1, 2, 3], 'lucifer']\n"
     ]
    }
   ],
   "source": [
    "l=[]\n",
    "for i in p:\n",
    "    l=l+[i]\n",
    "print(l)"
   ]
  },
  {
   "cell_type": "code",
   "execution_count": 56,
   "id": "ad176596",
   "metadata": {},
   "outputs": [
    {
     "name": "stdout",
     "output_type": "stream",
     "text": [
      "['vamsi', 234, 'nallam', 1.555, True, (3+4.5j), [1, 2, 3], 'lucifer']\n"
     ]
    }
   ],
   "source": [
    "l1=[]\n",
    "for i in p:\n",
    "    l1.append(i)\n",
    "print(l1)"
   ]
  },
  {
   "cell_type": "code",
   "execution_count": 57,
   "id": "aa9af1cf",
   "metadata": {},
   "outputs": [
    {
     "data": {
      "text/plain": [
       "['vamsi', 234, 'nallam', 1.555, True, (3+4.5j), [1, 2, 3], 'lucifer']"
      ]
     },
     "execution_count": 57,
     "metadata": {},
     "output_type": "execute_result"
    }
   ],
   "source": [
    "p"
   ]
  },
  {
   "cell_type": "code",
   "execution_count": 58,
   "id": "70d20212",
   "metadata": {},
   "outputs": [],
   "source": [
    "p.insert(2,\"object\")"
   ]
  },
  {
   "cell_type": "code",
   "execution_count": 59,
   "id": "1aa1630e",
   "metadata": {},
   "outputs": [
    {
     "data": {
      "text/plain": [
       "['vamsi', 234, 'object', 'nallam', 1.555, True, (3+4.5j), [1, 2, 3], 'lucifer']"
      ]
     },
     "execution_count": 59,
     "metadata": {},
     "output_type": "execute_result"
    }
   ],
   "source": [
    "p"
   ]
  },
  {
   "cell_type": "code",
   "execution_count": 60,
   "id": "4e82e331",
   "metadata": {},
   "outputs": [],
   "source": [
    "p.insert(7,\"list\")"
   ]
  },
  {
   "cell_type": "code",
   "execution_count": 61,
   "id": "dc7aba9a",
   "metadata": {},
   "outputs": [
    {
     "data": {
      "text/plain": [
       "['vamsi',\n",
       " 234,\n",
       " 'object',\n",
       " 'nallam',\n",
       " 1.555,\n",
       " True,\n",
       " (3+4.5j),\n",
       " 'list',\n",
       " [1, 2, 3],\n",
       " 'lucifer']"
      ]
     },
     "execution_count": 61,
     "metadata": {},
     "output_type": "execute_result"
    }
   ],
   "source": [
    "p"
   ]
  },
  {
   "cell_type": "code",
   "execution_count": 65,
   "id": "d3bdbf4b",
   "metadata": {},
   "outputs": [
    {
     "name": "stdout",
     "output_type": "stream",
     "text": [
      "enter a string: chloe\n",
      "enter the index: 5\n",
      "['vamsi', 234, 'object', 'nallam', 1.555, 'chloe', True, (3+4.5j), 'list', [1, 2, 3], 'lucifer']\n"
     ]
    }
   ],
   "source": [
    "#to insert a string to a list\n",
    "ins=input(\"enter a string: \")\n",
    "ind=int(input(\"enter the index: \"))\n",
    "u=[]\n",
    "for i in range(len(p)):\n",
    "    if i==ind:\n",
    "        u=u+[ins]\n",
    "        u=u+[p[i]]\n",
    "    else:\n",
    "        u=u+[p[i]]\n",
    "print(u)"
   ]
  },
  {
   "cell_type": "code",
   "execution_count": 67,
   "id": "4ee0a059",
   "metadata": {},
   "outputs": [],
   "source": [
    "#if we write p=u at last then p will change to u means the name p will be given to memory location of u"
   ]
  },
  {
   "cell_type": "code",
   "execution_count": 68,
   "id": "9f260892",
   "metadata": {},
   "outputs": [],
   "source": [
    "N=[\"vamsi\",123,True,\"vamsi\",\"nallam\",[1,2,\"vamsi\"]]"
   ]
  },
  {
   "cell_type": "code",
   "execution_count": 69,
   "id": "968dcd88",
   "metadata": {},
   "outputs": [
    {
     "data": {
      "text/plain": [
       "2"
      ]
     },
     "execution_count": 69,
     "metadata": {},
     "output_type": "execute_result"
    }
   ],
   "source": [
    "N.count(\"vamsi\")"
   ]
  },
  {
   "cell_type": "code",
   "execution_count": 70,
   "id": "ae7884d5",
   "metadata": {},
   "outputs": [
    {
     "name": "stdout",
     "output_type": "stream",
     "text": [
      "2\n"
     ]
    }
   ],
   "source": [
    "count=0\n",
    "for i in N:\n",
    "    if i==\"vamsi\":\n",
    "        count=count+1\n",
    "print(count)"
   ]
  },
  {
   "cell_type": "code",
   "execution_count": 71,
   "id": "c9444244",
   "metadata": {},
   "outputs": [],
   "source": [
    "N.extend(\"vam\")"
   ]
  },
  {
   "cell_type": "code",
   "execution_count": 72,
   "id": "9732fbde",
   "metadata": {},
   "outputs": [
    {
     "data": {
      "text/plain": [
       "['vamsi', 123, True, 'vamsi', 'nallam', [1, 2, 'vamsi'], 'v', 'a', 'm']"
      ]
     },
     "execution_count": 72,
     "metadata": {},
     "output_type": "execute_result"
    }
   ],
   "source": [
    "N"
   ]
  },
  {
   "cell_type": "code",
   "execution_count": 73,
   "id": "33d38030",
   "metadata": {},
   "outputs": [],
   "source": [
    "N.extend(range(2))"
   ]
  },
  {
   "cell_type": "code",
   "execution_count": 74,
   "id": "eacb94ce",
   "metadata": {},
   "outputs": [
    {
     "data": {
      "text/plain": [
       "['vamsi', 123, True, 'vamsi', 'nallam', [1, 2, 'vamsi'], 'v', 'a', 'm', 0, 1]"
      ]
     },
     "execution_count": 74,
     "metadata": {},
     "output_type": "execute_result"
    }
   ],
   "source": [
    "N"
   ]
  },
  {
   "cell_type": "code",
   "execution_count": 75,
   "id": "c2cd8beb",
   "metadata": {},
   "outputs": [],
   "source": [
    "N.extend([1,2,3])"
   ]
  },
  {
   "cell_type": "code",
   "execution_count": 76,
   "id": "48891fbd",
   "metadata": {},
   "outputs": [
    {
     "data": {
      "text/plain": [
       "['vamsi',\n",
       " 123,\n",
       " True,\n",
       " 'vamsi',\n",
       " 'nallam',\n",
       " [1, 2, 'vamsi'],\n",
       " 'v',\n",
       " 'a',\n",
       " 'm',\n",
       " 0,\n",
       " 1,\n",
       " 1,\n",
       " 2,\n",
       " 3]"
      ]
     },
     "execution_count": 76,
     "metadata": {},
     "output_type": "execute_result"
    }
   ],
   "source": [
    "N"
   ]
  },
  {
   "cell_type": "code",
   "execution_count": 77,
   "id": "4fa44699",
   "metadata": {},
   "outputs": [],
   "source": [
    "Y=[1,\"vamsi\"]"
   ]
  },
  {
   "cell_type": "code",
   "execution_count": 78,
   "id": "f0cd1f62",
   "metadata": {},
   "outputs": [],
   "source": [
    "Y.append([\"nallam\",234])"
   ]
  },
  {
   "cell_type": "code",
   "execution_count": 79,
   "id": "39b56ad2",
   "metadata": {},
   "outputs": [
    {
     "data": {
      "text/plain": [
       "[1, 'vamsi', ['nallam', 234]]"
      ]
     },
     "execution_count": 79,
     "metadata": {},
     "output_type": "execute_result"
    }
   ],
   "source": [
    "Y"
   ]
  },
  {
   "cell_type": "code",
   "execution_count": 80,
   "id": "6606ad85",
   "metadata": {},
   "outputs": [],
   "source": [
    "Y.extend([\"nallam\",234])"
   ]
  },
  {
   "cell_type": "code",
   "execution_count": 81,
   "id": "9ebb9505",
   "metadata": {},
   "outputs": [
    {
     "data": {
      "text/plain": [
       "[1, 'vamsi', ['nallam', 234], 'nallam', 234]"
      ]
     },
     "execution_count": 81,
     "metadata": {},
     "output_type": "execute_result"
    }
   ],
   "source": [
    "Y"
   ]
  },
  {
   "cell_type": "code",
   "execution_count": 82,
   "id": "5bc50416",
   "metadata": {},
   "outputs": [
    {
     "data": {
      "text/plain": [
       "['vamsi',\n",
       " 123,\n",
       " True,\n",
       " 'vamsi',\n",
       " 'nallam',\n",
       " [1, 2, 'vamsi'],\n",
       " 'v',\n",
       " 'a',\n",
       " 'm',\n",
       " 0,\n",
       " 1,\n",
       " 1,\n",
       " 2,\n",
       " 3]"
      ]
     },
     "execution_count": 82,
     "metadata": {},
     "output_type": "execute_result"
    }
   ],
   "source": [
    "N"
   ]
  },
  {
   "cell_type": "code",
   "execution_count": 83,
   "id": "92850205",
   "metadata": {},
   "outputs": [
    {
     "data": {
      "text/plain": [
       "0"
      ]
     },
     "execution_count": 83,
     "metadata": {},
     "output_type": "execute_result"
    }
   ],
   "source": [
    "N.index(\"vamsi\")"
   ]
  },
  {
   "cell_type": "code",
   "execution_count": 84,
   "id": "821b8a06",
   "metadata": {},
   "outputs": [
    {
     "data": {
      "text/plain": [
       "6"
      ]
     },
     "execution_count": 84,
     "metadata": {},
     "output_type": "execute_result"
    }
   ],
   "source": [
    "N.index('v')"
   ]
  },
  {
   "cell_type": "code",
   "execution_count": 85,
   "id": "fb5981d5",
   "metadata": {},
   "outputs": [
    {
     "data": {
      "text/plain": [
       "'nallam'"
      ]
     },
     "execution_count": 85,
     "metadata": {},
     "output_type": "execute_result"
    }
   ],
   "source": [
    "N.pop(4)"
   ]
  },
  {
   "cell_type": "code",
   "execution_count": 86,
   "id": "5b556f81",
   "metadata": {},
   "outputs": [
    {
     "data": {
      "text/plain": [
       "['vamsi', 123, True, 'vamsi', [1, 2, 'vamsi'], 'v', 'a', 'm', 0, 1, 1, 2, 3]"
      ]
     },
     "execution_count": 86,
     "metadata": {},
     "output_type": "execute_result"
    }
   ],
   "source": [
    "N"
   ]
  },
  {
   "cell_type": "code",
   "execution_count": 87,
   "id": "0e30a77b",
   "metadata": {},
   "outputs": [
    {
     "data": {
      "text/plain": [
       "'vamsi'"
      ]
     },
     "execution_count": 87,
     "metadata": {},
     "output_type": "execute_result"
    }
   ],
   "source": [
    "N.pop(3)"
   ]
  },
  {
   "cell_type": "code",
   "execution_count": 88,
   "id": "3ab5ee15",
   "metadata": {},
   "outputs": [
    {
     "data": {
      "text/plain": [
       "['vamsi', 123, True, [1, 2, 'vamsi'], 'v', 'a', 'm', 0, 1, 1, 2, 3]"
      ]
     },
     "execution_count": 88,
     "metadata": {},
     "output_type": "execute_result"
    }
   ],
   "source": [
    "N"
   ]
  },
  {
   "cell_type": "code",
   "execution_count": 90,
   "id": "3f2155ef",
   "metadata": {},
   "outputs": [
    {
     "data": {
      "text/plain": [
       "1"
      ]
     },
     "execution_count": 90,
     "metadata": {},
     "output_type": "execute_result"
    }
   ],
   "source": [
    "N.pop(8)"
   ]
  },
  {
   "cell_type": "code",
   "execution_count": 91,
   "id": "a166c6b4",
   "metadata": {},
   "outputs": [
    {
     "data": {
      "text/plain": [
       "0"
      ]
     },
     "execution_count": 91,
     "metadata": {},
     "output_type": "execute_result"
    }
   ],
   "source": [
    "N.pop(7)"
   ]
  },
  {
   "cell_type": "code",
   "execution_count": 92,
   "id": "3161668f",
   "metadata": {},
   "outputs": [
    {
     "data": {
      "text/plain": [
       "['vamsi', 123, True, [1, 2, 'vamsi'], 'v', 'a', 'm', 1, 2, 3]"
      ]
     },
     "execution_count": 92,
     "metadata": {},
     "output_type": "execute_result"
    }
   ],
   "source": [
    "N"
   ]
  },
  {
   "cell_type": "code",
   "execution_count": 93,
   "id": "03cc6907",
   "metadata": {},
   "outputs": [
    {
     "data": {
      "text/plain": [
       "'a'"
      ]
     },
     "execution_count": 93,
     "metadata": {},
     "output_type": "execute_result"
    }
   ],
   "source": [
    "N.pop(5)"
   ]
  },
  {
   "cell_type": "code",
   "execution_count": 94,
   "id": "6d7d2276",
   "metadata": {},
   "outputs": [
    {
     "data": {
      "text/plain": [
       "'m'"
      ]
     },
     "execution_count": 94,
     "metadata": {},
     "output_type": "execute_result"
    }
   ],
   "source": [
    "N.pop(5)"
   ]
  },
  {
   "cell_type": "code",
   "execution_count": 95,
   "id": "8321a2d8",
   "metadata": {},
   "outputs": [
    {
     "data": {
      "text/plain": [
       "['vamsi', 123, True, [1, 2, 'vamsi'], 'v', 1, 2, 3]"
      ]
     },
     "execution_count": 95,
     "metadata": {},
     "output_type": "execute_result"
    }
   ],
   "source": [
    "N"
   ]
  },
  {
   "cell_type": "code",
   "execution_count": 96,
   "id": "74e3b62d",
   "metadata": {},
   "outputs": [
    {
     "name": "stdout",
     "output_type": "stream",
     "text": [
      "enter index no. 5\n",
      "['vamsi', 123, True, [1, 2, 'vamsi'], 'v', 2, 3]\n"
     ]
    }
   ],
   "source": [
    "ind=int(input(\"enter index no. \"))\n",
    "u=[]\n",
    "for i in range(len(N)-1):\n",
    "    if i<ind:\n",
    "        u=u+[N[i]]\n",
    "    else:\n",
    "        u=u+[N[i+1]]\n",
    "print(u)   "
   ]
  },
  {
   "cell_type": "code",
   "execution_count": 97,
   "id": "8ceede1c",
   "metadata": {},
   "outputs": [],
   "source": [
    "v=[\"nallam\",\"vamsi\",1233,\"vamsi\",[1,True,\"vamsi\"]]"
   ]
  },
  {
   "cell_type": "code",
   "execution_count": 98,
   "id": "6a577e65",
   "metadata": {},
   "outputs": [
    {
     "data": {
      "text/plain": [
       "['nallam', 'vamsi', 1233, 'vamsi', [1, True, 'vamsi']]"
      ]
     },
     "execution_count": 98,
     "metadata": {},
     "output_type": "execute_result"
    }
   ],
   "source": [
    "v"
   ]
  },
  {
   "cell_type": "code",
   "execution_count": 99,
   "id": "72db2358",
   "metadata": {},
   "outputs": [],
   "source": [
    "v.remove(\"vamsi\")"
   ]
  },
  {
   "cell_type": "code",
   "execution_count": 100,
   "id": "a0dac7a8",
   "metadata": {},
   "outputs": [
    {
     "data": {
      "text/plain": [
       "['nallam', 1233, 'vamsi', [1, True, 'vamsi']]"
      ]
     },
     "execution_count": 100,
     "metadata": {},
     "output_type": "execute_result"
    }
   ],
   "source": [
    "v"
   ]
  },
  {
   "cell_type": "code",
   "execution_count": 101,
   "id": "10062a5a",
   "metadata": {},
   "outputs": [],
   "source": [
    "v1=[\"nallam\",\"vamsi\",\"vamsi\",12,3.222,\"vamsi\"]"
   ]
  },
  {
   "cell_type": "code",
   "execution_count": 102,
   "id": "af46b50b",
   "metadata": {},
   "outputs": [],
   "source": [
    "for i in range(v1.count('vamsi')):\n",
    "    v1.remove('vamsi')"
   ]
  },
  {
   "cell_type": "code",
   "execution_count": 103,
   "id": "9c032d84",
   "metadata": {},
   "outputs": [
    {
     "data": {
      "text/plain": [
       "['nallam', 12, 3.222]"
      ]
     },
     "execution_count": 103,
     "metadata": {},
     "output_type": "execute_result"
    }
   ],
   "source": [
    "v1"
   ]
  },
  {
   "cell_type": "code",
   "execution_count": 104,
   "id": "4d85d4fd",
   "metadata": {},
   "outputs": [],
   "source": [
    "v.reverse()"
   ]
  },
  {
   "cell_type": "code",
   "execution_count": 105,
   "id": "b214696b",
   "metadata": {},
   "outputs": [
    {
     "data": {
      "text/plain": [
       "[[1, True, 'vamsi'], 'vamsi', 1233, 'nallam']"
      ]
     },
     "execution_count": 105,
     "metadata": {},
     "output_type": "execute_result"
    }
   ],
   "source": [
    "v"
   ]
  },
  {
   "cell_type": "code",
   "execution_count": 109,
   "id": "f8b5e659",
   "metadata": {},
   "outputs": [],
   "source": [
    "x=[1,2,3,3,3,56,7]"
   ]
  },
  {
   "cell_type": "code",
   "execution_count": 115,
   "id": "cca90c02",
   "metadata": {},
   "outputs": [],
   "source": [
    "x.sort()"
   ]
  },
  {
   "cell_type": "code",
   "execution_count": 116,
   "id": "dbe59774",
   "metadata": {},
   "outputs": [
    {
     "data": {
      "text/plain": [
       "[1, 2, 3, 3, 3, 7, 56]"
      ]
     },
     "execution_count": 116,
     "metadata": {},
     "output_type": "execute_result"
    }
   ],
   "source": [
    "x"
   ]
  },
  {
   "cell_type": "code",
   "execution_count": 139,
   "id": "52ddd3a8",
   "metadata": {},
   "outputs": [],
   "source": [
    "lst=[[\"vamsi\",123,True,1.234],[\"nallam\",456,False,\"lucy\",\"lucy\"],[789,2.345,\"devil\",\"devil\",\"devil\"],\"narendra\",5+6j,False]"
   ]
  },
  {
   "cell_type": "code",
   "execution_count": 140,
   "id": "0a79e724",
   "metadata": {},
   "outputs": [
    {
     "name": "stdout",
     "output_type": "stream",
     "text": [
      "[[123, True, 1.234], [456, False], [789, 2.345], 'narendra', (5+6j), False]\n"
     ]
    }
   ],
   "source": [
    "#code to remove every string in nested lists.\n",
    "for i in lst:\n",
    "    if type(i)==list:\n",
    "        j=0\n",
    "        while j<len(i):\n",
    "            if type(i[j])==str:\n",
    "                i.remove(i[j])\n",
    "            else:\n",
    "                j=j+1\n",
    "print(lst)                "
   ]
  },
  {
   "cell_type": "code",
   "execution_count": 141,
   "id": "0617aec8",
   "metadata": {},
   "outputs": [
    {
     "name": "stdout",
     "output_type": "stream",
     "text": [
      "hi all iam vamsi\n"
     ]
    }
   ],
   "source": [
    "print(\"hi {} iam {}\".format(\"all\",\"vamsi\"))"
   ]
  },
  {
   "cell_type": "code",
   "execution_count": 142,
   "id": "6d0fe6e3",
   "metadata": {},
   "outputs": [
    {
     "name": "stdout",
     "output_type": "stream",
     "text": [
      "[0, 1, 2] \r\n",
      "[0, 1, 2] \r\n",
      "[0, 1, 2] \r\n",
      "and mat is  [[0, 1, 2], [0, 1, 2], [0, 1, 2]]\n"
     ]
    }
   ],
   "source": [
    "mat=[]\n",
    "for i in range(3):\n",
    "    mat.append([])\n",
    "    for j in range(3):\n",
    "        mat[i].append(j)\n",
    "    print(mat[i],'\\r')\n",
    "print(\"and mat is \",mat)"
   ]
  },
  {
   "cell_type": "code",
   "execution_count": 153,
   "id": "b8c683a4",
   "metadata": {},
   "outputs": [],
   "source": [
    "u=[]\n",
    "u=u+[]*3"
   ]
  },
  {
   "cell_type": "code",
   "execution_count": 154,
   "id": "6128eeff",
   "metadata": {},
   "outputs": [
    {
     "data": {
      "text/plain": [
       "[]"
      ]
     },
     "execution_count": 154,
     "metadata": {},
     "output_type": "execute_result"
    }
   ],
   "source": [
    "u"
   ]
  },
  {
   "cell_type": "code",
   "execution_count": 155,
   "id": "13ec38d6",
   "metadata": {},
   "outputs": [
    {
     "data": {
      "text/plain": [
       "0"
      ]
     },
     "execution_count": 155,
     "metadata": {},
     "output_type": "execute_result"
    }
   ],
   "source": [
    "len(u)"
   ]
  },
  {
   "cell_type": "code",
   "execution_count": 178,
   "id": "614b03dd",
   "metadata": {},
   "outputs": [],
   "source": [
    "lst1=[[\"vamsi\",123,True,1.234],[\"nallam\",456,False,\"lucy\",\"lucy\"],[789,2.345,\"devil\",\"devil\",\"devil\"],\"narendra\",5+6j,False]"
   ]
  },
  {
   "cell_type": "code",
   "execution_count": 180,
   "id": "965ec0a5",
   "metadata": {},
   "outputs": [
    {
     "name": "stdout",
     "output_type": "stream",
     "text": [
      "[[123, True, 1.234], [456, False], [789, 2.345], 'narendra', (5+6j), False]\n"
     ]
    }
   ],
   "source": [
    "u=[]\n",
    "for i in lst1:\n",
    "    count,x=0,0\n",
    "    if type(i)==list:\n",
    "        for j in i:\n",
    "            if type(j)==str:\n",
    "                count=count+1\n",
    "        u=u+[list(\" \"*(len(i)-count))]\n",
    "        for k in i:\n",
    "            if type(k)!=str:\n",
    "                x=x+1\n",
    "                u[lst1.index(i)][x-1]=k\n",
    "    else:\n",
    "        u=u+[i]\n",
    "print(u)"
   ]
  },
  {
   "cell_type": "code",
   "execution_count": null,
   "id": "59c227c3",
   "metadata": {},
   "outputs": [],
   "source": []
  }
 ],
 "metadata": {
  "kernelspec": {
   "display_name": "Python 3",
   "language": "python",
   "name": "python3"
  },
  "language_info": {
   "codemirror_mode": {
    "name": "ipython",
    "version": 3
   },
   "file_extension": ".py",
   "mimetype": "text/x-python",
   "name": "python",
   "nbconvert_exporter": "python",
   "pygments_lexer": "ipython3",
   "version": "3.8.8"
  }
 },
 "nbformat": 4,
 "nbformat_minor": 5
}
